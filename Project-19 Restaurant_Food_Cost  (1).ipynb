{
 "cells": [
  {
   "cell_type": "code",
   "execution_count": 2,
   "metadata": {},
   "outputs": [],
   "source": [
    "import numpy as np # linear algebra\n",
    "import pandas as pd\n",
    "import os"
   ]
  },
  {
   "cell_type": "code",
   "execution_count": 3,
   "metadata": {},
   "outputs": [],
   "source": [
    "import pandas as pd\n",
    "train=pd.read_excel('Data_Train.xlsx')\n",
    "test=pd.read_excel('Data_Test.xlsx')"
   ]
  },
  {
   "cell_type": "code",
   "execution_count": 4,
   "metadata": {},
   "outputs": [],
   "source": [
    "train[\"source\"] = \"train\"\n",
    "test[\"source\"] = \"test\""
   ]
  },
  {
   "cell_type": "code",
   "execution_count": 5,
   "metadata": {},
   "outputs": [
    {
     "name": "stderr",
     "output_type": "stream",
     "text": [
      "C:\\Users\\Shubham\\Anaconda3\\lib\\site-packages\\ipykernel_launcher.py:1: FutureWarning: Sorting because non-concatenation axis is not aligned. A future version\n",
      "of pandas will change to not sort by default.\n",
      "\n",
      "To accept the future behavior, pass 'sort=False'.\n",
      "\n",
      "To retain the current behavior and silence the warning, pass 'sort=True'.\n",
      "\n",
      "  \"\"\"Entry point for launching an IPython kernel.\n"
     ]
    }
   ],
   "source": [
    "df = pd.concat([train,test])"
   ]
  },
  {
   "cell_type": "code",
   "execution_count": 6,
   "metadata": {},
   "outputs": [
    {
     "name": "stdout",
     "output_type": "stream",
     "text": [
      "<class 'pandas.core.frame.DataFrame'>\n",
      "Int64Index: 16921 entries, 0 to 4230\n",
      "Data columns (total 10 columns):\n",
      "CITY             16774 non-null object\n",
      "COST             12690 non-null float64\n",
      "CUISINES         16921 non-null object\n",
      "LOCALITY         16793 non-null object\n",
      "RATING           16917 non-null object\n",
      "RESTAURANT_ID    16921 non-null int64\n",
      "TIME             16921 non-null object\n",
      "TITLE            16921 non-null object\n",
      "VOTES            15315 non-null object\n",
      "source           16921 non-null object\n",
      "dtypes: float64(1), int64(1), object(8)\n",
      "memory usage: 1.4+ MB\n"
     ]
    }
   ],
   "source": [
    "df.info()"
   ]
  },
  {
   "cell_type": "code",
   "execution_count": 7,
   "metadata": {},
   "outputs": [
    {
     "data": {
      "text/plain": [
       "26"
      ]
     },
     "execution_count": 7,
     "metadata": {},
     "output_type": "execute_result"
    }
   ],
   "source": [
    "df.duplicated().sum()"
   ]
  },
  {
   "cell_type": "code",
   "execution_count": 8,
   "metadata": {},
   "outputs": [],
   "source": [
    "df=df.drop_duplicates()"
   ]
  },
  {
   "cell_type": "code",
   "execution_count": 9,
   "metadata": {},
   "outputs": [
    {
     "data": {
      "text/plain": [
       "CITY              147\n",
       "COST             4230\n",
       "CUISINES            0\n",
       "LOCALITY          128\n",
       "RATING              4\n",
       "RESTAURANT_ID       0\n",
       "TIME                0\n",
       "TITLE               0\n",
       "VOTES            1602\n",
       "source              0\n",
       "dtype: int64"
      ]
     },
     "execution_count": 9,
     "metadata": {},
     "output_type": "execute_result"
    }
   ],
   "source": [
    "df.isna().sum()"
   ]
  },
  {
   "cell_type": "code",
   "execution_count": 10,
   "metadata": {},
   "outputs": [
    {
     "data": {
      "text/html": [
       "<div>\n",
       "<style scoped>\n",
       "    .dataframe tbody tr th:only-of-type {\n",
       "        vertical-align: middle;\n",
       "    }\n",
       "\n",
       "    .dataframe tbody tr th {\n",
       "        vertical-align: top;\n",
       "    }\n",
       "\n",
       "    .dataframe thead th {\n",
       "        text-align: right;\n",
       "    }\n",
       "</style>\n",
       "<table border=\"1\" class=\"dataframe\">\n",
       "  <thead>\n",
       "    <tr style=\"text-align: right;\">\n",
       "      <th></th>\n",
       "      <th>COST</th>\n",
       "      <th>CUISINES</th>\n",
       "      <th>RATING</th>\n",
       "      <th>RESTAURANT_ID</th>\n",
       "      <th>TIME</th>\n",
       "      <th>TITLE</th>\n",
       "      <th>VOTES</th>\n",
       "      <th>source</th>\n",
       "      <th>Location</th>\n",
       "    </tr>\n",
       "  </thead>\n",
       "  <tbody>\n",
       "    <tr>\n",
       "      <td>0</td>\n",
       "      <td>1200.0</td>\n",
       "      <td>Malwani, Goan, North Indian</td>\n",
       "      <td>3.6</td>\n",
       "      <td>9438</td>\n",
       "      <td>11am – 4pm, 7:30pm – 11:30pm (Mon-Sun)</td>\n",
       "      <td>CASUAL DINING</td>\n",
       "      <td>49 votes</td>\n",
       "      <td>train</td>\n",
       "      <td>Thane Dombivali East</td>\n",
       "    </tr>\n",
       "    <tr>\n",
       "      <td>1</td>\n",
       "      <td>1500.0</td>\n",
       "      <td>Asian, Modern Indian, Japanese</td>\n",
       "      <td>4.2</td>\n",
       "      <td>13198</td>\n",
       "      <td>6pm – 11pm (Mon-Sun)</td>\n",
       "      <td>CASUAL DINING,BAR</td>\n",
       "      <td>30 votes</td>\n",
       "      <td>train</td>\n",
       "      <td>Chennai Ramapuram</td>\n",
       "    </tr>\n",
       "    <tr>\n",
       "      <td>2</td>\n",
       "      <td>800.0</td>\n",
       "      <td>North Indian, Chinese, Biryani, Hyderabadi</td>\n",
       "      <td>3.8</td>\n",
       "      <td>10915</td>\n",
       "      <td>11am – 3:30pm, 7pm – 11pm (Mon-Sun)</td>\n",
       "      <td>CASUAL DINING</td>\n",
       "      <td>221 votes</td>\n",
       "      <td>train</td>\n",
       "      <td>Chennai Saligramam</td>\n",
       "    </tr>\n",
       "    <tr>\n",
       "      <td>3</td>\n",
       "      <td>800.0</td>\n",
       "      <td>Tibetan, Chinese</td>\n",
       "      <td>4.1</td>\n",
       "      <td>6346</td>\n",
       "      <td>11:30am – 1am (Mon-Sun)</td>\n",
       "      <td>QUICK BITES</td>\n",
       "      <td>24 votes</td>\n",
       "      <td>train</td>\n",
       "      <td>Mumbai Bandra West</td>\n",
       "    </tr>\n",
       "    <tr>\n",
       "      <td>4</td>\n",
       "      <td>300.0</td>\n",
       "      <td>Desserts</td>\n",
       "      <td>3.8</td>\n",
       "      <td>15387</td>\n",
       "      <td>11am – 1am (Mon-Sun)</td>\n",
       "      <td>DESSERT PARLOR</td>\n",
       "      <td>165 votes</td>\n",
       "      <td>train</td>\n",
       "      <td>Mumbai Lower Parel</td>\n",
       "    </tr>\n",
       "    <tr>\n",
       "      <td>...</td>\n",
       "      <td>...</td>\n",
       "      <td>...</td>\n",
       "      <td>...</td>\n",
       "      <td>...</td>\n",
       "      <td>...</td>\n",
       "      <td>...</td>\n",
       "      <td>...</td>\n",
       "      <td>...</td>\n",
       "      <td>...</td>\n",
       "    </tr>\n",
       "    <tr>\n",
       "      <td>4226</td>\n",
       "      <td>NaN</td>\n",
       "      <td>North Indian, Mughlai, Chinese</td>\n",
       "      <td>3.9</td>\n",
       "      <td>9057</td>\n",
       "      <td>11:30am – 11:30pm (Mon-Sun)</td>\n",
       "      <td>CASUAL DINING</td>\n",
       "      <td>287 votes</td>\n",
       "      <td>test</td>\n",
       "      <td>New Delhi Punjabi Bagh</td>\n",
       "    </tr>\n",
       "    <tr>\n",
       "      <td>4227</td>\n",
       "      <td>NaN</td>\n",
       "      <td>Biryani, North Indian, Sandwich, Salad, Wraps</td>\n",
       "      <td>4.3</td>\n",
       "      <td>1247</td>\n",
       "      <td>11am – 1am (Mon-Sun)</td>\n",
       "      <td>None</td>\n",
       "      <td>469 votes</td>\n",
       "      <td>test</td>\n",
       "      <td>Bangalore HSR Layout</td>\n",
       "    </tr>\n",
       "    <tr>\n",
       "      <td>4228</td>\n",
       "      <td>NaN</td>\n",
       "      <td>Continental, North Indian</td>\n",
       "      <td>3.7</td>\n",
       "      <td>8617</td>\n",
       "      <td>9:30am – 10:30pm (Mon-Sun)</td>\n",
       "      <td>QUICK BITES</td>\n",
       "      <td>53 votes</td>\n",
       "      <td>test</td>\n",
       "      <td>Faridabad Sector 86</td>\n",
       "    </tr>\n",
       "    <tr>\n",
       "      <td>4229</td>\n",
       "      <td>NaN</td>\n",
       "      <td>Rolls, Beverages</td>\n",
       "      <td>-</td>\n",
       "      <td>6485</td>\n",
       "      <td>11am – 11:30pm (Mon, Tue, Wed, Thu, Sat, Sun),...</td>\n",
       "      <td>QUICK BITES</td>\n",
       "      <td>NaN</td>\n",
       "      <td>test</td>\n",
       "      <td>Kochi Kochi</td>\n",
       "    </tr>\n",
       "    <tr>\n",
       "      <td>4230</td>\n",
       "      <td>NaN</td>\n",
       "      <td>Mughlai</td>\n",
       "      <td>3.7</td>\n",
       "      <td>2421</td>\n",
       "      <td>5pm – 1am (Mon-Sun)</td>\n",
       "      <td>QUICK BITES</td>\n",
       "      <td>63 votes</td>\n",
       "      <td>test</td>\n",
       "      <td>Bandra West Perry Cross Road</td>\n",
       "    </tr>\n",
       "  </tbody>\n",
       "</table>\n",
       "<p>16895 rows × 9 columns</p>\n",
       "</div>"
      ],
      "text/plain": [
       "        COST                                       CUISINES RATING  \\\n",
       "0     1200.0                    Malwani, Goan, North Indian    3.6   \n",
       "1     1500.0                 Asian, Modern Indian, Japanese    4.2   \n",
       "2      800.0     North Indian, Chinese, Biryani, Hyderabadi    3.8   \n",
       "3      800.0                               Tibetan, Chinese    4.1   \n",
       "4      300.0                                       Desserts    3.8   \n",
       "...      ...                                            ...    ...   \n",
       "4226     NaN                 North Indian, Mughlai, Chinese    3.9   \n",
       "4227     NaN  Biryani, North Indian, Sandwich, Salad, Wraps    4.3   \n",
       "4228     NaN                      Continental, North Indian    3.7   \n",
       "4229     NaN                               Rolls, Beverages      -   \n",
       "4230     NaN                                        Mughlai    3.7   \n",
       "\n",
       "      RESTAURANT_ID                                               TIME  \\\n",
       "0              9438             11am – 4pm, 7:30pm – 11:30pm (Mon-Sun)   \n",
       "1             13198                               6pm – 11pm (Mon-Sun)   \n",
       "2             10915                11am – 3:30pm, 7pm – 11pm (Mon-Sun)   \n",
       "3              6346                            11:30am – 1am (Mon-Sun)   \n",
       "4             15387                               11am – 1am (Mon-Sun)   \n",
       "...             ...                                                ...   \n",
       "4226           9057                        11:30am – 11:30pm (Mon-Sun)   \n",
       "4227           1247                               11am – 1am (Mon-Sun)   \n",
       "4228           8617                         9:30am – 10:30pm (Mon-Sun)   \n",
       "4229           6485  11am – 11:30pm (Mon, Tue, Wed, Thu, Sat, Sun),...   \n",
       "4230           2421                                5pm – 1am (Mon-Sun)   \n",
       "\n",
       "                  TITLE      VOTES source                      Location  \n",
       "0         CASUAL DINING   49 votes  train          Thane Dombivali East  \n",
       "1     CASUAL DINING,BAR   30 votes  train             Chennai Ramapuram  \n",
       "2         CASUAL DINING  221 votes  train            Chennai Saligramam  \n",
       "3           QUICK BITES   24 votes  train            Mumbai Bandra West  \n",
       "4        DESSERT PARLOR  165 votes  train            Mumbai Lower Parel  \n",
       "...                 ...        ...    ...                           ...  \n",
       "4226      CASUAL DINING  287 votes   test        New Delhi Punjabi Bagh  \n",
       "4227               None  469 votes   test          Bangalore HSR Layout  \n",
       "4228        QUICK BITES   53 votes   test           Faridabad Sector 86  \n",
       "4229        QUICK BITES        NaN   test                   Kochi Kochi  \n",
       "4230        QUICK BITES   63 votes   test  Bandra West Perry Cross Road  \n",
       "\n",
       "[16895 rows x 9 columns]"
      ]
     },
     "execution_count": 10,
     "metadata": {},
     "output_type": "execute_result"
    }
   ],
   "source": [
    "# Data exploration for CITY\n",
    "# CITY has 147 null values\n",
    "#combining City and locality\n",
    "df['Location']=df['CITY']+' '+df['LOCALITY']\n",
    "df.drop(columns=['CITY','LOCALITY'])"
   ]
  },
  {
   "cell_type": "code",
   "execution_count": 11,
   "metadata": {},
   "outputs": [],
   "source": [
    "df.dropna(subset=['Location'],inplace=True)"
   ]
  },
  {
   "cell_type": "code",
   "execution_count": 12,
   "metadata": {},
   "outputs": [
    {
     "name": "stdout",
     "output_type": "stream",
     "text": [
      "Requirement already satisfied: fuzzywuzzy in c:\\users\\shubham\\anaconda3\\lib\\site-packages (0.18.0)\n"
     ]
    }
   ],
   "source": [
    "!pip install fuzzywuzzy"
   ]
  },
  {
   "cell_type": "code",
   "execution_count": 13,
   "metadata": {},
   "outputs": [
    {
     "name": "stderr",
     "output_type": "stream",
     "text": [
      "C:\\Users\\Shubham\\Anaconda3\\lib\\site-packages\\fuzzywuzzy\\fuzz.py:11: UserWarning: Using slow pure-python SequenceMatcher. Install python-Levenshtein to remove this warning\n",
      "  warnings.warn('Using slow pure-python SequenceMatcher. Install python-Levenshtein to remove this warning')\n"
     ]
    },
    {
     "name": "stdout",
     "output_type": "stream",
     "text": [
      "16747\n"
     ]
    }
   ],
   "source": [
    "from fuzzywuzzy import process\n",
    " \n",
    "names_array=[]\n",
    "def match_names(wrong_names,correct_names):\n",
    "    for row in wrong_names:\n",
    "        x=process.extractOne(row, correct_names)\n",
    "        if x[1]<60:\n",
    "            names_array.append('Others')\n",
    "        else:\n",
    "            names_array.append(x[0])\n",
    "    return names_array\n",
    "  \n",
    "#Wrong country names dataset\n",
    "\n",
    "correct_names=['Bangalore','Thane',\n",
    "'Hyderabad','Andheri',\n",
    "'Delhi', 'Kerala',\n",
    "'Chennai', 'Bandra',\n",
    "'Mumbai', 'Telangana',\n",
    "'Kochi', \n",
    "'Noida', \n",
    "'Gurgaon', 'Ernakulam',\n",
    "'Faridabad', 'Ghaziabad',\n",
    "'Secunderabad' ]\n",
    "name_match=match_names(df.Location,correct_names)    \n",
    "\n",
    "print(len(names_array))\n",
    "df['Location']=names_array\n"
   ]
  },
  {
   "cell_type": "code",
   "execution_count": 14,
   "metadata": {},
   "outputs": [],
   "source": [
    "cuisines_list=[]\n",
    "for row in df['CUISINES']:\n",
    "    cuisines_list.append(list(row.split(',')))\n",
    "\n",
    "df['CUISINES']=cuisines_list"
   ]
  },
  {
   "cell_type": "code",
   "execution_count": 15,
   "metadata": {},
   "outputs": [
    {
     "data": {
      "text/plain": [
       "0"
      ]
     },
     "execution_count": 15,
     "metadata": {},
     "output_type": "execute_result"
    }
   ],
   "source": [
    "df['CUISINES'].isna().sum()"
   ]
  },
  {
   "cell_type": "code",
   "execution_count": 16,
   "metadata": {},
   "outputs": [],
   "source": [
    "df_cuisines=df['CUISINES'].apply(lambda x: pd.Series(1, x))"
   ]
  },
  {
   "cell_type": "code",
   "execution_count": 17,
   "metadata": {},
   "outputs": [],
   "source": [
    "title_list=[]\n",
    "for row in df['TITLE']:\n",
    "    title_list.append(list(row.split(',')))\n",
    "df['TITLE']=title_list"
   ]
  },
  {
   "cell_type": "code",
   "execution_count": 18,
   "metadata": {},
   "outputs": [],
   "source": [
    "df_title=df['TITLE'].apply(lambda x: pd.Series(1, x))"
   ]
  },
  {
   "cell_type": "code",
   "execution_count": 19,
   "metadata": {},
   "outputs": [
    {
     "data": {
      "text/html": [
       "<div>\n",
       "<style scoped>\n",
       "    .dataframe tbody tr th:only-of-type {\n",
       "        vertical-align: middle;\n",
       "    }\n",
       "\n",
       "    .dataframe tbody tr th {\n",
       "        vertical-align: top;\n",
       "    }\n",
       "\n",
       "    .dataframe thead th {\n",
       "        text-align: right;\n",
       "    }\n",
       "</style>\n",
       "<table border=\"1\" class=\"dataframe\">\n",
       "  <thead>\n",
       "    <tr style=\"text-align: right;\">\n",
       "      <th></th>\n",
       "      <th>CASUAL DINING</th>\n",
       "      <th>BAR</th>\n",
       "      <th>QUICK BITES</th>\n",
       "      <th>DESSERT PARLOR</th>\n",
       "      <th>CAFÉ</th>\n",
       "      <th>MICROBREWERY</th>\n",
       "      <th>BEVERAGE SHOP</th>\n",
       "      <th>IRANI CAFE</th>\n",
       "      <th>BAKERY</th>\n",
       "      <th>None</th>\n",
       "      <th>...</th>\n",
       "      <th>FOOD TRUCK</th>\n",
       "      <th>MESS</th>\n",
       "      <th>KIOSK</th>\n",
       "      <th>CLUB</th>\n",
       "      <th>CONFECTIONERY</th>\n",
       "      <th>DHABA</th>\n",
       "      <th>MEAT SHOP</th>\n",
       "      <th>COCKTAIL BAR</th>\n",
       "      <th>PAAN SHOP</th>\n",
       "      <th>BHOJANALYA</th>\n",
       "    </tr>\n",
       "  </thead>\n",
       "  <tbody>\n",
       "    <tr>\n",
       "      <td>0</td>\n",
       "      <td>1.0</td>\n",
       "      <td>NaN</td>\n",
       "      <td>NaN</td>\n",
       "      <td>NaN</td>\n",
       "      <td>NaN</td>\n",
       "      <td>NaN</td>\n",
       "      <td>NaN</td>\n",
       "      <td>NaN</td>\n",
       "      <td>NaN</td>\n",
       "      <td>NaN</td>\n",
       "      <td>...</td>\n",
       "      <td>NaN</td>\n",
       "      <td>NaN</td>\n",
       "      <td>NaN</td>\n",
       "      <td>NaN</td>\n",
       "      <td>NaN</td>\n",
       "      <td>NaN</td>\n",
       "      <td>NaN</td>\n",
       "      <td>NaN</td>\n",
       "      <td>NaN</td>\n",
       "      <td>NaN</td>\n",
       "    </tr>\n",
       "    <tr>\n",
       "      <td>1</td>\n",
       "      <td>1.0</td>\n",
       "      <td>1.0</td>\n",
       "      <td>NaN</td>\n",
       "      <td>NaN</td>\n",
       "      <td>NaN</td>\n",
       "      <td>NaN</td>\n",
       "      <td>NaN</td>\n",
       "      <td>NaN</td>\n",
       "      <td>NaN</td>\n",
       "      <td>NaN</td>\n",
       "      <td>...</td>\n",
       "      <td>NaN</td>\n",
       "      <td>NaN</td>\n",
       "      <td>NaN</td>\n",
       "      <td>NaN</td>\n",
       "      <td>NaN</td>\n",
       "      <td>NaN</td>\n",
       "      <td>NaN</td>\n",
       "      <td>NaN</td>\n",
       "      <td>NaN</td>\n",
       "      <td>NaN</td>\n",
       "    </tr>\n",
       "    <tr>\n",
       "      <td>2</td>\n",
       "      <td>1.0</td>\n",
       "      <td>NaN</td>\n",
       "      <td>NaN</td>\n",
       "      <td>NaN</td>\n",
       "      <td>NaN</td>\n",
       "      <td>NaN</td>\n",
       "      <td>NaN</td>\n",
       "      <td>NaN</td>\n",
       "      <td>NaN</td>\n",
       "      <td>NaN</td>\n",
       "      <td>...</td>\n",
       "      <td>NaN</td>\n",
       "      <td>NaN</td>\n",
       "      <td>NaN</td>\n",
       "      <td>NaN</td>\n",
       "      <td>NaN</td>\n",
       "      <td>NaN</td>\n",
       "      <td>NaN</td>\n",
       "      <td>NaN</td>\n",
       "      <td>NaN</td>\n",
       "      <td>NaN</td>\n",
       "    </tr>\n",
       "    <tr>\n",
       "      <td>3</td>\n",
       "      <td>NaN</td>\n",
       "      <td>NaN</td>\n",
       "      <td>1.0</td>\n",
       "      <td>NaN</td>\n",
       "      <td>NaN</td>\n",
       "      <td>NaN</td>\n",
       "      <td>NaN</td>\n",
       "      <td>NaN</td>\n",
       "      <td>NaN</td>\n",
       "      <td>NaN</td>\n",
       "      <td>...</td>\n",
       "      <td>NaN</td>\n",
       "      <td>NaN</td>\n",
       "      <td>NaN</td>\n",
       "      <td>NaN</td>\n",
       "      <td>NaN</td>\n",
       "      <td>NaN</td>\n",
       "      <td>NaN</td>\n",
       "      <td>NaN</td>\n",
       "      <td>NaN</td>\n",
       "      <td>NaN</td>\n",
       "    </tr>\n",
       "    <tr>\n",
       "      <td>4</td>\n",
       "      <td>NaN</td>\n",
       "      <td>NaN</td>\n",
       "      <td>NaN</td>\n",
       "      <td>1.0</td>\n",
       "      <td>NaN</td>\n",
       "      <td>NaN</td>\n",
       "      <td>NaN</td>\n",
       "      <td>NaN</td>\n",
       "      <td>NaN</td>\n",
       "      <td>NaN</td>\n",
       "      <td>...</td>\n",
       "      <td>NaN</td>\n",
       "      <td>NaN</td>\n",
       "      <td>NaN</td>\n",
       "      <td>NaN</td>\n",
       "      <td>NaN</td>\n",
       "      <td>NaN</td>\n",
       "      <td>NaN</td>\n",
       "      <td>NaN</td>\n",
       "      <td>NaN</td>\n",
       "      <td>NaN</td>\n",
       "    </tr>\n",
       "  </tbody>\n",
       "</table>\n",
       "<p>5 rows × 25 columns</p>\n",
       "</div>"
      ],
      "text/plain": [
       "   CASUAL DINING  BAR  QUICK BITES  DESSERT PARLOR  CAFÉ  MICROBREWERY  \\\n",
       "0            1.0  NaN          NaN             NaN   NaN           NaN   \n",
       "1            1.0  1.0          NaN             NaN   NaN           NaN   \n",
       "2            1.0  NaN          NaN             NaN   NaN           NaN   \n",
       "3            NaN  NaN          1.0             NaN   NaN           NaN   \n",
       "4            NaN  NaN          NaN             1.0   NaN           NaN   \n",
       "\n",
       "   BEVERAGE SHOP  IRANI CAFE  BAKERY  None  ...  FOOD TRUCK  MESS  KIOSK  \\\n",
       "0            NaN         NaN     NaN   NaN  ...         NaN   NaN    NaN   \n",
       "1            NaN         NaN     NaN   NaN  ...         NaN   NaN    NaN   \n",
       "2            NaN         NaN     NaN   NaN  ...         NaN   NaN    NaN   \n",
       "3            NaN         NaN     NaN   NaN  ...         NaN   NaN    NaN   \n",
       "4            NaN         NaN     NaN   NaN  ...         NaN   NaN    NaN   \n",
       "\n",
       "   CLUB  CONFECTIONERY  DHABA  MEAT SHOP  COCKTAIL BAR  PAAN SHOP  BHOJANALYA  \n",
       "0   NaN            NaN    NaN        NaN           NaN        NaN         NaN  \n",
       "1   NaN            NaN    NaN        NaN           NaN        NaN         NaN  \n",
       "2   NaN            NaN    NaN        NaN           NaN        NaN         NaN  \n",
       "3   NaN            NaN    NaN        NaN           NaN        NaN         NaN  \n",
       "4   NaN            NaN    NaN        NaN           NaN        NaN         NaN  \n",
       "\n",
       "[5 rows x 25 columns]"
      ]
     },
     "execution_count": 19,
     "metadata": {},
     "output_type": "execute_result"
    }
   ],
   "source": [
    "df_title.head()"
   ]
  },
  {
   "cell_type": "markdown",
   "metadata": {},
   "source": [
    "# cleaning time - pending"
   ]
  },
  {
   "cell_type": "code",
   "execution_count": 20,
   "metadata": {},
   "outputs": [
    {
     "data": {
      "text/html": [
       "<div>\n",
       "<style scoped>\n",
       "    .dataframe tbody tr th:only-of-type {\n",
       "        vertical-align: middle;\n",
       "    }\n",
       "\n",
       "    .dataframe tbody tr th {\n",
       "        vertical-align: top;\n",
       "    }\n",
       "\n",
       "    .dataframe thead th {\n",
       "        text-align: right;\n",
       "    }\n",
       "</style>\n",
       "<table border=\"1\" class=\"dataframe\">\n",
       "  <thead>\n",
       "    <tr style=\"text-align: right;\">\n",
       "      <th></th>\n",
       "      <th>CITY</th>\n",
       "      <th>COST</th>\n",
       "      <th>CUISINES</th>\n",
       "      <th>LOCALITY</th>\n",
       "      <th>RATING</th>\n",
       "      <th>RESTAURANT_ID</th>\n",
       "      <th>TIME</th>\n",
       "      <th>TITLE</th>\n",
       "      <th>VOTES</th>\n",
       "      <th>source</th>\n",
       "      <th>Location</th>\n",
       "    </tr>\n",
       "  </thead>\n",
       "  <tbody>\n",
       "    <tr>\n",
       "      <td>204</td>\n",
       "      <td>Kochi</td>\n",
       "      <td>200.0</td>\n",
       "      <td>[Bakery]</td>\n",
       "      <td>Marine Drive</td>\n",
       "      <td>NaN</td>\n",
       "      <td>15062</td>\n",
       "      <td>Not Available</td>\n",
       "      <td>[BAKERY]</td>\n",
       "      <td>NaN</td>\n",
       "      <td>train</td>\n",
       "      <td>Kochi</td>\n",
       "    </tr>\n",
       "    <tr>\n",
       "      <td>421</td>\n",
       "      <td>Hyderabad</td>\n",
       "      <td>350.0</td>\n",
       "      <td>[Cafe,  Fast Food]</td>\n",
       "      <td>Banjara Hills</td>\n",
       "      <td>NaN</td>\n",
       "      <td>14127</td>\n",
       "      <td>Not Available</td>\n",
       "      <td>[CAFÉ]</td>\n",
       "      <td>NaN</td>\n",
       "      <td>train</td>\n",
       "      <td>Hyderabad</td>\n",
       "    </tr>\n",
       "    <tr>\n",
       "      <td>2035</td>\n",
       "      <td>Kochi</td>\n",
       "      <td>NaN</td>\n",
       "      <td>[Kerala,  Arabian]</td>\n",
       "      <td>Kakkanad</td>\n",
       "      <td>NaN</td>\n",
       "      <td>2776</td>\n",
       "      <td>Not Available</td>\n",
       "      <td>[QUICK BITES]</td>\n",
       "      <td>NaN</td>\n",
       "      <td>test</td>\n",
       "      <td>Kochi</td>\n",
       "    </tr>\n",
       "    <tr>\n",
       "      <td>2758</td>\n",
       "      <td>Kochi</td>\n",
       "      <td>NaN</td>\n",
       "      <td>[Chinese,  North Indian,  South Indian]</td>\n",
       "      <td>Tripunithura</td>\n",
       "      <td>NaN</td>\n",
       "      <td>11301</td>\n",
       "      <td>Not Available</td>\n",
       "      <td>[None]</td>\n",
       "      <td>NaN</td>\n",
       "      <td>test</td>\n",
       "      <td>Kochi</td>\n",
       "    </tr>\n",
       "  </tbody>\n",
       "</table>\n",
       "</div>"
      ],
      "text/plain": [
       "           CITY   COST                                 CUISINES  \\\n",
       "204       Kochi  200.0                                 [Bakery]   \n",
       "421   Hyderabad  350.0                       [Cafe,  Fast Food]   \n",
       "2035      Kochi    NaN                       [Kerala,  Arabian]   \n",
       "2758      Kochi    NaN  [Chinese,  North Indian,  South Indian]   \n",
       "\n",
       "           LOCALITY RATING  RESTAURANT_ID           TIME          TITLE VOTES  \\\n",
       "204    Marine Drive    NaN          15062  Not Available       [BAKERY]   NaN   \n",
       "421   Banjara Hills    NaN          14127  Not Available         [CAFÉ]   NaN   \n",
       "2035       Kakkanad    NaN           2776  Not Available  [QUICK BITES]   NaN   \n",
       "2758   Tripunithura    NaN          11301  Not Available         [None]   NaN   \n",
       "\n",
       "     source   Location  \n",
       "204   train      Kochi  \n",
       "421   train  Hyderabad  \n",
       "2035   test      Kochi  \n",
       "2758   test      Kochi  "
      ]
     },
     "execution_count": 20,
     "metadata": {},
     "output_type": "execute_result"
    }
   ],
   "source": [
    "df[df['RATING'].isna()]"
   ]
  },
  {
   "cell_type": "code",
   "execution_count": 21,
   "metadata": {},
   "outputs": [],
   "source": [
    "df[\"RATING\"] = df.groupby(\"CITY\").RATING.transform(lambda x : x.fillna(x.mode()[0]))"
   ]
  },
  {
   "cell_type": "code",
   "execution_count": 22,
   "metadata": {},
   "outputs": [],
   "source": [
    "df['RATING']=df['RATING'].str.extract('(\\d+)').astype(float)"
   ]
  },
  {
   "cell_type": "code",
   "execution_count": 23,
   "metadata": {},
   "outputs": [
    {
     "data": {
      "text/plain": [
       "1579"
      ]
     },
     "execution_count": 23,
     "metadata": {},
     "output_type": "execute_result"
    }
   ],
   "source": [
    "df['VOTES'].isna().sum()"
   ]
  },
  {
   "cell_type": "code",
   "execution_count": 24,
   "metadata": {},
   "outputs": [],
   "source": [
    "df.VOTES.fillna('0',inplace=True)\n",
    "df['VOTES']=df['VOTES'].str.extract('(\\d+)').astype(float)"
   ]
  },
  {
   "cell_type": "code",
   "execution_count": 25,
   "metadata": {},
   "outputs": [],
   "source": [
    "df.drop(columns='CITY',inplace=True)\n",
    "df.drop(columns='LOCALITY',inplace=True)\n",
    "df.drop(columns='CUISINES',inplace=True)"
   ]
  },
  {
   "cell_type": "code",
   "execution_count": 26,
   "metadata": {},
   "outputs": [],
   "source": [
    "#df.drop(columns='CUISINES',inplace=True)\n",
    "#df.drop(columns='CUISINES++',inplace=True)\n",
    "#df.drop(columns='Location++',inplace=True)\n",
    "#df.drop(columns='TITLE++',inplace=True)\n"
   ]
  },
  {
   "cell_type": "code",
   "execution_count": 27,
   "metadata": {},
   "outputs": [
    {
     "data": {
      "text/html": [
       "<div>\n",
       "<style scoped>\n",
       "    .dataframe tbody tr th:only-of-type {\n",
       "        vertical-align: middle;\n",
       "    }\n",
       "\n",
       "    .dataframe tbody tr th {\n",
       "        vertical-align: top;\n",
       "    }\n",
       "\n",
       "    .dataframe thead th {\n",
       "        text-align: right;\n",
       "    }\n",
       "</style>\n",
       "<table border=\"1\" class=\"dataframe\">\n",
       "  <thead>\n",
       "    <tr style=\"text-align: right;\">\n",
       "      <th></th>\n",
       "      <th>Andheri</th>\n",
       "      <th>Bandra</th>\n",
       "      <th>Bangalore</th>\n",
       "      <th>Chennai</th>\n",
       "      <th>Delhi</th>\n",
       "      <th>Ernakulam</th>\n",
       "      <th>Faridabad</th>\n",
       "      <th>Ghaziabad</th>\n",
       "      <th>Gurgaon</th>\n",
       "      <th>Hyderabad</th>\n",
       "      <th>Kerala</th>\n",
       "      <th>Kochi</th>\n",
       "      <th>Mumbai</th>\n",
       "      <th>Noida</th>\n",
       "      <th>Others</th>\n",
       "      <th>Secunderabad</th>\n",
       "      <th>Telangana</th>\n",
       "      <th>Thane</th>\n",
       "    </tr>\n",
       "  </thead>\n",
       "  <tbody>\n",
       "    <tr>\n",
       "      <td>0</td>\n",
       "      <td>0</td>\n",
       "      <td>0</td>\n",
       "      <td>0</td>\n",
       "      <td>0</td>\n",
       "      <td>0</td>\n",
       "      <td>0</td>\n",
       "      <td>0</td>\n",
       "      <td>0</td>\n",
       "      <td>0</td>\n",
       "      <td>0</td>\n",
       "      <td>0</td>\n",
       "      <td>0</td>\n",
       "      <td>0</td>\n",
       "      <td>0</td>\n",
       "      <td>0</td>\n",
       "      <td>0</td>\n",
       "      <td>0</td>\n",
       "      <td>1</td>\n",
       "    </tr>\n",
       "    <tr>\n",
       "      <td>1</td>\n",
       "      <td>0</td>\n",
       "      <td>0</td>\n",
       "      <td>0</td>\n",
       "      <td>1</td>\n",
       "      <td>0</td>\n",
       "      <td>0</td>\n",
       "      <td>0</td>\n",
       "      <td>0</td>\n",
       "      <td>0</td>\n",
       "      <td>0</td>\n",
       "      <td>0</td>\n",
       "      <td>0</td>\n",
       "      <td>0</td>\n",
       "      <td>0</td>\n",
       "      <td>0</td>\n",
       "      <td>0</td>\n",
       "      <td>0</td>\n",
       "      <td>0</td>\n",
       "    </tr>\n",
       "    <tr>\n",
       "      <td>2</td>\n",
       "      <td>0</td>\n",
       "      <td>0</td>\n",
       "      <td>0</td>\n",
       "      <td>1</td>\n",
       "      <td>0</td>\n",
       "      <td>0</td>\n",
       "      <td>0</td>\n",
       "      <td>0</td>\n",
       "      <td>0</td>\n",
       "      <td>0</td>\n",
       "      <td>0</td>\n",
       "      <td>0</td>\n",
       "      <td>0</td>\n",
       "      <td>0</td>\n",
       "      <td>0</td>\n",
       "      <td>0</td>\n",
       "      <td>0</td>\n",
       "      <td>0</td>\n",
       "    </tr>\n",
       "    <tr>\n",
       "      <td>3</td>\n",
       "      <td>0</td>\n",
       "      <td>1</td>\n",
       "      <td>0</td>\n",
       "      <td>0</td>\n",
       "      <td>0</td>\n",
       "      <td>0</td>\n",
       "      <td>0</td>\n",
       "      <td>0</td>\n",
       "      <td>0</td>\n",
       "      <td>0</td>\n",
       "      <td>0</td>\n",
       "      <td>0</td>\n",
       "      <td>0</td>\n",
       "      <td>0</td>\n",
       "      <td>0</td>\n",
       "      <td>0</td>\n",
       "      <td>0</td>\n",
       "      <td>0</td>\n",
       "    </tr>\n",
       "    <tr>\n",
       "      <td>4</td>\n",
       "      <td>0</td>\n",
       "      <td>0</td>\n",
       "      <td>0</td>\n",
       "      <td>0</td>\n",
       "      <td>0</td>\n",
       "      <td>0</td>\n",
       "      <td>0</td>\n",
       "      <td>0</td>\n",
       "      <td>0</td>\n",
       "      <td>0</td>\n",
       "      <td>0</td>\n",
       "      <td>0</td>\n",
       "      <td>1</td>\n",
       "      <td>0</td>\n",
       "      <td>0</td>\n",
       "      <td>0</td>\n",
       "      <td>0</td>\n",
       "      <td>0</td>\n",
       "    </tr>\n",
       "  </tbody>\n",
       "</table>\n",
       "</div>"
      ],
      "text/plain": [
       "   Andheri  Bandra  Bangalore  Chennai  Delhi  Ernakulam  Faridabad  \\\n",
       "0        0       0          0        0      0          0          0   \n",
       "1        0       0          0        1      0          0          0   \n",
       "2        0       0          0        1      0          0          0   \n",
       "3        0       1          0        0      0          0          0   \n",
       "4        0       0          0        0      0          0          0   \n",
       "\n",
       "   Ghaziabad  Gurgaon  Hyderabad  Kerala  Kochi  Mumbai  Noida  Others  \\\n",
       "0          0        0          0       0      0       0      0       0   \n",
       "1          0        0          0       0      0       0      0       0   \n",
       "2          0        0          0       0      0       0      0       0   \n",
       "3          0        0          0       0      0       0      0       0   \n",
       "4          0        0          0       0      0       1      0       0   \n",
       "\n",
       "   Secunderabad  Telangana  Thane  \n",
       "0             0          0      1  \n",
       "1             0          0      0  \n",
       "2             0          0      0  \n",
       "3             0          0      0  \n",
       "4             0          0      0  "
      ]
     },
     "execution_count": 27,
     "metadata": {},
     "output_type": "execute_result"
    }
   ],
   "source": [
    "df_City=pd.get_dummies(df['Location'])\n",
    "df.drop(columns='Location',inplace=True)\n",
    "df_City.head()\n"
   ]
  },
  {
   "cell_type": "code",
   "execution_count": 28,
   "metadata": {},
   "outputs": [],
   "source": [
    "df = pd.concat([df,df_City,df_cuisines,df_title], axis=1)\n"
   ]
  },
  {
   "cell_type": "code",
   "execution_count": 29,
   "metadata": {},
   "outputs": [],
   "source": [
    "df.drop(columns='TITLE',inplace=True)"
   ]
  },
  {
   "cell_type": "code",
   "execution_count": 30,
   "metadata": {},
   "outputs": [
    {
     "data": {
      "text/plain": [
       "Index(['TIME', 'source'], dtype='object')"
      ]
     },
     "execution_count": 30,
     "metadata": {},
     "output_type": "execute_result"
    }
   ],
   "source": [
    "df_column_category = df.select_dtypes(exclude=np.number).columns\n",
    "df_column_category"
   ]
  },
  {
   "cell_type": "code",
   "execution_count": 31,
   "metadata": {},
   "outputs": [],
   "source": [
    "#df.drop(columns='City found',inplace=True)\n",
    "df.drop(columns='TIME',inplace=True)"
   ]
  },
  {
   "cell_type": "code",
   "execution_count": 32,
   "metadata": {},
   "outputs": [],
   "source": [
    "df.fillna(0,inplace=True)"
   ]
  },
  {
   "cell_type": "code",
   "execution_count": 33,
   "metadata": {},
   "outputs": [],
   "source": [
    "train_final = df[df.source==\"train\"]\n",
    "test_final = df[df.source==\"test\"]"
   ]
  },
  {
   "cell_type": "code",
   "execution_count": 34,
   "metadata": {},
   "outputs": [
    {
     "data": {
      "text/plain": [
       "(12552, 277)"
      ]
     },
     "execution_count": 34,
     "metadata": {},
     "output_type": "execute_result"
    }
   ],
   "source": [
    "train_final.shape"
   ]
  },
  {
   "cell_type": "code",
   "execution_count": 35,
   "metadata": {},
   "outputs": [
    {
     "name": "stderr",
     "output_type": "stream",
     "text": [
      "C:\\Users\\Shubham\\Anaconda3\\lib\\site-packages\\pandas\\core\\frame.py:4102: SettingWithCopyWarning: \n",
      "A value is trying to be set on a copy of a slice from a DataFrame\n",
      "\n",
      "See the caveats in the documentation: http://pandas.pydata.org/pandas-docs/stable/user_guide/indexing.html#returning-a-view-versus-a-copy\n",
      "  errors=errors,\n"
     ]
    }
   ],
   "source": [
    "train_final.drop(columns=[\"source\"],inplace=True)"
   ]
  },
  {
   "cell_type": "code",
   "execution_count": 36,
   "metadata": {},
   "outputs": [],
   "source": [
    "test_final.drop(columns=[\"source\",'COST'],inplace=True)\n"
   ]
  },
  {
   "cell_type": "code",
   "execution_count": 37,
   "metadata": {},
   "outputs": [],
   "source": [
    "train_X = train_final.drop(columns=[\"COST\",'RESTAURANT_ID'])"
   ]
  },
  {
   "cell_type": "code",
   "execution_count": 38,
   "metadata": {},
   "outputs": [],
   "source": [
    "train_Y = train_final[\"COST\"]"
   ]
  },
  {
   "cell_type": "code",
   "execution_count": 39,
   "metadata": {},
   "outputs": [],
   "source": [
    "test_X = test_final.drop(columns=[\"RESTAURANT_ID\"])"
   ]
  },
  {
   "cell_type": "code",
   "execution_count": 40,
   "metadata": {},
   "outputs": [
    {
     "name": "stderr",
     "output_type": "stream",
     "text": [
      "C:\\Users\\Shubham\\Anaconda3\\lib\\site-packages\\pandas\\core\\frame.py:4244: SettingWithCopyWarning: \n",
      "A value is trying to be set on a copy of a slice from a DataFrame\n",
      "\n",
      "See the caveats in the documentation: http://pandas.pydata.org/pandas-docs/stable/user_guide/indexing.html#returning-a-view-versus-a-copy\n",
      "  **kwargs\n"
     ]
    },
    {
     "data": {
      "text/plain": [
       "RATING          0\n",
       "VOTES           0\n",
       "Andheri         0\n",
       "Bandra          0\n",
       "Bangalore       0\n",
       "               ..\n",
       "DHABA           0\n",
       "MEAT SHOP       0\n",
       "COCKTAIL BAR    0\n",
       "PAAN SHOP       0\n",
       "BHOJANALYA      0\n",
       "Length: 274, dtype: int64"
      ]
     },
     "execution_count": 40,
     "metadata": {},
     "output_type": "execute_result"
    }
   ],
   "source": [
    "train_X.fillna(0,inplace=True)\n",
    "train_X.isna().sum()"
   ]
  },
  {
   "cell_type": "code",
   "execution_count": 41,
   "metadata": {},
   "outputs": [],
   "source": [
    "from sklearn.linear_model import LinearRegression\n",
    "model = LinearRegression()\n",
    "model.fit(train_X, train_Y)\n",
    "dtrain_predictions = model.predict(train_X)"
   ]
  },
  {
   "cell_type": "code",
   "execution_count": 42,
   "metadata": {},
   "outputs": [],
   "source": [
    "from sklearn.model_selection import cross_val_score\n",
    "a = cross_val_score(model, train_X, train_Y, cv=5, scoring='neg_mean_squared_error')"
   ]
  },
  {
   "cell_type": "code",
   "execution_count": 43,
   "metadata": {},
   "outputs": [
    {
     "name": "stdout",
     "output_type": "stream",
     "text": [
      "\n",
      "Model Report\n",
      "RMSE : 331.3\n"
     ]
    },
    {
     "name": "stderr",
     "output_type": "stream",
     "text": [
      "C:\\Users\\Shubham\\Anaconda3\\lib\\site-packages\\pandas\\core\\frame.py:4244: SettingWithCopyWarning: \n",
      "A value is trying to be set on a copy of a slice from a DataFrame\n",
      "\n",
      "See the caveats in the documentation: http://pandas.pydata.org/pandas-docs/stable/user_guide/indexing.html#returning-a-view-versus-a-copy\n",
      "  **kwargs\n",
      "C:\\Users\\Shubham\\Anaconda3\\lib\\site-packages\\ipykernel_launcher.py:8: SettingWithCopyWarning: \n",
      "A value is trying to be set on a copy of a slice from a DataFrame.\n",
      "Try using .loc[row_indexer,col_indexer] = value instead\n",
      "\n",
      "See the caveats in the documentation: http://pandas.pydata.org/pandas-docs/stable/user_guide/indexing.html#returning-a-view-versus-a-copy\n",
      "  \n"
     ]
    }
   ],
   "source": [
    "#Print model report:\n",
    "from sklearn.metrics import mean_absolute_error,mean_squared_error,mean_squared_log_error, r2_score\n",
    "print(\"\\nModel Report\")\n",
    "print(\"RMSE : %.4g\" % np.sqrt(mean_squared_error(train_Y.values, dtrain_predictions)))\n",
    "    \n",
    "#Predict on testing data:\n",
    "test_X.fillna(0,inplace=True)\n",
    "test_final[\"res_linear\"] =  model.predict(test_X)\n"
   ]
  },
  {
   "cell_type": "code",
   "execution_count": 44,
   "metadata": {},
   "outputs": [
    {
     "name": "stdout",
     "output_type": "stream",
     "text": [
      "r2 train 0.7224620545102787\n"
     ]
    }
   ],
   "source": [
    "print('r2 train',r2_score(train_Y,dtrain_predictions))\n",
    "#print('r2 test',r2_score(test_y,test_predict))"
   ]
  },
  {
   "cell_type": "code",
   "execution_count": 45,
   "metadata": {},
   "outputs": [],
   "source": [
    "Linear_submission = test_final[[\"RESTAURANT_ID\",\"res_linear\"]]"
   ]
  },
  {
   "cell_type": "code",
   "execution_count": 46,
   "metadata": {},
   "outputs": [
    {
     "data": {
      "text/html": [
       "<div>\n",
       "<style scoped>\n",
       "    .dataframe tbody tr th:only-of-type {\n",
       "        vertical-align: middle;\n",
       "    }\n",
       "\n",
       "    .dataframe tbody tr th {\n",
       "        vertical-align: top;\n",
       "    }\n",
       "\n",
       "    .dataframe thead th {\n",
       "        text-align: right;\n",
       "    }\n",
       "</style>\n",
       "<table border=\"1\" class=\"dataframe\">\n",
       "  <thead>\n",
       "    <tr style=\"text-align: right;\">\n",
       "      <th></th>\n",
       "      <th>RESTAURANT_ID</th>\n",
       "      <th>res_linear</th>\n",
       "    </tr>\n",
       "  </thead>\n",
       "  <tbody>\n",
       "    <tr>\n",
       "      <td>0</td>\n",
       "      <td>4085</td>\n",
       "      <td>917.578613</td>\n",
       "    </tr>\n",
       "    <tr>\n",
       "      <td>1</td>\n",
       "      <td>12680</td>\n",
       "      <td>359.179779</td>\n",
       "    </tr>\n",
       "    <tr>\n",
       "      <td>2</td>\n",
       "      <td>1411</td>\n",
       "      <td>809.393555</td>\n",
       "    </tr>\n",
       "    <tr>\n",
       "      <td>3</td>\n",
       "      <td>204</td>\n",
       "      <td>363.644165</td>\n",
       "    </tr>\n",
       "    <tr>\n",
       "      <td>4</td>\n",
       "      <td>13453</td>\n",
       "      <td>205.617432</td>\n",
       "    </tr>\n",
       "    <tr>\n",
       "      <td>5</td>\n",
       "      <td>4518</td>\n",
       "      <td>51.631500</td>\n",
       "    </tr>\n",
       "    <tr>\n",
       "      <td>6</td>\n",
       "      <td>1643</td>\n",
       "      <td>615.144043</td>\n",
       "    </tr>\n",
       "    <tr>\n",
       "      <td>7</td>\n",
       "      <td>5109</td>\n",
       "      <td>620.427124</td>\n",
       "    </tr>\n",
       "    <tr>\n",
       "      <td>8</td>\n",
       "      <td>5606</td>\n",
       "      <td>433.676636</td>\n",
       "    </tr>\n",
       "    <tr>\n",
       "      <td>9</td>\n",
       "      <td>14319</td>\n",
       "      <td>654.869659</td>\n",
       "    </tr>\n",
       "    <tr>\n",
       "      <td>10</td>\n",
       "      <td>4079</td>\n",
       "      <td>201.798370</td>\n",
       "    </tr>\n",
       "    <tr>\n",
       "      <td>11</td>\n",
       "      <td>8873</td>\n",
       "      <td>185.717926</td>\n",
       "    </tr>\n",
       "    <tr>\n",
       "      <td>12</td>\n",
       "      <td>12322</td>\n",
       "      <td>1999.746429</td>\n",
       "    </tr>\n",
       "    <tr>\n",
       "      <td>13</td>\n",
       "      <td>7910</td>\n",
       "      <td>1746.170532</td>\n",
       "    </tr>\n",
       "    <tr>\n",
       "      <td>14</td>\n",
       "      <td>309</td>\n",
       "      <td>811.139984</td>\n",
       "    </tr>\n",
       "    <tr>\n",
       "      <td>15</td>\n",
       "      <td>1224</td>\n",
       "      <td>906.269318</td>\n",
       "    </tr>\n",
       "    <tr>\n",
       "      <td>16</td>\n",
       "      <td>6376</td>\n",
       "      <td>341.097748</td>\n",
       "    </tr>\n",
       "    <tr>\n",
       "      <td>17</td>\n",
       "      <td>3931</td>\n",
       "      <td>271.585724</td>\n",
       "    </tr>\n",
       "    <tr>\n",
       "      <td>18</td>\n",
       "      <td>2274</td>\n",
       "      <td>324.234161</td>\n",
       "    </tr>\n",
       "    <tr>\n",
       "      <td>19</td>\n",
       "      <td>4974</td>\n",
       "      <td>257.331085</td>\n",
       "    </tr>\n",
       "  </tbody>\n",
       "</table>\n",
       "</div>"
      ],
      "text/plain": [
       "    RESTAURANT_ID   res_linear\n",
       "0            4085   917.578613\n",
       "1           12680   359.179779\n",
       "2            1411   809.393555\n",
       "3             204   363.644165\n",
       "4           13453   205.617432\n",
       "5            4518    51.631500\n",
       "6            1643   615.144043\n",
       "7            5109   620.427124\n",
       "8            5606   433.676636\n",
       "9           14319   654.869659\n",
       "10           4079   201.798370\n",
       "11           8873   185.717926\n",
       "12          12322  1999.746429\n",
       "13           7910  1746.170532\n",
       "14            309   811.139984\n",
       "15           1224   906.269318\n",
       "16           6376   341.097748\n",
       "17           3931   271.585724\n",
       "18           2274   324.234161\n",
       "19           4974   257.331085"
      ]
     },
     "execution_count": 46,
     "metadata": {},
     "output_type": "execute_result"
    }
   ],
   "source": [
    "Linear_submission.head(20)"
   ]
  },
  {
   "cell_type": "code",
   "execution_count": 48,
   "metadata": {},
   "outputs": [
    {
     "data": {
      "text/plain": [
       "['Restaurant_Food.pkl']"
      ]
     },
     "execution_count": 48,
     "metadata": {},
     "output_type": "execute_result"
    }
   ],
   "source": [
    "from sklearn.externals import joblib\n",
    "joblib.dump(model,\"Restaurant_Food.pkl\")"
   ]
  },
  {
   "cell_type": "code",
   "execution_count": null,
   "metadata": {},
   "outputs": [],
   "source": []
  }
 ],
 "metadata": {
  "kernelspec": {
   "display_name": "Python 3",
   "language": "python",
   "name": "python3"
  },
  "language_info": {
   "codemirror_mode": {
    "name": "ipython",
    "version": 3
   },
   "file_extension": ".py",
   "mimetype": "text/x-python",
   "name": "python",
   "nbconvert_exporter": "python",
   "pygments_lexer": "ipython3",
   "version": "3.7.4"
  }
 },
 "nbformat": 4,
 "nbformat_minor": 2
}
