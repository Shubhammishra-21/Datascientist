{
 "cells": [
  {
   "cell_type": "code",
   "execution_count": null,
   "metadata": {},
   "outputs": [],
   "source": [
    "pip install opencv-python"
   ]
  },
  {
   "cell_type": "code",
   "execution_count": null,
   "metadata": {},
   "outputs": [],
   "source": [
    "import cv2"
   ]
  },
  {
   "cell_type": "code",
   "execution_count": null,
   "metadata": {},
   "outputs": [],
   "source": [
    "import numpy as np"
   ]
  },
  {
   "cell_type": "code",
   "execution_count": null,
   "metadata": {},
   "outputs": [],
   "source": [
    "image = cv2.imread('./images/input.jpg')\n",
    "height,width=image.shape[:2]\n",
    "#divide by two to rotate the image around the center\n",
    "\n",
    "rotation_matrix = cv2.getRotationMatrix2D((width/2,height/2), -20, 0.75)\n",
    "rotated_image = cv2.warpAffine(image, rotation_matrix, (width,height))\n",
    "\n",
    "cv2.imshow('Rotated Image', rotated_image)\n",
    "cv2.wait(key)\n",
    "cv2.destroyAllwindows()\n"
   ]
  },
  {
   "cell_type": "markdown",
   "metadata": {},
   "source": [
    "# Flipping"
   ]
  },
  {
   "cell_type": "code",
   "execution_count": null,
   "metadata": {},
   "outputs": [],
   "source": [
    "#lets now to a Horizontal flip\n",
    "\n",
    "flipped=cv2.flip(image,1)\n",
    "cv2.imshow('Horizontal Flip',flipped)\n",
    "cv2.waitkey()\n",
    "cv2.destroyAllwindows()"
   ]
  },
  {
   "cell_type": "markdown",
   "metadata": {},
   "source": [
    "# Sharpening"
   ]
  },
  {
   "cell_type": "code",
   "execution_count": null,
   "metadata": {},
   "outputs": [],
   "source": [
    "import cv2\n",
    "import numpy as np\n",
    "\n",
    "image=cv2.imread('amazon_menshirt/img_0.jpeg')\n",
    "cv2.imshow('original',image)\n",
    "kernel_sharpening = np.array([-1,-1,-1],\n",
    "                            [-1,9,-1],\n",
    "                            [-1,-1,-1])\n",
    "\n",
    "#applying different kernels to the input image\n",
    "\n",
    "sharpened = cv2.filter2D(image, -1, kernel_sharpening)\n",
    "\n",
    "cv2.imshow('Image Sharpening',sharpened)\n",
    "\n",
    "cv2.waitkey(0)\n",
    "cv2.destroyAllwindows()"
   ]
  },
  {
   "cell_type": "markdown",
   "metadata": {},
   "source": [
    "# Brightness"
   ]
  },
  {
   "cell_type": "code",
   "execution_count": null,
   "metadata": {},
   "outputs": [],
   "source": [
    "import cv2\n",
    "import numpy as np"
   ]
  },
  {
   "cell_type": "code",
   "execution_count": null,
   "metadata": {},
   "outputs": [],
   "source": [
    "image=cv2.imread('amazon_menshirt/img_0.jpeg')\n",
    "M=np.ones(image.shape, dtype = \"uint8\") * 75\n",
    "\n",
    "cv2.imshow(\"original\", image)\n",
    "\n",
    "added = cv2.add(image,M)\n",
    "cv2.imshow(\"Added\",added)\n",
    "\n",
    "\n",
    "subtracted = cv2.subtract(image,M)\n",
    "cv2.imshow(\"Subtracted\",subtracted)\n",
    "\n",
    "cv2.waitkey(0)\n",
    "cv2.destroyAllwindows()"
   ]
  }
 ],
 "metadata": {
  "kernelspec": {
   "display_name": "Python 3",
   "language": "python",
   "name": "python3"
  },
  "language_info": {
   "codemirror_mode": {
    "name": "ipython",
    "version": 3
   },
   "file_extension": ".py",
   "mimetype": "text/x-python",
   "name": "python",
   "nbconvert_exporter": "python",
   "pygments_lexer": "ipython3",
   "version": "3.7.4"
  }
 },
 "nbformat": 4,
 "nbformat_minor": 2
}
