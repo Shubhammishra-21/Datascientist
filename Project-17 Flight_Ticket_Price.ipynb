{
 "cells": [
  {
   "cell_type": "code",
   "execution_count": 1,
   "metadata": {},
   "outputs": [
    {
     "name": "stdout",
     "output_type": "stream",
     "text": [
      " Volume in drive C has no label.\n",
      " Volume Serial Number is 1C7D-D296\n",
      "\n",
      " Directory of C:\\Users\\Shubham\n",
      "\n",
      "30-04-2020  04:33    <DIR>          .\n",
      "30-04-2020  04:33    <DIR>          ..\n",
      "18-12-2019  06:05    <DIR>          .anaconda\n",
      "30-04-2020  04:33    <DIR>          .conda\n",
      "30-04-2020  03:14                43 .condarc\n",
      "24-03-2020  23:29    <DIR>          .config\n",
      "29-04-2020  00:40    <DIR>          .ipynb_checkpoints\n",
      "18-12-2019  06:08    <DIR>          .ipython\n",
      "19-12-2019  02:54    <DIR>          .jupyter\n",
      "01-02-2020  06:17    <DIR>          .matplotlib\n",
      "15-03-2020  08:24    <DIR>          3D Objects\n",
      "11-04-2020  04:32           191,962 abalone.csv\n",
      "19-04-2020  08:47         1,368,569 Abalone.pkl\n",
      "27-03-2020  05:44         3,974,404 adult.csv\n",
      "13-04-2020  20:47             4,554 Advertising.csv\n",
      "22-04-2020  01:34    <DIR>          Anaconda3\n",
      "16-04-2020  21:13           383,408 avacado.csv\n",
      "17-04-2020  21:41           174,094 avocado.csv\n",
      "17-04-2020  02:22               730 avocado_linear_lr.pkl\n",
      "30-04-2020  04:12           214,182 Avocado_Project-8 Linear Regression.ipynb\n",
      "14-04-2020  20:40             1,972 baseball.csv\n",
      "19-04-2020  07:20            20,571 Baseball.pkl\n",
      "11-04-2020  22:11            14,170 bikes.csv\n",
      "19-04-2020  09:17               618 bikes_linear_reg.pkl\n",
      "17-03-2020  10:48         1,770,812 bostonhouse Program.ipynb\n",
      "22-02-2020  04:31             1,786 brain_size.csv\n",
      "24-04-2020  09:36               890 census income.pkl\n",
      "20-04-2020  00:43           730,928 census.csv\n",
      "28-04-2020  23:44           970,456 churn.csv\n",
      "25-04-2020  21:57         1,629,337 claim.csv\n",
      "30-04-2020  00:05               107 Consultation_Fee.pkl\n",
      "15-03-2020  08:24    <DIR>          Contacts\n",
      "19-04-2020  09:47            64,932 corr-heat.png\n",
      "06-01-2020  00:01             4,686 data structure Program.ipynb\n",
      "27-04-2020  00:17           272,499 Data_Test.xlsx\n",
      "30-04-2020  00:47           694,805 Data_Train.xlsx\n",
      "01-02-2020  05:54            23,801 dataframe as Pandas.ipynb\n",
      "25-03-2020  04:37                 0 dataset.load_wine\n",
      "30-04-2020  00:42    <DIR>          Desktop\n",
      "15-03-2020  08:24    <DIR>          Documents\n",
      "30-04-2020  04:31    <DIR>          Downloads\n",
      "10-02-2020  05:11               733 empl.csv\n",
      "02-02-2020  06:04                73 employee.csv\n",
      "15-02-2020  05:08               152 emptest.csv\n",
      "15-03-2020  05:17             9,337 ensemble program.ipynb\n",
      "15-03-2020  08:24    <DIR>          Favorites\n",
      "26-04-2020  22:04           104,429 Final_Test.xlsx\n",
      "26-04-2020  22:04           313,364 Final_Train.xlsx\n",
      "29-02-2020  05:58                60 grade.csv\n",
      "24-04-2020  09:34           554,861 Grid searchCV.pkl\n",
      "14-03-2020  05:30             1,988 gridsearch.cv.ipynb\n",
      "06-01-2020  03:54             3,370 headbrain.csv\n",
      "18-04-2020  22:18            18,541 heart.csv\n",
      "19-04-2020  05:30               287 Heart_Disease.pkl\n",
      "22-02-2020  05:38            19,867 HousePriceData.csv\n",
      "23-04-2020  00:17         1,423,528 housing.csv\n",
      "24-04-2020  09:57                31 Housing.pkl\n",
      "01-02-2020  05:10             5,353 how to work on pandas.ipynb\n",
      "19-04-2020  10:02                36 HR_Data_Analytics.pkl\n",
      "19-04-2020  09:47           260,359 hranalytics.csv\n",
      "02-02-2020  06:06               171 HrData.csv\n",
      "06-01-2020  03:57             8,805 index.csv\n",
      "11-04-2020  00:00            39,325 insurance.csv\n",
      "25-04-2020  21:58           266,963 insurance_fraud.csv\n",
      "30-04-2020  00:09               294 Insurance_Fraud.pkl\n",
      "15-02-2020  05:14             4,463 iris.csv\n",
      "15-03-2020  05:48            16,991 kmeans program.ipynb\n",
      "15-03-2020  08:24    <DIR>          Links\n",
      "01-02-2020  06:24            67,248 LISTING.ipynb\n",
      "21-04-2020  01:09            37,397 loan.csv\n",
      "24-04-2020  10:07               890 Loan_Prediction.pkl\n",
      "17-03-2020  03:28             2,463 machine Learn Prog.ipynb\n",
      "29-02-2020  06:38            36,977 machine Learn_Program.ipynb\n",
      "29-02-2020  06:38            41,588 machine Learning Program.ipynb\n",
      "17-03-2020  04:20            57,214 machinelearningprog.ipynb\n",
      "17-03-2020  04:20            59,099 machinelearningprog-Copy1.ipynb\n",
      "02-02-2020  08:55            30,890 merge.ipynb\n",
      "24-04-2020  03:49           122,402 mobile.csv\n",
      "24-04-2020  01:44            32,233 mpg.csv\n",
      "24-04-2020  11:17               947 MPG.pkl\n",
      "27-03-2020  02:05            78,050 Mushroom Project.ipynb\n",
      "26-03-2020  23:00           123,302 mushroom.csv\n",
      "15-03-2020  08:24    <DIR>          Music\n",
      "25-01-2020  06:35            85,298 mysql connector.ipynb\n",
      "25-01-2020  06:35            17,932 numpy array.ipynb\n",
      "29-04-2020  23:35    <DIR>          OneDrive\n",
      "15-03-2020  08:24    <DIR>          Pictures\n",
      "20-03-2020  21:21               555 practice Project session.ipynb\n",
      "22-02-2020  05:14                 0 president_height.csv\n",
      "30-04-2020  03:57           204,961 Project 1_Data Mining.ipynb\n",
      "30-04-2020  03:58           374,307 Project 2 SBI Life Insurance.ipynb\n",
      "30-04-2020  03:59           158,377 Project 3 Abalone Datasets.ipynb\n",
      "30-04-2020  04:00            67,403 Project 4_Bikes.ipynb\n",
      "24-04-2020  09:28           347,787 Project 5_Red_Wine_Quality.ipynb\n",
      "30-04-2020  04:02           177,067 Project 6_Sales.ipynb\n",
      "30-04-2020  04:13           308,261 Project-10_Heart_Disease.ipynb\n",
      "30-04-2020  04:15         1,861,408 Project-11_Census Income Data Set.ipynb\n",
      "30-04-2020  04:17           375,165 Project-12 Loan_Prediction.ipynb\n",
      "22-04-2020  02:13           148,324 project-12.ipynb\n",
      "30-04-2020  04:19           596,679 Project-13_Housing.ipynb\n",
      "30-04-2020  04:20           314,803 Project-14 Cross validation and Grid searchCV.ipynb\n",
      "30-04-2020  04:21         1,078,686 Project-15_MPG.ipynb\n",
      "30-04-2020  04:22         1,103,641 Project-16 Insurance_Fraud.ipynb\n",
      "30-04-2020  04:24            52,164 Project-17 Flight_Ticket_Price.ipynb\n",
      "30-04-2020  04:30           249,066 Project-18 Doctor's_Consultation_Fee .ipynb\n",
      "30-04-2020  04:31            47,785 Project-19 Restaurant_Food_Cost .ipynb\n",
      "30-04-2020  04:33            24,198 Project-20 Telecom_customer_churn.ipynb\n",
      "30-04-2020  04:03           167,641 Project-7_Baseball.ipynb\n",
      "17-04-2020  02:51           263,155 Project-8_Avacado.ipynb\n",
      "30-04-2020  04:12         3,977,784 Project-9_HR_Data_Analytics.ipynb\n",
      "30-04-2020  04:01         1,845,094 redwine_Quality Project.ipynb\n",
      "19-04-2020  08:54            51,926 redwine_Quality.pkl\n",
      "11-01-2020  06:06            12,428 regx program.ipynb\n",
      "30-04-2020  00:12             4,964 Restaurant_Food.pkl\n",
      "27-03-2020  06:09            74,487 s_project.ipynb\n",
      "19-04-2020  22:37            17,652 Salary Project.ipynb\n",
      "19-04-2020  05:41            20,699 Sales.pkl\n",
      "22-02-2020  06:05            50,816 satistics Program.ipynb\n",
      "15-03-2020  08:24    <DIR>          Saved Games\n",
      "10-04-2020  21:48            39,325 sbi life insurance.csv\n",
      "19-04-2020  09:15               924 SBI Life Insurance.pkl\n",
      "15-02-2020  06:14           166,567 seaborn program.ipynb\n",
      "15-02-2020  06:01    <DIR>          seaborn-data\n",
      "15-03-2020  08:24    <DIR>          Searches\n",
      "28-03-2020  07:18             9,983 Sonar,Rock and Mines Datasets.ipynb\n",
      "23-03-2020  22:22            86,205 sonar.csv\n",
      "25-03-2020  02:34            87,775 sonar_rock.csv\n",
      "16-02-2020  05:17             8,916 student mean program.ipynb\n",
      "15-02-2020  06:18               512 student_marks.csv\n",
      "12-04-2020  21:07               512 studmarks.csv\n",
      "29-04-2020  23:59           261,453 submission_average.csv\n",
      "29-04-2020  23:59           287,703 submission_lgb.csv\n",
      "29-04-2020  23:59           270,279 submission_xgb.csv\n",
      "24-03-2020  00:53            16,597 test.csv\n",
      "24-04-2020  03:51            62,848 test_mobile.csv\n",
      "30-04-2020  00:48           156,314 Test_set.xlsx\n",
      "28-03-2020  07:20           567,845 Titanic Project.ipynb\n",
      "24-03-2020  01:42            77,452 Titanic_Train .ipynb\n",
      "25-03-2020  02:35            60,301 Titanic_Train.CSV\n",
      "25-03-2020  02:35            60,301 titanictrain.csv\n",
      "24-03-2020  00:51            43,775 train.csv\n",
      "15-02-2020  05:08                 0 untitled\n",
      "11-01-2020  05:32             8,939 Untitled.ipynb\n",
      "23-04-2020  04:48                 0 untitled.txt\n",
      "25-01-2020  05:19            31,985 Untitled1.ipynb\n",
      "25-04-2020  23:23                 0 untitled1.txt\n",
      "16-02-2020  06:01             7,731 Untitled10.ipynb\n",
      "22-02-2020  06:31            28,458 Untitled11.ipynb\n",
      "23-02-2020  04:27               555 Untitled12.ipynb\n",
      "23-02-2020  04:45               555 Untitled13.ipynb\n",
      "01-03-2020  06:02            59,120 Untitled14.ipynb\n",
      "01-03-2020  10:26             2,453 Untitled15.ipynb\n",
      "14-03-2020  03:26               555 Untitled16.ipynb\n",
      "14-03-2020  04:56             8,338 Untitled17.ipynb\n",
      "17-03-2020  03:16               555 Untitled18.ipynb\n",
      "25-03-2020  02:32            11,728 Untitled19.ipynb\n",
      "25-01-2020  06:26            17,932 Untitled2.ipynb\n",
      "17-03-2020  03:30               879 Untitled20.ipynb\n",
      "26-03-2020  22:16             8,273 Untitled21.ipynb\n",
      "27-03-2020  04:35            15,086 Untitled22.ipynb\n",
      "28-03-2020  07:16               555 Untitled23.ipynb\n",
      "27-03-2020  05:07             8,005 Untitled24.ipynb\n",
      "29-03-2020  09:02               555 Untitled25.ipynb\n",
      "10-04-2020  08:35             9,623 Untitled26.ipynb\n",
      "10-04-2020  23:12             2,698 Untitled27.ipynb\n",
      "11-04-2020  01:02               555 Untitled28.ipynb\n",
      "12-04-2020  04:04            65,633 Untitled29.ipynb\n",
      "01-02-2020  04:50             1,842 Untitled3.ipynb\n",
      "12-04-2020  10:33             2,765 Untitled30.ipynb\n",
      "16-04-2020  21:59             1,115 Untitled31.ipynb\n",
      "16-04-2020  22:41            65,337 Untitled32.ipynb\n",
      "16-04-2020  22:48                72 Untitled33.ipynb\n",
      "17-04-2020  04:10            11,396 Untitled34.ipynb\n",
      "17-04-2020  09:43           134,410 Untitled35.ipynb\n",
      "17-04-2020  22:01           224,557 Untitled36.ipynb\n",
      "18-04-2020  00:20            81,108 Untitled37.ipynb\n",
      "22-04-2020  00:30           168,613 Untitled38.ipynb\n",
      "18-04-2020  21:39               555 Untitled39.ipynb\n",
      "02-02-2020  06:38            30,890 Untitled4.ipynb\n",
      "18-04-2020  21:37           306,991 Untitled40.ipynb\n",
      "19-04-2020  01:33           382,030 Untitled41.ipynb\n",
      "18-04-2020  23:23            90,104 Untitled42.ipynb\n",
      "18-04-2020  23:43            63,386 Untitled43.ipynb\n",
      "22-04-2020  00:20               555 Untitled44.ipynb\n",
      "23-04-2020  00:16             2,506 Untitled45.ipynb\n",
      "24-04-2020  11:13               555 Untitled46.ipynb\n",
      "25-04-2020  23:45            32,055 Untitled47.ipynb\n",
      "27-04-2020  01:26            62,397 Untitled48.ipynb\n",
      "08-02-2020  04:33               555 Untitled5.ipynb\n",
      "09-02-2020  05:58            21,897 Untitled6.ipynb\n",
      "15-02-2020  06:13           165,591 Untitled7.ipynb\n",
      "16-02-2020  05:10             3,774 Untitled8.ipynb\n",
      "16-02-2020  05:06               973 Untitled9.ipynb\n",
      "10-02-2020  06:08           113,055 upload_empl.csv.ipynb\n",
      "15-03-2020  08:24    <DIR>          Videos\n",
      "25-03-2020  04:40             7,179 Wine Datasets Project.ipynb\n",
      "12-04-2020  02:38           100,950 wine.csv\n",
      "             173 File(s)     34,972,476 bytes\n",
      "              24 Dir(s)  18,051,031,040 bytes free\n"
     ]
    }
   ],
   "source": [
    "ls"
   ]
  },
  {
   "cell_type": "code",
   "execution_count": 2,
   "metadata": {},
   "outputs": [],
   "source": [
    "import pandas as pd\n",
    "import seaborn as sns\n",
    "import numpy as np\n",
    "df_train = pd.read_excel(\"Data_Train.xlsx\")\n",
    "df_to_predict = pd.read_excel(\"Test_set.xlsx\")"
   ]
  },
  {
   "cell_type": "code",
   "execution_count": 3,
   "metadata": {},
   "outputs": [
    {
     "name": "stdout",
     "output_type": "stream",
     "text": [
      "Number of rows in training dataset (10683, 11)\n",
      "Number of rows in prediction dataset (2671, 10)\n"
     ]
    }
   ],
   "source": [
    "print(\"Number of rows in training dataset\",df_train.shape)\n",
    "print(\"Number of rows in prediction dataset\",df_to_predict.shape)"
   ]
  },
  {
   "cell_type": "code",
   "execution_count": 4,
   "metadata": {},
   "outputs": [
    {
     "data": {
      "text/html": [
       "<div>\n",
       "<style scoped>\n",
       "    .dataframe tbody tr th:only-of-type {\n",
       "        vertical-align: middle;\n",
       "    }\n",
       "\n",
       "    .dataframe tbody tr th {\n",
       "        vertical-align: top;\n",
       "    }\n",
       "\n",
       "    .dataframe thead th {\n",
       "        text-align: right;\n",
       "    }\n",
       "</style>\n",
       "<table border=\"1\" class=\"dataframe\">\n",
       "  <thead>\n",
       "    <tr style=\"text-align: right;\">\n",
       "      <th></th>\n",
       "      <th>Airline</th>\n",
       "      <th>Date_of_Journey</th>\n",
       "      <th>Source</th>\n",
       "      <th>Destination</th>\n",
       "      <th>Route</th>\n",
       "      <th>Dep_Time</th>\n",
       "      <th>Arrival_Time</th>\n",
       "      <th>Duration</th>\n",
       "      <th>Total_Stops</th>\n",
       "      <th>Additional_Info</th>\n",
       "      <th>Price</th>\n",
       "    </tr>\n",
       "  </thead>\n",
       "  <tbody>\n",
       "    <tr>\n",
       "      <td>0</td>\n",
       "      <td>IndiGo</td>\n",
       "      <td>24/03/2019</td>\n",
       "      <td>Banglore</td>\n",
       "      <td>New Delhi</td>\n",
       "      <td>BLR → DEL</td>\n",
       "      <td>22:20</td>\n",
       "      <td>01:10 22 Mar</td>\n",
       "      <td>2h 50m</td>\n",
       "      <td>non-stop</td>\n",
       "      <td>No info</td>\n",
       "      <td>3897</td>\n",
       "    </tr>\n",
       "    <tr>\n",
       "      <td>1</td>\n",
       "      <td>Air India</td>\n",
       "      <td>1/05/2019</td>\n",
       "      <td>Kolkata</td>\n",
       "      <td>Banglore</td>\n",
       "      <td>CCU → IXR → BBI → BLR</td>\n",
       "      <td>05:50</td>\n",
       "      <td>13:15</td>\n",
       "      <td>7h 25m</td>\n",
       "      <td>2 stops</td>\n",
       "      <td>No info</td>\n",
       "      <td>7662</td>\n",
       "    </tr>\n",
       "    <tr>\n",
       "      <td>2</td>\n",
       "      <td>Jet Airways</td>\n",
       "      <td>9/06/2019</td>\n",
       "      <td>Delhi</td>\n",
       "      <td>Cochin</td>\n",
       "      <td>DEL → LKO → BOM → COK</td>\n",
       "      <td>09:25</td>\n",
       "      <td>04:25 10 Jun</td>\n",
       "      <td>19h</td>\n",
       "      <td>2 stops</td>\n",
       "      <td>No info</td>\n",
       "      <td>13882</td>\n",
       "    </tr>\n",
       "    <tr>\n",
       "      <td>3</td>\n",
       "      <td>IndiGo</td>\n",
       "      <td>12/05/2019</td>\n",
       "      <td>Kolkata</td>\n",
       "      <td>Banglore</td>\n",
       "      <td>CCU → NAG → BLR</td>\n",
       "      <td>18:05</td>\n",
       "      <td>23:30</td>\n",
       "      <td>5h 25m</td>\n",
       "      <td>1 stop</td>\n",
       "      <td>No info</td>\n",
       "      <td>6218</td>\n",
       "    </tr>\n",
       "    <tr>\n",
       "      <td>4</td>\n",
       "      <td>IndiGo</td>\n",
       "      <td>01/03/2019</td>\n",
       "      <td>Banglore</td>\n",
       "      <td>New Delhi</td>\n",
       "      <td>BLR → NAG → DEL</td>\n",
       "      <td>16:50</td>\n",
       "      <td>21:35</td>\n",
       "      <td>4h 45m</td>\n",
       "      <td>1 stop</td>\n",
       "      <td>No info</td>\n",
       "      <td>13302</td>\n",
       "    </tr>\n",
       "  </tbody>\n",
       "</table>\n",
       "</div>"
      ],
      "text/plain": [
       "       Airline Date_of_Journey    Source Destination                  Route  \\\n",
       "0       IndiGo      24/03/2019  Banglore   New Delhi              BLR → DEL   \n",
       "1    Air India       1/05/2019   Kolkata    Banglore  CCU → IXR → BBI → BLR   \n",
       "2  Jet Airways       9/06/2019     Delhi      Cochin  DEL → LKO → BOM → COK   \n",
       "3       IndiGo      12/05/2019   Kolkata    Banglore        CCU → NAG → BLR   \n",
       "4       IndiGo      01/03/2019  Banglore   New Delhi        BLR → NAG → DEL   \n",
       "\n",
       "  Dep_Time  Arrival_Time Duration Total_Stops Additional_Info  Price  \n",
       "0    22:20  01:10 22 Mar   2h 50m    non-stop         No info   3897  \n",
       "1    05:50         13:15   7h 25m     2 stops         No info   7662  \n",
       "2    09:25  04:25 10 Jun      19h     2 stops         No info  13882  \n",
       "3    18:05         23:30   5h 25m      1 stop         No info   6218  \n",
       "4    16:50         21:35   4h 45m      1 stop         No info  13302  "
      ]
     },
     "execution_count": 4,
     "metadata": {},
     "output_type": "execute_result"
    }
   ],
   "source": [
    "df_train.head()"
   ]
  },
  {
   "cell_type": "code",
   "execution_count": 5,
   "metadata": {},
   "outputs": [
    {
     "data": {
      "text/plain": [
       "Airline            0\n",
       "Date_of_Journey    0\n",
       "Source             0\n",
       "Destination        0\n",
       "Route              1\n",
       "Dep_Time           0\n",
       "Arrival_Time       0\n",
       "Duration           0\n",
       "Total_Stops        1\n",
       "Additional_Info    0\n",
       "Price              0\n",
       "dtype: int64"
      ]
     },
     "execution_count": 5,
     "metadata": {},
     "output_type": "execute_result"
    }
   ],
   "source": [
    "#Check for null values in the dataset\n",
    "df_train.isnull().sum()"
   ]
  },
  {
   "cell_type": "code",
   "execution_count": 6,
   "metadata": {},
   "outputs": [
    {
     "name": "stdout",
     "output_type": "stream",
     "text": [
      "     Route Total_Stops\n",
      "9039   NaN         NaN\n"
     ]
    }
   ],
   "source": [
    "#Check null column values\n",
    "null_columns=df_train.columns[df_train.isnull().any()]\n",
    "print(df_train[df_train.isnull().any(axis=1)][null_columns].head())"
   ]
  },
  {
   "cell_type": "code",
   "execution_count": 7,
   "metadata": {},
   "outputs": [],
   "source": [
    "#drop null column values\n",
    "df_train.dropna(inplace=True)"
   ]
  },
  {
   "cell_type": "code",
   "execution_count": 8,
   "metadata": {},
   "outputs": [
    {
     "name": "stdout",
     "output_type": "stream",
     "text": [
      "Total Duplicate Rows except first occurrence based on all columns are :\n"
     ]
    },
    {
     "data": {
      "text/plain": [
       "(220, 11)"
      ]
     },
     "execution_count": 8,
     "metadata": {},
     "output_type": "execute_result"
    }
   ],
   "source": [
    "# Select duplicate rows except first occurrence based on all columns\n",
    "duplicateRowsDF = df_train[df_train.duplicated()]\n",
    "print(\"Total Duplicate Rows except first occurrence based on all columns are :\")\n",
    "duplicateRowsDF.shape"
   ]
  },
  {
   "cell_type": "code",
   "execution_count": 9,
   "metadata": {},
   "outputs": [],
   "source": [
    "#remove duplicate rows in training dataset\n",
    "df_train.drop_duplicates(keep='first',inplace=True)"
   ]
  },
  {
   "cell_type": "code",
   "execution_count": 10,
   "metadata": {},
   "outputs": [
    {
     "data": {
      "text/html": [
       "<div>\n",
       "<style scoped>\n",
       "    .dataframe tbody tr th:only-of-type {\n",
       "        vertical-align: middle;\n",
       "    }\n",
       "\n",
       "    .dataframe tbody tr th {\n",
       "        vertical-align: top;\n",
       "    }\n",
       "\n",
       "    .dataframe thead th {\n",
       "        text-align: right;\n",
       "    }\n",
       "</style>\n",
       "<table border=\"1\" class=\"dataframe\">\n",
       "  <thead>\n",
       "    <tr style=\"text-align: right;\">\n",
       "      <th></th>\n",
       "      <th>Airline</th>\n",
       "      <th>Date_of_Journey</th>\n",
       "      <th>Source</th>\n",
       "      <th>Destination</th>\n",
       "      <th>Route</th>\n",
       "      <th>Dep_Time</th>\n",
       "      <th>Arrival_Time</th>\n",
       "      <th>Duration</th>\n",
       "      <th>Total_Stops</th>\n",
       "      <th>Additional_Info</th>\n",
       "    </tr>\n",
       "  </thead>\n",
       "  <tbody>\n",
       "    <tr>\n",
       "      <td>0</td>\n",
       "      <td>Jet Airways</td>\n",
       "      <td>6/06/2019</td>\n",
       "      <td>Delhi</td>\n",
       "      <td>Cochin</td>\n",
       "      <td>DEL → BOM → COK</td>\n",
       "      <td>17:30</td>\n",
       "      <td>04:25 07 Jun</td>\n",
       "      <td>10h 55m</td>\n",
       "      <td>1 stop</td>\n",
       "      <td>No info</td>\n",
       "    </tr>\n",
       "    <tr>\n",
       "      <td>1</td>\n",
       "      <td>IndiGo</td>\n",
       "      <td>12/05/2019</td>\n",
       "      <td>Kolkata</td>\n",
       "      <td>Banglore</td>\n",
       "      <td>CCU → MAA → BLR</td>\n",
       "      <td>06:20</td>\n",
       "      <td>10:20</td>\n",
       "      <td>4h</td>\n",
       "      <td>1 stop</td>\n",
       "      <td>No info</td>\n",
       "    </tr>\n",
       "    <tr>\n",
       "      <td>2</td>\n",
       "      <td>Jet Airways</td>\n",
       "      <td>21/05/2019</td>\n",
       "      <td>Delhi</td>\n",
       "      <td>Cochin</td>\n",
       "      <td>DEL → BOM → COK</td>\n",
       "      <td>19:15</td>\n",
       "      <td>19:00 22 May</td>\n",
       "      <td>23h 45m</td>\n",
       "      <td>1 stop</td>\n",
       "      <td>In-flight meal not included</td>\n",
       "    </tr>\n",
       "    <tr>\n",
       "      <td>3</td>\n",
       "      <td>Multiple carriers</td>\n",
       "      <td>21/05/2019</td>\n",
       "      <td>Delhi</td>\n",
       "      <td>Cochin</td>\n",
       "      <td>DEL → BOM → COK</td>\n",
       "      <td>08:00</td>\n",
       "      <td>21:00</td>\n",
       "      <td>13h</td>\n",
       "      <td>1 stop</td>\n",
       "      <td>No info</td>\n",
       "    </tr>\n",
       "    <tr>\n",
       "      <td>4</td>\n",
       "      <td>Air Asia</td>\n",
       "      <td>24/06/2019</td>\n",
       "      <td>Banglore</td>\n",
       "      <td>Delhi</td>\n",
       "      <td>BLR → DEL</td>\n",
       "      <td>23:55</td>\n",
       "      <td>02:45 25 Jun</td>\n",
       "      <td>2h 50m</td>\n",
       "      <td>non-stop</td>\n",
       "      <td>No info</td>\n",
       "    </tr>\n",
       "  </tbody>\n",
       "</table>\n",
       "</div>"
      ],
      "text/plain": [
       "             Airline Date_of_Journey    Source Destination            Route  \\\n",
       "0        Jet Airways       6/06/2019     Delhi      Cochin  DEL → BOM → COK   \n",
       "1             IndiGo      12/05/2019   Kolkata    Banglore  CCU → MAA → BLR   \n",
       "2        Jet Airways      21/05/2019     Delhi      Cochin  DEL → BOM → COK   \n",
       "3  Multiple carriers      21/05/2019     Delhi      Cochin  DEL → BOM → COK   \n",
       "4           Air Asia      24/06/2019  Banglore       Delhi        BLR → DEL   \n",
       "\n",
       "  Dep_Time  Arrival_Time Duration Total_Stops              Additional_Info  \n",
       "0    17:30  04:25 07 Jun  10h 55m      1 stop                      No info  \n",
       "1    06:20         10:20       4h      1 stop                      No info  \n",
       "2    19:15  19:00 22 May  23h 45m      1 stop  In-flight meal not included  \n",
       "3    08:00         21:00      13h      1 stop                      No info  \n",
       "4    23:55  02:45 25 Jun   2h 50m    non-stop                      No info  "
      ]
     },
     "execution_count": 10,
     "metadata": {},
     "output_type": "execute_result"
    }
   ],
   "source": [
    "#See values in columns of dataset \n",
    "df_to_predict.head()"
   ]
  },
  {
   "cell_type": "code",
   "execution_count": 11,
   "metadata": {},
   "outputs": [
    {
     "data": {
      "text/html": [
       "<div>\n",
       "<style scoped>\n",
       "    .dataframe tbody tr th:only-of-type {\n",
       "        vertical-align: middle;\n",
       "    }\n",
       "\n",
       "    .dataframe tbody tr th {\n",
       "        vertical-align: top;\n",
       "    }\n",
       "\n",
       "    .dataframe thead th {\n",
       "        text-align: right;\n",
       "    }\n",
       "</style>\n",
       "<table border=\"1\" class=\"dataframe\">\n",
       "  <thead>\n",
       "    <tr style=\"text-align: right;\">\n",
       "      <th></th>\n",
       "      <th>Airline</th>\n",
       "      <th>Date_of_Journey</th>\n",
       "      <th>Source</th>\n",
       "      <th>Destination</th>\n",
       "      <th>Route</th>\n",
       "      <th>Dep_Time</th>\n",
       "      <th>Arrival_Time</th>\n",
       "      <th>Duration</th>\n",
       "      <th>Total_Stops</th>\n",
       "      <th>Additional_Info</th>\n",
       "      <th>Price</th>\n",
       "    </tr>\n",
       "  </thead>\n",
       "  <tbody>\n",
       "    <tr>\n",
       "      <td>0</td>\n",
       "      <td>IndiGo</td>\n",
       "      <td>24/03/2019</td>\n",
       "      <td>Banglore</td>\n",
       "      <td>New Delhi</td>\n",
       "      <td>BLR → DEL</td>\n",
       "      <td>22:20</td>\n",
       "      <td>01:10 22 Mar</td>\n",
       "      <td>2h 50m</td>\n",
       "      <td>non-stop</td>\n",
       "      <td>No info</td>\n",
       "      <td>3897</td>\n",
       "    </tr>\n",
       "    <tr>\n",
       "      <td>1</td>\n",
       "      <td>Air India</td>\n",
       "      <td>1/05/2019</td>\n",
       "      <td>Kolkata</td>\n",
       "      <td>Banglore</td>\n",
       "      <td>CCU → IXR → BBI → BLR</td>\n",
       "      <td>05:50</td>\n",
       "      <td>13:15</td>\n",
       "      <td>7h 25m</td>\n",
       "      <td>2 stops</td>\n",
       "      <td>No info</td>\n",
       "      <td>7662</td>\n",
       "    </tr>\n",
       "    <tr>\n",
       "      <td>2</td>\n",
       "      <td>Jet Airways</td>\n",
       "      <td>9/06/2019</td>\n",
       "      <td>Delhi</td>\n",
       "      <td>Cochin</td>\n",
       "      <td>DEL → LKO → BOM → COK</td>\n",
       "      <td>09:25</td>\n",
       "      <td>04:25 10 Jun</td>\n",
       "      <td>19h</td>\n",
       "      <td>2 stops</td>\n",
       "      <td>No info</td>\n",
       "      <td>13882</td>\n",
       "    </tr>\n",
       "    <tr>\n",
       "      <td>3</td>\n",
       "      <td>IndiGo</td>\n",
       "      <td>12/05/2019</td>\n",
       "      <td>Kolkata</td>\n",
       "      <td>Banglore</td>\n",
       "      <td>CCU → NAG → BLR</td>\n",
       "      <td>18:05</td>\n",
       "      <td>23:30</td>\n",
       "      <td>5h 25m</td>\n",
       "      <td>1 stop</td>\n",
       "      <td>No info</td>\n",
       "      <td>6218</td>\n",
       "    </tr>\n",
       "    <tr>\n",
       "      <td>4</td>\n",
       "      <td>IndiGo</td>\n",
       "      <td>01/03/2019</td>\n",
       "      <td>Banglore</td>\n",
       "      <td>New Delhi</td>\n",
       "      <td>BLR → NAG → DEL</td>\n",
       "      <td>16:50</td>\n",
       "      <td>21:35</td>\n",
       "      <td>4h 45m</td>\n",
       "      <td>1 stop</td>\n",
       "      <td>No info</td>\n",
       "      <td>13302</td>\n",
       "    </tr>\n",
       "  </tbody>\n",
       "</table>\n",
       "</div>"
      ],
      "text/plain": [
       "       Airline Date_of_Journey    Source Destination                  Route  \\\n",
       "0       IndiGo      24/03/2019  Banglore   New Delhi              BLR → DEL   \n",
       "1    Air India       1/05/2019   Kolkata    Banglore  CCU → IXR → BBI → BLR   \n",
       "2  Jet Airways       9/06/2019     Delhi      Cochin  DEL → LKO → BOM → COK   \n",
       "3       IndiGo      12/05/2019   Kolkata    Banglore        CCU → NAG → BLR   \n",
       "4       IndiGo      01/03/2019  Banglore   New Delhi        BLR → NAG → DEL   \n",
       "\n",
       "  Dep_Time  Arrival_Time Duration Total_Stops Additional_Info  Price  \n",
       "0    22:20  01:10 22 Mar   2h 50m    non-stop         No info   3897  \n",
       "1    05:50         13:15   7h 25m     2 stops         No info   7662  \n",
       "2    09:25  04:25 10 Jun      19h     2 stops         No info  13882  \n",
       "3    18:05         23:30   5h 25m      1 stop         No info   6218  \n",
       "4    16:50         21:35   4h 45m      1 stop         No info  13302  "
      ]
     },
     "execution_count": 11,
     "metadata": {},
     "output_type": "execute_result"
    }
   ],
   "source": [
    "df_train.head()"
   ]
  },
  {
   "cell_type": "markdown",
   "metadata": {},
   "source": [
    "# Data cleaning"
   ]
  },
  {
   "cell_type": "code",
   "execution_count": 12,
   "metadata": {},
   "outputs": [
    {
     "name": "stdout",
     "output_type": "stream",
     "text": [
      "Train set:\n",
      " No info                         8182\n",
      "In-flight meal not included     1926\n",
      "No check-in baggage included     318\n",
      "1 Long layover                    19\n",
      "Change airports                    7\n",
      "Business class                     4\n",
      "No Info                            3\n",
      "Red-eye flight                     1\n",
      "1 Short layover                    1\n",
      "2 Long layover                     1\n",
      "Name: Additional_Info, dtype: int64\n",
      "\n",
      "Prediction set:\n",
      " No info                         2148\n",
      "In-flight meal not included      444\n",
      "No check-in baggage included      76\n",
      "Business class                     1\n",
      "1 Long layover                     1\n",
      "Change airports                    1\n",
      "Name: Additional_Info, dtype: int64\n"
     ]
    }
   ],
   "source": [
    "print(\"Train set:\\n\",df_train[\"Additional_Info\"].value_counts())\n",
    "print(\"\\nPrediction set:\\n\",df_to_predict[\"Additional_Info\"].value_counts())"
   ]
  },
  {
   "cell_type": "code",
   "execution_count": 13,
   "metadata": {},
   "outputs": [],
   "source": [
    "# replace repeating value in train set\n",
    "df_train[\"Additional_Info\"] = df_train[\"Additional_Info\"].replace({'No Info': 'No info'})"
   ]
  },
  {
   "cell_type": "code",
   "execution_count": 14,
   "metadata": {},
   "outputs": [
    {
     "data": {
      "text/plain": [
       "No info                         2148\n",
       "In-flight meal not included      444\n",
       "No check-in baggage included      76\n",
       "Business class                     1\n",
       "1 Long layover                     1\n",
       "Change airports                    1\n",
       "Name: Additional_Info, dtype: int64"
      ]
     },
     "execution_count": 14,
     "metadata": {},
     "output_type": "execute_result"
    }
   ],
   "source": [
    "df_to_predict[\"Additional_Info\"].value_counts()"
   ]
  },
  {
   "cell_type": "code",
   "execution_count": 15,
   "metadata": {},
   "outputs": [
    {
     "data": {
      "text/plain": [
       "Cochin       1145\n",
       "Banglore      710\n",
       "Delhi         317\n",
       "New Delhi     238\n",
       "Hyderabad     186\n",
       "Kolkata        75\n",
       "Name: Destination, dtype: int64"
      ]
     },
     "execution_count": 15,
     "metadata": {},
     "output_type": "execute_result"
    }
   ],
   "source": [
    "df_to_predict[\"Destination\"].value_counts()"
   ]
  },
  {
   "cell_type": "code",
   "execution_count": 16,
   "metadata": {},
   "outputs": [],
   "source": [
    "# df_train[\"Destination\"] = df_train[\"Destination\"].replace({'New Delhi': 'Delhi'})\n",
    "# df_to_predict[\"Destination\"] = df_to_predict[\"Destination\"].replace({'New Delhi': 'Delhi'})"
   ]
  },
  {
   "cell_type": "code",
   "execution_count": 17,
   "metadata": {},
   "outputs": [],
   "source": [
    "# Assign values manually to Total_stops column since label encoder might assign \n",
    "# wrong values. Like it can assign value 1 to 'non-stop' or 2 to '3 stops' \n",
    "df_train.Total_Stops.replace(['1 stop', 'non-stop', '2 stops', '3 stops', '4 stops'], [1, 0, 2, 3, 4], inplace=True)\n",
    "df_to_predict.Total_Stops.replace(['1 stop', 'non-stop', '2 stops', '3 stops', '4 stops'], [1, 0, 2, 3, 4], inplace=True)\n",
    "df_train[\"Total_Stops\"] = df_train[\"Total_Stops\"].astype(int)\n",
    "df_to_predict[\"Total_Stops\"] = df_to_predict[\"Total_Stops\"].astype(int)"
   ]
  },
  {
   "cell_type": "code",
   "execution_count": 18,
   "metadata": {},
   "outputs": [
    {
     "data": {
      "text/plain": [
       "dtype('int32')"
      ]
     },
     "execution_count": 18,
     "metadata": {},
     "output_type": "execute_result"
    }
   ],
   "source": [
    "df_train[\"Total_Stops\"].dtype"
   ]
  },
  {
   "cell_type": "markdown",
   "metadata": {},
   "source": [
    "# Feature Engineering"
   ]
  },
  {
   "cell_type": "code",
   "execution_count": 19,
   "metadata": {},
   "outputs": [],
   "source": [
    "# feature engineering on Date_of_Journey column\n",
    "# Extract day and month of journey from the above column in both train and test dataset\n",
    "\n",
    "df_train[\"isWeekend\"] = ((pd.to_datetime(df_train[\"Date_of_Journey\"], format = '%d/%m/%Y').dt.dayofweek) // 5 == 1).astype(int)\n",
    "df_train[\"Day_of_Week\"] = pd.to_datetime(df_train[\"Date_of_Journey\"], format = '%d/%m/%Y').dt.day_name()\n",
    "df_train[\"Day_Of_Journey\"] = pd.to_datetime(df_train[\"Date_of_Journey\"], format = '%d/%m/%Y').dt.day\n",
    "df_train[\"Month_of_Journey\"] = pd.to_datetime(df_train[\"Date_of_Journey\"], format = '%d/%m/%Y').dt.month\n",
    "\n",
    "df_to_predict[\"isWeekend\"] = ((pd.to_datetime(df_to_predict[\"Date_of_Journey\"], format = '%d/%m/%Y').dt.dayofweek) // 5 == 1).astype(int)\n",
    "df_to_predict[\"Day_Of_Journey\"] = pd.to_datetime(df_to_predict[\"Date_of_Journey\"], format = '%d/%m/%Y').dt.day\n",
    "df_to_predict[\"Day_of_Week\"] = pd.to_datetime(df_to_predict[\"Date_of_Journey\"], format = '%d/%m/%Y').dt.day_name()\n",
    "df_to_predict[\"Month_of_Journey\"] = pd.to_datetime(df_to_predict[\"Date_of_Journey\"], format = '%d/%m/%Y').dt.month"
   ]
  },
  {
   "cell_type": "code",
   "execution_count": 20,
   "metadata": {},
   "outputs": [],
   "source": [
    "# Drop original feature from train and test dataset \n",
    "df_train.drop(labels = 'Date_of_Journey', axis = 1, inplace = True)\n",
    "df_to_predict.drop(labels = 'Date_of_Journey', axis = 1, inplace = True)"
   ]
  },
  {
   "cell_type": "code",
   "execution_count": 21,
   "metadata": {},
   "outputs": [],
   "source": [
    "# cleaning duration column in train dataset\n",
    "duration = list(df_train[\"Duration\"])\n",
    "\n",
    "for i in range(len(duration)) :\n",
    "    if len(duration[i].split()) != 2:\n",
    "        if 'h' in duration[i] :\n",
    "            duration[i] = duration[i].strip() + ' 0m'\n",
    "        elif 'm' in duration[i] :\n",
    "            duration[i] = '0h {}'.format(duration[i].strip())\n",
    "\n",
    "dur_hours = []\n",
    "dur_minutes = []  \n",
    "dur_seconds = []\n",
    "for i in range(len(duration)) :\n",
    "    dur_minutes.append(int(duration[i].split()[0][:-1])*60 + int(duration[i].split()[1][:-1]))\n",
    "    dur_seconds.append(int(duration[i].split()[0][:-1])*60*60 + int(duration[i].split()[1][:-1])*60)\n",
    "df_train[\"Duration_minutes\"] = dur_minutes\n",
    "df_train.drop([\"Duration\"], axis=1, inplace = True)"
   ]
  },
  {
   "cell_type": "code",
   "execution_count": 22,
   "metadata": {},
   "outputs": [],
   "source": [
    "# cleaning duration column in dataset to predict\n",
    "duration = list(df_to_predict[\"Duration\"])\n",
    "\n",
    "for i in range(len(duration)) :\n",
    "    if len(duration[i].split()) != 2:\n",
    "        if 'h' in duration[i] :\n",
    "            duration[i] = duration[i].strip() + ' 0m'\n",
    "        elif 'm' in duration[i] :\n",
    "            duration[i] = '0h {}'.format(duration[i].strip())\n",
    "\n",
    "dur_hours = []\n",
    "dur_minutes = []  \n",
    "dur_seconds = []\n",
    "for i in range(len(duration)) :\n",
    "    dur_minutes.append(int(duration[i].split()[0][:-1])*60 + int(duration[i].split()[1][:-1]))\n",
    "    dur_seconds.append(int(duration[i].split()[0][:-1])*60*60 + int(duration[i].split()[1][:-1])*60)\n",
    "df_to_predict[\"Duration_minutes\"] = dur_minutes\n",
    "df_to_predict.drop(labels = 'Duration', axis = 1, inplace = True)"
   ]
  },
  {
   "cell_type": "code",
   "execution_count": 23,
   "metadata": {},
   "outputs": [],
   "source": [
    "#Cleaning Departure and Arrival Times\n",
    "# Training Set\n",
    "df_train['Depart_Time_Hour'] = pd.to_datetime(df_train.Dep_Time).dt.hour\n",
    "df_train['Depart_Time_Minutes'] = pd.to_datetime(df_train.Dep_Time).dt.minute\n",
    "df_train.drop(labels = 'Dep_Time', axis = 1, inplace = True)\n",
    "df_train['Arr_Time_Hour'] = pd.to_datetime(df_train.Arrival_Time).dt.hour\n",
    "df_train['Arr_Time_Minutes'] = pd.to_datetime(df_train.Arrival_Time).dt.minute\n",
    "df_train.drop(labels = 'Arrival_Time', axis = 1, inplace = True)\n",
    "\n",
    "# Prediction Set\n",
    "df_to_predict['Depart_Time_Hour'] = pd.to_datetime(df_to_predict.Dep_Time).dt.hour\n",
    "df_to_predict['Depart_Time_Minutes'] = pd.to_datetime(df_to_predict.Dep_Time).dt.minute\n",
    "df_to_predict.drop(labels = 'Dep_Time', axis = 1, inplace = True)\n",
    "df_to_predict['Arr_Time_Hour'] = pd.to_datetime(df_to_predict.Arrival_Time).dt.hour\n",
    "df_to_predict['Arr_Time_Minutes'] = pd.to_datetime(df_to_predict.Arrival_Time).dt.minute\n",
    "df_to_predict.drop(labels = 'Arrival_Time', axis = 1, inplace = True)"
   ]
  },
  {
   "cell_type": "code",
   "execution_count": 24,
   "metadata": {},
   "outputs": [],
   "source": [
    "# bins = [-1, 3, 6, 9, 12, 15, 18, 21, 24]\n",
    "# labels = ['late evening','magical hours','early morning','morning','early afternoon','afternoon','early evening','evening']\n",
    "# df_train['part_of_day'] = pd.cut(df_train['Depart_Time_Hour'], bins=bins, labels=labels)\n",
    "# df_to_predict['part_of_day'] = pd.cut(df_to_predict['Depart_Time_Hour'], bins=bins, labels=labels)\n",
    "\n",
    "# df_train['part_of_day'] = df_train['part_of_day'].astype('category')\n",
    "# df_to_predict['part_of_day'] = df_to_predict['part_of_day'].astype('category')"
   ]
  },
  {
   "cell_type": "code",
   "execution_count": 25,
   "metadata": {},
   "outputs": [],
   "source": [
    "# df_train['part_of_day'].value_counts()"
   ]
  },
  {
   "cell_type": "code",
   "execution_count": 26,
   "metadata": {},
   "outputs": [],
   "source": [
    "# We created X and y columns for training dataset while y column for dataset to predict will\n",
    "# be generated by our model in final step\n",
    "X = df_train.drop([\"Price\"], axis=1)\n",
    "y = np.log1p(df_train[\"Price\"])\n",
    "# y = df_train[\"Price\"]\n",
    "X_to_predict = df_to_predict"
   ]
  },
  {
   "cell_type": "code",
   "execution_count": 27,
   "metadata": {},
   "outputs": [
    {
     "data": {
      "text/html": [
       "<div>\n",
       "<style scoped>\n",
       "    .dataframe tbody tr th:only-of-type {\n",
       "        vertical-align: middle;\n",
       "    }\n",
       "\n",
       "    .dataframe tbody tr th {\n",
       "        vertical-align: top;\n",
       "    }\n",
       "\n",
       "    .dataframe thead th {\n",
       "        text-align: right;\n",
       "    }\n",
       "</style>\n",
       "<table border=\"1\" class=\"dataframe\">\n",
       "  <thead>\n",
       "    <tr style=\"text-align: right;\">\n",
       "      <th></th>\n",
       "      <th>Airline</th>\n",
       "      <th>Source</th>\n",
       "      <th>Destination</th>\n",
       "      <th>Route</th>\n",
       "      <th>Total_Stops</th>\n",
       "      <th>Additional_Info</th>\n",
       "      <th>isWeekend</th>\n",
       "      <th>Day_of_Week</th>\n",
       "      <th>Day_Of_Journey</th>\n",
       "      <th>Month_of_Journey</th>\n",
       "      <th>Duration_minutes</th>\n",
       "      <th>Depart_Time_Hour</th>\n",
       "      <th>Depart_Time_Minutes</th>\n",
       "      <th>Arr_Time_Hour</th>\n",
       "      <th>Arr_Time_Minutes</th>\n",
       "    </tr>\n",
       "  </thead>\n",
       "  <tbody>\n",
       "    <tr>\n",
       "      <td>0</td>\n",
       "      <td>IndiGo</td>\n",
       "      <td>Banglore</td>\n",
       "      <td>New Delhi</td>\n",
       "      <td>BLR → DEL</td>\n",
       "      <td>0</td>\n",
       "      <td>No info</td>\n",
       "      <td>1</td>\n",
       "      <td>Sunday</td>\n",
       "      <td>24</td>\n",
       "      <td>3</td>\n",
       "      <td>170</td>\n",
       "      <td>22</td>\n",
       "      <td>20</td>\n",
       "      <td>1</td>\n",
       "      <td>10</td>\n",
       "    </tr>\n",
       "    <tr>\n",
       "      <td>1</td>\n",
       "      <td>Air India</td>\n",
       "      <td>Kolkata</td>\n",
       "      <td>Banglore</td>\n",
       "      <td>CCU → IXR → BBI → BLR</td>\n",
       "      <td>2</td>\n",
       "      <td>No info</td>\n",
       "      <td>0</td>\n",
       "      <td>Wednesday</td>\n",
       "      <td>1</td>\n",
       "      <td>5</td>\n",
       "      <td>445</td>\n",
       "      <td>5</td>\n",
       "      <td>50</td>\n",
       "      <td>13</td>\n",
       "      <td>15</td>\n",
       "    </tr>\n",
       "    <tr>\n",
       "      <td>2</td>\n",
       "      <td>Jet Airways</td>\n",
       "      <td>Delhi</td>\n",
       "      <td>Cochin</td>\n",
       "      <td>DEL → LKO → BOM → COK</td>\n",
       "      <td>2</td>\n",
       "      <td>No info</td>\n",
       "      <td>1</td>\n",
       "      <td>Sunday</td>\n",
       "      <td>9</td>\n",
       "      <td>6</td>\n",
       "      <td>1140</td>\n",
       "      <td>9</td>\n",
       "      <td>25</td>\n",
       "      <td>4</td>\n",
       "      <td>25</td>\n",
       "    </tr>\n",
       "    <tr>\n",
       "      <td>3</td>\n",
       "      <td>IndiGo</td>\n",
       "      <td>Kolkata</td>\n",
       "      <td>Banglore</td>\n",
       "      <td>CCU → NAG → BLR</td>\n",
       "      <td>1</td>\n",
       "      <td>No info</td>\n",
       "      <td>1</td>\n",
       "      <td>Sunday</td>\n",
       "      <td>12</td>\n",
       "      <td>5</td>\n",
       "      <td>325</td>\n",
       "      <td>18</td>\n",
       "      <td>5</td>\n",
       "      <td>23</td>\n",
       "      <td>30</td>\n",
       "    </tr>\n",
       "    <tr>\n",
       "      <td>4</td>\n",
       "      <td>IndiGo</td>\n",
       "      <td>Banglore</td>\n",
       "      <td>New Delhi</td>\n",
       "      <td>BLR → NAG → DEL</td>\n",
       "      <td>1</td>\n",
       "      <td>No info</td>\n",
       "      <td>0</td>\n",
       "      <td>Friday</td>\n",
       "      <td>1</td>\n",
       "      <td>3</td>\n",
       "      <td>285</td>\n",
       "      <td>16</td>\n",
       "      <td>50</td>\n",
       "      <td>21</td>\n",
       "      <td>35</td>\n",
       "    </tr>\n",
       "  </tbody>\n",
       "</table>\n",
       "</div>"
      ],
      "text/plain": [
       "       Airline    Source Destination                  Route  Total_Stops  \\\n",
       "0       IndiGo  Banglore   New Delhi              BLR → DEL            0   \n",
       "1    Air India   Kolkata    Banglore  CCU → IXR → BBI → BLR            2   \n",
       "2  Jet Airways     Delhi      Cochin  DEL → LKO → BOM → COK            2   \n",
       "3       IndiGo   Kolkata    Banglore        CCU → NAG → BLR            1   \n",
       "4       IndiGo  Banglore   New Delhi        BLR → NAG → DEL            1   \n",
       "\n",
       "  Additional_Info  isWeekend Day_of_Week  Day_Of_Journey  Month_of_Journey  \\\n",
       "0         No info          1      Sunday              24                 3   \n",
       "1         No info          0   Wednesday               1                 5   \n",
       "2         No info          1      Sunday               9                 6   \n",
       "3         No info          1      Sunday              12                 5   \n",
       "4         No info          0      Friday               1                 3   \n",
       "\n",
       "   Duration_minutes  Depart_Time_Hour  Depart_Time_Minutes  Arr_Time_Hour  \\\n",
       "0               170                22                   20              1   \n",
       "1               445                 5                   50             13   \n",
       "2              1140                 9                   25              4   \n",
       "3               325                18                    5             23   \n",
       "4               285                16                   50             21   \n",
       "\n",
       "   Arr_Time_Minutes  \n",
       "0                10  \n",
       "1                15  \n",
       "2                25  \n",
       "3                30  \n",
       "4                35  "
      ]
     },
     "execution_count": 27,
     "metadata": {},
     "output_type": "execute_result"
    }
   ],
   "source": [
    "X.head()"
   ]
  },
  {
   "cell_type": "code",
   "execution_count": 28,
   "metadata": {},
   "outputs": [],
   "source": [
    "#Separate categorical and numerical columns in dataframe\n",
    "X_categorical = X.select_dtypes(exclude=['int', 'float'])\n",
    "X_numerical = X.select_dtypes(include=['int', 'float'])\n",
    "\n",
    "X_to_predict_categorical = X_to_predict.select_dtypes(exclude=['int', 'float'])\n",
    "X_to_predict_numerical = X_to_predict.select_dtypes(include=['int', 'float'])"
   ]
  },
  {
   "cell_type": "code",
   "execution_count": 29,
   "metadata": {},
   "outputs": [],
   "source": [
    "# Check if categorical columns are assigned properly\n",
    "X_categorical.head()\n",
    "\n",
    "#Create a back up copy specifically for plotting graphs\n",
    "X_numerical_graph = X_numerical.copy()\n",
    "X_categorical_graph = X_categorical.copy()"
   ]
  },
  {
   "cell_type": "code",
   "execution_count": 30,
   "metadata": {},
   "outputs": [
    {
     "data": {
      "text/plain": [
       "(10462, 13)"
      ]
     },
     "execution_count": 30,
     "metadata": {},
     "output_type": "execute_result"
    }
   ],
   "source": [
    "#Check if numerical columns are assigned properly\n",
    "X_categorical.shape"
   ]
  },
  {
   "cell_type": "code",
   "execution_count": 31,
   "metadata": {},
   "outputs": [
    {
     "data": {
      "text/html": [
       "<div>\n",
       "<style scoped>\n",
       "    .dataframe tbody tr th:only-of-type {\n",
       "        vertical-align: middle;\n",
       "    }\n",
       "\n",
       "    .dataframe tbody tr th {\n",
       "        vertical-align: top;\n",
       "    }\n",
       "\n",
       "    .dataframe thead th {\n",
       "        text-align: right;\n",
       "    }\n",
       "</style>\n",
       "<table border=\"1\" class=\"dataframe\">\n",
       "  <thead>\n",
       "    <tr style=\"text-align: right;\">\n",
       "      <th></th>\n",
       "      <th>Total_Stops</th>\n",
       "      <th>isWeekend</th>\n",
       "    </tr>\n",
       "  </thead>\n",
       "  <tbody>\n",
       "    <tr>\n",
       "      <td>0</td>\n",
       "      <td>0</td>\n",
       "      <td>1</td>\n",
       "    </tr>\n",
       "    <tr>\n",
       "      <td>1</td>\n",
       "      <td>2</td>\n",
       "      <td>0</td>\n",
       "    </tr>\n",
       "    <tr>\n",
       "      <td>2</td>\n",
       "      <td>2</td>\n",
       "      <td>1</td>\n",
       "    </tr>\n",
       "    <tr>\n",
       "      <td>3</td>\n",
       "      <td>1</td>\n",
       "      <td>1</td>\n",
       "    </tr>\n",
       "    <tr>\n",
       "      <td>4</td>\n",
       "      <td>1</td>\n",
       "      <td>0</td>\n",
       "    </tr>\n",
       "  </tbody>\n",
       "</table>\n",
       "</div>"
      ],
      "text/plain": [
       "   Total_Stops  isWeekend\n",
       "0            0          1\n",
       "1            2          0\n",
       "2            2          1\n",
       "3            1          1\n",
       "4            1          0"
      ]
     },
     "execution_count": 31,
     "metadata": {},
     "output_type": "execute_result"
    }
   ],
   "source": [
    "X_numerical.head()"
   ]
  },
  {
   "cell_type": "code",
   "execution_count": 32,
   "metadata": {},
   "outputs": [
    {
     "name": "stderr",
     "output_type": "stream",
     "text": [
      "C:\\Users\\Shubham\\Anaconda3\\lib\\site-packages\\pandas\\core\\generic.py:6786: SettingWithCopyWarning: \n",
      "A value is trying to be set on a copy of a slice from a DataFrame\n",
      "\n",
      "See the caveats in the documentation: http://pandas.pydata.org/pandas-docs/stable/user_guide/indexing.html#returning-a-view-versus-a-copy\n",
      "  self._update_inplace(new_data)\n"
     ]
    }
   ],
   "source": [
    "#We replace values based on insights gathered from graphs generated in further steps\n",
    "X_categorical[\"Airline\"].replace(to_replace={'Multiple carriers Premium economy':'Other', \n",
    "                                                        'Jet Airways Business':'Other',\n",
    "                                                        'Vistara Premium economy':'Other',\n",
    "                                                        'Trujet':'Other'\n",
    "                                                   },    \n",
    "                                        inplace=True)\n",
    "\n",
    "X_to_predict_categorical[\"Airline\"].replace(to_replace={'Multiple carriers Premium economy':'Other', \n",
    "                                                        'Jet Airways Business':'Other',\n",
    "                                                        'Vistara Premium economy':'Other',\n",
    "                                                        'Trujet':'Other'\n",
    "                                                   },    \n",
    "                                        inplace=True)"
   ]
  },
  {
   "cell_type": "code",
   "execution_count": 33,
   "metadata": {},
   "outputs": [],
   "source": [
    "#We replace values based on insights gathered from graphs generated in further steps\n",
    "X_categorical[\"Additional_Info\"].replace(to_replace={'Change airports':'Other', \n",
    "                                                        'Business class':'Other',\n",
    "                                                        '1 Short layover':'Other',\n",
    "                                                        'Red-eye flight':'Other',\n",
    "                                                        '2 Long layover':'Other',   \n",
    "                                                   },    \n",
    "                                        inplace=True)\n",
    "X_to_predict_categorical[\"Additional_Info\"].replace(to_replace={'Change airports':'Other', \n",
    "                                                        'Business class':'Other',\n",
    "                                                        '1 Short layover':'Other',\n",
    "                                                        'Red-eye flight':'Other',\n",
    "                                                        '2 Long layover':'Other',   \n",
    "                                                   },    \n",
    "                                        inplace=True)"
   ]
  },
  {
   "cell_type": "code",
   "execution_count": 34,
   "metadata": {},
   "outputs": [
    {
     "data": {
      "text/html": [
       "<div>\n",
       "<style scoped>\n",
       "    .dataframe tbody tr th:only-of-type {\n",
       "        vertical-align: middle;\n",
       "    }\n",
       "\n",
       "    .dataframe tbody tr th {\n",
       "        vertical-align: top;\n",
       "    }\n",
       "\n",
       "    .dataframe thead th {\n",
       "        text-align: right;\n",
       "    }\n",
       "</style>\n",
       "<table border=\"1\" class=\"dataframe\">\n",
       "  <thead>\n",
       "    <tr style=\"text-align: right;\">\n",
       "      <th></th>\n",
       "      <th>Airline</th>\n",
       "      <th>Source</th>\n",
       "      <th>Destination</th>\n",
       "      <th>Route</th>\n",
       "      <th>Additional_Info</th>\n",
       "      <th>Day_of_Week</th>\n",
       "      <th>Day_Of_Journey</th>\n",
       "      <th>Month_of_Journey</th>\n",
       "      <th>Duration_minutes</th>\n",
       "      <th>Depart_Time_Hour</th>\n",
       "      <th>Depart_Time_Minutes</th>\n",
       "      <th>Arr_Time_Hour</th>\n",
       "      <th>Arr_Time_Minutes</th>\n",
       "    </tr>\n",
       "  </thead>\n",
       "  <tbody>\n",
       "    <tr>\n",
       "      <td>0</td>\n",
       "      <td>IndiGo</td>\n",
       "      <td>Banglore</td>\n",
       "      <td>New Delhi</td>\n",
       "      <td>BLR → DEL</td>\n",
       "      <td>No info</td>\n",
       "      <td>Sunday</td>\n",
       "      <td>24</td>\n",
       "      <td>3</td>\n",
       "      <td>170</td>\n",
       "      <td>22</td>\n",
       "      <td>20</td>\n",
       "      <td>1</td>\n",
       "      <td>10</td>\n",
       "    </tr>\n",
       "    <tr>\n",
       "      <td>1</td>\n",
       "      <td>Air India</td>\n",
       "      <td>Kolkata</td>\n",
       "      <td>Banglore</td>\n",
       "      <td>CCU → IXR → BBI → BLR</td>\n",
       "      <td>No info</td>\n",
       "      <td>Wednesday</td>\n",
       "      <td>1</td>\n",
       "      <td>5</td>\n",
       "      <td>445</td>\n",
       "      <td>5</td>\n",
       "      <td>50</td>\n",
       "      <td>13</td>\n",
       "      <td>15</td>\n",
       "    </tr>\n",
       "    <tr>\n",
       "      <td>2</td>\n",
       "      <td>Jet Airways</td>\n",
       "      <td>Delhi</td>\n",
       "      <td>Cochin</td>\n",
       "      <td>DEL → LKO → BOM → COK</td>\n",
       "      <td>No info</td>\n",
       "      <td>Sunday</td>\n",
       "      <td>9</td>\n",
       "      <td>6</td>\n",
       "      <td>1140</td>\n",
       "      <td>9</td>\n",
       "      <td>25</td>\n",
       "      <td>4</td>\n",
       "      <td>25</td>\n",
       "    </tr>\n",
       "    <tr>\n",
       "      <td>3</td>\n",
       "      <td>IndiGo</td>\n",
       "      <td>Kolkata</td>\n",
       "      <td>Banglore</td>\n",
       "      <td>CCU → NAG → BLR</td>\n",
       "      <td>No info</td>\n",
       "      <td>Sunday</td>\n",
       "      <td>12</td>\n",
       "      <td>5</td>\n",
       "      <td>325</td>\n",
       "      <td>18</td>\n",
       "      <td>5</td>\n",
       "      <td>23</td>\n",
       "      <td>30</td>\n",
       "    </tr>\n",
       "    <tr>\n",
       "      <td>4</td>\n",
       "      <td>IndiGo</td>\n",
       "      <td>Banglore</td>\n",
       "      <td>New Delhi</td>\n",
       "      <td>BLR → NAG → DEL</td>\n",
       "      <td>No info</td>\n",
       "      <td>Friday</td>\n",
       "      <td>1</td>\n",
       "      <td>3</td>\n",
       "      <td>285</td>\n",
       "      <td>16</td>\n",
       "      <td>50</td>\n",
       "      <td>21</td>\n",
       "      <td>35</td>\n",
       "    </tr>\n",
       "  </tbody>\n",
       "</table>\n",
       "</div>"
      ],
      "text/plain": [
       "       Airline    Source Destination                  Route Additional_Info  \\\n",
       "0       IndiGo  Banglore   New Delhi              BLR → DEL         No info   \n",
       "1    Air India   Kolkata    Banglore  CCU → IXR → BBI → BLR         No info   \n",
       "2  Jet Airways     Delhi      Cochin  DEL → LKO → BOM → COK         No info   \n",
       "3       IndiGo   Kolkata    Banglore        CCU → NAG → BLR         No info   \n",
       "4       IndiGo  Banglore   New Delhi        BLR → NAG → DEL         No info   \n",
       "\n",
       "  Day_of_Week  Day_Of_Journey  Month_of_Journey  Duration_minutes  \\\n",
       "0      Sunday              24                 3               170   \n",
       "1   Wednesday               1                 5               445   \n",
       "2      Sunday               9                 6              1140   \n",
       "3      Sunday              12                 5               325   \n",
       "4      Friday               1                 3               285   \n",
       "\n",
       "   Depart_Time_Hour  Depart_Time_Minutes  Arr_Time_Hour  Arr_Time_Minutes  \n",
       "0                22                   20              1                10  \n",
       "1                 5                   50             13                15  \n",
       "2                 9                   25              4                25  \n",
       "3                18                    5             23                30  \n",
       "4                16                   50             21                35  "
      ]
     },
     "execution_count": 34,
     "metadata": {},
     "output_type": "execute_result"
    }
   ],
   "source": [
    "X_categorical.head()"
   ]
  },
  {
   "cell_type": "code",
   "execution_count": 35,
   "metadata": {},
   "outputs": [
    {
     "data": {
      "text/plain": [
       "No info                         8185\n",
       "In-flight meal not included     1926\n",
       "No check-in baggage included     318\n",
       "1 Long layover                    19\n",
       "Other                             14\n",
       "Name: Additional_Info, dtype: int64"
      ]
     },
     "execution_count": 35,
     "metadata": {},
     "output_type": "execute_result"
    }
   ],
   "source": [
    "X_categorical[\"Additional_Info\"].value_counts()"
   ]
  },
  {
   "cell_type": "code",
   "execution_count": 36,
   "metadata": {},
   "outputs": [
    {
     "data": {
      "text/html": [
       "<div>\n",
       "<style scoped>\n",
       "    .dataframe tbody tr th:only-of-type {\n",
       "        vertical-align: middle;\n",
       "    }\n",
       "\n",
       "    .dataframe tbody tr th {\n",
       "        vertical-align: top;\n",
       "    }\n",
       "\n",
       "    .dataframe thead th {\n",
       "        text-align: right;\n",
       "    }\n",
       "</style>\n",
       "<table border=\"1\" class=\"dataframe\">\n",
       "  <thead>\n",
       "    <tr style=\"text-align: right;\">\n",
       "      <th></th>\n",
       "      <th>Airline</th>\n",
       "      <th>Source</th>\n",
       "      <th>Destination</th>\n",
       "      <th>Route</th>\n",
       "      <th>Additional_Info</th>\n",
       "      <th>Day_of_Week</th>\n",
       "      <th>Day_Of_Journey</th>\n",
       "      <th>Month_of_Journey</th>\n",
       "      <th>Duration_minutes</th>\n",
       "      <th>Depart_Time_Hour</th>\n",
       "      <th>Depart_Time_Minutes</th>\n",
       "      <th>Arr_Time_Hour</th>\n",
       "      <th>Arr_Time_Minutes</th>\n",
       "    </tr>\n",
       "  </thead>\n",
       "  <tbody>\n",
       "    <tr>\n",
       "      <td>0</td>\n",
       "      <td>IndiGo</td>\n",
       "      <td>Banglore</td>\n",
       "      <td>New Delhi</td>\n",
       "      <td>BLR → DEL</td>\n",
       "      <td>No info</td>\n",
       "      <td>Sunday</td>\n",
       "      <td>24</td>\n",
       "      <td>3</td>\n",
       "      <td>170</td>\n",
       "      <td>22</td>\n",
       "      <td>20</td>\n",
       "      <td>1</td>\n",
       "      <td>10</td>\n",
       "    </tr>\n",
       "    <tr>\n",
       "      <td>1</td>\n",
       "      <td>Air India</td>\n",
       "      <td>Kolkata</td>\n",
       "      <td>Banglore</td>\n",
       "      <td>CCU → IXR → BBI → BLR</td>\n",
       "      <td>No info</td>\n",
       "      <td>Wednesday</td>\n",
       "      <td>1</td>\n",
       "      <td>5</td>\n",
       "      <td>445</td>\n",
       "      <td>5</td>\n",
       "      <td>50</td>\n",
       "      <td>13</td>\n",
       "      <td>15</td>\n",
       "    </tr>\n",
       "    <tr>\n",
       "      <td>2</td>\n",
       "      <td>Jet Airways</td>\n",
       "      <td>Delhi</td>\n",
       "      <td>Cochin</td>\n",
       "      <td>DEL → LKO → BOM → COK</td>\n",
       "      <td>No info</td>\n",
       "      <td>Sunday</td>\n",
       "      <td>9</td>\n",
       "      <td>6</td>\n",
       "      <td>1140</td>\n",
       "      <td>9</td>\n",
       "      <td>25</td>\n",
       "      <td>4</td>\n",
       "      <td>25</td>\n",
       "    </tr>\n",
       "    <tr>\n",
       "      <td>3</td>\n",
       "      <td>IndiGo</td>\n",
       "      <td>Kolkata</td>\n",
       "      <td>Banglore</td>\n",
       "      <td>CCU → NAG → BLR</td>\n",
       "      <td>No info</td>\n",
       "      <td>Sunday</td>\n",
       "      <td>12</td>\n",
       "      <td>5</td>\n",
       "      <td>325</td>\n",
       "      <td>18</td>\n",
       "      <td>5</td>\n",
       "      <td>23</td>\n",
       "      <td>30</td>\n",
       "    </tr>\n",
       "    <tr>\n",
       "      <td>4</td>\n",
       "      <td>IndiGo</td>\n",
       "      <td>Banglore</td>\n",
       "      <td>New Delhi</td>\n",
       "      <td>BLR → NAG → DEL</td>\n",
       "      <td>No info</td>\n",
       "      <td>Friday</td>\n",
       "      <td>1</td>\n",
       "      <td>3</td>\n",
       "      <td>285</td>\n",
       "      <td>16</td>\n",
       "      <td>50</td>\n",
       "      <td>21</td>\n",
       "      <td>35</td>\n",
       "    </tr>\n",
       "  </tbody>\n",
       "</table>\n",
       "</div>"
      ],
      "text/plain": [
       "       Airline    Source Destination                  Route Additional_Info  \\\n",
       "0       IndiGo  Banglore   New Delhi              BLR → DEL         No info   \n",
       "1    Air India   Kolkata    Banglore  CCU → IXR → BBI → BLR         No info   \n",
       "2  Jet Airways     Delhi      Cochin  DEL → LKO → BOM → COK         No info   \n",
       "3       IndiGo   Kolkata    Banglore        CCU → NAG → BLR         No info   \n",
       "4       IndiGo  Banglore   New Delhi        BLR → NAG → DEL         No info   \n",
       "\n",
       "  Day_of_Week  Day_Of_Journey  Month_of_Journey  Duration_minutes  \\\n",
       "0      Sunday              24                 3               170   \n",
       "1   Wednesday               1                 5               445   \n",
       "2      Sunday               9                 6              1140   \n",
       "3      Sunday              12                 5               325   \n",
       "4      Friday               1                 3               285   \n",
       "\n",
       "   Depart_Time_Hour  Depart_Time_Minutes  Arr_Time_Hour  Arr_Time_Minutes  \n",
       "0                22                   20              1                10  \n",
       "1                 5                   50             13                15  \n",
       "2                 9                   25              4                25  \n",
       "3                18                    5             23                30  \n",
       "4                16                   50             21                35  "
      ]
     },
     "execution_count": 36,
     "metadata": {},
     "output_type": "execute_result"
    }
   ],
   "source": [
    "X_categorical.head()"
   ]
  },
  {
   "cell_type": "code",
   "execution_count": 37,
   "metadata": {},
   "outputs": [],
   "source": [
    "#Label encode and hot encode categorical columns\n",
    "from sklearn.preprocessing import LabelEncoder\n",
    "le = LabelEncoder()\n",
    "X_categorical = X_categorical.apply(LabelEncoder().fit_transform)\n",
    "X_to_predict_categorical = X_to_predict_categorical.apply(LabelEncoder().fit_transform)"
   ]
  },
  {
   "cell_type": "code",
   "execution_count": 38,
   "metadata": {},
   "outputs": [
    {
     "data": {
      "text/html": [
       "<div>\n",
       "<style scoped>\n",
       "    .dataframe tbody tr th:only-of-type {\n",
       "        vertical-align: middle;\n",
       "    }\n",
       "\n",
       "    .dataframe tbody tr th {\n",
       "        vertical-align: top;\n",
       "    }\n",
       "\n",
       "    .dataframe thead th {\n",
       "        text-align: right;\n",
       "    }\n",
       "</style>\n",
       "<table border=\"1\" class=\"dataframe\">\n",
       "  <thead>\n",
       "    <tr style=\"text-align: right;\">\n",
       "      <th></th>\n",
       "      <th>Airline</th>\n",
       "      <th>Source</th>\n",
       "      <th>Destination</th>\n",
       "      <th>Route</th>\n",
       "      <th>Additional_Info</th>\n",
       "      <th>Day_of_Week</th>\n",
       "      <th>Day_Of_Journey</th>\n",
       "      <th>Month_of_Journey</th>\n",
       "      <th>Duration_minutes</th>\n",
       "      <th>Depart_Time_Hour</th>\n",
       "      <th>Depart_Time_Minutes</th>\n",
       "      <th>Arr_Time_Hour</th>\n",
       "      <th>Arr_Time_Minutes</th>\n",
       "    </tr>\n",
       "  </thead>\n",
       "  <tbody>\n",
       "    <tr>\n",
       "      <td>0</td>\n",
       "      <td>3</td>\n",
       "      <td>0</td>\n",
       "      <td>5</td>\n",
       "      <td>18</td>\n",
       "      <td>3</td>\n",
       "      <td>3</td>\n",
       "      <td>8</td>\n",
       "      <td>0</td>\n",
       "      <td>13</td>\n",
       "      <td>22</td>\n",
       "      <td>4</td>\n",
       "      <td>1</td>\n",
       "      <td>2</td>\n",
       "    </tr>\n",
       "    <tr>\n",
       "      <td>1</td>\n",
       "      <td>1</td>\n",
       "      <td>3</td>\n",
       "      <td>0</td>\n",
       "      <td>84</td>\n",
       "      <td>3</td>\n",
       "      <td>6</td>\n",
       "      <td>0</td>\n",
       "      <td>2</td>\n",
       "      <td>65</td>\n",
       "      <td>5</td>\n",
       "      <td>10</td>\n",
       "      <td>13</td>\n",
       "      <td>3</td>\n",
       "    </tr>\n",
       "    <tr>\n",
       "      <td>2</td>\n",
       "      <td>4</td>\n",
       "      <td>2</td>\n",
       "      <td>1</td>\n",
       "      <td>118</td>\n",
       "      <td>3</td>\n",
       "      <td>3</td>\n",
       "      <td>3</td>\n",
       "      <td>3</td>\n",
       "      <td>202</td>\n",
       "      <td>9</td>\n",
       "      <td>5</td>\n",
       "      <td>4</td>\n",
       "      <td>5</td>\n",
       "    </tr>\n",
       "    <tr>\n",
       "      <td>3</td>\n",
       "      <td>3</td>\n",
       "      <td>3</td>\n",
       "      <td>0</td>\n",
       "      <td>91</td>\n",
       "      <td>3</td>\n",
       "      <td>3</td>\n",
       "      <td>4</td>\n",
       "      <td>2</td>\n",
       "      <td>41</td>\n",
       "      <td>18</td>\n",
       "      <td>1</td>\n",
       "      <td>23</td>\n",
       "      <td>6</td>\n",
       "    </tr>\n",
       "    <tr>\n",
       "      <td>4</td>\n",
       "      <td>3</td>\n",
       "      <td>0</td>\n",
       "      <td>5</td>\n",
       "      <td>29</td>\n",
       "      <td>3</td>\n",
       "      <td>0</td>\n",
       "      <td>0</td>\n",
       "      <td>0</td>\n",
       "      <td>33</td>\n",
       "      <td>16</td>\n",
       "      <td>10</td>\n",
       "      <td>21</td>\n",
       "      <td>7</td>\n",
       "    </tr>\n",
       "  </tbody>\n",
       "</table>\n",
       "</div>"
      ],
      "text/plain": [
       "   Airline  Source  Destination  Route  Additional_Info  Day_of_Week  \\\n",
       "0        3       0            5     18                3            3   \n",
       "1        1       3            0     84                3            6   \n",
       "2        4       2            1    118                3            3   \n",
       "3        3       3            0     91                3            3   \n",
       "4        3       0            5     29                3            0   \n",
       "\n",
       "   Day_Of_Journey  Month_of_Journey  Duration_minutes  Depart_Time_Hour  \\\n",
       "0               8                 0                13                22   \n",
       "1               0                 2                65                 5   \n",
       "2               3                 3               202                 9   \n",
       "3               4                 2                41                18   \n",
       "4               0                 0                33                16   \n",
       "\n",
       "   Depart_Time_Minutes  Arr_Time_Hour  Arr_Time_Minutes  \n",
       "0                    4              1                 2  \n",
       "1                   10             13                 3  \n",
       "2                    5              4                 5  \n",
       "3                    1             23                 6  \n",
       "4                   10             21                 7  "
      ]
     },
     "execution_count": 38,
     "metadata": {},
     "output_type": "execute_result"
    }
   ],
   "source": [
    "#Check values after label encoding\n",
    "X_categorical.head()"
   ]
  },
  {
   "cell_type": "code",
   "execution_count": 39,
   "metadata": {},
   "outputs": [
    {
     "data": {
      "text/html": [
       "<div>\n",
       "<style scoped>\n",
       "    .dataframe tbody tr th:only-of-type {\n",
       "        vertical-align: middle;\n",
       "    }\n",
       "\n",
       "    .dataframe tbody tr th {\n",
       "        vertical-align: top;\n",
       "    }\n",
       "\n",
       "    .dataframe thead th {\n",
       "        text-align: right;\n",
       "    }\n",
       "</style>\n",
       "<table border=\"1\" class=\"dataframe\">\n",
       "  <thead>\n",
       "    <tr style=\"text-align: right;\">\n",
       "      <th></th>\n",
       "      <th>Total_Stops</th>\n",
       "      <th>isWeekend</th>\n",
       "    </tr>\n",
       "  </thead>\n",
       "  <tbody>\n",
       "    <tr>\n",
       "      <td>0</td>\n",
       "      <td>0</td>\n",
       "      <td>1</td>\n",
       "    </tr>\n",
       "    <tr>\n",
       "      <td>1</td>\n",
       "      <td>2</td>\n",
       "      <td>0</td>\n",
       "    </tr>\n",
       "    <tr>\n",
       "      <td>2</td>\n",
       "      <td>2</td>\n",
       "      <td>1</td>\n",
       "    </tr>\n",
       "    <tr>\n",
       "      <td>3</td>\n",
       "      <td>1</td>\n",
       "      <td>1</td>\n",
       "    </tr>\n",
       "    <tr>\n",
       "      <td>4</td>\n",
       "      <td>1</td>\n",
       "      <td>0</td>\n",
       "    </tr>\n",
       "  </tbody>\n",
       "</table>\n",
       "</div>"
      ],
      "text/plain": [
       "   Total_Stops  isWeekend\n",
       "0            0          1\n",
       "1            2          0\n",
       "2            2          1\n",
       "3            1          1\n",
       "4            1          0"
      ]
     },
     "execution_count": 39,
     "metadata": {},
     "output_type": "execute_result"
    }
   ],
   "source": [
    "#Check values in numerical columns\n",
    "X_numerical.head()"
   ]
  },
  {
   "cell_type": "code",
   "execution_count": 40,
   "metadata": {},
   "outputs": [
    {
     "data": {
      "text/html": [
       "<div>\n",
       "<style scoped>\n",
       "    .dataframe tbody tr th:only-of-type {\n",
       "        vertical-align: middle;\n",
       "    }\n",
       "\n",
       "    .dataframe tbody tr th {\n",
       "        vertical-align: top;\n",
       "    }\n",
       "\n",
       "    .dataframe thead th {\n",
       "        text-align: right;\n",
       "    }\n",
       "</style>\n",
       "<table border=\"1\" class=\"dataframe\">\n",
       "  <thead>\n",
       "    <tr style=\"text-align: right;\">\n",
       "      <th></th>\n",
       "      <th>Total_Stops</th>\n",
       "      <th>isWeekend</th>\n",
       "    </tr>\n",
       "  </thead>\n",
       "  <tbody>\n",
       "    <tr>\n",
       "      <td>0</td>\n",
       "      <td>0</td>\n",
       "      <td>1</td>\n",
       "    </tr>\n",
       "    <tr>\n",
       "      <td>1</td>\n",
       "      <td>2</td>\n",
       "      <td>0</td>\n",
       "    </tr>\n",
       "    <tr>\n",
       "      <td>2</td>\n",
       "      <td>2</td>\n",
       "      <td>1</td>\n",
       "    </tr>\n",
       "    <tr>\n",
       "      <td>3</td>\n",
       "      <td>1</td>\n",
       "      <td>1</td>\n",
       "    </tr>\n",
       "    <tr>\n",
       "      <td>4</td>\n",
       "      <td>1</td>\n",
       "      <td>0</td>\n",
       "    </tr>\n",
       "  </tbody>\n",
       "</table>\n",
       "</div>"
      ],
      "text/plain": [
       "   Total_Stops  isWeekend\n",
       "0            0          1\n",
       "1            2          0\n",
       "2            2          1\n",
       "3            1          1\n",
       "4            1          0"
      ]
     },
     "execution_count": 40,
     "metadata": {},
     "output_type": "execute_result"
    }
   ],
   "source": [
    "X_numerical.head()"
   ]
  },
  {
   "cell_type": "code",
   "execution_count": 41,
   "metadata": {},
   "outputs": [
    {
     "name": "stdout",
     "output_type": "stream",
     "text": [
      "\n",
      "Skew in numerical features: \n",
      "\n",
      "There are 2 skewed numerical features to Box Cox transform\n"
     ]
    }
   ],
   "source": [
    "# Check the skew of all numerical features\n",
    "from scipy.stats import skew\n",
    "skewed_feats = X_numerical.apply(lambda x: skew(x.dropna())).sort_values(ascending=False)\n",
    "print(\"\\nSkew in numerical features: \\n\")\n",
    "skewness = pd.DataFrame({'Skew' :skewed_feats})\n",
    "skewness.head(10)\n",
    "skewness = skewness[abs(skewness) > 0.75]\n",
    "print(\"There are {} skewed numerical features to Box Cox transform\".format(skewness.shape[0]))"
   ]
  },
  {
   "cell_type": "code",
   "execution_count": 42,
   "metadata": {},
   "outputs": [
    {
     "name": "stderr",
     "output_type": "stream",
     "text": [
      "C:\\Users\\Shubham\\Anaconda3\\lib\\site-packages\\ipykernel_launcher.py:32: SettingWithCopyWarning: \n",
      "A value is trying to be set on a copy of a slice from a DataFrame.\n",
      "Try using .loc[row_indexer,col_indexer] = value instead\n",
      "\n",
      "See the caveats in the documentation: http://pandas.pydata.org/pandas-docs/stable/user_guide/indexing.html#returning-a-view-versus-a-copy\n",
      "C:\\Users\\Shubham\\Anaconda3\\lib\\site-packages\\ipykernel_launcher.py:33: SettingWithCopyWarning: \n",
      "A value is trying to be set on a copy of a slice from a DataFrame.\n",
      "Try using .loc[row_indexer,col_indexer] = value instead\n",
      "\n",
      "See the caveats in the documentation: http://pandas.pydata.org/pandas-docs/stable/user_guide/indexing.html#returning-a-view-versus-a-copy\n"
     ]
    }
   ],
   "source": [
    "from sklearn.preprocessing import StandardScaler\n",
    "from sklearn.preprocessing import MinMaxScaler\n",
    "cols_train = list(X_numerical.columns)\n",
    "index_train = X_numerical.index.tolist()\n",
    "cols_test = list(X_to_predict_numerical.columns)\n",
    "index_test = X_to_predict_numerical.index.tolist()\n",
    "\n",
    "# We can also use standard scaler if required...The code is commented for now\n",
    "# Get column names first\n",
    "X_numerical_names = X_numerical.columns\n",
    "X_numerical_index = X_numerical.index\n",
    "X_to_predict_numerical_names = X_to_predict_numerical.columns\n",
    "# Create the Scaler object\n",
    "# scaler = StandardScaler()\n",
    "# Fit your data on the scaler object\n",
    "# scaled_df = scaler.fit_transform(X_numerical)\n",
    "# X_numerical = pd.DataFrame(scaled_df, columns=X_numerical_names, index=index_train)\n",
    "# scaled_df_to_predict = scaler.fit_transform(X_to_predict_numerical)\n",
    "# X_to_predict_numerical = pd.DataFrame(scaled_df_to_predict, columns=X_to_predict_numerical_names, index = index_test)\n",
    "\n",
    "# mmx = MinMaxScaler()\n",
    "# df_minmax = mmx.fit_transform(X_numerical)\n",
    "# df_minmax_test = mmx.fit_transform(X_to_predict_numerical)\n",
    "# X_numerical = pd.DataFrame(data=df_minmax,columns=cols_train,index=index_train)\n",
    "# X_to_predict_numerical = pd.DataFrame(data=df_minmax_test,columns=cols_test,index=index_test)\n",
    "\n",
    "from scipy.special import boxcox1p\n",
    "skewed_features = skewness.index\n",
    "lam = 0.5\n",
    "for feat in skewed_features:\n",
    "    #all_data[feat] += 1\n",
    "    X_numerical[feat] = boxcox1p(X_numerical[feat], lam)\n",
    "    X_to_predict_numerical[feat] = boxcox1p(X_to_predict_numerical[feat], lam)"
   ]
  },
  {
   "cell_type": "code",
   "execution_count": 43,
   "metadata": {},
   "outputs": [
    {
     "data": {
      "text/html": [
       "<div>\n",
       "<style scoped>\n",
       "    .dataframe tbody tr th:only-of-type {\n",
       "        vertical-align: middle;\n",
       "    }\n",
       "\n",
       "    .dataframe tbody tr th {\n",
       "        vertical-align: top;\n",
       "    }\n",
       "\n",
       "    .dataframe thead th {\n",
       "        text-align: right;\n",
       "    }\n",
       "</style>\n",
       "<table border=\"1\" class=\"dataframe\">\n",
       "  <thead>\n",
       "    <tr style=\"text-align: right;\">\n",
       "      <th></th>\n",
       "      <th>Total_Stops</th>\n",
       "      <th>isWeekend</th>\n",
       "    </tr>\n",
       "  </thead>\n",
       "  <tbody>\n",
       "    <tr>\n",
       "      <td>0</td>\n",
       "      <td>0.000000</td>\n",
       "      <td>0.828427</td>\n",
       "    </tr>\n",
       "    <tr>\n",
       "      <td>1</td>\n",
       "      <td>1.464102</td>\n",
       "      <td>0.000000</td>\n",
       "    </tr>\n",
       "    <tr>\n",
       "      <td>2</td>\n",
       "      <td>1.464102</td>\n",
       "      <td>0.828427</td>\n",
       "    </tr>\n",
       "    <tr>\n",
       "      <td>3</td>\n",
       "      <td>0.828427</td>\n",
       "      <td>0.828427</td>\n",
       "    </tr>\n",
       "    <tr>\n",
       "      <td>4</td>\n",
       "      <td>0.828427</td>\n",
       "      <td>0.000000</td>\n",
       "    </tr>\n",
       "  </tbody>\n",
       "</table>\n",
       "</div>"
      ],
      "text/plain": [
       "   Total_Stops  isWeekend\n",
       "0     0.000000   0.828427\n",
       "1     1.464102   0.000000\n",
       "2     1.464102   0.828427\n",
       "3     0.828427   0.828427\n",
       "4     0.828427   0.000000"
      ]
     },
     "execution_count": 43,
     "metadata": {},
     "output_type": "execute_result"
    }
   ],
   "source": [
    "#Check values in numerical columns after minmax scaling\n",
    "X_numerical.head(5)"
   ]
  },
  {
   "cell_type": "code",
   "execution_count": 44,
   "metadata": {},
   "outputs": [],
   "source": [
    "#Merge categorical and numerical columns back into respective X and X_to_predict\n",
    "X = pd.concat([X_categorical, X_numerical], axis=1)\n",
    "X_to_predict = pd.concat([X_to_predict_categorical, X_to_predict_numerical], axis=1)"
   ]
  },
  {
   "cell_type": "code",
   "execution_count": 45,
   "metadata": {},
   "outputs": [
    {
     "name": "stdout",
     "output_type": "stream",
     "text": [
      "(10462, 15) (10462, 2) (10462, 13)\n",
      "(2671, 15) (2671, 2) (2671, 13)\n",
      "(10462,)\n"
     ]
    }
   ],
   "source": [
    "#Check shape of all three to verify that merge was done properly in above step\n",
    "print(X.shape, X_numerical.shape, X_categorical.shape)\n",
    "print(X_to_predict.shape, X_to_predict_numerical.shape, X_to_predict_categorical.shape)\n",
    "print(y.shape)"
   ]
  },
  {
   "cell_type": "code",
   "execution_count": 46,
   "metadata": {},
   "outputs": [],
   "source": [
    "from sklearn.model_selection import train_test_split\n",
    "from sklearn import metrics\n",
    "import numpy as np\n",
    "from sklearn.metrics import mean_squared_log_error\n",
    "# We have created a function to print accuracy metrics which can be used\n",
    "# to get accuracy metrics of all models in upcoming steps\n",
    "def print_accuracy_report(y_test, y_pred,X_test, model):\n",
    " print('R Squared(Accuracy)', metrics.r2_score(y_test, y_pred))   \n",
    " print('Mean Absolute Error:', metrics.mean_absolute_error(y_test, y_pred))  \n",
    " print('Mean Squared Error:', metrics.mean_squared_error(y_test, y_pred))\n",
    " print('Root Mean Squared Error:', np.sqrt(metrics.mean_squared_error(y_test, y_pred)))\n",
    " print('Root Mean Squared Log Error',np.sqrt(mean_squared_log_error( y_test, y_pred )))"
   ]
  },
  {
   "cell_type": "code",
   "execution_count": 47,
   "metadata": {},
   "outputs": [
    {
     "name": "stdout",
     "output_type": "stream",
     "text": [
      "R Squared(Accuracy) 0.5696568757964049\n",
      "Mean Absolute Error: 0.2730265794348726\n",
      "Mean Squared Error: 0.11340317029384835\n",
      "Root Mean Squared Error: 0.33675387198048423\n",
      "Root Mean Squared Log Error 0.03378988739086223\n",
      "None\n"
     ]
    }
   ],
   "source": [
    "# we have created a function to generate linear regression model\n",
    "# which can then be called again after feature selection or other steps\n",
    "from sklearn.linear_model import LinearRegression\n",
    "from sklearn.metrics import accuracy_score\n",
    "def LinearRegressionModel(X,y):\n",
    " X_train, X_test, y_train, y_test = train_test_split(X, y,random_state=42, test_size=0.3)\n",
    " regressor = LinearRegression()  \n",
    " regressor.fit(X_train, y_train)\n",
    " y_pred = regressor.predict(X_test)\n",
    " print(print_accuracy_report(y_test, y_pred, X_test, regressor))\n",
    " return regressor\n",
    "linearModel = LinearRegressionModel(X,y)"
   ]
  },
  {
   "cell_type": "code",
   "execution_count": 48,
   "metadata": {},
   "outputs": [
    {
     "name": "stdout",
     "output_type": "stream",
     "text": [
      "R Squared(Accuracy) 0.5697265251650089\n",
      "Mean Absolute Error: 0.2729871843071703\n",
      "Mean Squared Error: 0.11338481642977004\n",
      "Root Mean Squared Error: 0.3367266197225429\n",
      "Root Mean Squared Log Error 0.03378747080905275\n",
      "None\n"
     ]
    }
   ],
   "source": [
    "# we have created a function to generate linear regression model\n",
    "# which can then be called again after feature selection or other steps\n",
    "from sklearn.linear_model import BayesianRidge\n",
    "from sklearn.metrics import accuracy_score\n",
    "def BayesianRidgeModel(X,y):\n",
    " X_train, X_test, y_train, y_test = train_test_split(X, y,random_state=42, test_size=0.3)\n",
    " regressor = BayesianRidge()  \n",
    " regressor.fit(X_train, y_train)\n",
    " y_pred = regressor.predict(X_test)\n",
    " print(print_accuracy_report(y_test, y_pred, X_test, regressor))\n",
    " return regressor\n",
    "linearModel = BayesianRidgeModel(X,y)"
   ]
  },
  {
   "cell_type": "code",
   "execution_count": 49,
   "metadata": {},
   "outputs": [
    {
     "name": "stdout",
     "output_type": "stream",
     "text": [
      "R Squared(Accuracy) 0.9326809572284338\n",
      "Mean Absolute Error: 0.07316959507120734\n",
      "Mean Squared Error: 0.01773978121660671\n",
      "Root Mean Squared Error: 0.13319077001281548\n",
      "Root Mean Squared Log Error 0.01328011803949834\n",
      "None\n"
     ]
    }
   ],
   "source": [
    "#similarly define a function for random forest regressor\n",
    "from sklearn.ensemble import RandomForestRegressor\n",
    "def RandomForestRegressorModel(X,y):\n",
    "    X_train, X_test, y_train, y_test = train_test_split(X, y,random_state=42, test_size=0.3)\n",
    "    rf = RandomForestRegressor(random_state=42)\n",
    "    rf.fit(X_train, y_train)\n",
    "    y_pred = rf.predict(X_test)\n",
    "    print(print_accuracy_report(y_test, y_pred, X_test, rf))\n",
    "    return rf\n",
    "randomForestModel = RandomForestRegressorModel(X,y)"
   ]
  },
  {
   "cell_type": "code",
   "execution_count": 50,
   "metadata": {},
   "outputs": [],
   "source": [
    "# get feature importances from a model\n",
    "import matplotlib.pyplot as plt\n",
    "def plotFeatureImportances(model):\n",
    "    #first print all features importances in descending order\n",
    "    feature_importances = pd.DataFrame(model.feature_importances_,\n",
    "                                   index = X.columns,\n",
    "                                    columns=['importance']).sort_values('importance',ascending=False)\n",
    "    print(feature_importances)\n",
    "    # Next plot feature importances to get idea about where the curve breaks\n",
    "    # in the graph i.e. select top appropriate features\n",
    "    features = X.columns.tolist()\n",
    "    importances = model.feature_importances_\n",
    "    indices = np.argsort(importances)\n",
    "    plt.title('Feature Importances')\n",
    "    plt.barh(range(len(indices)), importances[indices], color='b', align='center')\n",
    "    plt.yticks(range(len(indices)), [features[i] for i in indices])\n",
    "    plt.xlabel('Relative Importance')\n",
    "    plt.show()"
   ]
  },
  {
   "cell_type": "code",
   "execution_count": 51,
   "metadata": {},
   "outputs": [
    {
     "name": "stdout",
     "output_type": "stream",
     "text": [
      "                     importance\n",
      "Duration_minutes       0.603715\n",
      "Airline                0.101580\n",
      "Day_Of_Journey         0.048639\n",
      "Month_of_Journey       0.038735\n",
      "Additional_Info        0.038202\n",
      "Total_Stops            0.037136\n",
      "Route                  0.023885\n",
      "Depart_Time_Minutes    0.017299\n",
      "Destination            0.016723\n",
      "Arr_Time_Hour          0.016603\n",
      "Depart_Time_Hour       0.016324\n",
      "Day_of_Week            0.015591\n",
      "Arr_Time_Minutes       0.014026\n",
      "Source                 0.006018\n",
      "isWeekend              0.005525\n"
     ]
    },
    {
     "data": {
      "image/png": "[encoded data removed]",
      "text/plain": [
       "<Figure size 432x288 with 1 Axes>"
      ]
     },
     "metadata": {
      "needs_background": "light"
     },
     "output_type": "display_data"
    }
   ],
   "source": [
    "plotFeatureImportances(randomForestModel)"
   ]
  },
  {
   "cell_type": "code",
   "execution_count": 52,
   "metadata": {},
   "outputs": [
    {
     "name": "stderr",
     "output_type": "stream",
     "text": [
      "C:\\Users\\Shubham\\Anaconda3\\lib\\site-packages\\xgboost\\core.py:587: FutureWarning: Series.base is deprecated and will be removed in a future version\n",
      "  if getattr(data, 'base', None) is not None and \\\n"
     ]
    },
    {
     "name": "stdout",
     "output_type": "stream",
     "text": [
      "R Squared(Accuracy) 0.9198227926761979\n",
      "Mean Absolute Error: 0.1030118221220414\n",
      "Mean Squared Error: 0.021128139348462596\n",
      "Root Mean Squared Error: 0.1453552178233124\n",
      "Root Mean Squared Log Error 0.014544787448247618\n",
      "None\n"
     ]
    }
   ],
   "source": [
    "# select features using XGboost\n",
    "from xgboost import XGBRegressor\n",
    "def XGBRegressorModel(X,y):\n",
    "    X_train, X_test, y_train, y_test = train_test_split(X, y,random_state=42, test_size=0.3)\n",
    "    rf = XGBRegressor(colsample_bytree=0.4603, gamma=0.0468, \n",
    "                             learning_rate=0.05, max_depth=3, \n",
    "                             min_child_weight=1.7817, n_estimators=2200,\n",
    "                             reg_alpha=0.4640, reg_lambda=0.8571,\n",
    "                             subsample=0.5213, silent=1,\n",
    "                             random_state =42, nthread = -1)\n",
    "    rf.fit(X_train, y_train)\n",
    "    y_pred = rf.predict(X_test)\n",
    "    print(print_accuracy_report(y_test, y_pred, X_test, rf))\n",
    "    return rf\n",
    "xgbRegressorModel = XGBRegressorModel(X,y)"
   ]
  },
  {
   "cell_type": "code",
   "execution_count": 53,
   "metadata": {},
   "outputs": [
    {
     "name": "stdout",
     "output_type": "stream",
     "text": [
      "Fitting 3 folds for each of 1 candidates, totalling 3 fits\n"
     ]
    },
    {
     "name": "stderr",
     "output_type": "stream",
     "text": [
      "[Parallel(n_jobs=8)]: Using backend LokyBackend with 8 concurrent workers.\n",
      "[Parallel(n_jobs=8)]: Done   3 out of   3 | elapsed:   14.4s finished\n",
      "C:\\Users\\Shubham\\Anaconda3\\lib\\site-packages\\xgboost\\core.py:587: FutureWarning: Series.base is deprecated and will be removed in a future version\n",
      "  if getattr(data, 'base', None) is not None and \\\n"
     ]
    },
    {
     "name": "stdout",
     "output_type": "stream",
     "text": [
      "[04:34:50] WARNING: src/objective/regression_obj.cu:152: reg:linear is now deprecated in favor of reg:squarederror.\n",
      "{'reg_alpha': 1e-05}\n",
      "R Squared(Accuracy) 0.9426001348572417\n",
      "Mean Absolute Error: 0.07286494525572906\n",
      "Mean Squared Error: 0.01512589911521066\n",
      "Root Mean Squared Error: 0.12298739413131193\n",
      "Root Mean Squared Log Error 0.01229313160653074\n",
      "None\n"
     ]
    }
   ],
   "source": [
    "from sklearn.model_selection import RandomizedSearchCV\n",
    "from sklearn.model_selection import GridSearchCV\n",
    "from xgboost import XGBRegressor\n",
    "params = {\n",
    "  'reg_alpha':[1e-5]\n",
    "}\n",
    "def XGBoostRegressorModel(X,y):\n",
    "    X_train, X_test, y_train, y_test = train_test_split(X, y,random_state=42, test_size=0.3)\n",
    "    rf=XGBRegressor(learning_rate =0.1, n_estimators=240,\n",
    "     subsample=0.8, colsample_bytree=0.8,\n",
    "     scale_pos_weight=1, seed=42, max_depth= 10, min_child_weight=5,gamma=0.0, reg_alpha=1e-5)\n",
    "    rf_random = GridSearchCV(estimator = rf, param_grid = params, cv = 3, verbose=2, n_jobs = 8)\n",
    "    rf_random.fit(X_train, y_train)\n",
    "    print(rf_random.best_params_)\n",
    "    y_pred = rf_random.best_estimator_.predict(X_test)\n",
    "    print(print_accuracy_report(y_test, y_pred, X_test, rf_random.best_estimator_))\n",
    "    return rf_random.best_estimator_\n",
    "xgBoostModel = XGBoostRegressorModel(X,y)"
   ]
  },
  {
   "cell_type": "code",
   "execution_count": 54,
   "metadata": {},
   "outputs": [],
   "source": [
    "# generateFinalPredictionFile(xgBoostModel)"
   ]
  },
  {
   "cell_type": "code",
   "execution_count": 55,
   "metadata": {},
   "outputs": [
    {
     "name": "stdout",
     "output_type": "stream",
     "text": [
      "                     importance\n",
      "Total_Stops            0.415307\n",
      "Duration_minutes       0.164246\n",
      "Airline                0.087094\n",
      "Destination            0.064418\n",
      "Day_Of_Journey         0.046182\n",
      "Additional_Info        0.045447\n",
      "Month_of_Journey       0.033951\n",
      "Route                  0.030983\n",
      "Source                 0.028649\n",
      "Day_of_Week            0.023183\n",
      "isWeekend              0.016602\n",
      "Depart_Time_Hour       0.012358\n",
      "Arr_Time_Hour          0.011269\n",
      "Arr_Time_Minutes       0.010220\n",
      "Depart_Time_Minutes    0.010093\n"
     ]
    },
    {
     "data": {
      "image/png": "[encoded data removed]",
      "text/plain": [
       "<Figure size 432x288 with 1 Axes>"
      ]
     },
     "metadata": {
      "needs_background": "light"
     },
     "output_type": "display_data"
    }
   ],
   "source": [
    "#get feature importances from xgbRegressormodel\n",
    "plotFeatureImportances(xgbRegressorModel)"
   ]
  },
  {
   "cell_type": "code",
   "execution_count": 56,
   "metadata": {},
   "outputs": [
    {
     "name": "stderr",
     "output_type": "stream",
     "text": [
      "C:\\Users\\Shubham\\Anaconda3\\lib\\site-packages\\xgboost\\core.py:587: FutureWarning: Series.base is deprecated and will be removed in a future version\n",
      "  if getattr(data, 'base', None) is not None and \\\n"
     ]
    },
    {
     "name": "stdout",
     "output_type": "stream",
     "text": [
      "R Squared(Accuracy) 0.9198227926761979\n",
      "Mean Absolute Error: 0.1030118221220414\n",
      "Mean Squared Error: 0.021128139348462596\n",
      "Root Mean Squared Error: 0.1453552178233124\n",
      "Root Mean Squared Log Error 0.014544787448247618\n",
      "None\n"
     ]
    }
   ],
   "source": [
    "from sklearn.ensemble import GradientBoostingRegressor \n",
    "def GradientBoostingRegressorModel(X,y):\n",
    "    X_train, X_test, y_train, y_test = train_test_split(X, y,random_state=42, test_size=0.3)\n",
    "    rf = GradientBoostingRegressor()\n",
    "    rf.fit(X_train, y_train)\n",
    "    y_pred = rf.predict(X_test)\n",
    "    print(print_accuracy_report(y_test, y_pred, X_test, rf))\n",
    "    return rf\n",
    "gradientBoostingRegressorModel = XGBRegressorModel(X,y)"
   ]
  },
  {
   "cell_type": "code",
   "execution_count": 57,
   "metadata": {},
   "outputs": [],
   "source": [
    "# We can either select features manually from the graphs generated above or\n",
    "# we can use SelectFromModel module to select most appropriate features \n",
    "# automatically. \n",
    "# Source:- https://towardsdatascience.com/feature-selection-using-random-forest-26d7b747597f\n",
    "import numpy as np\n",
    "from sklearn.feature_selection import SelectFromModel\n",
    "def SelectFeaturesFromModel (model,X):\n",
    "    sel = SelectFromModel(model, prefit = True)\n",
    "    selected_feat= X.columns[(sel.get_support())]\n",
    "    print(\"Total features selected: \", len(selected_feat))\n",
    "    print(\"Names of selected Features:\\n\", selected_feat)\n",
    "    print(\"\\n\")"
   ]
  },
  {
   "cell_type": "code",
   "execution_count": 58,
   "metadata": {},
   "outputs": [
    {
     "name": "stdout",
     "output_type": "stream",
     "text": [
      "Top selected from random forest regressor:\n",
      "Total features selected:  2\n",
      "Names of selected Features:\n",
      " Index(['Airline', 'Duration_minutes'], dtype='object')\n",
      "\n",
      "\n",
      "Top selected from xgboost regressor:\n",
      "Total features selected:  3\n",
      "Names of selected Features:\n",
      " Index(['Airline', 'Duration_minutes', 'Total_Stops'], dtype='object')\n",
      "\n",
      "\n"
     ]
    }
   ],
   "source": [
    "from sklearn.ensemble import ExtraTreesRegressor\n",
    "print(\"Top selected from random forest regressor:\")\n",
    "SelectFeaturesFromModel(randomForestModel,X)\n",
    "\n",
    "print(\"Top selected from xgboost regressor:\")\n",
    "SelectFeaturesFromModel(xgbRegressorModel,X)"
   ]
  },
  {
   "cell_type": "code",
   "execution_count": null,
   "metadata": {},
   "outputs": [],
   "source": [
    "from sklearn.svm import SVR\n",
    "def SVRModel(X,y):\n",
    "    X_train, X_test, y_train, y_test = train_test_split(X, y,random_state=42, test_size=0.3)\n",
    "    regressor=SVR(kernel='linear',degree=1)\n",
    "    regressor.fit(X_train, y_train)\n",
    "    y_pred = regressor.predict(X_test)\n",
    "    print(print_accuracy_report(y_test, y_pred, X_test, regressor))\n",
    "    return regressor\n",
    "svRegressorModel = SVRModel(X,y)"
   ]
  },
  {
   "cell_type": "code",
   "execution_count": null,
   "metadata": {},
   "outputs": [],
   "source": [
    "from catboost import CatBoostRegressor\n",
    "import catboost as cb\n",
    "from sklearn.model_selection import KFold\n",
    "from paramsearch import paramsearch\n",
    "from itertools import product,chain\n",
    "from sklearn.model_selection import RandomizedSearchCV\n",
    "from sklearn.model_selection import GridSearchCV\n",
    "# 'iterations':[250,100,500,1000,2000],\n",
    "#           'learning_rate':[0.03,0.001,0.01,0.1,0.2,0.3], \n",
    "#           'l2_leaf_reg':[3,1,5,10,100],\n",
    "#           'border_count':[32,5,10,20,50,100,200]\n",
    "params = {'depth':[3,1,2,6,4,5,7,8,9,10],}\n",
    "\n",
    "def CBRModel(X,y):\n",
    "    X_train, X_test, y_train, y_test = train_test_split(X, y,random_state=42, test_size=0.3)\n",
    "    rf=CatBoostRegressor()\n",
    "    rf_random = GridSearchCV(estimator = rf, param_grid = params, cv = 3, verbose=2, n_jobs = 8)\n",
    "    rf_random.fit(X_train, y_train)\n",
    "    print(rf_random.best_params_)\n",
    "    y_pred = rf_random.best_estimator_.predict(X_test)\n",
    "    print(rf_random.best_params_)\n",
    "    print(print_accuracy_report(y_test, y_pred, X_test, rf_random.best_estimator_))\n",
    "    return rf_random.best_estimator_\n",
    "cegbRressorModel = CBRModel(X,y)"
   ]
  },
  {
   "cell_type": "code",
   "execution_count": null,
   "metadata": {},
   "outputs": [],
   "source": [
    "import seaborn as sns\n",
    "print(df_train['Price'].describe())\n",
    "#skewness and kurtosis\n",
    "print(\"Skewness: %f\" % df_train['Price'].skew())\n",
    "print(\"Kurtosis: %f\" % df_train['Price'].kurt())\n",
    "sns.distplot(df_train['Price'])"
   ]
  },
  {
   "cell_type": "code",
   "execution_count": null,
   "metadata": {},
   "outputs": [],
   "source": [
    "#Check the new distribution \n",
    "from scipy.stats import norm, skew \n",
    "sns.distplot(np.log1p(df_train[\"Price\"]) , fit=norm);"
   ]
  },
  {
   "cell_type": "code",
   "execution_count": null,
   "metadata": {},
   "outputs": [],
   "source": [
    "#scatter plot Duration_minutes/Price\n",
    "var = 'Duration_minutes'\n",
    "data = pd.concat([df_train['Price'], df_train[var]], axis=1)\n",
    "data.plot.scatter(x=var, y='Price', ylim=(0,90000));"
   ]
  },
  {
   "cell_type": "code",
   "execution_count": null,
   "metadata": {},
   "outputs": [],
   "source": [
    "#scatter plot Day_Of_Journey/Price\n",
    "var = 'Day_Of_Journey'\n",
    "data = pd.concat([df_train['Price'], df_train[var]], axis=1)\n",
    "data.plot.scatter(x=var, y='Price', ylim=(0,90000));"
   ]
  },
  {
   "cell_type": "code",
   "execution_count": null,
   "metadata": {},
   "outputs": [],
   "source": [
    "#box plot Airline/Price\n",
    "var = 'Airline'\n",
    "data = pd.concat([df_train['Price'], df_train[var]], axis=1)\n",
    "f, ax = plt.subplots(figsize=(18, 14))\n",
    "fig = sns.boxplot(x=var, y=\"Price\", data=data)\n",
    "plt.xticks(fontsize=10, rotation=80)\n",
    "fig.axis(ymin=0, ymax=90000);"
   ]
  },
  {
   "cell_type": "code",
   "execution_count": null,
   "metadata": {},
   "outputs": [],
   "source": [
    "import seaborn as sns\n",
    "import matplotlib.pyplot as plt\n",
    "from matplotlib.pyplot import figure\n",
    "carrier_count = df_train[\"Airline\"].value_counts()\n",
    "df_train['Airline'].value_counts().plot('bar')"
   ]
  },
  {
   "cell_type": "code",
   "execution_count": null,
   "metadata": {},
   "outputs": [],
   "source": [
    "sns.set(style=\"darkgrid\")\n",
    "figure(figsize=(10,5)) \n",
    "sns.barplot(x=\"Total_Stops\", y=\"Price\", data=df_train, palette=\"Blues_d\")\n",
    "plt.title('Total stops')"
   ]
  },
  {
   "cell_type": "markdown",
   "metadata": {},
   "source": [
    "# Variation of price with different airline"
   ]
  },
  {
   "cell_type": "code",
   "execution_count": null,
   "metadata": {},
   "outputs": [],
   "source": [
    "sns.set(style=\"darkgrid\")\n",
    "figure(figsize=(10,5)) \n",
    "sns.barplot(x=\"Airline\", y=\"Price\", data=df_train, palette=\"Blues_d\")\n",
    "plt.title('Price variation of different airlines')\n",
    "plt.xticks(fontsize=10, rotation=80)\n",
    "plt.yticks(fontsize=10)"
   ]
  },
  {
   "cell_type": "markdown",
   "metadata": {},
   "source": [
    "# Frequency distribution of weekday of airline journey"
   ]
  },
  {
   "cell_type": "code",
   "execution_count": null,
   "metadata": {},
   "outputs": [],
   "source": [
    "df_train['Additional_Info'].value_counts().plot('bar')"
   ]
  },
  {
   "cell_type": "code",
   "execution_count": null,
   "metadata": {},
   "outputs": [],
   "source": [
    "import matplotlib.pyplot as plt\n",
    "figure(figsize=(20,20)) \n",
    "X_numerical.boxplot()"
   ]
  },
  {
   "cell_type": "code",
   "execution_count": null,
   "metadata": {},
   "outputs": [],
   "source": [
    "X_numerical_graph.hist(bins=15, figsize=(15, 16), layout=(5, 2))"
   ]
  },
  {
   "cell_type": "code",
   "execution_count": null,
   "metadata": {},
   "outputs": [],
   "source": [
    "from scipy.stats import norm, skew \n",
    "sns.distplot(df_train[\"Depart_Time_Minutes\"] , fit=norm);"
   ]
  },
  {
   "cell_type": "code",
   "execution_count": null,
   "metadata": {},
   "outputs": [],
   "source": [
    "sns.distplot(np.log1p(df_train[\"Depart_Time_Minutes\"]) , fit=norm);"
   ]
  },
  {
   "cell_type": "code",
   "execution_count": null,
   "metadata": {},
   "outputs": [],
   "source": [
    "import matplotlib.pyplot as plt\n",
    "fig, ax = plt.subplots(3, 3, figsize=(20, 80))\n",
    "columns = X_categorical_graph.columns.tolist()\n",
    "for variable, subplot in zip(columns, ax.flatten()):\n",
    "    sns.countplot(X_categorical_graph[variable], ax=subplot)\n",
    "    for label in subplot.get_xticklabels():\n",
    "        label.set_rotation(90)"
   ]
  },
  {
   "cell_type": "code",
   "execution_count": null,
   "metadata": {},
   "outputs": [],
   "source": [
    "#correlation matrix\n",
    "corrmat = df_train.corr()\n",
    "f, ax = plt.subplots(figsize=(12, 9))\n",
    "sns.heatmap(corrmat, vmax=.8, square=True);"
   ]
  },
  {
   "cell_type": "code",
   "execution_count": null,
   "metadata": {},
   "outputs": [],
   "source": [
    "X_categorical_graph[\"Additional_Info\"].value_counts()"
   ]
  },
  {
   "cell_type": "code",
   "execution_count": null,
   "metadata": {},
   "outputs": [],
   "source": [
    "X_categorical_graph[\"Airline\"].replace(to_replace={'Multiple carriers Premium economy':'Other', \n",
    "                                                        'Jet Airways Business':'Other',\n",
    "                                                        'Vistara Premium economy':'Other',\n",
    "                                                        'Trujet':'Other'\n",
    "                                                   },    \n",
    "                                        inplace=True)\n",
    "#We have done same step back in the notebook above before label encoding to improve accuracy"
   ]
  },
  {
   "cell_type": "code",
   "execution_count": null,
   "metadata": {},
   "outputs": [],
   "source": [
    "X_categorical_graph[\"Additional_Info\"].replace(to_replace={'Change airports':'Other', \n",
    "                                                        'Business class':'Other',\n",
    "                                                        '1 Short layover':'Other',\n",
    "                                                        'Red-eye flight':'Other',\n",
    "                                                        '2 Long layover':'Other',   \n",
    "                                                   },    \n",
    "                                        inplace=True)\n",
    "#We have done same step back in the notebook above before label encoding to improve accuracy"
   ]
  },
  {
   "cell_type": "code",
   "execution_count": null,
   "metadata": {},
   "outputs": [],
   "source": [
    "X_numerical_graph[\"Duration_minutes\"].apply(np.log).hist()\n",
    "#We have done same step back in the notebook above before scaling numrical values to improve accuracy"
   ]
  },
  {
   "cell_type": "markdown",
   "metadata": {},
   "source": [
    "# Final Regression Models Optimization using GridSearchCV, RandomizedSearchCV and stacking"
   ]
  },
  {
   "cell_type": "code",
   "execution_count": null,
   "metadata": {},
   "outputs": [],
   "source": [
    "import matplotlib.pylab as plt\n",
    "import numpy as np \n",
    "from sklearn.model_selection import ShuffleSplit, train_test_split \n",
    "from sklearn.ensemble import GradientBoostingRegressor \n",
    "from sklearn.model_selection import GridSearchCV \n",
    "def GridSearchCVGradientBoostingRegressor(X,y):\n",
    "    X_train, X_test, y_train, y_test = train_test_split(X.values, y.values,random_state=42, test_size=0.3)\n",
    "    estimator = GradientBoostingRegressor(random_state=42,n_estimators=800,learning_rate=0.05,max_depth=8)\n",
    "    cv = ShuffleSplit(n_splits=5, random_state=42, test_size=0.3)\n",
    "    param_grid={ \n",
    "                'subsample':[1.0]\n",
    "               } \n",
    "    n_jobs=8\n",
    "    regressor = GridSearchCV(estimator=estimator, cv=cv, param_grid=param_grid, n_jobs=n_jobs)\n",
    "    regressor.fit(X_train, y_train)\n",
    "    y_pred = regressor.best_estimator_.predict(X_test)\n",
    "    print(regressor.best_params_)\n",
    "    print(print_accuracy_report(y_test, y_pred, X_test, regressor.best_estimator_))\n",
    "    return regressor.best_estimator_\n",
    "gradientBoostingModelCV = GridSearchCVGradientBoostingRegressor(X,y)"
   ]
  },
  {
   "cell_type": "code",
   "execution_count": null,
   "metadata": {},
   "outputs": [],
   "source": [
    "import matplotlib.pylab as plt\n",
    "import numpy as np \n",
    "from sklearn.decomposition import PCA \n",
    "from sklearn.model_selection import ShuffleSplit, train_test_split \n",
    "from sklearn.ensemble import RandomForestRegressor \n",
    "from sklearn.model_selection import GridSearchCV \n",
    "def GridSearchCVRandomForestRegressor(X,y):\n",
    "    X_train, X_test, y_train, y_test = train_test_split(X, y,random_state=42, test_size=0.3)\n",
    "    estimator = RandomForestRegressor()\n",
    "    cv = ShuffleSplit(n_splits=5, random_state=42, test_size=0.3)\n",
    "    estimator = RandomForestRegressor()\n",
    "    # Create the random grid\n",
    "    param_grid = { \n",
    "    'n_estimators': [10, 18, 22, 200, 700],\n",
    "    'max_features': ['auto', 'sqrt', 'log2']\n",
    "    }\n",
    "    n_jobs=4\n",
    "    regressor = GridSearchCV(estimator=estimator, cv=cv, param_grid=param_grid, n_jobs=n_jobs)\n",
    "    regressor.fit(X_train, y_train)\n",
    "    y_pred = regressor.best_estimator_.predict(X_test)\n",
    "    print(regressor.best_params_)\n",
    "    print(print_accuracy_report(y_test, y_pred, X_test, regressor.best_estimator_))\n",
    "    return regressor.best_estimator_\n",
    "randomForestRegressorModel = GridSearchCVRandomForestRegressor(X,y)"
   ]
  },
  {
   "cell_type": "code",
   "execution_count": null,
   "metadata": {},
   "outputs": [],
   "source": [
    "from sklearn.model_selection import RandomizedSearchCV\n",
    "from sklearn.model_selection import ShuffleSplit, train_test_split \n",
    "\n",
    "# Number of trees in random forest\n",
    "n_estimators = [644]\n",
    "# Number of features to consider at every split\n",
    "max_features = ['auto']\n",
    "# Maximum number of levels in tree\n",
    "# max_depth = [int(x) for x in np.linspace(10, 110, num = 11)]\n",
    "# max_depth.append(None)\n",
    "# Minimum number of samples required to split a node\n",
    "min_samples_split = [2, 5, 10]\n",
    "# Minimum number of samples required at each leaf node\n",
    "min_samples_leaf = [1, 2, 4]\n",
    "# Method of selecting samples for training each tree\n",
    "bootstrap = [True]\n",
    "# Create the random grid\n",
    "random_grid = {'max_features': max_features,\n",
    "               'bootstrap': bootstrap,\n",
    "               'n_estimators': n_estimators\n",
    "              }\n",
    "rf = RandomForestRegressor()\n",
    "# Random search of parameters, using 3 fold cross validation, \n",
    "# search across 100 different combinations, and use all available cores\n",
    "# Fit the random search model\n",
    "\n",
    "def RandomizedSearchCVRandomForestRegressor(X,y):\n",
    "    X_train, X_test, y_train, y_test = train_test_split(X, y,random_state=42, test_size=0.3)\n",
    "    estimator = RandomForestRegressor()\n",
    "    cv = ShuffleSplit(n_splits=5, random_state=42, test_size=0.3)\n",
    "    n_jobs=4\n",
    "    rf_random = RandomizedSearchCV(estimator = rf, param_distributions = random_grid, cv = 3, verbose=2, random_state=42, n_jobs = 8)\n",
    "    rf_random.fit(X_train, y_train)\n",
    "    print(rf_random.best_params_)\n",
    "    y_pred = rf_random.best_estimator_.predict(X_test)\n",
    "    print(print_accuracy_report(y_test, y_pred, X_test, rf_random.best_estimator_))\n",
    "    return rf_random.best_estimator_\n",
    "randomForestRegressorModel2 = RandomizedSearchCVRandomForestRegressor(X,y)"
   ]
  },
  {
   "cell_type": "code",
   "execution_count": null,
   "metadata": {},
   "outputs": [],
   "source": [
    "import matplotlib.pylab as plt\n",
    "import numpy as np \n",
    "from sklearn.decomposition import PCA \n",
    "from sklearn.model_selection import ShuffleSplit, train_test_split \n",
    "from sklearn.ensemble import ExtraTreesRegressor \n",
    "from sklearn.model_selection import GridSearchCV \n",
    "def GridSearchCVExtraTreesRegressor(X,y):\n",
    "    X_train, X_test, y_train, y_test = train_test_split(X, y,random_state=42, test_size=0.3)\n",
    "    estimator = ExtraTreesRegressor()\n",
    "    cv = ShuffleSplit(n_splits=5, random_state=42, test_size=0.3)\n",
    "    estimator = ExtraTreesRegressor(random_state=42, n_estimators=900, max_depth=18)\n",
    "    # Create the random grid\n",
    "    param_grid = { \n",
    "    'min_samples_split':range(10,100,5)\n",
    "    }\n",
    "    n_jobs=8\n",
    "    regressor = GridSearchCV(estimator=estimator, cv=cv, param_grid=param_grid, n_jobs=n_jobs)\n",
    "    regressor.fit(X_train, y_train)\n",
    "    y_pred = regressor.best_estimator_.predict(X_test)\n",
    "    print(regressor.best_params_)\n",
    "    print(print_accuracy_report(y_test, y_pred, X_test, regressor.best_estimator_))\n",
    "    return regressor.best_estimator_\n",
    "extraTreesRegressorModelCV = GridSearchCVExtraTreesRegressor(X,y)"
   ]
  },
  {
   "cell_type": "code",
   "execution_count": null,
   "metadata": {},
   "outputs": [],
   "source": [
    "from sklearn.model_selection import RandomizedSearchCV\n",
    "from sklearn.ensemble import ExtraTreesRegressor \n",
    "from sklearn.model_selection import ShuffleSplit, train_test_split \n",
    "\n",
    "# Number of trees in random forest\n",
    "n_estimators = [int(x) for x in np.linspace(start = 10, stop = 900, num = 15)]\n",
    "# Number of features to consider at every split\n",
    "max_features = ['auto']\n",
    "# Maximum number of levels in tree\n",
    "# max_depth = [int(x) for x in np.linspace(10, 110, num = 11)]\n",
    "# max_depth.append(None)\n",
    "# Minimum number of samples required to split a node\n",
    "min_samples_split = [2, 5, 10]\n",
    "# Minimum number of samples required at each leaf node\n",
    "min_samples_leaf = [1,5,10,50,100,200,500]    \n",
    "# Method of selecting samples for training each tree\n",
    "bootstrap = [True, False]\n",
    "oob_score = [True, False]\n",
    "# Create the random grid\n",
    "random_grid = {'bootstrap':bootstrap}\n",
    "# Random search of parameters, using 3 fold cross validation, \n",
    "# search across 100 different combinations, and use all available cores\n",
    "# Fit the random search model\n",
    "\n",
    "\n",
    "def RandomizedSearchCVExtraTreesRegressor(X,y):\n",
    "    X_train, X_test, y_train, y_test = train_test_split(X, y,random_state=42, test_size=0.3)\n",
    "    estimator = ExtraTreesRegressor(random_state=42, n_estimators=1100, max_depth=18,min_samples_split=2,min_samples_leaf=1,max_features ='auto')\n",
    "    cv = ShuffleSplit(n_splits=5, random_state=42, test_size=0.3)\n",
    "    n_jobs=8\n",
    "    etr_random = RandomizedSearchCV(estimator = estimator, param_distributions = random_grid, cv = cv, verbose=2, random_state=42, n_jobs = 8)\n",
    "    etr_random.fit(X_train, y_train)\n",
    "    y_pred = etr_random.best_estimator_.predict(X_test)\n",
    "    print(etr_random.best_params_)\n",
    "    print(print_accuracy_report(y_test, y_pred, X_test, etr_random.best_estimator_))\n",
    "    return etr_random.best_estimator_\n",
    "extraTreesRegressorModelRSCV = RandomizedSearchCVExtraTreesRegressor(X,y)"
   ]
  },
  {
   "cell_type": "code",
   "execution_count": null,
   "metadata": {},
   "outputs": [],
   "source": [
    "from sklearn.linear_model import ElasticNet, Lasso,  BayesianRidge, LassoLarsIC\n",
    "from sklearn.ensemble import RandomForestRegressor,  GradientBoostingRegressor\n",
    "from sklearn.kernel_ridge import KernelRidge\n",
    "from sklearn.pipeline import make_pipeline\n",
    "from sklearn.preprocessing import RobustScaler\n",
    "from sklearn.base import BaseEstimator, TransformerMixin, RegressorMixin, clone\n",
    "from sklearn.model_selection import KFold, cross_val_score, train_test_split\n",
    "from sklearn.metrics import mean_squared_error\n",
    "import xgboost as xgb\n",
    "import lightgbm as lgb\n",
    "\n",
    "#Validation function\n",
    "n_folds = 5\n",
    "X_train, X_test, y_train, y_test = train_test_split(X.values, y.values,random_state=42, test_size=0.3)\n",
    "   \n",
    "def rmsle_cv(model):\n",
    "    kf = KFold(n_folds, shuffle=True, random_state=42).get_n_splits(X_train)\n",
    "    rmse= np.sqrt(-cross_val_score(model, X_train, y_train, scoring=\"neg_mean_squared_error\", cv = kf))\n",
    "    return(rmse)\n",
    "\n",
    "lasso = make_pipeline(RobustScaler(), Lasso(alpha =0.0005, random_state=1))\n",
    "ENet = make_pipeline(RobustScaler(), ElasticNet(alpha=0.0005, l1_ratio=.9, random_state=3))\n",
    "KRR = KernelRidge(alpha=0.6, kernel='polynomial', degree=2, coef0=2.5)\n",
    "GBoost = GradientBoostingRegressor(n_estimators=3000, learning_rate=0.05,\n",
    "                                   max_depth=4, max_features='sqrt',\n",
    "                                   min_samples_leaf=15, min_samples_split=10, \n",
    "                                   loss='huber', random_state =5)\n",
    "\n",
    "\n",
    "class StackingAveragedModels(BaseEstimator, RegressorMixin, TransformerMixin):\n",
    "    def __init__(self, base_models, meta_model, n_folds=5):\n",
    "        self.base_models = base_models\n",
    "        self.meta_model = meta_model\n",
    "        self.n_folds = n_folds\n",
    "   \n",
    "    # We again fit the data on clones of the original models\n",
    "    def fit(self, X, y):\n",
    "        self.base_models_ = [list() for x in self.base_models]\n",
    "        self.meta_model_ = clone(self.meta_model)\n",
    "        kfold = KFold(n_splits=self.n_folds, shuffle=True, random_state=156)\n",
    "        \n",
    "        # Train cloned base models then create out-of-fold predictions\n",
    "        # that are needed to train the cloned meta-model\n",
    "        out_of_fold_predictions = np.zeros((X.shape[0], len(self.base_models)))\n",
    "        for i, model in enumerate(self.base_models):\n",
    "            for train_index, holdout_index in kfold.split(X, y):\n",
    "                instance = clone(model)\n",
    "                self.base_models_[i].append(instance)\n",
    "                instance.fit(X[train_index], y[train_index])\n",
    "                y_pred = instance.predict(X[holdout_index])\n",
    "                out_of_fold_predictions[holdout_index, i] = y_pred\n",
    "                \n",
    "                \n",
    "                # Now train the cloned  meta-model using the out-of-fold predictions as new feature\n",
    "        self.meta_model_.fit(out_of_fold_predictions, y)\n",
    "        return self\n",
    "   \n",
    "    #Do the predictions of all base models on the test data and use the averaged predictions as \n",
    "    #meta-features for the final prediction which is done by the meta-model\n",
    "    def predict(self, X):\n",
    "        meta_features = np.column_stack([\n",
    "            np.column_stack([model.predict(X) for model in base_models]).mean(axis=1)\n",
    "            for base_models in self.base_models_ ])\n",
    "        return self.meta_model_.predict(meta_features)\n",
    "stacked_averaged_models = StackingAveragedModels(base_models = (extraTreesRegressorModelRSCV, randomForestRegressorModel2, xgBoostModel),\n",
    "                                                 meta_model = lasso)\n",
    "\n",
    "# score = rmsle_cv(stacked_averaged_models)\n",
    "# print(\"Stacking Averaged models score: {:.4f} ({:.4f})\".format(score.mean(), score.std()))"
   ]
  },
  {
   "cell_type": "code",
   "execution_count": null,
   "metadata": {},
   "outputs": [],
   "source": [
    "stacked_averaged_models.fit(X_train, y_train)\n",
    "y_pred = stacked_averaged_models.predict(X_test)\n",
    "print(print_accuracy_report(y_test, y_pred, X_test, stacked_averaged_models))"
   ]
  },
  {
   "cell_type": "code",
   "execution_count": null,
   "metadata": {},
   "outputs": [],
   "source": [
    "generateFinalPredictionFile(stacked_averaged_models)"
   ]
  },
  {
   "cell_type": "code",
   "execution_count": null,
   "metadata": {},
   "outputs": [],
   "source": [
    "from sklearn.externals import joblib\n",
    "joblib.dump(svr,\"Flight_Ticket.pkl\")"
   ]
  },
  {
   "cell_type": "code",
   "execution_count": null,
   "metadata": {},
   "outputs": [],
   "source": []
  },
  {
   "cell_type": "code",
   "execution_count": null,
   "metadata": {},
   "outputs": [],
   "source": []
  }
 ],
 "metadata": {
  "kernelspec": {
   "display_name": "Python 3",
   "language": "python",
   "name": "python3"
  },
  "language_info": {
   "codemirror_mode": {
    "name": "ipython",
    "version": 3
   },
   "file_extension": ".py",
   "mimetype": "text/x-python",
   "name": "python",
   "nbconvert_exporter": "python",
   "pygments_lexer": "ipython3",
   "version": "3.7.4"
  }
 },
 "nbformat": 4,
 "nbformat_minor": 2
}
