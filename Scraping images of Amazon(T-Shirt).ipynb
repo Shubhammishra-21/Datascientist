{
 "cells": [
  {
   "cell_type": "code",
   "execution_count": 1,
   "metadata": {},
   "outputs": [
    {
     "name": "stdout",
     "output_type": "stream",
     "text": [
      "Requirement already satisfied: requests in c:\\users\\shubham\\anaconda3\\lib\\site-packages (2.22.0)\n",
      "Requirement already satisfied: chardet<3.1.0,>=3.0.2 in c:\\users\\shubham\\anaconda3\\lib\\site-packages (from requests) (3.0.4)\n",
      "Requirement already satisfied: certifi>=2017.4.17 in c:\\users\\shubham\\anaconda3\\lib\\site-packages (from requests) (2019.9.11)\n",
      "Requirement already satisfied: urllib3!=1.25.0,!=1.25.1,<1.26,>=1.21.1 in c:\\users\\shubham\\anaconda3\\lib\\site-packages (from requests) (1.24.2)\n",
      "Requirement already satisfied: idna<2.9,>=2.5 in c:\\users\\shubham\\anaconda3\\lib\\site-packages (from requests) (2.8)\n",
      "Note: you may need to restart the kernel to use updated packages.\n"
     ]
    }
   ],
   "source": [
    "pip install requests"
   ]
  },
  {
   "cell_type": "code",
   "execution_count": 2,
   "metadata": {},
   "outputs": [],
   "source": [
    "import requests"
   ]
  },
  {
   "cell_type": "code",
   "execution_count": 3,
   "metadata": {},
   "outputs": [],
   "source": [
    "r = requests.get('https://www.amazon.com/s?k=men+t-shirts&crid=1BZSSUOXKFK98&sprefix=men+t-s%2Caps%2C414&ref=nb_sb_ss_i_1_7')"
   ]
  },
  {
   "cell_type": "code",
   "execution_count": 4,
   "metadata": {},
   "outputs": [
    {
     "data": {
      "text/plain": [
       "'<!--\\n        To discuss automated access to Amazon data please contact api-services-support@amazon.com.\\n        For information about migrating to our APIs refer to our Marketplace APIs at https://dev'"
      ]
     },
     "execution_count": 4,
     "metadata": {},
     "output_type": "execute_result"
    }
   ],
   "source": [
    "r.text[:200]"
   ]
  },
  {
   "cell_type": "code",
   "execution_count": 5,
   "metadata": {},
   "outputs": [
    {
     "name": "stdout",
     "output_type": "stream",
     "text": [
      "Requirement already satisfied: urllib3 in c:\\users\\shubham\\anaconda3\\lib\\site-packages (1.24.2)\n",
      "Note: you may need to restart the kernel to use updated packages.\n"
     ]
    }
   ],
   "source": [
    "pip install urllib3"
   ]
  },
  {
   "cell_type": "code",
   "execution_count": 6,
   "metadata": {},
   "outputs": [
    {
     "name": "stderr",
     "output_type": "stream",
     "text": [
      "C:\\Users\\Shubham\\Anaconda3\\lib\\site-packages\\urllib3\\connectionpool.py:847: InsecureRequestWarning: Unverified HTTPS request is being made. Adding certificate verification is strongly advised. See: https://urllib3.readthedocs.io/en/latest/advanced-usage.html#ssl-warnings\n",
      "  InsecureRequestWarning)\n"
     ]
    },
    {
     "name": "stdout",
     "output_type": "stream",
     "text": [
      "<title>Learn and grow together</title>\n",
      "Learn and grow together\n"
     ]
    }
   ],
   "source": [
    "import urllib3\n",
    "from bs4 import BeautifulSoup\n",
    "http = urllib3.PoolManager()\n",
    "r = http.request('GET', 'https://www.amazon.com/s?k=men+t-shirts&crid=1BZSSUOXKFK98&sprefix=men+t-s%2Caps%2C414&ref=nb_sb_ss_i_1_7')\n",
    "soup = BeautifulSoup(r.data, 'lxml')\n",
    "print (soup.title)\n",
    "print (soup.title.text)"
   ]
  },
  {
   "cell_type": "code",
   "execution_count": 7,
   "metadata": {},
   "outputs": [
    {
     "name": "stdout",
     "output_type": "stream",
     "text": [
      "Requirement already satisfied: selenium in c:\\users\\shubham\\anaconda3\\lib\\site-packages (3.141.0)\n",
      "Requirement already satisfied: urllib3 in c:\\users\\shubham\\anaconda3\\lib\\site-packages (from selenium) (1.24.2)\n",
      "Note: you may need to restart the kernel to use updated packages.\n"
     ]
    }
   ],
   "source": [
    "pip install selenium"
   ]
  },
  {
   "cell_type": "code",
   "execution_count": 8,
   "metadata": {},
   "outputs": [],
   "source": [
    "from selenium import webdriver"
   ]
  },
  {
   "cell_type": "code",
   "execution_count": 9,
   "metadata": {},
   "outputs": [],
   "source": [
    "path = r'C:/Users/Shubham/AppData/Local/Temp/Rar$EXa0.328/Chromedriver'\n",
    "browser = webdriver.Chrome(executable_path = path)"
   ]
  },
  {
   "cell_type": "code",
   "execution_count": 10,
   "metadata": {},
   "outputs": [],
   "source": [
    "browser.get('https://www.amazon.com/s?k=men+t-shirts&crid=1BZSSUOXKFK98&sprefix=men+t-s%2Caps%2C414&ref=nb_sb_ss_i_1_7')"
   ]
  },
  {
   "cell_type": "code",
   "execution_count": 11,
   "metadata": {},
   "outputs": [],
   "source": [
    "browser.find_element_by_xpath('/html/body').click()"
   ]
  },
  {
   "cell_type": "code",
   "execution_count": 12,
   "metadata": {},
   "outputs": [
    {
     "name": "stdout",
     "output_type": "stream",
     "text": [
      "Requirement already satisfied: scrapy in c:\\users\\shubham\\anaconda3\\lib\\site-packages (2.1.0)\n",
      "Requirement already satisfied: Twisted>=17.9.0 in c:\\users\\shubham\\anaconda3\\lib\\site-packages (from scrapy) (20.3.0)\n",
      "Requirement already satisfied: queuelib>=1.4.2 in c:\\users\\shubham\\anaconda3\\lib\\site-packages (from scrapy) (1.5.0)\n",
      "Requirement already satisfied: w3lib>=1.17.0 in c:\\users\\shubham\\anaconda3\\lib\\site-packages (from scrapy) (1.22.0)\n",
      "Requirement already satisfied: service-identity>=16.0.0 in c:\\users\\shubham\\anaconda3\\lib\\site-packages (from scrapy) (18.1.0)\n",
      "Requirement already satisfied: PyDispatcher>=2.0.5 in c:\\users\\shubham\\anaconda3\\lib\\site-packages (from scrapy) (2.0.5)\n",
      "Requirement already satisfied: cssselect>=0.9.1 in c:\\users\\shubham\\anaconda3\\lib\\site-packages (from scrapy) (1.1.0)\n",
      "Requirement already satisfied: parsel>=1.5.0 in c:\\users\\shubham\\anaconda3\\lib\\site-packages (from scrapy) (1.6.0)\n",
      "Requirement already satisfied: protego>=0.1.15 in c:\\users\\shubham\\anaconda3\\lib\\site-packages (from scrapy) (0.1.16)\n",
      "Requirement already satisfied: lxml>=3.5.0 in c:\\users\\shubham\\anaconda3\\lib\\site-packages (from scrapy) (4.4.1)\n",
      "Requirement already satisfied: zope.interface>=4.1.3 in c:\\users\\shubham\\anaconda3\\lib\\site-packages (from scrapy) (5.1.0)\n",
      "Requirement already satisfied: pyOpenSSL>=16.2.0 in c:\\users\\shubham\\anaconda3\\lib\\site-packages (from scrapy) (19.0.0)\n",
      "Requirement already satisfied: cryptography>=2.0 in c:\\users\\shubham\\anaconda3\\lib\\site-packages (from scrapy) (2.7)\n",
      "Requirement already satisfied: constantly>=15.1 in c:\\users\\shubham\\anaconda3\\lib\\site-packages (from Twisted>=17.9.0->scrapy) (15.1.0)\n",
      "Requirement already satisfied: PyHamcrest!=1.10.0,>=1.9.0 in c:\\users\\shubham\\anaconda3\\lib\\site-packages (from Twisted>=17.9.0->scrapy) (2.0.2)\n",
      "Requirement already satisfied: Automat>=0.3.0 in c:\\users\\shubham\\anaconda3\\lib\\site-packages (from Twisted>=17.9.0->scrapy) (20.2.0)\n",
      "Requirement already satisfied: hyperlink>=17.1.1 in c:\\users\\shubham\\anaconda3\\lib\\site-packages (from Twisted>=17.9.0->scrapy) (19.0.0)\n",
      "Requirement already satisfied: incremental>=16.10.1 in c:\\users\\shubham\\anaconda3\\lib\\site-packages (from Twisted>=17.9.0->scrapy) (17.5.0)\n",
      "Requirement already satisfied: attrs>=19.2.0 in c:\\users\\shubham\\anaconda3\\lib\\site-packages (from Twisted>=17.9.0->scrapy) (19.2.0)\n",
      "Requirement already satisfied: six>=1.4.1 in c:\\users\\shubham\\anaconda3\\lib\\site-packages (from w3lib>=1.17.0->scrapy) (1.12.0)\n",
      "Requirement already satisfied: pyasn1 in c:\\users\\shubham\\anaconda3\\lib\\site-packages (from service-identity>=16.0.0->scrapy) (0.4.8)\n",
      "Requirement already satisfied: pyasn1-modules in c:\\users\\shubham\\anaconda3\\lib\\site-packages (from service-identity>=16.0.0->scrapy) (0.2.8)\n",
      "Requirement already satisfied: setuptools in c:\\users\\shubham\\anaconda3\\lib\\site-packages (from zope.interface>=4.1.3->scrapy) (41.4.0)\n",
      "Requirement already satisfied: cffi!=1.11.3,>=1.8 in c:\\users\\shubham\\anaconda3\\lib\\site-packages (from cryptography>=2.0->scrapy) (1.12.3)\n",
      "Requirement already satisfied: asn1crypto>=0.21.0 in c:\\users\\shubham\\anaconda3\\lib\\site-packages (from cryptography>=2.0->scrapy) (1.0.1)\n",
      "Requirement already satisfied: idna>=2.5 in c:\\users\\shubham\\anaconda3\\lib\\site-packages (from hyperlink>=17.1.1->Twisted>=17.9.0->scrapy) (2.8)\n",
      "Requirement already satisfied: pycparser in c:\\users\\shubham\\anaconda3\\lib\\site-packages (from cffi!=1.11.3,>=1.8->cryptography>=2.0->scrapy) (2.19)\n",
      "Note: you may need to restart the kernel to use updated packages.\n"
     ]
    }
   ],
   "source": [
    "pip install scrapy"
   ]
  },
  {
   "cell_type": "code",
   "execution_count": 13,
   "metadata": {},
   "outputs": [],
   "source": [
    "import scrapy\n",
    "\n",
    "class ImageItem(scrapy.Item):\n",
    "    images = scrapy.Field()\n",
    "    image_urls = scrapy.Field()"
   ]
  },
  {
   "cell_type": "code",
   "execution_count": 14,
   "metadata": {},
   "outputs": [],
   "source": [
    "import scrapy\n",
    "\n",
    "\n",
    "class ImgSpider(scrapy.spiders.Spider):\n",
    "    name = \"img_spider\"\n",
    "    start_urls = ['https://www.amazon.com/s?k=men+t-shirts&crid=1BZSSUOXKFK98&sprefix=men+t-s%2Caps%2C414&ref=nb_sb_ss_i_1_7']\n",
    "\n",
    "    def parse(self, response):\n",
    "        image = ImageItem()\n",
    "        img_urls = []\n",
    "\n",
    "        for img in response.css(\".entry-featured-image-url img::attr(src)\").extract():\n",
    "            img_urls.append(img)\n",
    "\n",
    "        image[\"image_urls\"] = img_urls\n",
    "\n",
    "        return image"
   ]
  },
  {
   "cell_type": "code",
   "execution_count": 15,
   "metadata": {},
   "outputs": [
    {
     "ename": "SyntaxError",
     "evalue": "invalid syntax (<ipython-input-15-85ccfcaa0c12>, line 1)",
     "output_type": "error",
     "traceback": [
      "\u001b[1;36m  File \u001b[1;32m\"<ipython-input-15-85ccfcaa0c12>\"\u001b[1;36m, line \u001b[1;32m1\u001b[0m\n\u001b[1;33m    scrapy crawler img_spyder\u001b[0m\n\u001b[1;37m                 ^\u001b[0m\n\u001b[1;31mSyntaxError\u001b[0m\u001b[1;31m:\u001b[0m invalid syntax\n"
     ]
    }
   ],
   "source": [
    "scrapy crawler img_spyder"
   ]
  },
  {
   "cell_type": "code",
   "execution_count": 16,
   "metadata": {},
   "outputs": [
    {
     "ename": "SyntaxError",
     "evalue": "invalid syntax (<ipython-input-16-dd40f0e7975c>, line 1)",
     "output_type": "error",
     "traceback": [
      "\u001b[1;36m  File \u001b[1;32m\"<ipython-input-16-dd40f0e7975c>\"\u001b[1;36m, line \u001b[1;32m1\u001b[0m\n\u001b[1;33m    scrapy runspider ImgSpyder.py\u001b[0m\n\u001b[1;37m                   ^\u001b[0m\n\u001b[1;31mSyntaxError\u001b[0m\u001b[1;31m:\u001b[0m invalid syntax\n"
     ]
    }
   ],
   "source": [
    "scrapy runspider ImgSpyder.py"
   ]
  },
  {
   "cell_type": "code",
   "execution_count": null,
   "metadata": {},
   "outputs": [],
   "source": []
  }
 ],
 "metadata": {
  "kernelspec": {
   "display_name": "Python 3",
   "language": "python",
   "name": "python3"
  },
  "language_info": {
   "codemirror_mode": {
    "name": "ipython",
    "version": 3
   },
   "file_extension": ".py",
   "mimetype": "text/x-python",
   "name": "python",
   "nbconvert_exporter": "python",
   "pygments_lexer": "ipython3",
   "version": "3.7.4"
  }
 },
 "nbformat": 4,
 "nbformat_minor": 2
}
