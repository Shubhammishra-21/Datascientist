{
 "cells": [
  {
   "cell_type": "code",
   "execution_count": 1,
   "metadata": {},
   "outputs": [],
   "source": [
    "import pandas as pd"
   ]
  },
  {
   "cell_type": "code",
   "execution_count": 2,
   "metadata": {},
   "outputs": [
    {
     "data": {
      "text/html": [
       "<div>\n",
       "<style scoped>\n",
       "    .dataframe tbody tr th:only-of-type {\n",
       "        vertical-align: middle;\n",
       "    }\n",
       "\n",
       "    .dataframe tbody tr th {\n",
       "        vertical-align: top;\n",
       "    }\n",
       "\n",
       "    .dataframe thead th {\n",
       "        text-align: right;\n",
       "    }\n",
       "</style>\n",
       "<table border=\"1\" class=\"dataframe\">\n",
       "  <thead>\n",
       "    <tr style=\"text-align: right;\">\n",
       "      <th></th>\n",
       "      <th>date</th>\n",
       "      <th>temperature</th>\n",
       "      <th>humidity</th>\n",
       "      <th>windspeed</th>\n",
       "      <th>count</th>\n",
       "    </tr>\n",
       "  </thead>\n",
       "  <tbody>\n",
       "    <tr>\n",
       "      <td>0</td>\n",
       "      <td>2011-01-03</td>\n",
       "      <td>2.716070</td>\n",
       "      <td>45.715346</td>\n",
       "      <td>21.414957</td>\n",
       "      <td>120.000000</td>\n",
       "    </tr>\n",
       "    <tr>\n",
       "      <td>1</td>\n",
       "      <td>2011-01-04</td>\n",
       "      <td>2.896673</td>\n",
       "      <td>54.267219</td>\n",
       "      <td>15.136882</td>\n",
       "      <td>108.000000</td>\n",
       "    </tr>\n",
       "    <tr>\n",
       "      <td>2</td>\n",
       "      <td>2011-01-05</td>\n",
       "      <td>4.235654</td>\n",
       "      <td>45.697702</td>\n",
       "      <td>17.034578</td>\n",
       "      <td>82.000000</td>\n",
       "    </tr>\n",
       "    <tr>\n",
       "      <td>3</td>\n",
       "      <td>2011-01-06</td>\n",
       "      <td>3.112643</td>\n",
       "      <td>50.237349</td>\n",
       "      <td>10.091568</td>\n",
       "      <td>88.000000</td>\n",
       "    </tr>\n",
       "    <tr>\n",
       "      <td>4</td>\n",
       "      <td>2011-01-07</td>\n",
       "      <td>2.723918</td>\n",
       "      <td>49.144928</td>\n",
       "      <td>15.738204</td>\n",
       "      <td>148.000000</td>\n",
       "    </tr>\n",
       "    <tr>\n",
       "      <td>...</td>\n",
       "      <td>...</td>\n",
       "      <td>...</td>\n",
       "      <td>...</td>\n",
       "      <td>...</td>\n",
       "      <td>...</td>\n",
       "    </tr>\n",
       "    <tr>\n",
       "      <td>186</td>\n",
       "      <td>2011-07-08</td>\n",
       "      <td>28.187490</td>\n",
       "      <td>63.618656</td>\n",
       "      <td>19.761499</td>\n",
       "      <td>692.000000</td>\n",
       "    </tr>\n",
       "    <tr>\n",
       "      <td>187</td>\n",
       "      <td>2011-07-09</td>\n",
       "      <td>29.070524</td>\n",
       "      <td>61.346450</td>\n",
       "      <td>21.121738</td>\n",
       "      <td>702.333333</td>\n",
       "    </tr>\n",
       "    <tr>\n",
       "      <td>188</td>\n",
       "      <td>2011-07-10</td>\n",
       "      <td>29.953558</td>\n",
       "      <td>59.074244</td>\n",
       "      <td>22.481976</td>\n",
       "      <td>712.666667</td>\n",
       "    </tr>\n",
       "    <tr>\n",
       "      <td>189</td>\n",
       "      <td>2011-07-11</td>\n",
       "      <td>30.836592</td>\n",
       "      <td>56.802038</td>\n",
       "      <td>23.842215</td>\n",
       "      <td>723.000000</td>\n",
       "    </tr>\n",
       "    <tr>\n",
       "      <td>190</td>\n",
       "      <td>2011-07-12</td>\n",
       "      <td>32.409522</td>\n",
       "      <td>52.521355</td>\n",
       "      <td>17.987135</td>\n",
       "      <td>662.000000</td>\n",
       "    </tr>\n",
       "  </tbody>\n",
       "</table>\n",
       "<p>191 rows × 5 columns</p>\n",
       "</div>"
      ],
      "text/plain": [
       "          date  temperature   humidity  windspeed       count\n",
       "0   2011-01-03     2.716070  45.715346  21.414957  120.000000\n",
       "1   2011-01-04     2.896673  54.267219  15.136882  108.000000\n",
       "2   2011-01-05     4.235654  45.697702  17.034578   82.000000\n",
       "3   2011-01-06     3.112643  50.237349  10.091568   88.000000\n",
       "4   2011-01-07     2.723918  49.144928  15.738204  148.000000\n",
       "..         ...          ...        ...        ...         ...\n",
       "186 2011-07-08    28.187490  63.618656  19.761499  692.000000\n",
       "187 2011-07-09    29.070524  61.346450  21.121738  702.333333\n",
       "188 2011-07-10    29.953558  59.074244  22.481976  712.666667\n",
       "189 2011-07-11    30.836592  56.802038  23.842215  723.000000\n",
       "190 2011-07-12    32.409522  52.521355  17.987135  662.000000\n",
       "\n",
       "[191 rows x 5 columns]"
      ]
     },
     "execution_count": 2,
     "metadata": {},
     "output_type": "execute_result"
    }
   ],
   "source": [
    "df_bikes=pd.read_csv(\"bikes.csv\",parse_dates=[\"date\"])\n",
    "df_bikes"
   ]
  },
  {
   "cell_type": "code",
   "execution_count": 3,
   "metadata": {},
   "outputs": [
    {
     "data": {
      "text/plain": [
       "date           datetime64[ns]\n",
       "temperature           float64\n",
       "humidity              float64\n",
       "windspeed             float64\n",
       "count                 float64\n",
       "dtype: object"
      ]
     },
     "execution_count": 3,
     "metadata": {},
     "output_type": "execute_result"
    }
   ],
   "source": [
    "df_bikes.dtypes"
   ]
  },
  {
   "cell_type": "code",
   "execution_count": 18,
   "metadata": {},
   "outputs": [
    {
     "data": {
      "image/png": "[encoded data removed]",
      "text/plain": [
       "<Figure size 432x288 with 2 Axes>"
      ]
     },
     "metadata": {
      "needs_background": "light"
     },
     "output_type": "display_data"
    }
   ],
   "source": [
    "import seaborn as sns\n",
    "import matplotlib.pyplot as plt\n",
    "sns.heatmap(df_bikes.isnull())\n",
    "plt.show()"
   ]
  },
  {
   "cell_type": "code",
   "execution_count": 5,
   "metadata": {},
   "outputs": [
    {
     "data": {
      "text/html": [
       "<div>\n",
       "<style scoped>\n",
       "    .dataframe tbody tr th:only-of-type {\n",
       "        vertical-align: middle;\n",
       "    }\n",
       "\n",
       "    .dataframe tbody tr th {\n",
       "        vertical-align: top;\n",
       "    }\n",
       "\n",
       "    .dataframe thead th {\n",
       "        text-align: right;\n",
       "    }\n",
       "</style>\n",
       "<table border=\"1\" class=\"dataframe\">\n",
       "  <thead>\n",
       "    <tr style=\"text-align: right;\">\n",
       "      <th></th>\n",
       "      <th>month</th>\n",
       "      <th>year</th>\n",
       "      <th>day</th>\n",
       "      <th>count</th>\n",
       "    </tr>\n",
       "  </thead>\n",
       "  <tbody>\n",
       "    <tr>\n",
       "      <td>0</td>\n",
       "      <td>January</td>\n",
       "      <td>2011</td>\n",
       "      <td>Monday</td>\n",
       "      <td>120.000000</td>\n",
       "    </tr>\n",
       "    <tr>\n",
       "      <td>1</td>\n",
       "      <td>January</td>\n",
       "      <td>2011</td>\n",
       "      <td>Tuesday</td>\n",
       "      <td>108.000000</td>\n",
       "    </tr>\n",
       "    <tr>\n",
       "      <td>2</td>\n",
       "      <td>January</td>\n",
       "      <td>2011</td>\n",
       "      <td>Wednesday</td>\n",
       "      <td>82.000000</td>\n",
       "    </tr>\n",
       "    <tr>\n",
       "      <td>3</td>\n",
       "      <td>January</td>\n",
       "      <td>2011</td>\n",
       "      <td>Thursday</td>\n",
       "      <td>88.000000</td>\n",
       "    </tr>\n",
       "    <tr>\n",
       "      <td>4</td>\n",
       "      <td>January</td>\n",
       "      <td>2011</td>\n",
       "      <td>Friday</td>\n",
       "      <td>148.000000</td>\n",
       "    </tr>\n",
       "    <tr>\n",
       "      <td>...</td>\n",
       "      <td>...</td>\n",
       "      <td>...</td>\n",
       "      <td>...</td>\n",
       "      <td>...</td>\n",
       "    </tr>\n",
       "    <tr>\n",
       "      <td>186</td>\n",
       "      <td>July</td>\n",
       "      <td>2011</td>\n",
       "      <td>Friday</td>\n",
       "      <td>692.000000</td>\n",
       "    </tr>\n",
       "    <tr>\n",
       "      <td>187</td>\n",
       "      <td>July</td>\n",
       "      <td>2011</td>\n",
       "      <td>Saturday</td>\n",
       "      <td>702.333333</td>\n",
       "    </tr>\n",
       "    <tr>\n",
       "      <td>188</td>\n",
       "      <td>July</td>\n",
       "      <td>2011</td>\n",
       "      <td>Sunday</td>\n",
       "      <td>712.666667</td>\n",
       "    </tr>\n",
       "    <tr>\n",
       "      <td>189</td>\n",
       "      <td>July</td>\n",
       "      <td>2011</td>\n",
       "      <td>Monday</td>\n",
       "      <td>723.000000</td>\n",
       "    </tr>\n",
       "    <tr>\n",
       "      <td>190</td>\n",
       "      <td>July</td>\n",
       "      <td>2011</td>\n",
       "      <td>Tuesday</td>\n",
       "      <td>662.000000</td>\n",
       "    </tr>\n",
       "  </tbody>\n",
       "</table>\n",
       "<p>191 rows × 4 columns</p>\n",
       "</div>"
      ],
      "text/plain": [
       "       month  year        day       count\n",
       "0    January  2011     Monday  120.000000\n",
       "1    January  2011    Tuesday  108.000000\n",
       "2    January  2011  Wednesday   82.000000\n",
       "3    January  2011   Thursday   88.000000\n",
       "4    January  2011     Friday  148.000000\n",
       "..       ...   ...        ...         ...\n",
       "186     July  2011     Friday  692.000000\n",
       "187     July  2011   Saturday  702.333333\n",
       "188     July  2011     Sunday  712.666667\n",
       "189     July  2011     Monday  723.000000\n",
       "190     July  2011    Tuesday  662.000000\n",
       "\n",
       "[191 rows x 4 columns]"
      ]
     },
     "execution_count": 5,
     "metadata": {},
     "output_type": "execute_result"
    }
   ],
   "source": [
    "df_bikes_dates=pd.DataFrame()\n",
    "df_bikes_dates[\"month\"]=df_bikes[\"date\"].dt.month_name()\n",
    "df_bikes_dates[\"year\"]=df_bikes[\"date\"].dt.year\n",
    "df_bikes_dates[\"day\"]=df_bikes[\"date\"].dt.day_name()\n",
    "df_bikes_dates[\"count\"]=df_bikes[\"count\"]\n",
    "df_bikes_dates"
   ]
  },
  {
   "cell_type": "code",
   "execution_count": 6,
   "metadata": {},
   "outputs": [
    {
     "data": {
      "text/plain": [
       "0    2011\n",
       "Name: year, dtype: int64"
      ]
     },
     "execution_count": 6,
     "metadata": {},
     "output_type": "execute_result"
    }
   ],
   "source": [
    "df_bikes_dates[\"year\"].drop_duplicates()"
   ]
  },
  {
   "cell_type": "code",
   "execution_count": 7,
   "metadata": {},
   "outputs": [],
   "source": [
    "import numpy as np\n",
    "df_bikes_dates[\"type of day\"]=np.where((df_bikes_dates[\"day\"]==\"Sunday\")|(df_bikes_dates[\"day\"]==\"Saturday\"),\"weekend\",\"weekday\")"
   ]
  },
  {
   "cell_type": "code",
   "execution_count": 8,
   "metadata": {},
   "outputs": [
    {
     "data": {
      "text/html": [
       "<div>\n",
       "<style scoped>\n",
       "    .dataframe tbody tr th:only-of-type {\n",
       "        vertical-align: middle;\n",
       "    }\n",
       "\n",
       "    .dataframe tbody tr th {\n",
       "        vertical-align: top;\n",
       "    }\n",
       "\n",
       "    .dataframe thead th {\n",
       "        text-align: right;\n",
       "    }\n",
       "</style>\n",
       "<table border=\"1\" class=\"dataframe\">\n",
       "  <thead>\n",
       "    <tr style=\"text-align: right;\">\n",
       "      <th></th>\n",
       "      <th>month</th>\n",
       "      <th>year</th>\n",
       "      <th>day</th>\n",
       "      <th>count</th>\n",
       "      <th>type of day</th>\n",
       "    </tr>\n",
       "  </thead>\n",
       "  <tbody>\n",
       "    <tr>\n",
       "      <td>0</td>\n",
       "      <td>January</td>\n",
       "      <td>2011</td>\n",
       "      <td>Monday</td>\n",
       "      <td>120.000000</td>\n",
       "      <td>weekday</td>\n",
       "    </tr>\n",
       "    <tr>\n",
       "      <td>1</td>\n",
       "      <td>January</td>\n",
       "      <td>2011</td>\n",
       "      <td>Tuesday</td>\n",
       "      <td>108.000000</td>\n",
       "      <td>weekday</td>\n",
       "    </tr>\n",
       "    <tr>\n",
       "      <td>2</td>\n",
       "      <td>January</td>\n",
       "      <td>2011</td>\n",
       "      <td>Wednesday</td>\n",
       "      <td>82.000000</td>\n",
       "      <td>weekday</td>\n",
       "    </tr>\n",
       "    <tr>\n",
       "      <td>3</td>\n",
       "      <td>January</td>\n",
       "      <td>2011</td>\n",
       "      <td>Thursday</td>\n",
       "      <td>88.000000</td>\n",
       "      <td>weekday</td>\n",
       "    </tr>\n",
       "    <tr>\n",
       "      <td>4</td>\n",
       "      <td>January</td>\n",
       "      <td>2011</td>\n",
       "      <td>Friday</td>\n",
       "      <td>148.000000</td>\n",
       "      <td>weekday</td>\n",
       "    </tr>\n",
       "    <tr>\n",
       "      <td>...</td>\n",
       "      <td>...</td>\n",
       "      <td>...</td>\n",
       "      <td>...</td>\n",
       "      <td>...</td>\n",
       "      <td>...</td>\n",
       "    </tr>\n",
       "    <tr>\n",
       "      <td>186</td>\n",
       "      <td>July</td>\n",
       "      <td>2011</td>\n",
       "      <td>Friday</td>\n",
       "      <td>692.000000</td>\n",
       "      <td>weekday</td>\n",
       "    </tr>\n",
       "    <tr>\n",
       "      <td>187</td>\n",
       "      <td>July</td>\n",
       "      <td>2011</td>\n",
       "      <td>Saturday</td>\n",
       "      <td>702.333333</td>\n",
       "      <td>weekend</td>\n",
       "    </tr>\n",
       "    <tr>\n",
       "      <td>188</td>\n",
       "      <td>July</td>\n",
       "      <td>2011</td>\n",
       "      <td>Sunday</td>\n",
       "      <td>712.666667</td>\n",
       "      <td>weekend</td>\n",
       "    </tr>\n",
       "    <tr>\n",
       "      <td>189</td>\n",
       "      <td>July</td>\n",
       "      <td>2011</td>\n",
       "      <td>Monday</td>\n",
       "      <td>723.000000</td>\n",
       "      <td>weekday</td>\n",
       "    </tr>\n",
       "    <tr>\n",
       "      <td>190</td>\n",
       "      <td>July</td>\n",
       "      <td>2011</td>\n",
       "      <td>Tuesday</td>\n",
       "      <td>662.000000</td>\n",
       "      <td>weekday</td>\n",
       "    </tr>\n",
       "  </tbody>\n",
       "</table>\n",
       "<p>191 rows × 5 columns</p>\n",
       "</div>"
      ],
      "text/plain": [
       "       month  year        day       count type of day\n",
       "0    January  2011     Monday  120.000000     weekday\n",
       "1    January  2011    Tuesday  108.000000     weekday\n",
       "2    January  2011  Wednesday   82.000000     weekday\n",
       "3    January  2011   Thursday   88.000000     weekday\n",
       "4    January  2011     Friday  148.000000     weekday\n",
       "..       ...   ...        ...         ...         ...\n",
       "186     July  2011     Friday  692.000000     weekday\n",
       "187     July  2011   Saturday  702.333333     weekend\n",
       "188     July  2011     Sunday  712.666667     weekend\n",
       "189     July  2011     Monday  723.000000     weekday\n",
       "190     July  2011    Tuesday  662.000000     weekday\n",
       "\n",
       "[191 rows x 5 columns]"
      ]
     },
     "execution_count": 8,
     "metadata": {},
     "output_type": "execute_result"
    }
   ],
   "source": [
    "df_bikes_dates"
   ]
  },
  {
   "cell_type": "code",
   "execution_count": 9,
   "metadata": {},
   "outputs": [
    {
     "data": {
      "text/plain": [
       "temperature    0.053735\n",
       "humidity      -0.417698\n",
       "windspeed      0.341381\n",
       "count          0.153032\n",
       "dtype: float64"
      ]
     },
     "execution_count": 9,
     "metadata": {},
     "output_type": "execute_result"
    }
   ],
   "source": [
    "df_bikes.skew()"
   ]
  },
  {
   "cell_type": "code",
   "execution_count": 10,
   "metadata": {},
   "outputs": [],
   "source": [
    "df_x=df_bikes.drop(columns=[\"count\",\"date\"])\n",
    "y=pd.DataFrame(df_bikes[\"count\"])"
   ]
  },
  {
   "cell_type": "code",
   "execution_count": 11,
   "metadata": {},
   "outputs": [],
   "source": [
    "from sklearn.preprocessing import StandardScaler\n",
    "sc=StandardScaler()\n",
    "x=sc.fit_transform(df_x)\n",
    "x=pd.DataFrame(x,columns=df_x.columns)"
   ]
  },
  {
   "cell_type": "code",
   "execution_count": 12,
   "metadata": {},
   "outputs": [
    {
     "data": {
      "text/plain": [
       "temperature    0.053735\n",
       "humidity      -0.417698\n",
       "windspeed      0.341381\n",
       "dtype: float64"
      ]
     },
     "execution_count": 12,
     "metadata": {},
     "output_type": "execute_result"
    }
   ],
   "source": [
    "x.skew()"
   ]
  },
  {
   "cell_type": "code",
   "execution_count": 13,
   "metadata": {},
   "outputs": [
    {
     "name": "stdout",
     "output_type": "stream",
     "text": [
      "max r2 score corresponding to  42 is 0.7842161037383236\n",
      "max r2 score corresponding to  43 is 0.8561235096423362\n",
      "max r2 score corresponding to  48 is 0.8844080169977216\n",
      "max r2 score corresponding to  86 is 0.9033489566161144\n",
      "max r2 score corresponding to  88 is 0.9068265759551855\n"
     ]
    }
   ],
   "source": [
    "from sklearn.metrics import mean_absolute_error\n",
    "from sklearn.metrics import mean_squared_error\n",
    "from sklearn.metrics import r2_score\n",
    "from sklearn import linear_model\n",
    "from sklearn.model_selection import train_test_split\n",
    "max_r_score=0\n",
    "for r_state in range(42,200):\n",
    "    x_train,x_test,y_train,y_test=train_test_split(x,y,random_state = r_state,test_size=0.20)\n",
    "    regr = linear_model.LinearRegression()\n",
    "    regr.fit(x_train,y_train)\n",
    "    y_pred=regr.predict(x_test)\n",
    "    r2_scr=r2_score(y_test,y_pred)\n",
    "    if r2_scr > max_r_score:\n",
    "        max_r_score=r2_scr\n",
    "        final_r_state=r_state\n",
    "        print(\"max r2 score corresponding to \",final_r_state,\"is\",max_r_score)"
   ]
  },
  {
   "cell_type": "code",
   "execution_count": 14,
   "metadata": {},
   "outputs": [
    {
     "data": {
      "text/plain": [
       "array([-6.2403113 ,  0.36358796,  0.71325042, -1.31452664, -0.23217497])"
      ]
     },
     "execution_count": 14,
     "metadata": {},
     "output_type": "execute_result"
    }
   ],
   "source": [
    "from sklearn.model_selection import cross_val_score\n",
    "r_score=cross_val_score(linear_model.LinearRegression(),x,y,cv=5,scoring=\"r2\")\n",
    "r_score"
   ]
  },
  {
   "cell_type": "code",
   "execution_count": 15,
   "metadata": {},
   "outputs": [],
   "source": [
    "x_train,x_test,y_train,y_test=train_test_split(x,y,random_state = 88,test_size=0.20)\n",
    "regr=linear_model.LinearRegression()\n",
    "regr.fit(x_train,y_train)\n",
    "y_pred = regr.predict(x_test)"
   ]
  },
  {
   "cell_type": "code",
   "execution_count": 16,
   "metadata": {},
   "outputs": [
    {
     "name": "stdout",
     "output_type": "stream",
     "text": [
      "RMSE is: 95.32465795102233\n",
      "r2_score is: 0.9068265759551855\n"
     ]
    }
   ],
   "source": [
    "from sklearn.metrics import r2_score\n",
    "from sklearn.metrics import mean_squared_error\n",
    "print(\"RMSE is:\",np.sqrt(mean_squared_error(y_test,y_pred)))\n",
    "print(\"r2_score is:\",r2_score(y_test,y_pred))"
   ]
  },
  {
   "cell_type": "code",
   "execution_count": 17,
   "metadata": {},
   "outputs": [
    {
     "name": "stderr",
     "output_type": "stream",
     "text": [
      "C:\\Users\\Shubham\\Anaconda3\\lib\\site-packages\\sklearn\\externals\\joblib\\__init__.py:15: DeprecationWarning: sklearn.externals.joblib is deprecated in 0.21 and will be removed in 0.23. Please import this functionality directly from joblib, which can be installed with: pip install joblib. If this warning is raised when loading pickled models, you may need to re-serialize those models with scikit-learn 0.21+.\n",
      "  warnings.warn(msg, category=DeprecationWarning)\n"
     ]
    },
    {
     "data": {
      "text/plain": [
       "['bikes_linear_reg.pkl']"
      ]
     },
     "execution_count": 17,
     "metadata": {},
     "output_type": "execute_result"
    }
   ],
   "source": [
    "from sklearn.externals import joblib\n",
    "joblib.dump(regr,\"bikes_linear_reg.pkl\")"
   ]
  },
  {
   "cell_type": "code",
   "execution_count": null,
   "metadata": {},
   "outputs": [],
   "source": []
  }
 ],
 "metadata": {
  "kernelspec": {
   "display_name": "Python 3",
   "language": "python",
   "name": "python3"
  },
  "language_info": {
   "codemirror_mode": {
    "name": "ipython",
    "version": 3
   },
   "file_extension": ".py",
   "mimetype": "text/x-python",
   "name": "python",
   "nbconvert_exporter": "python",
   "pygments_lexer": "ipython3",
   "version": "3.7.4"
  }
 },
 "nbformat": 4,
 "nbformat_minor": 2
}
