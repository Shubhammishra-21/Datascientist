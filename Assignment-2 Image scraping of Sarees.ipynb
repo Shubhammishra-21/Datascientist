{
 "cells": [
  {
   "cell_type": "markdown",
   "metadata": {},
   "source": [
    "# Scraping Images from Amazon"
   ]
  },
  {
   "cell_type": "markdown",
   "metadata": {},
   "source": [
    "# Step-1:Import the Libraries and get the URL of the webpage"
   ]
  },
  {
   "cell_type": "code",
   "execution_count": 68,
   "metadata": {},
   "outputs": [
    {
     "name": "stdout",
     "output_type": "stream",
     "text": [
      "Requirement already satisfied: selenium in c:\\users\\shubham\\anaconda3\\lib\\site-packages (3.141.0)\n",
      "Requirement already satisfied: urllib3 in c:\\users\\shubham\\anaconda3\\lib\\site-packages (from selenium) (1.24.2)\n",
      "Note: you may need to restart the kernel to use updated packages.\n"
     ]
    }
   ],
   "source": [
    "pip install selenium"
   ]
  },
  {
   "cell_type": "code",
   "execution_count": 69,
   "metadata": {},
   "outputs": [],
   "source": [
    "from selenium import webdriver\n",
    "import os"
   ]
  },
  {
   "cell_type": "code",
   "execution_count": 70,
   "metadata": {},
   "outputs": [],
   "source": [
    "driver = webdriver.Chrome('C:/Users/Shubham/AppData/Local/Temp/Rar$EXa0.328/Chromedriver')\n"
   ]
  },
  {
   "cell_type": "code",
   "execution_count": 71,
   "metadata": {},
   "outputs": [],
   "source": [
    "driver.get('https://www.amazon.com/s?k=sarees&crid=T9IZ3CZ72DP9&sprefix=sarees%2Caps%2C742&ref=nb_sb_ss_i_2_6')"
   ]
  },
  {
   "cell_type": "markdown",
   "metadata": {},
   "source": [
    "# Making the directory to store images"
   ]
  },
  {
   "cell_type": "code",
   "execution_count": 72,
   "metadata": {},
   "outputs": [],
   "source": [
    "def make_directory(dirname):\n",
    "    current_path=os.getcwd()\n",
    "    path=os.path.join(current_path, dirname)\n",
    "    if not os.path.exists(path):\n",
    "        os.makedirs(path)"
   ]
  },
  {
   "cell_type": "code",
   "execution_count": 73,
   "metadata": {},
   "outputs": [],
   "source": [
    "make_directory(\"amazon_sarees\")"
   ]
  },
  {
   "cell_type": "markdown",
   "metadata": {},
   "source": [
    "# Step-3:Scraping image Urls"
   ]
  },
  {
   "cell_type": "code",
   "execution_count": 74,
   "metadata": {},
   "outputs": [
    {
     "name": "stdout",
     "output_type": "stream",
     "text": [
      "[<selenium.webdriver.remote.webelement.WebElement (session=\"7b8f9fa0a4f3d212cdd78db1cafe87bf\", element=\"367dce66-b2a6-4307-82b1-b46bcd5119f2\")>, <selenium.webdriver.remote.webelement.WebElement (session=\"7b8f9fa0a4f3d212cdd78db1cafe87bf\", element=\"17dad2a5-1ba0-429c-99d1-32acc4b4546f\")>, <selenium.webdriver.remote.webelement.WebElement (session=\"7b8f9fa0a4f3d212cdd78db1cafe87bf\", element=\"e37495d5-a0ea-4901-8620-314b76c07b47\")>, <selenium.webdriver.remote.webelement.WebElement (session=\"7b8f9fa0a4f3d212cdd78db1cafe87bf\", element=\"8e339d75-28f9-48ff-a562-2a8f1ff0a9fb\")>, <selenium.webdriver.remote.webelement.WebElement (session=\"7b8f9fa0a4f3d212cdd78db1cafe87bf\", element=\"0df43e77-02d4-48e1-bb85-8d89b817e832\")>, <selenium.webdriver.remote.webelement.WebElement (session=\"7b8f9fa0a4f3d212cdd78db1cafe87bf\", element=\"fcd03c15-c0da-4f58-b40e-77ac9a0122bc\")>, <selenium.webdriver.remote.webelement.WebElement (session=\"7b8f9fa0a4f3d212cdd78db1cafe87bf\", element=\"b4877675-dee5-4bdd-b171-e45bf6c942b6\")>, <selenium.webdriver.remote.webelement.WebElement (session=\"7b8f9fa0a4f3d212cdd78db1cafe87bf\", element=\"35d19eb8-6174-4b99-889e-009d190e4406\")>, <selenium.webdriver.remote.webelement.WebElement (session=\"7b8f9fa0a4f3d212cdd78db1cafe87bf\", element=\"6bfa30f5-638d-48cb-b8dc-992244bb4f93\")>, <selenium.webdriver.remote.webelement.WebElement (session=\"7b8f9fa0a4f3d212cdd78db1cafe87bf\", element=\"73ff31bd-1970-4bd8-8a6e-3e16a1d3646a\")>, <selenium.webdriver.remote.webelement.WebElement (session=\"7b8f9fa0a4f3d212cdd78db1cafe87bf\", element=\"fb04b97f-2b00-4d79-a217-814d4c70c41d\")>, <selenium.webdriver.remote.webelement.WebElement (session=\"7b8f9fa0a4f3d212cdd78db1cafe87bf\", element=\"e39fc30f-0759-4e91-a1b6-8173fb55ac02\")>, <selenium.webdriver.remote.webelement.WebElement (session=\"7b8f9fa0a4f3d212cdd78db1cafe87bf\", element=\"77c80de5-8c6c-4dc4-9b74-f482f4bd81e0\")>, <selenium.webdriver.remote.webelement.WebElement (session=\"7b8f9fa0a4f3d212cdd78db1cafe87bf\", element=\"dc9bb92f-3b2c-4d3a-99be-9870d0ac411a\")>, <selenium.webdriver.remote.webelement.WebElement (session=\"7b8f9fa0a4f3d212cdd78db1cafe87bf\", element=\"3de3cc8b-662a-4eed-a520-7b3dcdcf3dd7\")>, <selenium.webdriver.remote.webelement.WebElement (session=\"7b8f9fa0a4f3d212cdd78db1cafe87bf\", element=\"8c9e2f40-32d8-4c69-8585-cd637434c0ca\")>, <selenium.webdriver.remote.webelement.WebElement (session=\"7b8f9fa0a4f3d212cdd78db1cafe87bf\", element=\"03f74ff8-006c-4c37-96cb-1c18f3466d95\")>, <selenium.webdriver.remote.webelement.WebElement (session=\"7b8f9fa0a4f3d212cdd78db1cafe87bf\", element=\"c972bc7a-827c-429c-ad31-b5f8ebbf96ec\")>, <selenium.webdriver.remote.webelement.WebElement (session=\"7b8f9fa0a4f3d212cdd78db1cafe87bf\", element=\"ed1b7646-786c-42ca-abbe-2048e0bb160d\")>, <selenium.webdriver.remote.webelement.WebElement (session=\"7b8f9fa0a4f3d212cdd78db1cafe87bf\", element=\"949dd2f5-6b27-4be3-b464-a4ac2f963e10\")>, <selenium.webdriver.remote.webelement.WebElement (session=\"7b8f9fa0a4f3d212cdd78db1cafe87bf\", element=\"b8f844c1-ef07-41b6-8415-651edbf4788b\")>, <selenium.webdriver.remote.webelement.WebElement (session=\"7b8f9fa0a4f3d212cdd78db1cafe87bf\", element=\"8dd8a829-b899-42d8-be02-85e26f96c117\")>, <selenium.webdriver.remote.webelement.WebElement (session=\"7b8f9fa0a4f3d212cdd78db1cafe87bf\", element=\"822e1271-1d4a-496b-af7d-7932e177f605\")>, <selenium.webdriver.remote.webelement.WebElement (session=\"7b8f9fa0a4f3d212cdd78db1cafe87bf\", element=\"f59c8613-0f50-42ff-b014-05af5499f6b9\")>, <selenium.webdriver.remote.webelement.WebElement (session=\"7b8f9fa0a4f3d212cdd78db1cafe87bf\", element=\"a05f29d8-2125-49ea-95c0-8300f7906817\")>, <selenium.webdriver.remote.webelement.WebElement (session=\"7b8f9fa0a4f3d212cdd78db1cafe87bf\", element=\"f6747c06-980f-45ad-9e2d-aa63fa695ebd\")>, <selenium.webdriver.remote.webelement.WebElement (session=\"7b8f9fa0a4f3d212cdd78db1cafe87bf\", element=\"0bd13bc2-2dc1-4439-a1ca-311934a99233\")>, <selenium.webdriver.remote.webelement.WebElement (session=\"7b8f9fa0a4f3d212cdd78db1cafe87bf\", element=\"b0f0256d-dd91-4ab4-a3ba-67620fb22a77\")>, <selenium.webdriver.remote.webelement.WebElement (session=\"7b8f9fa0a4f3d212cdd78db1cafe87bf\", element=\"5fea221b-ef85-48c2-8c22-13a0434e05de\")>, <selenium.webdriver.remote.webelement.WebElement (session=\"7b8f9fa0a4f3d212cdd78db1cafe87bf\", element=\"ef0c6f77-bb94-4d00-a4d2-95cdbcac194d\")>, <selenium.webdriver.remote.webelement.WebElement (session=\"7b8f9fa0a4f3d212cdd78db1cafe87bf\", element=\"1822d3c3-9543-4830-8708-f398cb0970e1\")>, <selenium.webdriver.remote.webelement.WebElement (session=\"7b8f9fa0a4f3d212cdd78db1cafe87bf\", element=\"70d98ce7-7a91-42e3-83d0-8ed66bf64a0f\")>, <selenium.webdriver.remote.webelement.WebElement (session=\"7b8f9fa0a4f3d212cdd78db1cafe87bf\", element=\"eee8e909-b119-44e7-b626-a767065a745a\")>, <selenium.webdriver.remote.webelement.WebElement (session=\"7b8f9fa0a4f3d212cdd78db1cafe87bf\", element=\"a509a726-ca18-4a64-bd99-7bcdc93e867d\")>, <selenium.webdriver.remote.webelement.WebElement (session=\"7b8f9fa0a4f3d212cdd78db1cafe87bf\", element=\"781f51c2-9d50-4456-a96c-cb09e0b0a0ed\")>, <selenium.webdriver.remote.webelement.WebElement (session=\"7b8f9fa0a4f3d212cdd78db1cafe87bf\", element=\"f005b7c2-55c2-4e53-99d9-fa3147834759\")>, <selenium.webdriver.remote.webelement.WebElement (session=\"7b8f9fa0a4f3d212cdd78db1cafe87bf\", element=\"b35a0c75-069c-452c-9a68-f25efdc9f07f\")>, <selenium.webdriver.remote.webelement.WebElement (session=\"7b8f9fa0a4f3d212cdd78db1cafe87bf\", element=\"46c43a94-d95a-4049-941f-3eb2f9038ef7\")>, <selenium.webdriver.remote.webelement.WebElement (session=\"7b8f9fa0a4f3d212cdd78db1cafe87bf\", element=\"cd544e66-d8f1-486a-b189-ab1482b0301d\")>, <selenium.webdriver.remote.webelement.WebElement (session=\"7b8f9fa0a4f3d212cdd78db1cafe87bf\", element=\"bb997cbd-3f47-4d5a-b6ee-6cf8f72457ae\")>, <selenium.webdriver.remote.webelement.WebElement (session=\"7b8f9fa0a4f3d212cdd78db1cafe87bf\", element=\"9c61aaaa-0e0b-42bb-aacf-c7389d5cc9de\")>, <selenium.webdriver.remote.webelement.WebElement (session=\"7b8f9fa0a4f3d212cdd78db1cafe87bf\", element=\"c8661151-1c7f-4346-a800-b612daa5c65a\")>, <selenium.webdriver.remote.webelement.WebElement (session=\"7b8f9fa0a4f3d212cdd78db1cafe87bf\", element=\"d3430074-d6f3-42fb-9ee1-ef9fe2fcd903\")>, <selenium.webdriver.remote.webelement.WebElement (session=\"7b8f9fa0a4f3d212cdd78db1cafe87bf\", element=\"1df4040e-d02b-4ee5-bf71-3026a50e11eb\")>, <selenium.webdriver.remote.webelement.WebElement (session=\"7b8f9fa0a4f3d212cdd78db1cafe87bf\", element=\"31d84d17-5420-4036-9502-cb3a661c827e\")>, <selenium.webdriver.remote.webelement.WebElement (session=\"7b8f9fa0a4f3d212cdd78db1cafe87bf\", element=\"6573a5a7-d063-4edb-95e8-0a43f7e729bd\")>, <selenium.webdriver.remote.webelement.WebElement (session=\"7b8f9fa0a4f3d212cdd78db1cafe87bf\", element=\"c64e6c34-0aed-4c88-83c7-3f2c2bf04dab\")>, <selenium.webdriver.remote.webelement.WebElement (session=\"7b8f9fa0a4f3d212cdd78db1cafe87bf\", element=\"14ec8372-eaa3-4a17-b3d1-56c69b004f6c\")>, <selenium.webdriver.remote.webelement.WebElement (session=\"7b8f9fa0a4f3d212cdd78db1cafe87bf\", element=\"145e6172-84d4-4038-a2e3-5eb928dfaef2\")>, <selenium.webdriver.remote.webelement.WebElement (session=\"7b8f9fa0a4f3d212cdd78db1cafe87bf\", element=\"cccd41cd-1ef0-4b76-aa64-64b32ead0cbb\")>, <selenium.webdriver.remote.webelement.WebElement (session=\"7b8f9fa0a4f3d212cdd78db1cafe87bf\", element=\"ab7c9d03-0221-4633-9b9b-9b45a7161a73\")>, <selenium.webdriver.remote.webelement.WebElement (session=\"7b8f9fa0a4f3d212cdd78db1cafe87bf\", element=\"aa3a291f-be28-49c9-b6bd-b1eba8a3fdca\")>, <selenium.webdriver.remote.webelement.WebElement (session=\"7b8f9fa0a4f3d212cdd78db1cafe87bf\", element=\"cbee0208-9d48-49ad-99f5-5e7e7795e0b7\")>, <selenium.webdriver.remote.webelement.WebElement (session=\"7b8f9fa0a4f3d212cdd78db1cafe87bf\", element=\"efa356b7-b11b-4e3e-8c57-99ef1ec719a6\")>, <selenium.webdriver.remote.webelement.WebElement (session=\"7b8f9fa0a4f3d212cdd78db1cafe87bf\", element=\"15920da5-c145-4b56-9bec-539ca3811def\")>]\n"
     ]
    }
   ],
   "source": [
    "images=driver.find_elements_by_xpath(\"//div[@class='a-section aok-relative s-image-square-aspect']//img\")\n",
    "print(images)"
   ]
  },
  {
   "cell_type": "code",
   "execution_count": 75,
   "metadata": {},
   "outputs": [
    {
     "name": "stdout",
     "output_type": "stream",
     "text": [
      "<selenium.webdriver.remote.webelement.WebElement (session=\"7b8f9fa0a4f3d212cdd78db1cafe87bf\", element=\"367dce66-b2a6-4307-82b1-b46bcd5119f2\")>\n"
     ]
    }
   ],
   "source": [
    "print(images[0])"
   ]
  },
  {
   "cell_type": "code",
   "execution_count": 76,
   "metadata": {},
   "outputs": [
    {
     "name": "stdout",
     "output_type": "stream",
     "text": [
      "https://m.media-amazon.com/images/I/71LPJI+m-UL._AC_UL320_.jpg\n",
      "https://m.media-amazon.com/images/I/91B-zwKG+KL._AC_UL320_.jpg\n",
      "https://m.media-amazon.com/images/I/91pEQwDx0vL._AC_UL320_.jpg\n",
      "https://m.media-amazon.com/images/I/719FHGOmjgL._AC_UL320_.jpg\n",
      "https://m.media-amazon.com/images/I/61JCjHPcC5L._AC_UL320_.jpg\n",
      "https://m.media-amazon.com/images/I/61pBlGckE-L._AC_UL320_.jpg\n",
      "https://m.media-amazon.com/images/I/61dw3hBBM3L._AC_UL320_.jpg\n",
      "https://m.media-amazon.com/images/I/81z0HHuIp5L._AC_UL320_.jpg\n",
      "https://m.media-amazon.com/images/I/91YQKD8UESL._AC_UL320_.jpg\n",
      "https://m.media-amazon.com/images/I/81gFWZw8yZL._AC_UL320_.jpg\n",
      "https://m.media-amazon.com/images/I/810NMzw8vxL._AC_UL320_.jpg\n",
      "https://m.media-amazon.com/images/I/813hWqiaRfL._AC_UL320_.jpg\n",
      "https://m.media-amazon.com/images/I/71JuyG3XiDL._AC_UL320_.jpg\n",
      "https://m.media-amazon.com/images/I/81FWlHyPpQL._AC_UL320_.jpg\n",
      "https://m.media-amazon.com/images/I/71GmcX70j-L._AC_UL320_.jpg\n",
      "https://m.media-amazon.com/images/I/71yeu4ohDiL._AC_UL320_.jpg\n",
      "https://m.media-amazon.com/images/I/814Px5Zj97L._AC_UL320_.jpg\n",
      "https://m.media-amazon.com/images/I/61AbElOmRFL._AC_UL320_.jpg\n",
      "https://m.media-amazon.com/images/I/71m4EdueIUL._AC_UL320_.jpg\n",
      "https://m.media-amazon.com/images/I/81MiKMGwm-L._AC_UL320_.jpg\n",
      "https://m.media-amazon.com/images/I/71QGz3rYpaL._AC_UL320_.jpg\n",
      "https://m.media-amazon.com/images/I/71RZxhZXb2L._AC_UL320_.jpg\n",
      "https://m.media-amazon.com/images/I/91Lr-vMenvL._AC_UL320_.jpg\n",
      "https://m.media-amazon.com/images/I/71y2PIDAeYL._AC_UL320_.jpg\n",
      "https://m.media-amazon.com/images/I/91vaMyab5lL._AC_UL320_.jpg\n",
      "https://m.media-amazon.com/images/I/71JuyG3XiDL._AC_UL320_.jpg\n",
      "https://m.media-amazon.com/images/I/81yIj3-O9XL._AC_UL320_.jpg\n",
      "https://m.media-amazon.com/images/I/81hbsYozzqL._AC_UL320_.jpg\n",
      "https://m.media-amazon.com/images/I/91vxE+Uft7L._AC_UL320_.jpg\n",
      "https://m.media-amazon.com/images/I/91cw-Cq5lHL._AC_UL320_.jpg\n",
      "https://m.media-amazon.com/images/I/71PcQDiZGFL._AC_UL320_.jpg\n",
      "https://m.media-amazon.com/images/I/91dMMSbGv-L._AC_UL320_.jpg\n",
      "https://m.media-amazon.com/images/I/91VXgaItpCL._AC_UL320_.jpg\n",
      "https://m.media-amazon.com/images/I/914XpX+8q5L._AC_UL320_.jpg\n",
      "https://m.media-amazon.com/images/I/61b1IpZV0EL._AC_UL320_.jpg\n",
      "https://m.media-amazon.com/images/I/71GmcX70j-L._AC_UL320_.jpg\n",
      "https://m.media-amazon.com/images/I/61JBJ7q2HpL._AC_UL320_.jpg\n",
      "https://m.media-amazon.com/images/I/918eg0BHtmL._AC_UL320_.jpg\n",
      "https://m.media-amazon.com/images/I/91YbVnRfAUL._AC_UL320_.jpg\n",
      "https://m.media-amazon.com/images/I/816AS4HqbJL._AC_UL320_.jpg\n",
      "https://m.media-amazon.com/images/I/815f87YoL7L._AC_UL320_.jpg\n",
      "https://m.media-amazon.com/images/I/91SI6Th8McL._AC_UL320_.jpg\n",
      "https://m.media-amazon.com/images/I/71HJO8Gjg4L._AC_UL320_.jpg\n",
      "https://m.media-amazon.com/images/I/71w2gUl6QnL._AC_UL320_.jpg\n",
      "https://m.media-amazon.com/images/I/818skkxB1-L._AC_UL320_.jpg\n",
      "https://m.media-amazon.com/images/I/71czThI0I6L._AC_UL320_.jpg\n",
      "https://m.media-amazon.com/images/I/61NoycfOEyL._AC_UL320_.jpg\n",
      "https://m.media-amazon.com/images/I/61eUTFXOsEL._AC_UL320_.jpg\n",
      "https://m.media-amazon.com/images/I/81nI70Q-zSL._AC_UL320_.jpg\n",
      "https://m.media-amazon.com/images/I/513bRLf6HUL._AC_UL320_.jpg\n",
      "https://m.media-amazon.com/images/I/71kHqIKYO-L._AC_UL320_.jpg\n",
      "https://m.media-amazon.com/images/I/81gkIsFZAAL._AC_UL320_.jpg\n",
      "https://m.media-amazon.com/images/I/71f69ksp77L._AC_UL320_.jpg\n",
      "https://m.media-amazon.com/images/I/81r+fBdPZ1L._AC_UL320_.jpg\n",
      "https://m.media-amazon.com/images/I/91M0DbUunmL._AC_UL320_.jpg\n"
     ]
    }
   ],
   "source": [
    "urls=[]\n",
    "for image in images:\n",
    "    source= image.get_attribute('src')\n",
    "    urls.append(source)\n",
    "    print(source)"
   ]
  },
  {
   "cell_type": "code",
   "execution_count": 77,
   "metadata": {},
   "outputs": [
    {
     "data": {
      "text/plain": [
       "55"
      ]
     },
     "execution_count": 77,
     "metadata": {},
     "output_type": "execute_result"
    }
   ],
   "source": [
    "len(urls)"
   ]
  },
  {
   "cell_type": "markdown",
   "metadata": {},
   "source": [
    "# using Urls to download images"
   ]
  },
  {
   "cell_type": "code",
   "execution_count": 78,
   "metadata": {},
   "outputs": [],
   "source": [
    "import shutil\n",
    "import requests"
   ]
  },
  {
   "cell_type": "code",
   "execution_count": 79,
   "metadata": {
    "scrolled": true
   },
   "outputs": [
    {
     "name": "stdout",
     "output_type": "stream",
     "text": [
      "Downloading (0) of (1) images\n",
      "Downloading (0) of (1) images\n",
      "Downloading (0) of (1) images\n",
      "Downloading (0) of (1) images\n",
      "Downloading (0) of (1) images\n",
      "Downloading (0) of (1) images\n",
      "Downloading (0) of (1) images\n",
      "Downloading (0) of (1) images\n",
      "Downloading (0) of (1) images\n",
      "Downloading (0) of (1) images\n",
      "Downloading (0) of (1) images\n",
      "Downloading (0) of (1) images\n",
      "Downloading (0) of (1) images\n",
      "Downloading (0) of (1) images\n",
      "Downloading (0) of (1) images\n",
      "Downloading (0) of (1) images\n",
      "Downloading (0) of (1) images\n",
      "Downloading (0) of (1) images\n",
      "Downloading (0) of (1) images\n",
      "Downloading (0) of (1) images\n",
      "Downloading (0) of (1) images\n",
      "Downloading (0) of (1) images\n",
      "Downloading (0) of (1) images\n",
      "Downloading (0) of (1) images\n",
      "Downloading (0) of (1) images\n",
      "Downloading (0) of (1) images\n",
      "Downloading (0) of (1) images\n",
      "Downloading (0) of (1) images\n",
      "Downloading (0) of (1) images\n",
      "Downloading (0) of (1) images\n",
      "Downloading (0) of (1) images\n",
      "Downloading (0) of (1) images\n",
      "Downloading (0) of (1) images\n",
      "Downloading (0) of (1) images\n",
      "Downloading (0) of (1) images\n",
      "Downloading (0) of (1) images\n",
      "Downloading (0) of (1) images\n",
      "Downloading (0) of (1) images\n",
      "Downloading (0) of (1) images\n",
      "Downloading (0) of (1) images\n",
      "Downloading (0) of (1) images\n",
      "Downloading (0) of (1) images\n",
      "Downloading (0) of (1) images\n",
      "Downloading (0) of (1) images\n",
      "Downloading (0) of (1) images\n",
      "Downloading (0) of (1) images\n",
      "Downloading (0) of (1) images\n",
      "Downloading (0) of (1) images\n",
      "Downloading (0) of (1) images\n",
      "Downloading (0) of (1) images\n",
      "Downloading (0) of (1) images\n",
      "Downloading (0) of (1) images\n",
      "Downloading (0) of (1) images\n",
      "Downloading (0) of (1) images\n",
      "Downloading (0) of (1) images\n"
     ]
    }
   ],
   "source": [
    "for index,link in enumerate(urls):\n",
    "    print(\"Downloading (0) of (1) images\".format(index+1,len(urls)))\n",
    "    response= requests.get(link)\n",
    "    with open('amazon_sarees/img_(0).jpeg'.format(index),\"wb\") as file:\n",
    "        file.write(response.content)"
   ]
  },
  {
   "cell_type": "raw",
   "metadata": {},
   "source": []
  }
 ],
 "metadata": {
  "kernelspec": {
   "display_name": "Python 3",
   "language": "python",
   "name": "python3"
  },
  "language_info": {
   "codemirror_mode": {
    "name": "ipython",
    "version": 3
   },
   "file_extension": ".py",
   "mimetype": "text/x-python",
   "name": "python",
   "nbconvert_exporter": "python",
   "pygments_lexer": "ipython3",
   "version": "3.7.4"
  }
 },
 "nbformat": 4,
 "nbformat_minor": 2
}
