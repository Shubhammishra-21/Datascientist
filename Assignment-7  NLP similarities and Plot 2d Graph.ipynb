{
 "cells": [
  {
   "cell_type": "code",
   "execution_count": 53,
   "metadata": {},
   "outputs": [
    {
     "name": "stdout",
     "output_type": "stream",
     "text": [
      "Requirement already satisfied: nltk in c:\\users\\shubham\\anaconda3\\lib\\site-packages (3.4.5)\n",
      "Requirement already satisfied: six in c:\\users\\shubham\\anaconda3\\lib\\site-packages (from nltk) (1.12.0)\n"
     ]
    }
   ],
   "source": [
    "!pip install nltk"
   ]
  },
  {
   "cell_type": "code",
   "execution_count": 54,
   "metadata": {},
   "outputs": [],
   "source": [
    "import nltk"
   ]
  },
  {
   "cell_type": "code",
   "execution_count": 55,
   "metadata": {},
   "outputs": [
    {
     "name": "stdout",
     "output_type": "stream",
     "text": [
      "Requirement already up-to-date: gensim in c:\\users\\shubham\\anaconda3\\lib\\site-packages (3.8.3)\n",
      "Requirement already satisfied, skipping upgrade: Cython==0.29.14 in c:\\users\\shubham\\anaconda3\\lib\\site-packages (from gensim) (0.29.14)\n",
      "Requirement already satisfied, skipping upgrade: six>=1.5.0 in c:\\users\\shubham\\anaconda3\\lib\\site-packages (from gensim) (1.12.0)\n",
      "Requirement already satisfied, skipping upgrade: scipy>=0.18.1 in c:\\users\\shubham\\anaconda3\\lib\\site-packages (from gensim) (1.4.1)\n",
      "Requirement already satisfied, skipping upgrade: numpy>=1.11.3 in c:\\users\\shubham\\anaconda3\\lib\\site-packages (from gensim) (1.16.5)\n",
      "Requirement already satisfied, skipping upgrade: smart-open>=1.8.1 in c:\\users\\shubham\\anaconda3\\lib\\site-packages (from gensim) (2.1.0)\n",
      "Requirement already satisfied, skipping upgrade: boto in c:\\users\\shubham\\anaconda3\\lib\\site-packages (from smart-open>=1.8.1->gensim) (2.49.0)\n",
      "Requirement already satisfied, skipping upgrade: boto3 in c:\\users\\shubham\\anaconda3\\lib\\site-packages (from smart-open>=1.8.1->gensim) (1.14.47)\n",
      "Requirement already satisfied, skipping upgrade: requests in c:\\users\\shubham\\anaconda3\\lib\\site-packages (from smart-open>=1.8.1->gensim) (2.22.0)\n",
      "Requirement already satisfied, skipping upgrade: botocore<1.18.0,>=1.17.47 in c:\\users\\shubham\\anaconda3\\lib\\site-packages (from boto3->smart-open>=1.8.1->gensim) (1.17.47)\n",
      "Requirement already satisfied, skipping upgrade: jmespath<1.0.0,>=0.7.1 in c:\\users\\shubham\\anaconda3\\lib\\site-packages (from boto3->smart-open>=1.8.1->gensim) (0.10.0)\n",
      "Requirement already satisfied, skipping upgrade: s3transfer<0.4.0,>=0.3.0 in c:\\users\\shubham\\anaconda3\\lib\\site-packages (from boto3->smart-open>=1.8.1->gensim) (0.3.3)\n",
      "Requirement already satisfied, skipping upgrade: idna<2.9,>=2.5 in c:\\users\\shubham\\anaconda3\\lib\\site-packages (from requests->smart-open>=1.8.1->gensim) (2.8)\n",
      "Requirement already satisfied, skipping upgrade: certifi>=2017.4.17 in c:\\users\\shubham\\anaconda3\\lib\\site-packages (from requests->smart-open>=1.8.1->gensim) (2019.9.11)\n",
      "Requirement already satisfied, skipping upgrade: chardet<3.1.0,>=3.0.2 in c:\\users\\shubham\\anaconda3\\lib\\site-packages (from requests->smart-open>=1.8.1->gensim) (3.0.4)\n",
      "Requirement already satisfied, skipping upgrade: urllib3!=1.25.0,!=1.25.1,<1.26,>=1.21.1 in c:\\users\\shubham\\anaconda3\\lib\\site-packages (from requests->smart-open>=1.8.1->gensim) (1.24.2)\n",
      "Requirement already satisfied, skipping upgrade: python-dateutil<3.0.0,>=2.1 in c:\\users\\shubham\\anaconda3\\lib\\site-packages (from botocore<1.18.0,>=1.17.47->boto3->smart-open>=1.8.1->gensim) (2.8.0)\n",
      "Requirement already satisfied, skipping upgrade: docutils<0.16,>=0.10 in c:\\users\\shubham\\anaconda3\\lib\\site-packages (from botocore<1.18.0,>=1.17.47->boto3->smart-open>=1.8.1->gensim) (0.15.2)\n",
      "Note: you may need to restart the kernel to use updated packages.\n"
     ]
    }
   ],
   "source": [
    "pip install -U gensim"
   ]
  },
  {
   "cell_type": "code",
   "execution_count": 56,
   "metadata": {},
   "outputs": [],
   "source": [
    "import gensim"
   ]
  },
  {
   "cell_type": "code",
   "execution_count": 73,
   "metadata": {},
   "outputs": [],
   "source": [
    "from gensim.models import Word2Vec\n",
    "from nltk.corpus import stopwords\n",
    "import matplotlib.pyplot as plt\n",
    "%matplotlib inline\n",
    "import re\n",
    "\n",
    "paragraph = \"\"\"I do not intend to say much tonight about the Princes, but I should be wronging them and should be wronging the Congress if I did not register my claim, not with the Round Table Conference but with the Princes. It is open to the Princes to give their terms on which they will join the Federation. I have appealed to them to make the path easy for those who inhabit the other part of India, and therefore, I can only make these suggestions for their favourable consideration, for their earnest consideration. I think that if they accepted, no matter what they are, but some fundamental rights as the common property of all India, and if they accepted that position and allowed those rights to be tested by the Court, which will be again of their own creation, and if they introduced elements – only elements – of representation on behalf of their subject, I think that they would have gone a long way to conciliate their subjects. They would have gone a long way to show to the world and to show to the whole of India that they are also fired with a democratic spirit, that they do not want to remain undiluted autocrats, but that they want to become constitutional monarch even as King George of Great Britain is.\n",
    "An Autonomous Frontier Province : Let India get what she is entitled to and what she can really take, but whatever she gets, and whenever she gets it, let the Frontier Province get complete autonomy today. That Frontier will then be a standing demonstration to the whole of India, and therefore, the whole vote of the Congress will be given in favour of the Frontier Province getting provincial Autonomy tomorrow. Prime Minister, If you can possibly get your Cabinet to endorse the proposition that from tomorrow the Frontier Province becomes a full-fledged autonomous province, I shall then have a proper footing amongst the Frontier tribes and convince them to my assistance when those over the border cast an evil eye on India.\"\"\""
   ]
  },
  {
   "cell_type": "code",
   "execution_count": 74,
   "metadata": {},
   "outputs": [],
   "source": [
    "text = re.sub(r'\\\\[[0-9]*\\\\]',' ',paragraph)\n",
    "text = re.sub(r'\\\\s+',' ',text)\n",
    "text = text.lower()\n",
    "text = re.sub(r'\\\\d',' ',text)\n",
    "text = re.sub(r'\\\\s+',' ',text)"
   ]
  },
  {
   "cell_type": "code",
   "execution_count": 75,
   "metadata": {},
   "outputs": [
    {
     "data": {
      "text/plain": [
       "['i do not intend to say much tonight about the princes, but i should be wronging them and should be wronging the congress if i did not register my claim, not with the round table conference but with the princes.',\n",
       " 'it is open to the princes to give their terms on which they will join the federation.',\n",
       " 'i have appealed to them to make the path easy for those who inhabit the other part of india, and therefore, i can only make these suggestions for their favourable consideration, for their earnest consideration.',\n",
       " 'i think that if they accepted, no matter what they are, but some fundamental rights as the common property of all india, and if they accepted that position and allowed those rights to be tested by the court, which will be again of their own creation, and if they introduced elements – only elements – of representation on behalf of their subject, i think that they would have gone a long way to conciliate their subjects.',\n",
       " 'they would have gone a long way to show to the world and to show to the whole of india that they are also fired with a democratic spirit, that they do not want to remain undiluted autocrats, but that they want to become constitutional monarch even as king george of great britain is.',\n",
       " 'an autonomous frontier province : let india get what she is entitled to and what she can really take, but whatever she gets, and whenever she gets it, let the frontier province get complete autonomy today.',\n",
       " 'that frontier will then be a standing demonstration to the whole of india, and therefore, the whole vote of the congress will be given in favour of the frontier province getting provincial autonomy tomorrow.',\n",
       " 'prime minister, if you can possibly get your cabinet to endorse the proposition that from tomorrow the frontier province becomes a full-fledged autonomous province, i shall then have a proper footing amongst the frontier tribes and convince them to my assistance when those over the border cast an evil eye on india.']"
      ]
     },
     "execution_count": 75,
     "metadata": {},
     "output_type": "execute_result"
    }
   ],
   "source": [
    "sentences = nltk.sent_tokenize(text)\n",
    "sentences"
   ]
  },
  {
   "cell_type": "code",
   "execution_count": 76,
   "metadata": {},
   "outputs": [],
   "source": [
    "sent_word = [nltk.word_tokenize(sentence) for sentence in sentences]"
   ]
  },
  {
   "cell_type": "code",
   "execution_count": 77,
   "metadata": {},
   "outputs": [
    {
     "data": {
      "text/plain": [
       "[['i',\n",
       "  'do',\n",
       "  'not',\n",
       "  'intend',\n",
       "  'to',\n",
       "  'say',\n",
       "  'much',\n",
       "  'tonight',\n",
       "  'about',\n",
       "  'the',\n",
       "  'princes',\n",
       "  ',',\n",
       "  'but',\n",
       "  'i',\n",
       "  'should',\n",
       "  'be',\n",
       "  'wronging',\n",
       "  'them',\n",
       "  'and',\n",
       "  'should',\n",
       "  'be',\n",
       "  'wronging',\n",
       "  'the',\n",
       "  'congress',\n",
       "  'if',\n",
       "  'i',\n",
       "  'did',\n",
       "  'not',\n",
       "  'register',\n",
       "  'my',\n",
       "  'claim',\n",
       "  ',',\n",
       "  'not',\n",
       "  'with',\n",
       "  'the',\n",
       "  'round',\n",
       "  'table',\n",
       "  'conference',\n",
       "  'but',\n",
       "  'with',\n",
       "  'the',\n",
       "  'princes',\n",
       "  '.'],\n",
       " ['it',\n",
       "  'is',\n",
       "  'open',\n",
       "  'to',\n",
       "  'the',\n",
       "  'princes',\n",
       "  'to',\n",
       "  'give',\n",
       "  'their',\n",
       "  'terms',\n",
       "  'on',\n",
       "  'which',\n",
       "  'they',\n",
       "  'will',\n",
       "  'join',\n",
       "  'the',\n",
       "  'federation',\n",
       "  '.'],\n",
       " ['i',\n",
       "  'have',\n",
       "  'appealed',\n",
       "  'to',\n",
       "  'them',\n",
       "  'to',\n",
       "  'make',\n",
       "  'the',\n",
       "  'path',\n",
       "  'easy',\n",
       "  'for',\n",
       "  'those',\n",
       "  'who',\n",
       "  'inhabit',\n",
       "  'the',\n",
       "  'other',\n",
       "  'part',\n",
       "  'of',\n",
       "  'india',\n",
       "  ',',\n",
       "  'and',\n",
       "  'therefore',\n",
       "  ',',\n",
       "  'i',\n",
       "  'can',\n",
       "  'only',\n",
       "  'make',\n",
       "  'these',\n",
       "  'suggestions',\n",
       "  'for',\n",
       "  'their',\n",
       "  'favourable',\n",
       "  'consideration',\n",
       "  ',',\n",
       "  'for',\n",
       "  'their',\n",
       "  'earnest',\n",
       "  'consideration',\n",
       "  '.'],\n",
       " ['i',\n",
       "  'think',\n",
       "  'that',\n",
       "  'if',\n",
       "  'they',\n",
       "  'accepted',\n",
       "  ',',\n",
       "  'no',\n",
       "  'matter',\n",
       "  'what',\n",
       "  'they',\n",
       "  'are',\n",
       "  ',',\n",
       "  'but',\n",
       "  'some',\n",
       "  'fundamental',\n",
       "  'rights',\n",
       "  'as',\n",
       "  'the',\n",
       "  'common',\n",
       "  'property',\n",
       "  'of',\n",
       "  'all',\n",
       "  'india',\n",
       "  ',',\n",
       "  'and',\n",
       "  'if',\n",
       "  'they',\n",
       "  'accepted',\n",
       "  'that',\n",
       "  'position',\n",
       "  'and',\n",
       "  'allowed',\n",
       "  'those',\n",
       "  'rights',\n",
       "  'to',\n",
       "  'be',\n",
       "  'tested',\n",
       "  'by',\n",
       "  'the',\n",
       "  'court',\n",
       "  ',',\n",
       "  'which',\n",
       "  'will',\n",
       "  'be',\n",
       "  'again',\n",
       "  'of',\n",
       "  'their',\n",
       "  'own',\n",
       "  'creation',\n",
       "  ',',\n",
       "  'and',\n",
       "  'if',\n",
       "  'they',\n",
       "  'introduced',\n",
       "  'elements',\n",
       "  '–',\n",
       "  'only',\n",
       "  'elements',\n",
       "  '–',\n",
       "  'of',\n",
       "  'representation',\n",
       "  'on',\n",
       "  'behalf',\n",
       "  'of',\n",
       "  'their',\n",
       "  'subject',\n",
       "  ',',\n",
       "  'i',\n",
       "  'think',\n",
       "  'that',\n",
       "  'they',\n",
       "  'would',\n",
       "  'have',\n",
       "  'gone',\n",
       "  'a',\n",
       "  'long',\n",
       "  'way',\n",
       "  'to',\n",
       "  'conciliate',\n",
       "  'their',\n",
       "  'subjects',\n",
       "  '.'],\n",
       " ['they',\n",
       "  'would',\n",
       "  'have',\n",
       "  'gone',\n",
       "  'a',\n",
       "  'long',\n",
       "  'way',\n",
       "  'to',\n",
       "  'show',\n",
       "  'to',\n",
       "  'the',\n",
       "  'world',\n",
       "  'and',\n",
       "  'to',\n",
       "  'show',\n",
       "  'to',\n",
       "  'the',\n",
       "  'whole',\n",
       "  'of',\n",
       "  'india',\n",
       "  'that',\n",
       "  'they',\n",
       "  'are',\n",
       "  'also',\n",
       "  'fired',\n",
       "  'with',\n",
       "  'a',\n",
       "  'democratic',\n",
       "  'spirit',\n",
       "  ',',\n",
       "  'that',\n",
       "  'they',\n",
       "  'do',\n",
       "  'not',\n",
       "  'want',\n",
       "  'to',\n",
       "  'remain',\n",
       "  'undiluted',\n",
       "  'autocrats',\n",
       "  ',',\n",
       "  'but',\n",
       "  'that',\n",
       "  'they',\n",
       "  'want',\n",
       "  'to',\n",
       "  'become',\n",
       "  'constitutional',\n",
       "  'monarch',\n",
       "  'even',\n",
       "  'as',\n",
       "  'king',\n",
       "  'george',\n",
       "  'of',\n",
       "  'great',\n",
       "  'britain',\n",
       "  'is',\n",
       "  '.'],\n",
       " ['an',\n",
       "  'autonomous',\n",
       "  'frontier',\n",
       "  'province',\n",
       "  ':',\n",
       "  'let',\n",
       "  'india',\n",
       "  'get',\n",
       "  'what',\n",
       "  'she',\n",
       "  'is',\n",
       "  'entitled',\n",
       "  'to',\n",
       "  'and',\n",
       "  'what',\n",
       "  'she',\n",
       "  'can',\n",
       "  'really',\n",
       "  'take',\n",
       "  ',',\n",
       "  'but',\n",
       "  'whatever',\n",
       "  'she',\n",
       "  'gets',\n",
       "  ',',\n",
       "  'and',\n",
       "  'whenever',\n",
       "  'she',\n",
       "  'gets',\n",
       "  'it',\n",
       "  ',',\n",
       "  'let',\n",
       "  'the',\n",
       "  'frontier',\n",
       "  'province',\n",
       "  'get',\n",
       "  'complete',\n",
       "  'autonomy',\n",
       "  'today',\n",
       "  '.'],\n",
       " ['that',\n",
       "  'frontier',\n",
       "  'will',\n",
       "  'then',\n",
       "  'be',\n",
       "  'a',\n",
       "  'standing',\n",
       "  'demonstration',\n",
       "  'to',\n",
       "  'the',\n",
       "  'whole',\n",
       "  'of',\n",
       "  'india',\n",
       "  ',',\n",
       "  'and',\n",
       "  'therefore',\n",
       "  ',',\n",
       "  'the',\n",
       "  'whole',\n",
       "  'vote',\n",
       "  'of',\n",
       "  'the',\n",
       "  'congress',\n",
       "  'will',\n",
       "  'be',\n",
       "  'given',\n",
       "  'in',\n",
       "  'favour',\n",
       "  'of',\n",
       "  'the',\n",
       "  'frontier',\n",
       "  'province',\n",
       "  'getting',\n",
       "  'provincial',\n",
       "  'autonomy',\n",
       "  'tomorrow',\n",
       "  '.'],\n",
       " ['prime',\n",
       "  'minister',\n",
       "  ',',\n",
       "  'if',\n",
       "  'you',\n",
       "  'can',\n",
       "  'possibly',\n",
       "  'get',\n",
       "  'your',\n",
       "  'cabinet',\n",
       "  'to',\n",
       "  'endorse',\n",
       "  'the',\n",
       "  'proposition',\n",
       "  'that',\n",
       "  'from',\n",
       "  'tomorrow',\n",
       "  'the',\n",
       "  'frontier',\n",
       "  'province',\n",
       "  'becomes',\n",
       "  'a',\n",
       "  'full-fledged',\n",
       "  'autonomous',\n",
       "  'province',\n",
       "  ',',\n",
       "  'i',\n",
       "  'shall',\n",
       "  'then',\n",
       "  'have',\n",
       "  'a',\n",
       "  'proper',\n",
       "  'footing',\n",
       "  'amongst',\n",
       "  'the',\n",
       "  'frontier',\n",
       "  'tribes',\n",
       "  'and',\n",
       "  'convince',\n",
       "  'them',\n",
       "  'to',\n",
       "  'my',\n",
       "  'assistance',\n",
       "  'when',\n",
       "  'those',\n",
       "  'over',\n",
       "  'the',\n",
       "  'border',\n",
       "  'cast',\n",
       "  'an',\n",
       "  'evil',\n",
       "  'eye',\n",
       "  'on',\n",
       "  'india',\n",
       "  '.']]"
      ]
     },
     "execution_count": 77,
     "metadata": {},
     "output_type": "execute_result"
    }
   ],
   "source": [
    "sent_word"
   ]
  },
  {
   "cell_type": "code",
   "execution_count": 78,
   "metadata": {},
   "outputs": [],
   "source": [
    "for i in range(len(sent_word)):\n",
    "       sent_word[i] = [word for word in sent_word[i]\n",
    "                        if word not in stopwords.words('english')]\n",
    "   "
   ]
  },
  {
   "cell_type": "code",
   "execution_count": 79,
   "metadata": {},
   "outputs": [
    {
     "data": {
      "text/plain": [
       "[['intend',\n",
       "  'say',\n",
       "  'much',\n",
       "  'tonight',\n",
       "  'princes',\n",
       "  ',',\n",
       "  'wronging',\n",
       "  'wronging',\n",
       "  'congress',\n",
       "  'register',\n",
       "  'claim',\n",
       "  ',',\n",
       "  'round',\n",
       "  'table',\n",
       "  'conference',\n",
       "  'princes',\n",
       "  '.'],\n",
       " ['open', 'princes', 'give', 'terms', 'join', 'federation', '.'],\n",
       " ['appealed',\n",
       "  'make',\n",
       "  'path',\n",
       "  'easy',\n",
       "  'inhabit',\n",
       "  'part',\n",
       "  'india',\n",
       "  ',',\n",
       "  'therefore',\n",
       "  ',',\n",
       "  'make',\n",
       "  'suggestions',\n",
       "  'favourable',\n",
       "  'consideration',\n",
       "  ',',\n",
       "  'earnest',\n",
       "  'consideration',\n",
       "  '.'],\n",
       " ['think',\n",
       "  'accepted',\n",
       "  ',',\n",
       "  'matter',\n",
       "  ',',\n",
       "  'fundamental',\n",
       "  'rights',\n",
       "  'common',\n",
       "  'property',\n",
       "  'india',\n",
       "  ',',\n",
       "  'accepted',\n",
       "  'position',\n",
       "  'allowed',\n",
       "  'rights',\n",
       "  'tested',\n",
       "  'court',\n",
       "  ',',\n",
       "  'creation',\n",
       "  ',',\n",
       "  'introduced',\n",
       "  'elements',\n",
       "  '–',\n",
       "  'elements',\n",
       "  '–',\n",
       "  'representation',\n",
       "  'behalf',\n",
       "  'subject',\n",
       "  ',',\n",
       "  'think',\n",
       "  'would',\n",
       "  'gone',\n",
       "  'long',\n",
       "  'way',\n",
       "  'conciliate',\n",
       "  'subjects',\n",
       "  '.'],\n",
       " ['would',\n",
       "  'gone',\n",
       "  'long',\n",
       "  'way',\n",
       "  'show',\n",
       "  'world',\n",
       "  'show',\n",
       "  'whole',\n",
       "  'india',\n",
       "  'also',\n",
       "  'fired',\n",
       "  'democratic',\n",
       "  'spirit',\n",
       "  ',',\n",
       "  'want',\n",
       "  'remain',\n",
       "  'undiluted',\n",
       "  'autocrats',\n",
       "  ',',\n",
       "  'want',\n",
       "  'become',\n",
       "  'constitutional',\n",
       "  'monarch',\n",
       "  'even',\n",
       "  'king',\n",
       "  'george',\n",
       "  'great',\n",
       "  'britain',\n",
       "  '.'],\n",
       " ['autonomous',\n",
       "  'frontier',\n",
       "  'province',\n",
       "  ':',\n",
       "  'let',\n",
       "  'india',\n",
       "  'get',\n",
       "  'entitled',\n",
       "  'really',\n",
       "  'take',\n",
       "  ',',\n",
       "  'whatever',\n",
       "  'gets',\n",
       "  ',',\n",
       "  'whenever',\n",
       "  'gets',\n",
       "  ',',\n",
       "  'let',\n",
       "  'frontier',\n",
       "  'province',\n",
       "  'get',\n",
       "  'complete',\n",
       "  'autonomy',\n",
       "  'today',\n",
       "  '.'],\n",
       " ['frontier',\n",
       "  'standing',\n",
       "  'demonstration',\n",
       "  'whole',\n",
       "  'india',\n",
       "  ',',\n",
       "  'therefore',\n",
       "  ',',\n",
       "  'whole',\n",
       "  'vote',\n",
       "  'congress',\n",
       "  'given',\n",
       "  'favour',\n",
       "  'frontier',\n",
       "  'province',\n",
       "  'getting',\n",
       "  'provincial',\n",
       "  'autonomy',\n",
       "  'tomorrow',\n",
       "  '.'],\n",
       " ['prime',\n",
       "  'minister',\n",
       "  ',',\n",
       "  'possibly',\n",
       "  'get',\n",
       "  'cabinet',\n",
       "  'endorse',\n",
       "  'proposition',\n",
       "  'tomorrow',\n",
       "  'frontier',\n",
       "  'province',\n",
       "  'becomes',\n",
       "  'full-fledged',\n",
       "  'autonomous',\n",
       "  'province',\n",
       "  ',',\n",
       "  'shall',\n",
       "  'proper',\n",
       "  'footing',\n",
       "  'amongst',\n",
       "  'frontier',\n",
       "  'tribes',\n",
       "  'convince',\n",
       "  'assistance',\n",
       "  'border',\n",
       "  'cast',\n",
       "  'evil',\n",
       "  'eye',\n",
       "  'india',\n",
       "  '.']]"
      ]
     },
     "execution_count": 79,
     "metadata": {},
     "output_type": "execute_result"
    }
   ],
   "source": [
    "sent_word"
   ]
  },
  {
   "cell_type": "code",
   "execution_count": 80,
   "metadata": {},
   "outputs": [],
   "source": [
    "model = Word2Vec(sent_word, min_count=1)\n",
    "\n",
    "words = model.wv.vocab"
   ]
  },
  {
   "cell_type": "code",
   "execution_count": 82,
   "metadata": {},
   "outputs": [
    {
     "name": "stdout",
     "output_type": "stream",
     "text": [
      "[ 2.3015686e-03  3.6105653e-03  9.2361245e-04  4.0609273e-03\n",
      "  4.1265097e-03 -4.1890154e-03  4.4246297e-03 -3.2934507e-03\n",
      "  1.8475347e-03  3.4105239e-04 -4.2250557e-03 -1.9614859e-03\n",
      "  1.8531265e-04 -6.2821811e-04 -3.8189415e-03 -4.7416454e-03\n",
      "  2.9764487e-03 -1.9056055e-03 -2.6461978e-03 -3.0836710e-03\n",
      "  1.4792329e-03  3.9478671e-03 -1.3159771e-03  1.7573572e-03\n",
      "  3.1994004e-03 -2.4377073e-03 -2.9256216e-03  3.9549911e-04\n",
      "  4.8511177e-03  4.3953172e-04 -4.1625546e-03 -1.7576573e-03\n",
      "  2.3765222e-04 -3.5717075e-03 -4.4570095e-03  1.6534581e-03\n",
      "  3.5433779e-03 -2.8073075e-03 -7.8752544e-04 -4.2781350e-03\n",
      "  8.7707891e-04 -2.2642354e-03  5.9373118e-04  3.3971926e-03\n",
      " -4.7322218e-03 -4.6324455e-03 -8.6619041e-04 -2.2093609e-03\n",
      "  4.0728739e-03  1.5094016e-03  2.3584261e-03  1.1285329e-03\n",
      " -2.7035144e-03  1.9664245e-03 -3.1066416e-03 -3.1491490e-03\n",
      "  2.6123277e-03 -3.8645088e-03  1.3547719e-03 -1.4941226e-03\n",
      "  2.3810181e-03  4.4390454e-04  4.8137461e-03 -1.5177429e-03\n",
      "  3.7797116e-04  1.0220789e-03  1.1476795e-03 -8.4082712e-04\n",
      "  3.8716167e-03 -3.3462371e-03  3.9453539e-03  1.8594685e-03\n",
      " -1.8591504e-03 -3.3922454e-03  3.3367211e-05  4.4998052e-03\n",
      "  1.0037287e-03 -3.3083340e-04  2.2584398e-03 -3.0464213e-03\n",
      "  1.1391138e-03  2.1898006e-03 -3.0751200e-03 -9.0392272e-04\n",
      "  4.9009896e-03  8.8540383e-04  6.6084653e-04  4.9523287e-03\n",
      " -4.3830625e-03 -1.5908234e-03  4.6259169e-03  3.7835157e-03\n",
      " -2.7317631e-03  1.4141422e-03  2.5483078e-04  1.6661204e-03\n",
      "  7.9793681e-04  2.7733909e-03  2.6050354e-03  2.1518301e-03]\n"
     ]
    }
   ],
   "source": [
    "vector = model.wv['wronging']\n",
    "\n",
    "print(vector)"
   ]
  },
  {
   "cell_type": "code",
   "execution_count": 83,
   "metadata": {},
   "outputs": [
    {
     "data": {
      "text/plain": [
       "[('proposition', 0.2499200999736786),\n",
       " ('complete', 0.15599548816680908),\n",
       " ('table', 0.1514788269996643),\n",
       " ('undiluted', 0.13250330090522766),\n",
       " ('whole', 0.13175028562545776),\n",
       " ('remain', 0.12629251182079315),\n",
       " ('autocrats', 0.1223563402891159),\n",
       " ('possibly', 0.11855924129486084),\n",
       " ('say', 0.11750012636184692),\n",
       " ('terms', 0.11731661111116409),\n",
       " ('much', 0.11454115808010101),\n",
       " ('congress', 0.10218395292758942),\n",
       " ('conciliate', 0.09872865676879883),\n",
       " ('provincial', 0.08910781145095825),\n",
       " ('cabinet', 0.08718594163656235),\n",
       " ('whatever', 0.08520223200321198),\n",
       " ('really', 0.07948709279298782),\n",
       " ('subjects', 0.07442069798707962),\n",
       " ('register', 0.07417400181293488),\n",
       " ('also', 0.07315642386674881)]"
      ]
     },
     "execution_count": 83,
     "metadata": {},
     "output_type": "execute_result"
    }
   ],
   "source": [
    "similar = model.wv.most_similar('favourable',topn=20)\n",
    "\n",
    "similar"
   ]
  },
  {
   "cell_type": "code",
   "execution_count": 84,
   "metadata": {},
   "outputs": [
    {
     "data": {
      "text/plain": [
       "0.07127095"
      ]
     },
     "execution_count": 84,
     "metadata": {},
     "output_type": "execute_result"
    }
   ],
   "source": [
    "model.wv.similarity(w1='favourable',w2='consideration')"
   ]
  },
  {
   "cell_type": "code",
   "execution_count": 108,
   "metadata": {},
   "outputs": [
    {
     "data": {
      "text/plain": [
       "-0.047428958"
      ]
     },
     "execution_count": 108,
     "metadata": {},
     "output_type": "execute_result"
    }
   ],
   "source": [
    "model.wv.similarity(w1='cabinet',w2='provincial')"
   ]
  },
  {
   "cell_type": "code",
   "execution_count": 109,
   "metadata": {},
   "outputs": [
    {
     "data": {
      "text/plain": [
       "1.0"
      ]
     },
     "execution_count": 109,
     "metadata": {},
     "output_type": "execute_result"
    }
   ],
   "source": [
    "model.wv.similarity(w1='cabinet',w2='cabinet')"
   ]
  },
  {
   "cell_type": "code",
   "execution_count": 110,
   "metadata": {},
   "outputs": [
    {
     "data": {
      "text/plain": [
       "1.0"
      ]
     },
     "execution_count": 110,
     "metadata": {},
     "output_type": "execute_result"
    }
   ],
   "source": [
    "model.wv.similarity(w1='favourable',w2='favourable')"
   ]
  },
  {
   "cell_type": "code",
   "execution_count": 111,
   "metadata": {},
   "outputs": [
    {
     "data": {
      "text/plain": [
       "0.11186278"
      ]
     },
     "execution_count": 111,
     "metadata": {},
     "output_type": "execute_result"
    }
   ],
   "source": [
    "model.wv.similarity(w1='wronging',w2='claim')"
   ]
  },
  {
   "cell_type": "code",
   "execution_count": 117,
   "metadata": {},
   "outputs": [
    {
     "data": {
      "text/plain": [
       "0.10397078"
      ]
     },
     "execution_count": 117,
     "metadata": {},
     "output_type": "execute_result"
    }
   ],
   "source": [
    "model.wv.similarity(w1='appealed',w2='suggestions')"
   ]
  },
  {
   "cell_type": "code",
   "execution_count": 118,
   "metadata": {},
   "outputs": [
    {
     "data": {
      "text/plain": [
       "0.07127095"
      ]
     },
     "execution_count": 118,
     "metadata": {},
     "output_type": "execute_result"
    }
   ],
   "source": [
    "model.wv.similarity(w1='favourable',w2='consideration')"
   ]
  },
  {
   "cell_type": "code",
   "execution_count": 119,
   "metadata": {},
   "outputs": [
    {
     "data": {
      "text/plain": [
       "-0.017336804"
      ]
     },
     "execution_count": 119,
     "metadata": {},
     "output_type": "execute_result"
    }
   ],
   "source": [
    "model.wv.similarity(w1='accepted',w2='matter')"
   ]
  },
  {
   "cell_type": "code",
   "execution_count": 120,
   "metadata": {},
   "outputs": [
    {
     "data": {
      "text/plain": [
       "0.008109003"
      ]
     },
     "execution_count": 120,
     "metadata": {},
     "output_type": "execute_result"
    }
   ],
   "source": [
    "model.wv.similarity(w1='fundamental',w2='rights')"
   ]
  },
  {
   "cell_type": "code",
   "execution_count": 121,
   "metadata": {},
   "outputs": [
    {
     "data": {
      "text/plain": [
       "0.058752194"
      ]
     },
     "execution_count": 121,
     "metadata": {},
     "output_type": "execute_result"
    }
   ],
   "source": [
    "model.wv.similarity(w1='gone',w2='long')"
   ]
  },
  {
   "cell_type": "code",
   "execution_count": 123,
   "metadata": {},
   "outputs": [
    {
     "data": {
      "text/plain": [
       "-0.13279796"
      ]
     },
     "execution_count": 123,
     "metadata": {},
     "output_type": "execute_result"
    }
   ],
   "source": [
    "model.wv.similarity(w1='world',w2='fired')"
   ]
  },
  {
   "cell_type": "code",
   "execution_count": 124,
   "metadata": {},
   "outputs": [
    {
     "data": {
      "text/plain": [
       "0.13051325"
      ]
     },
     "execution_count": 124,
     "metadata": {},
     "output_type": "execute_result"
    }
   ],
   "source": [
    "model.wv.similarity(w1='democratic',w2='spirit')"
   ]
  },
  {
   "cell_type": "code",
   "execution_count": 131,
   "metadata": {},
   "outputs": [
    {
     "data": {
      "text/plain": [
       "-0.17073537"
      ]
     },
     "execution_count": 131,
     "metadata": {},
     "output_type": "execute_result"
    }
   ],
   "source": [
    "model.wv.similarity(w1='autonomous',w2='proper')"
   ]
  },
  {
   "cell_type": "code",
   "execution_count": 132,
   "metadata": {},
   "outputs": [
    {
     "data": {
      "text/plain": [
       "0.023338065"
      ]
     },
     "execution_count": 132,
     "metadata": {},
     "output_type": "execute_result"
    }
   ],
   "source": [
    "model.wv.similarity(w1='footing',w2='amongst')"
   ]
  },
  {
   "cell_type": "code",
   "execution_count": 133,
   "metadata": {},
   "outputs": [
    {
     "data": {
      "text/plain": [
       "-0.1161085"
      ]
     },
     "execution_count": 133,
     "metadata": {},
     "output_type": "execute_result"
    }
   ],
   "source": [
    "model.wv.similarity(w1='tribes',w2='convince')"
   ]
  },
  {
   "cell_type": "code",
   "execution_count": 135,
   "metadata": {},
   "outputs": [
    {
     "data": {
      "text/plain": [
       "-0.09954083"
      ]
     },
     "execution_count": 135,
     "metadata": {},
     "output_type": "execute_result"
    }
   ],
   "source": [
    "model.wv.similarity(w1='assistance',w2='cast')"
   ]
  },
  {
   "cell_type": "code",
   "execution_count": 136,
   "metadata": {},
   "outputs": [
    {
     "data": {
      "text/plain": [
       "0.007866338"
      ]
     },
     "execution_count": 136,
     "metadata": {},
     "output_type": "execute_result"
    }
   ],
   "source": [
    "model.wv.similarity(w1='evil',w2='eye')"
   ]
  },
  {
   "cell_type": "code",
   "execution_count": 137,
   "metadata": {},
   "outputs": [
    {
     "data": {
      "text/plain": [
       "-0.003664825"
      ]
     },
     "execution_count": 137,
     "metadata": {},
     "output_type": "execute_result"
    }
   ],
   "source": [
    "model.wv.similarity(w1='intend',w2='tonight')"
   ]
  },
  {
   "cell_type": "code",
   "execution_count": 138,
   "metadata": {},
   "outputs": [
    {
     "data": {
      "text/plain": [
       "-0.017336804"
      ]
     },
     "execution_count": 138,
     "metadata": {},
     "output_type": "execute_result"
    }
   ],
   "source": [
    "model.wv.similarity(w1='accepted',w2='matter')"
   ]
  },
  {
   "cell_type": "code",
   "execution_count": 89,
   "metadata": {},
   "outputs": [
    {
     "name": "stderr",
     "output_type": "stream",
     "text": [
      "C:\\Users\\Shubham\\Anaconda3\\lib\\site-packages\\gensim\\models\\keyedvectors.py:877: FutureWarning: arrays to stack must be passed as a \"sequence\" type such as list or tuple. Support for non-sequence iterables such as generators is deprecated as of NumPy 1.16 and will raise an error in the future.\n",
      "  vectors = vstack(self.word_vec(word, use_norm=True) for word in used_words).astype(REAL)\n"
     ]
    },
    {
     "data": {
      "text/plain": [
       "'rights'"
      ]
     },
     "execution_count": 89,
     "metadata": {},
     "output_type": "execute_result"
    }
   ],
   "source": [
    "model.wv.doesnt_match([\"favourable\",\"elements\",\"wronging\",\"consideration\",\"fired\",\"Great\",\"Britain\",\"India\",\"Province\",\"autonomy\",\"demonstration\",\"favour\",\"Prime Minister\",\"possibly\",\"Cabinet\",\"Princes\",\"Congress\",\"Federation\",\"rights\",\"Court\",\"democratic\"])"
   ]
  },
  {
   "cell_type": "code",
   "execution_count": 141,
   "metadata": {},
   "outputs": [
    {
     "name": "stderr",
     "output_type": "stream",
     "text": [
      "C:\\Users\\Shubham\\Anaconda3\\lib\\site-packages\\ipykernel_launcher.py:8: DeprecationWarning: Call to deprecated `__getitem__` (Method will be removed in 4.0.0, use self.wv.__getitem__() instead).\n",
      "  \n"
     ]
    },
    {
     "data": {
      "image/png": "[encoded data removed]",
      "text/plain": [
       "<Figure size 1440x576 with 1 Axes>"
      ]
     },
     "metadata": {
      "needs_background": "light"
     },
     "output_type": "display_data"
    }
   ],
   "source": [
    "from sklearn.manifold import TSNE\n",
    "vocab = [\"favourable\",\"elements\",\"wronging\",\"consideration\",\"fired\",\"autonomy\",\"demonstration\",\"favour\",\"possibly\" ,\"rights\" ,\"democratic\",\"evil\",\"eye\",\"intend\",\"tonight\",\"register\",\"claim\"]\n",
    "def tsne_plot(model):\n",
    "    labels = []\n",
    "    wordvecs = []\n",
    "    \n",
    "    for word in vocab:\n",
    "        wordvecs.append(model[word])\n",
    "        labels.append(word)\n",
    "    \n",
    "    tsne_model = TSNE(perplexity=3, n_components=2, init='pca', random_state=42)\n",
    "    coordinates = tsne_model.fit_transform(wordvecs)\n",
    "    \n",
    "    x = []\n",
    "    y = []\n",
    "    for value in coordinates:\n",
    "        x.append(value[0])\n",
    "        y.append(value[1])\n",
    "    \n",
    "    plt.figure(figsize=(20,8))\n",
    "    for i in range(len(x)):\n",
    "        plt.scatter(x[i],y[i])\n",
    "        plt.annotate(labels[i],\n",
    "                     xy=(x[i], y[i]),\n",
    "                     xytext=(2, 2),\n",
    "                     textcoords='offset points', ha='left')\n",
    "    \n",
    "    plt.show()\n",
    "\n",
    "tsne_plot(model)\n"
   ]
  },
  {
   "cell_type": "code",
   "execution_count": null,
   "metadata": {},
   "outputs": [],
   "source": []
  },
  {
   "cell_type": "code",
   "execution_count": null,
   "metadata": {},
   "outputs": [],
   "source": []
  }
 ],
 "metadata": {
  "kernelspec": {
   "display_name": "Python 3",
   "language": "python",
   "name": "python3"
  },
  "language_info": {
   "codemirror_mode": {
    "name": "ipython",
    "version": 3
   },
   "file_extension": ".py",
   "mimetype": "text/x-python",
   "name": "python",
   "nbconvert_exporter": "python",
   "pygments_lexer": "ipython3",
   "version": "3.7.4"
  }
 },
 "nbformat": 4,
 "nbformat_minor": 2
}
