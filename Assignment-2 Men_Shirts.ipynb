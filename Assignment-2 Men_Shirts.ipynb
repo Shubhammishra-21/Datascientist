{
 "cells": [
  {
   "cell_type": "code",
   "execution_count": 41,
   "metadata": {},
   "outputs": [
    {
     "name": "stdout",
     "output_type": "stream",
     "text": [
      "Requirement already satisfied: selenium in c:\\users\\shubham\\anaconda3\\lib\\site-packages (3.141.0)\n",
      "Requirement already satisfied: urllib3 in c:\\users\\shubham\\anaconda3\\lib\\site-packages (from selenium) (1.24.2)\n",
      "Note: you may need to restart the kernel to use updated packages.\n"
     ]
    }
   ],
   "source": [
    "pip install selenium"
   ]
  },
  {
   "cell_type": "code",
   "execution_count": 42,
   "metadata": {},
   "outputs": [],
   "source": [
    "from selenium import webdriver\n",
    "import os"
   ]
  },
  {
   "cell_type": "code",
   "execution_count": 43,
   "metadata": {},
   "outputs": [],
   "source": [
    "driver = webdriver.Chrome('C:/Users/Shubham/AppData/Local/Temp/Rar$EXa0.636/Chromedriver')"
   ]
  },
  {
   "cell_type": "code",
   "execution_count": 44,
   "metadata": {},
   "outputs": [],
   "source": [
    "driver.get('https://www.amazon.in/s?k=shirts&ref=nb_sb_noss_2')"
   ]
  },
  {
   "cell_type": "code",
   "execution_count": 45,
   "metadata": {},
   "outputs": [],
   "source": [
    "def make_directory(dirname):\n",
    "    current_path=os.getcwd()\n",
    "    path=os.path.join(current_path, dirname)\n",
    "    if not os.path.exists(path):\n",
    "        os.makedirs(path)"
   ]
  },
  {
   "cell_type": "code",
   "execution_count": 46,
   "metadata": {},
   "outputs": [],
   "source": [
    "make_directory(\"Men_shirts\")"
   ]
  },
  {
   "cell_type": "code",
   "execution_count": 47,
   "metadata": {},
   "outputs": [],
   "source": [
    "images=driver.find_elements_by_xpath(\"//div[@class='a-section aok-relative s-image-tall-aspect']//img\")\n",
    "#print(images)"
   ]
  },
  {
   "cell_type": "code",
   "execution_count": 48,
   "metadata": {},
   "outputs": [
    {
     "name": "stdout",
     "output_type": "stream",
     "text": [
      "<selenium.webdriver.remote.webelement.WebElement (session=\"f29969be5ae49b41e1aa6134f07f7939\", element=\"3f9258eb-b018-426a-ad9d-d08d12573f82\")>\n"
     ]
    }
   ],
   "source": [
    "print(images[0])"
   ]
  },
  {
   "cell_type": "code",
   "execution_count": 49,
   "metadata": {},
   "outputs": [
    {
     "name": "stdout",
     "output_type": "stream",
     "text": [
      "60\n"
     ]
    }
   ],
   "source": [
    "print(len(images))"
   ]
  },
  {
   "cell_type": "code",
   "execution_count": 50,
   "metadata": {},
   "outputs": [
    {
     "name": "stdout",
     "output_type": "stream",
     "text": [
      "https://www.amazon.in/images/I/91ekOj8Qn6L._AC_UL320_.jpg\n",
      "https://www.amazon.in/images/I/81CfXLf-h1L._AC_UL320_.jpg\n",
      "https://www.amazon.in/images/I/81HPSnenSDL._AC_UL320_.jpg\n",
      "https://www.amazon.in/images/I/81N-CpqGHuL._AC_UL320_.jpg\n",
      "https://www.amazon.in/images/I/71-x0qqr2-L._AC_UL320_.jpg\n",
      "https://www.amazon.in/images/I/81ep28K+XYL._AC_UL320_.jpg\n",
      "https://www.amazon.in/images/I/61-TuCrKZ7L._AC_UL320_.jpg\n",
      "https://www.amazon.in/images/I/613Yclz2TkL._AC_UL320_.jpg\n",
      "https://www.amazon.in/images/I/81q1-5edHwL._AC_UL320_.jpg\n",
      "https://www.amazon.in/images/I/71g11dRK4ML._AC_UL320_.jpg\n",
      "https://www.amazon.in/images/I/81q1-5edHwL._AC_UL320_.jpg\n",
      "https://www.amazon.in/images/I/91-YqF8J1bL._AC_UL320_.jpg\n",
      "https://www.amazon.in/images/I/51wpu-iyHQL._AC_UL320_.jpg\n",
      "https://www.amazon.in/images/I/81HPb03WkyL._AC_UL320_.jpg\n",
      "https://www.amazon.in/images/I/71pptbGD1sL._AC_UL320_.jpg\n",
      "https://www.amazon.in/images/I/81Yr-mAPINL._AC_UL320_.jpg\n",
      "https://www.amazon.in/images/I/71G7i6TjMnL._AC_UL320_.jpg\n",
      "https://www.amazon.in/images/I/61JxL44oAbL._AC_UL320_.jpg\n",
      "https://www.amazon.in/images/I/71Pof91deKL._AC_UL320_.jpg\n",
      "https://www.amazon.in/images/I/41ePMD5hIEL._AC_UL320_.jpg\n",
      "https://www.amazon.in/images/I/91ne2SrL9RL._AC_UL320_.jpg\n",
      "https://www.amazon.in/images/I/71tntyAEbwL._AC_UL320_.jpg\n",
      "https://www.amazon.in/images/I/71LkdZTOT-L._AC_UL320_.jpg\n",
      "https://www.amazon.in/images/I/81wOqH0h15L._AC_UL320_.jpg\n",
      "https://www.amazon.in/images/I/61gmjNpvLsL._AC_UL320_.jpg\n",
      "https://www.amazon.in/images/I/91zwidVhddL._AC_UL320_.jpg\n",
      "https://www.amazon.in/images/I/81R3GF+phQL._AC_UL320_.jpg\n",
      "https://www.amazon.in/images/I/51HHzLlcqrL._AC_UL320_.jpg\n",
      "https://www.amazon.in/images/I/61qQc8TXM8L._AC_UL320_.jpg\n",
      "https://www.amazon.in/images/I/81RNd2IlM8L._AC_UL320_.jpg\n",
      "https://www.amazon.in/images/I/71mC2NkbERL._AC_UL320_.jpg\n",
      "https://www.amazon.in/images/I/71SOM8sevLL._AC_UL320_.jpg\n",
      "https://www.amazon.in/images/I/81DtfpizrmL._AC_UL320_.jpg\n",
      "https://www.amazon.in/images/I/414CQUfid0L._AC_UL320_.jpg\n",
      "https://www.amazon.in/images/I/81H0ki1TX2L._AC_UL320_.jpg\n",
      "https://www.amazon.in/images/I/71QNEFh89YL._AC_UL320_.jpg\n",
      "https://www.amazon.in/images/I/61rnzMjt41L._AC_UL320_.jpg\n",
      "https://www.amazon.in/images/I/81y5LtdmOZL._AC_UL320_.jpg\n",
      "https://www.amazon.in/images/I/51lzFWgUMAL._AC_UL320_.jpg\n",
      "https://www.amazon.in/images/I/71vCga8a9DL._AC_UL320_.jpg\n",
      "https://www.amazon.in/images/I/91AC6e9TdaL._AC_UL320_.jpg\n",
      "https://www.amazon.in/images/I/61ictePJ5nL._AC_UL320_.jpg\n",
      "https://www.amazon.in/images/I/81ZwQPFJXTL._AC_UL320_.jpg\n",
      "https://www.amazon.in/images/I/51KX01Bww5L._AC_UL320_.jpg\n",
      "https://www.amazon.in/images/I/31Q1OYTHEgL._AC_UL320_.jpg\n",
      "https://www.amazon.in/images/I/618MEBnGrJL._AC_UL320_.jpg\n",
      "https://www.amazon.in/images/I/616ijBRZJRL._AC_UL320_.jpg\n",
      "https://www.amazon.in/images/I/51+kf9Zn2JL._AC_UL320_.jpg\n",
      "https://www.amazon.in/images/I/61EnfGa5b-L._AC_UL320_.jpg\n",
      "https://www.amazon.in/images/I/41GKHBTl6aL._AC_UL320_.jpg\n",
      "https://www.amazon.in/images/I/81xG0sQyoSL._AC_UL320_.jpg\n",
      "https://www.amazon.in/images/I/81t9lqgp20L._AC_UL320_.jpg\n",
      "https://www.amazon.in/images/I/71ympDPgdAL._AC_UL320_.jpg\n",
      "https://www.amazon.in/images/I/51EajTJwuLL._AC_UL320_.jpg\n",
      "https://www.amazon.in/images/I/71eIJUgMnCL._AC_UL320_.jpg\n",
      "https://www.amazon.in/images/I/819Wbnq8yVL._AC_UL320_.jpg\n",
      "https://www.amazon.in/images/I/71jMv3WbxaL._AC_UL320_.jpg\n",
      "https://www.amazon.in/images/I/81K0E+Fz35L._AC_UL320_.jpg\n",
      "https://www.amazon.in/images/I/81uRslJa5KL._AC_UL320_.jpg\n",
      "https://www.amazon.in/images/I/A12qT5KiVGL._AC_UL320_.jpg\n"
     ]
    }
   ],
   "source": [
    "urls= []\n",
    "for image in images:\n",
    "    source= image.get_attribute('src')\n",
    "    urls.append(source)\n",
    "    print(source)"
   ]
  },
  {
   "cell_type": "code",
   "execution_count": 51,
   "metadata": {},
   "outputs": [
    {
     "data": {
      "text/plain": [
       "60"
      ]
     },
     "execution_count": 51,
     "metadata": {},
     "output_type": "execute_result"
    }
   ],
   "source": [
    "len(urls)"
   ]
  },
  {
   "cell_type": "code",
   "execution_count": 52,
   "metadata": {},
   "outputs": [
    {
     "name": "stdout",
     "output_type": "stream",
     "text": [
      "Requirement already satisfied: request in c:\\users\\shubham\\anaconda3\\lib\\site-packages (0.0.0)\n",
      "Requirement already satisfied: get in c:\\users\\shubham\\anaconda3\\lib\\site-packages (from request) (0.0.0)\n",
      "Requirement already satisfied: post in c:\\users\\shubham\\anaconda3\\lib\\site-packages (from request) (0.0.0)\n",
      "Requirement already satisfied: query-string in c:\\users\\shubham\\anaconda3\\lib\\site-packages (from get->request) (0.0.0)\n",
      "Note: you may need to restart the kernel to use updated packages.\n"
     ]
    }
   ],
   "source": [
    "pip install request"
   ]
  },
  {
   "cell_type": "code",
   "execution_count": 53,
   "metadata": {},
   "outputs": [],
   "source": [
    "import shutil\n",
    "import requests"
   ]
  },
  {
   "cell_type": "code",
   "execution_count": 54,
   "metadata": {},
   "outputs": [
    {
     "name": "stdout",
     "output_type": "stream",
     "text": [
      "Downloading (0) of (1) images from page 1\n",
      "Downloading (0) of (1) images from page 1\n",
      "Downloading (0) of (1) images from page 1\n",
      "Downloading (0) of (1) images from page 1\n",
      "Downloading (0) of (1) images from page 1\n",
      "Downloading (0) of (1) images from page 1\n",
      "Downloading (0) of (1) images from page 1\n",
      "Downloading (0) of (1) images from page 1\n",
      "Downloading (0) of (1) images from page 1\n",
      "Downloading (0) of (1) images from page 1\n",
      "Downloading (0) of (1) images from page 1\n",
      "Downloading (0) of (1) images from page 1\n",
      "Downloading (0) of (1) images from page 1\n",
      "Downloading (0) of (1) images from page 1\n",
      "Downloading (0) of (1) images from page 1\n",
      "Downloading (0) of (1) images from page 1\n",
      "Downloading (0) of (1) images from page 1\n",
      "Downloading (0) of (1) images from page 1\n",
      "Downloading (0) of (1) images from page 1\n",
      "Downloading (0) of (1) images from page 1\n",
      "Downloading (0) of (1) images from page 1\n",
      "Downloading (0) of (1) images from page 1\n",
      "Downloading (0) of (1) images from page 1\n",
      "Downloading (0) of (1) images from page 1\n",
      "Downloading (0) of (1) images from page 1\n",
      "Downloading (0) of (1) images from page 1\n",
      "Downloading (0) of (1) images from page 1\n",
      "Downloading (0) of (1) images from page 1\n",
      "Downloading (0) of (1) images from page 1\n",
      "Downloading (0) of (1) images from page 1\n",
      "Downloading (0) of (1) images from page 1\n",
      "Downloading (0) of (1) images from page 1\n",
      "Downloading (0) of (1) images from page 1\n",
      "Downloading (0) of (1) images from page 1\n",
      "Downloading (0) of (1) images from page 1\n",
      "Downloading (0) of (1) images from page 1\n",
      "Downloading (0) of (1) images from page 1\n",
      "Downloading (0) of (1) images from page 1\n",
      "Downloading (0) of (1) images from page 1\n",
      "Downloading (0) of (1) images from page 1\n",
      "Downloading (0) of (1) images from page 1\n",
      "Downloading (0) of (1) images from page 1\n",
      "Downloading (0) of (1) images from page 1\n",
      "Downloading (0) of (1) images from page 1\n",
      "Downloading (0) of (1) images from page 1\n",
      "Downloading (0) of (1) images from page 1\n",
      "Downloading (0) of (1) images from page 1\n",
      "Downloading (0) of (1) images from page 1\n",
      "Downloading (0) of (1) images from page 1\n",
      "Downloading (0) of (1) images from page 1\n",
      "Downloading (0) of (1) images from page 1\n",
      "Downloading (0) of (1) images from page 1\n",
      "Downloading (0) of (1) images from page 1\n",
      "Downloading (0) of (1) images from page 1\n",
      "Downloading (0) of (1) images from page 1\n",
      "Downloading (0) of (1) images from page 1\n",
      "Downloading (0) of (1) images from page 1\n",
      "Downloading (0) of (1) images from page 1\n",
      "Downloading (0) of (1) images from page 1\n",
      "Downloading (0) of (1) images from page 1\n"
     ]
    }
   ],
   "source": [
    "page=1\n",
    "for index,link in enumerate(urls):\n",
    "    print(\"Downloading (0) of (1) images from page 1\".format(index+1,len(urls)))\n",
    "    response= requests.get(link)\n",
    "    with open('sarees/img[0][1].jpeg'.format(index,page),\"wb\") as file:\n",
    "        file.write(response.content)"
   ]
  },
  {
   "cell_type": "markdown",
   "metadata": {},
   "source": [
    "# Moving to the Next Page"
   ]
  },
  {
   "cell_type": "code",
   "execution_count": 55,
   "metadata": {},
   "outputs": [],
   "source": [
    "next_page=driver.find_elements_by_xpath(\"//a[@class='a-last']\")\n",
    "#print(images)"
   ]
  },
  {
   "cell_type": "code",
   "execution_count": 56,
   "metadata": {},
   "outputs": [],
   "source": [
    "images=driver.find_elements_by_xpath(\"//div[@class='a-section aok-relative s-image-tall-aspect']//img\")\n",
    "#print(images)"
   ]
  },
  {
   "cell_type": "code",
   "execution_count": 57,
   "metadata": {},
   "outputs": [
    {
     "name": "stdout",
     "output_type": "stream",
     "text": [
      "https://www.amazon.in/images/I/91ekOj8Qn6L._AC_UL320_.jpg\n",
      "https://www.amazon.in/images/I/81CfXLf-h1L._AC_UL320_.jpg\n",
      "https://www.amazon.in/images/I/81HPSnenSDL._AC_UL320_.jpg\n",
      "https://www.amazon.in/images/I/81N-CpqGHuL._AC_UL320_.jpg\n",
      "https://www.amazon.in/images/I/71-x0qqr2-L._AC_UL320_.jpg\n",
      "https://www.amazon.in/images/I/81ep28K+XYL._AC_UL320_.jpg\n",
      "https://www.amazon.in/images/I/61-TuCrKZ7L._AC_UL320_.jpg\n",
      "https://www.amazon.in/images/I/613Yclz2TkL._AC_UL320_.jpg\n",
      "https://www.amazon.in/images/I/81q1-5edHwL._AC_UL320_.jpg\n",
      "https://www.amazon.in/images/I/71g11dRK4ML._AC_UL320_.jpg\n",
      "https://www.amazon.in/images/I/81q1-5edHwL._AC_UL320_.jpg\n",
      "https://www.amazon.in/images/I/91-YqF8J1bL._AC_UL320_.jpg\n",
      "https://www.amazon.in/images/I/51wpu-iyHQL._AC_UL320_.jpg\n",
      "https://www.amazon.in/images/I/81HPb03WkyL._AC_UL320_.jpg\n",
      "https://www.amazon.in/images/I/71pptbGD1sL._AC_UL320_.jpg\n",
      "https://www.amazon.in/images/I/81Yr-mAPINL._AC_UL320_.jpg\n",
      "https://www.amazon.in/images/I/71G7i6TjMnL._AC_UL320_.jpg\n",
      "https://www.amazon.in/images/I/61JxL44oAbL._AC_UL320_.jpg\n",
      "https://www.amazon.in/images/I/71Pof91deKL._AC_UL320_.jpg\n",
      "https://www.amazon.in/images/I/41ePMD5hIEL._AC_UL320_.jpg\n",
      "https://www.amazon.in/images/I/91ne2SrL9RL._AC_UL320_.jpg\n",
      "https://www.amazon.in/images/I/71tntyAEbwL._AC_UL320_.jpg\n",
      "https://www.amazon.in/images/I/71LkdZTOT-L._AC_UL320_.jpg\n",
      "https://www.amazon.in/images/I/81wOqH0h15L._AC_UL320_.jpg\n",
      "https://www.amazon.in/images/I/61gmjNpvLsL._AC_UL320_.jpg\n",
      "https://www.amazon.in/images/I/91zwidVhddL._AC_UL320_.jpg\n",
      "https://www.amazon.in/images/I/81R3GF+phQL._AC_UL320_.jpg\n",
      "https://www.amazon.in/images/I/51HHzLlcqrL._AC_UL320_.jpg\n",
      "https://www.amazon.in/images/I/61qQc8TXM8L._AC_UL320_.jpg\n",
      "https://www.amazon.in/images/I/81RNd2IlM8L._AC_UL320_.jpg\n",
      "https://www.amazon.in/images/I/71mC2NkbERL._AC_UL320_.jpg\n",
      "https://www.amazon.in/images/I/71SOM8sevLL._AC_UL320_.jpg\n",
      "https://www.amazon.in/images/I/81DtfpizrmL._AC_UL320_.jpg\n",
      "https://www.amazon.in/images/I/414CQUfid0L._AC_UL320_.jpg\n",
      "https://www.amazon.in/images/I/81H0ki1TX2L._AC_UL320_.jpg\n",
      "https://www.amazon.in/images/I/71QNEFh89YL._AC_UL320_.jpg\n",
      "https://www.amazon.in/images/I/61rnzMjt41L._AC_UL320_.jpg\n",
      "https://www.amazon.in/images/I/81y5LtdmOZL._AC_UL320_.jpg\n",
      "https://www.amazon.in/images/I/51lzFWgUMAL._AC_UL320_.jpg\n",
      "https://www.amazon.in/images/I/71vCga8a9DL._AC_UL320_.jpg\n",
      "https://www.amazon.in/images/I/91AC6e9TdaL._AC_UL320_.jpg\n",
      "https://www.amazon.in/images/I/61ictePJ5nL._AC_UL320_.jpg\n",
      "https://www.amazon.in/images/I/81ZwQPFJXTL._AC_UL320_.jpg\n",
      "https://www.amazon.in/images/I/51KX01Bww5L._AC_UL320_.jpg\n",
      "https://www.amazon.in/images/I/31Q1OYTHEgL._AC_UL320_.jpg\n",
      "https://www.amazon.in/images/I/618MEBnGrJL._AC_UL320_.jpg\n",
      "https://www.amazon.in/images/I/616ijBRZJRL._AC_UL320_.jpg\n",
      "https://www.amazon.in/images/I/51+kf9Zn2JL._AC_UL320_.jpg\n",
      "https://www.amazon.in/images/I/61EnfGa5b-L._AC_UL320_.jpg\n",
      "https://www.amazon.in/images/I/41GKHBTl6aL._AC_UL320_.jpg\n",
      "https://www.amazon.in/images/I/81xG0sQyoSL._AC_UL320_.jpg\n",
      "https://www.amazon.in/images/I/81t9lqgp20L._AC_UL320_.jpg\n",
      "https://www.amazon.in/images/I/71ympDPgdAL._AC_UL320_.jpg\n",
      "https://www.amazon.in/images/I/51EajTJwuLL._AC_UL320_.jpg\n",
      "https://www.amazon.in/images/I/71eIJUgMnCL._AC_UL320_.jpg\n",
      "https://www.amazon.in/images/I/819Wbnq8yVL._AC_UL320_.jpg\n",
      "https://www.amazon.in/images/I/71jMv3WbxaL._AC_UL320_.jpg\n",
      "https://www.amazon.in/images/I/81K0E+Fz35L._AC_UL320_.jpg\n",
      "https://www.amazon.in/images/I/81uRslJa5KL._AC_UL320_.jpg\n",
      "https://www.amazon.in/images/I/A12qT5KiVGL._AC_UL320_.jpg\n"
     ]
    }
   ],
   "source": [
    "urls=[]\n",
    "for image in images:\n",
    "    source= image.get_attribute('src')\n",
    "    urls.append(source)\n",
    "    print(source)"
   ]
  },
  {
   "cell_type": "code",
   "execution_count": 58,
   "metadata": {},
   "outputs": [],
   "source": [
    "import shutil\n",
    "import requests"
   ]
  },
  {
   "cell_type": "code",
   "execution_count": 59,
   "metadata": {},
   "outputs": [
    {
     "name": "stdout",
     "output_type": "stream",
     "text": [
      "Downloading (0) of (1) images from page 2\n",
      "Downloading (0) of (1) images from page 2\n",
      "Downloading (0) of (1) images from page 2\n",
      "Downloading (0) of (1) images from page 2\n",
      "Downloading (0) of (1) images from page 2\n",
      "Downloading (0) of (1) images from page 2\n",
      "Downloading (0) of (1) images from page 2\n",
      "Downloading (0) of (1) images from page 2\n",
      "Downloading (0) of (1) images from page 2\n",
      "Downloading (0) of (1) images from page 2\n",
      "Downloading (0) of (1) images from page 2\n",
      "Downloading (0) of (1) images from page 2\n",
      "Downloading (0) of (1) images from page 2\n",
      "Downloading (0) of (1) images from page 2\n",
      "Downloading (0) of (1) images from page 2\n",
      "Downloading (0) of (1) images from page 2\n",
      "Downloading (0) of (1) images from page 2\n",
      "Downloading (0) of (1) images from page 2\n",
      "Downloading (0) of (1) images from page 2\n",
      "Downloading (0) of (1) images from page 2\n",
      "Downloading (0) of (1) images from page 2\n",
      "Downloading (0) of (1) images from page 2\n",
      "Downloading (0) of (1) images from page 2\n",
      "Downloading (0) of (1) images from page 2\n",
      "Downloading (0) of (1) images from page 2\n",
      "Downloading (0) of (1) images from page 2\n",
      "Downloading (0) of (1) images from page 2\n",
      "Downloading (0) of (1) images from page 2\n",
      "Downloading (0) of (1) images from page 2\n",
      "Downloading (0) of (1) images from page 2\n",
      "Downloading (0) of (1) images from page 2\n",
      "Downloading (0) of (1) images from page 2\n",
      "Downloading (0) of (1) images from page 2\n",
      "Downloading (0) of (1) images from page 2\n",
      "Downloading (0) of (1) images from page 2\n",
      "Downloading (0) of (1) images from page 2\n",
      "Downloading (0) of (1) images from page 2\n",
      "Downloading (0) of (1) images from page 2\n",
      "Downloading (0) of (1) images from page 2\n",
      "Downloading (0) of (1) images from page 2\n",
      "Downloading (0) of (1) images from page 2\n",
      "Downloading (0) of (1) images from page 2\n",
      "Downloading (0) of (1) images from page 2\n",
      "Downloading (0) of (1) images from page 2\n",
      "Downloading (0) of (1) images from page 2\n",
      "Downloading (0) of (1) images from page 2\n",
      "Downloading (0) of (1) images from page 2\n",
      "Downloading (0) of (1) images from page 2\n",
      "Downloading (0) of (1) images from page 2\n",
      "Downloading (0) of (1) images from page 2\n",
      "Downloading (0) of (1) images from page 2\n",
      "Downloading (0) of (1) images from page 2\n",
      "Downloading (0) of (1) images from page 2\n",
      "Downloading (0) of (1) images from page 2\n",
      "Downloading (0) of (1) images from page 2\n",
      "Downloading (0) of (1) images from page 2\n",
      "Downloading (0) of (1) images from page 2\n",
      "Downloading (0) of (1) images from page 2\n",
      "Downloading (0) of (1) images from page 2\n",
      "Downloading (0) of (1) images from page 2\n"
     ]
    }
   ],
   "source": [
    "page=2\n",
    "for index,link in enumerate(urls):\n",
    "    print(\"Downloading (0) of (1) images from page 2\".format(index+1,len(urls)))\n",
    "    response= requests.get(link)\n",
    "    with open('sarees/img[0][1].jpeg'.format(index,page),\"wb\") as file:\n",
    "        file.write(response.content)"
   ]
  },
  {
   "cell_type": "code",
   "execution_count": null,
   "metadata": {},
   "outputs": [],
   "source": []
  }
 ],
 "metadata": {
  "kernelspec": {
   "display_name": "Python 3",
   "language": "python",
   "name": "python3"
  },
  "language_info": {
   "codemirror_mode": {
    "name": "ipython",
    "version": 3
   },
   "file_extension": ".py",
   "mimetype": "text/x-python",
   "name": "python",
   "nbconvert_exporter": "python",
   "pygments_lexer": "ipython3",
   "version": "3.7.4"
  }
 },
 "nbformat": 4,
 "nbformat_minor": 2
}
