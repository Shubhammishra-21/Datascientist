{
 "cells": [
  {
   "cell_type": "markdown",
   "metadata": {},
   "source": [
    "# Scraping Images from Amazon"
   ]
  },
  {
   "cell_type": "markdown",
   "metadata": {},
   "source": [
    "# Step-1:Import the Libraries and get the URL of the webpage"
   ]
  },
  {
   "cell_type": "code",
   "execution_count": 45,
   "metadata": {},
   "outputs": [
    {
     "name": "stdout",
     "output_type": "stream",
     "text": [
      "Requirement already satisfied: selenium in c:\\users\\shubham\\anaconda3\\lib\\site-packages (3.141.0)\n",
      "Requirement already satisfied: urllib3 in c:\\users\\shubham\\anaconda3\\lib\\site-packages (from selenium) (1.24.2)\n",
      "Note: you may need to restart the kernel to use updated packages.\n"
     ]
    }
   ],
   "source": [
    "pip install selenium"
   ]
  },
  {
   "cell_type": "code",
   "execution_count": 46,
   "metadata": {},
   "outputs": [],
   "source": [
    "from selenium import webdriver\n",
    "import os"
   ]
  },
  {
   "cell_type": "code",
   "execution_count": 47,
   "metadata": {},
   "outputs": [],
   "source": [
    "driver = webdriver.Chrome('C:/Users/Shubham/AppData/Local/Temp/Rar$EXa0.328/Chromedriver')\n"
   ]
  },
  {
   "cell_type": "code",
   "execution_count": 48,
   "metadata": {},
   "outputs": [],
   "source": [
    "driver.get('https://www.amazon.com/s?k=men+shirts&ref=nb_sb_noss_2')\n"
   ]
  },
  {
   "cell_type": "markdown",
   "metadata": {},
   "source": [
    "# Making the directory to store images"
   ]
  },
  {
   "cell_type": "code",
   "execution_count": 49,
   "metadata": {},
   "outputs": [],
   "source": [
    "def make_directory(dirname):\n",
    "    current_path=os.getcwd()\n",
    "    path=os.path.join(current_path, dirname)\n",
    "    if not os.path.exists(path):\n",
    "        os.makedirs(path)"
   ]
  },
  {
   "cell_type": "code",
   "execution_count": 50,
   "metadata": {},
   "outputs": [],
   "source": [
    "make_directory(\"amazon_men shirt\")"
   ]
  },
  {
   "cell_type": "markdown",
   "metadata": {},
   "source": [
    "# Step-3:Scraping image Urls"
   ]
  },
  {
   "cell_type": "code",
   "execution_count": 51,
   "metadata": {},
   "outputs": [
    {
     "name": "stdout",
     "output_type": "stream",
     "text": [
      "[<selenium.webdriver.remote.webelement.WebElement (session=\"670a5828d9135aa38464cea5e9fdca81\", element=\"934abba5-2457-4a0e-91f6-aefb4f82ba6e\")>, <selenium.webdriver.remote.webelement.WebElement (session=\"670a5828d9135aa38464cea5e9fdca81\", element=\"a96c4e6b-b821-44da-b8d3-298738deb22a\")>, <selenium.webdriver.remote.webelement.WebElement (session=\"670a5828d9135aa38464cea5e9fdca81\", element=\"55f48b35-0a36-4456-b2dc-d3d2c0fc040a\")>, <selenium.webdriver.remote.webelement.WebElement (session=\"670a5828d9135aa38464cea5e9fdca81\", element=\"23d680a2-e152-491e-9160-137c05b53c1b\")>, <selenium.webdriver.remote.webelement.WebElement (session=\"670a5828d9135aa38464cea5e9fdca81\", element=\"37a147d2-5648-4dc8-a10d-4ca1c8fbfbfc\")>, <selenium.webdriver.remote.webelement.WebElement (session=\"670a5828d9135aa38464cea5e9fdca81\", element=\"ba5f26ca-a34a-43bf-afa7-475fd24405bb\")>, <selenium.webdriver.remote.webelement.WebElement (session=\"670a5828d9135aa38464cea5e9fdca81\", element=\"5570c32e-d4b9-4747-b51f-0a4d890c3bb0\")>, <selenium.webdriver.remote.webelement.WebElement (session=\"670a5828d9135aa38464cea5e9fdca81\", element=\"1ae50617-7e46-4489-839f-fedea3107a24\")>, <selenium.webdriver.remote.webelement.WebElement (session=\"670a5828d9135aa38464cea5e9fdca81\", element=\"370e5e0c-c16b-4ccb-80b6-419ea7de1502\")>, <selenium.webdriver.remote.webelement.WebElement (session=\"670a5828d9135aa38464cea5e9fdca81\", element=\"01bf81a6-d99a-4d32-9fdd-36012669af00\")>, <selenium.webdriver.remote.webelement.WebElement (session=\"670a5828d9135aa38464cea5e9fdca81\", element=\"60d0dad0-6b87-4e28-b551-de9dba975bdc\")>, <selenium.webdriver.remote.webelement.WebElement (session=\"670a5828d9135aa38464cea5e9fdca81\", element=\"228583b4-31ac-47be-8ab3-79e23c889873\")>, <selenium.webdriver.remote.webelement.WebElement (session=\"670a5828d9135aa38464cea5e9fdca81\", element=\"5090c58c-1d2e-4f19-99f4-78533a4eb470\")>, <selenium.webdriver.remote.webelement.WebElement (session=\"670a5828d9135aa38464cea5e9fdca81\", element=\"5466f463-6bf8-4280-8496-6c0e92cffd01\")>, <selenium.webdriver.remote.webelement.WebElement (session=\"670a5828d9135aa38464cea5e9fdca81\", element=\"850293b5-0637-4af1-935b-251dbf10cced\")>, <selenium.webdriver.remote.webelement.WebElement (session=\"670a5828d9135aa38464cea5e9fdca81\", element=\"debd1918-0de7-4bca-ae36-1c88c13761e5\")>, <selenium.webdriver.remote.webelement.WebElement (session=\"670a5828d9135aa38464cea5e9fdca81\", element=\"9c7193f2-0739-4302-958d-fd640b0ce280\")>, <selenium.webdriver.remote.webelement.WebElement (session=\"670a5828d9135aa38464cea5e9fdca81\", element=\"e8faf1cc-8fae-4d82-93c0-862e1accd797\")>, <selenium.webdriver.remote.webelement.WebElement (session=\"670a5828d9135aa38464cea5e9fdca81\", element=\"6c1e1704-97b6-4e7e-a581-6b13cb817ac0\")>, <selenium.webdriver.remote.webelement.WebElement (session=\"670a5828d9135aa38464cea5e9fdca81\", element=\"45f80970-4b2c-4314-b4b4-42dbb0c21823\")>, <selenium.webdriver.remote.webelement.WebElement (session=\"670a5828d9135aa38464cea5e9fdca81\", element=\"f0891d77-08e8-41af-bc64-2aabadd6f370\")>, <selenium.webdriver.remote.webelement.WebElement (session=\"670a5828d9135aa38464cea5e9fdca81\", element=\"4b75078e-ea63-4b39-b377-ab2f79c4fff4\")>, <selenium.webdriver.remote.webelement.WebElement (session=\"670a5828d9135aa38464cea5e9fdca81\", element=\"4a2e6554-16f8-4cb4-92d2-509df61e3f9b\")>, <selenium.webdriver.remote.webelement.WebElement (session=\"670a5828d9135aa38464cea5e9fdca81\", element=\"08cab769-2afb-479d-9f7c-440c60f7cad2\")>, <selenium.webdriver.remote.webelement.WebElement (session=\"670a5828d9135aa38464cea5e9fdca81\", element=\"7b848f93-6dad-426b-815a-795ea860f368\")>, <selenium.webdriver.remote.webelement.WebElement (session=\"670a5828d9135aa38464cea5e9fdca81\", element=\"6f245998-ccf0-4caf-a24a-0f43490c7f18\")>, <selenium.webdriver.remote.webelement.WebElement (session=\"670a5828d9135aa38464cea5e9fdca81\", element=\"d8a27846-3643-41c9-8d91-cf94860d97c6\")>, <selenium.webdriver.remote.webelement.WebElement (session=\"670a5828d9135aa38464cea5e9fdca81\", element=\"684b6b18-4bd0-44bb-b99b-42d4d390bb4b\")>, <selenium.webdriver.remote.webelement.WebElement (session=\"670a5828d9135aa38464cea5e9fdca81\", element=\"e6e73277-ce56-4bd9-9beb-58dd6c6d21b0\")>, <selenium.webdriver.remote.webelement.WebElement (session=\"670a5828d9135aa38464cea5e9fdca81\", element=\"e7ea98cf-b794-45ca-a87a-79aac457a70b\")>, <selenium.webdriver.remote.webelement.WebElement (session=\"670a5828d9135aa38464cea5e9fdca81\", element=\"7dcc467a-ef87-4826-821f-cd3dcc9abaf7\")>, <selenium.webdriver.remote.webelement.WebElement (session=\"670a5828d9135aa38464cea5e9fdca81\", element=\"c52011b8-6fc3-40b5-9cd0-88ae6283de9e\")>, <selenium.webdriver.remote.webelement.WebElement (session=\"670a5828d9135aa38464cea5e9fdca81\", element=\"cc2f25b7-f5fc-4210-b0fc-ef48afaba7ad\")>, <selenium.webdriver.remote.webelement.WebElement (session=\"670a5828d9135aa38464cea5e9fdca81\", element=\"d658322d-abdd-4a4c-8608-74479767b2d1\")>, <selenium.webdriver.remote.webelement.WebElement (session=\"670a5828d9135aa38464cea5e9fdca81\", element=\"29d9ca84-49e5-4455-af4c-28a891e9c150\")>, <selenium.webdriver.remote.webelement.WebElement (session=\"670a5828d9135aa38464cea5e9fdca81\", element=\"d793a344-96e6-4f24-8123-bf9a0df39b05\")>, <selenium.webdriver.remote.webelement.WebElement (session=\"670a5828d9135aa38464cea5e9fdca81\", element=\"90c05292-df7d-40e4-adfa-ece2ce413e63\")>, <selenium.webdriver.remote.webelement.WebElement (session=\"670a5828d9135aa38464cea5e9fdca81\", element=\"14bf5add-1a05-4d15-9fbc-686280c3159e\")>, <selenium.webdriver.remote.webelement.WebElement (session=\"670a5828d9135aa38464cea5e9fdca81\", element=\"429f50a3-9053-41c6-8e1d-d6e143ab4d20\")>, <selenium.webdriver.remote.webelement.WebElement (session=\"670a5828d9135aa38464cea5e9fdca81\", element=\"92548fb3-2a40-4067-8625-c88f8193c3fa\")>, <selenium.webdriver.remote.webelement.WebElement (session=\"670a5828d9135aa38464cea5e9fdca81\", element=\"a986ee55-a05f-403f-8139-fb50f3d333e0\")>, <selenium.webdriver.remote.webelement.WebElement (session=\"670a5828d9135aa38464cea5e9fdca81\", element=\"a282f207-9904-4cd8-ae52-37224d61a9f5\")>, <selenium.webdriver.remote.webelement.WebElement (session=\"670a5828d9135aa38464cea5e9fdca81\", element=\"e2be79ca-e461-4cb1-a63f-1bd57f8abdf9\")>, <selenium.webdriver.remote.webelement.WebElement (session=\"670a5828d9135aa38464cea5e9fdca81\", element=\"b72e688a-cf07-4cbd-965b-dc07775f6154\")>, <selenium.webdriver.remote.webelement.WebElement (session=\"670a5828d9135aa38464cea5e9fdca81\", element=\"b3116d5c-5d5b-41b1-9e44-f9d644771db4\")>, <selenium.webdriver.remote.webelement.WebElement (session=\"670a5828d9135aa38464cea5e9fdca81\", element=\"2b59c7ad-9a83-4f3e-8c37-b08885a0c094\")>, <selenium.webdriver.remote.webelement.WebElement (session=\"670a5828d9135aa38464cea5e9fdca81\", element=\"c856d2e8-9806-4f5a-be4e-9fd251bf148e\")>, <selenium.webdriver.remote.webelement.WebElement (session=\"670a5828d9135aa38464cea5e9fdca81\", element=\"af62bae3-8da7-4e28-9ec7-aa0e8dc813bd\")>, <selenium.webdriver.remote.webelement.WebElement (session=\"670a5828d9135aa38464cea5e9fdca81\", element=\"05a5a554-a067-4bac-832e-9eb9c22f84b0\")>, <selenium.webdriver.remote.webelement.WebElement (session=\"670a5828d9135aa38464cea5e9fdca81\", element=\"bdba7438-df49-4ffb-ac41-ce3ff95f4eaf\")>, <selenium.webdriver.remote.webelement.WebElement (session=\"670a5828d9135aa38464cea5e9fdca81\", element=\"0a5057ce-9ea0-4156-9dbc-689bcd4b179c\")>, <selenium.webdriver.remote.webelement.WebElement (session=\"670a5828d9135aa38464cea5e9fdca81\", element=\"df853f30-54ef-46f2-b1bc-a6d361b64210\")>, <selenium.webdriver.remote.webelement.WebElement (session=\"670a5828d9135aa38464cea5e9fdca81\", element=\"121cbbe7-95ae-4b08-b7cf-b7c0b3f21dae\")>, <selenium.webdriver.remote.webelement.WebElement (session=\"670a5828d9135aa38464cea5e9fdca81\", element=\"b77bc27c-e3d8-4489-ad8b-2521799cafda\")>, <selenium.webdriver.remote.webelement.WebElement (session=\"670a5828d9135aa38464cea5e9fdca81\", element=\"96d2ca4a-7e3f-46d1-a879-70ac33ddfb98\")>, <selenium.webdriver.remote.webelement.WebElement (session=\"670a5828d9135aa38464cea5e9fdca81\", element=\"e4c186ad-b9e9-4042-88b4-182f4546188a\")>, <selenium.webdriver.remote.webelement.WebElement (session=\"670a5828d9135aa38464cea5e9fdca81\", element=\"bf415e96-248c-4ae4-85cc-4b2568a38209\")>, <selenium.webdriver.remote.webelement.WebElement (session=\"670a5828d9135aa38464cea5e9fdca81\", element=\"c68d36ca-ec7f-4946-a755-1d18ed86a98b\")>, <selenium.webdriver.remote.webelement.WebElement (session=\"670a5828d9135aa38464cea5e9fdca81\", element=\"083e3088-f71d-49c3-b162-2e9b8452ec82\")>, <selenium.webdriver.remote.webelement.WebElement (session=\"670a5828d9135aa38464cea5e9fdca81\", element=\"2ad19c37-95f3-46ea-82c4-2289f15e7c57\")>, <selenium.webdriver.remote.webelement.WebElement (session=\"670a5828d9135aa38464cea5e9fdca81\", element=\"2f8da22d-ac16-4cb1-bea4-45f8066d75dd\")>, <selenium.webdriver.remote.webelement.WebElement (session=\"670a5828d9135aa38464cea5e9fdca81\", element=\"13fefd18-5957-4fb8-a624-fff83c80dbc6\")>, <selenium.webdriver.remote.webelement.WebElement (session=\"670a5828d9135aa38464cea5e9fdca81\", element=\"10269f89-5ec6-4db3-863c-5ca8478dab56\")>]\n"
     ]
    }
   ],
   "source": [
    "images=driver.find_elements_by_xpath(\"//div[@class='a-section aok-relative s-image-square-aspect']//img\")\n",
    "print(images)"
   ]
  },
  {
   "cell_type": "code",
   "execution_count": 52,
   "metadata": {},
   "outputs": [
    {
     "name": "stdout",
     "output_type": "stream",
     "text": [
      "<selenium.webdriver.remote.webelement.WebElement (session=\"670a5828d9135aa38464cea5e9fdca81\", element=\"934abba5-2457-4a0e-91f6-aefb4f82ba6e\")>\n"
     ]
    }
   ],
   "source": [
    "print(images[0])"
   ]
  },
  {
   "cell_type": "code",
   "execution_count": 53,
   "metadata": {},
   "outputs": [
    {
     "name": "stdout",
     "output_type": "stream",
     "text": [
      "https://m.media-amazon.com/images/I/912JmLFvcML._AC_UL320_.jpg\n",
      "https://m.media-amazon.com/images/I/91+KJkpu0DL._AC_UL320_.jpg\n",
      "https://m.media-amazon.com/images/I/81157f2TGLL._AC_UL320_.jpg\n",
      "https://m.media-amazon.com/images/I/71vunCQhfXL._AC_UL320_.jpg\n",
      "https://m.media-amazon.com/images/I/91G9-590j0L._AC_UL320_.jpg\n",
      "https://m.media-amazon.com/images/I/A1Qw0o0+8LL._AC_UL320_.jpg\n",
      "https://m.media-amazon.com/images/I/81nNMAqJtkL._AC_UL320_.jpg\n",
      "https://m.media-amazon.com/images/I/91kjmZTFWxL._AC_UL320_.jpg\n",
      "https://m.media-amazon.com/images/I/A1moZPj8cWL._AC_UL320_.jpg\n",
      "https://m.media-amazon.com/images/I/81Pzxs6nadL._AC_UL320_.jpg\n",
      "https://m.media-amazon.com/images/I/71NejcjwxSL._AC_UL320_.jpg\n",
      "https://m.media-amazon.com/images/I/61pjj7DGsTL._AC_UL320_.jpg\n",
      "https://m.media-amazon.com/images/I/A18gBPiC5RL._AC_UL320_.jpg\n",
      "https://m.media-amazon.com/images/I/611fbKthMYL._AC_UL320_.jpg\n",
      "https://m.media-amazon.com/images/I/61ilzGwJgOL._AC_UL320_.jpg\n",
      "https://m.media-amazon.com/images/I/51CDUt+6XHL._AC_UL320_.jpg\n",
      "https://m.media-amazon.com/images/I/81FkuWWatxL._AC_UL320_.jpg\n",
      "https://m.media-amazon.com/images/I/71naok3vArL._AC_UL320_.jpg\n",
      "https://m.media-amazon.com/images/I/81sqfauOxhL._AC_UL320_.jpg\n",
      "https://m.media-amazon.com/images/I/91W6tX-kxLL._AC_UL320_.jpg\n",
      "https://m.media-amazon.com/images/I/71cTqWdkeaL._AC_UL320_.jpg\n",
      "https://m.media-amazon.com/images/I/71dBtUliq3L._AC_UL320_.jpg\n",
      "https://m.media-amazon.com/images/I/61CqBpL3iUL._AC_UL320_.jpg\n",
      "https://m.media-amazon.com/images/I/61YsZXe9C5L._AC_UL320_.jpg\n",
      "https://m.media-amazon.com/images/I/71Owur1oEQL._AC_UL320_.jpg\n",
      "https://m.media-amazon.com/images/I/71Xfg66SGhL._AC_UL320_.jpg\n",
      "https://m.media-amazon.com/images/I/81IHnWzhhXL._AC_UL320_.jpg\n",
      "https://m.media-amazon.com/images/I/71096uQEoYL._AC_UL320_.jpg\n",
      "https://m.media-amazon.com/images/I/91H3opr4emL._AC_UL320_.jpg\n",
      "https://m.media-amazon.com/images/I/91ENtvnyzYL._AC_UL320_.jpg\n",
      "https://m.media-amazon.com/images/I/91f7PrK8fAL._AC_UL320_.jpg\n",
      "https://m.media-amazon.com/images/I/716+vhNrP+L._AC_UL320_.jpg\n",
      "https://m.media-amazon.com/images/I/A1OjTeyW+1L._AC_UL320_.jpg\n",
      "https://m.media-amazon.com/images/I/719zHgjEDCL._AC_UL320_.jpg\n",
      "https://m.media-amazon.com/images/I/71AOAVIVmtL._AC_UL320_.jpg\n",
      "https://m.media-amazon.com/images/I/71jVbarJRdL._AC_UL320_.jpg\n",
      "https://m.media-amazon.com/images/I/71FWXH4pVaL._AC_UL320_.jpg\n",
      "https://m.media-amazon.com/images/I/712nrupvKvL._AC_UL320_.jpg\n",
      "https://m.media-amazon.com/images/I/91yKpwY3hNL._AC_UL320_.jpg\n",
      "https://m.media-amazon.com/images/I/519VEczT4HL._AC_UL320_.jpg\n",
      "https://m.media-amazon.com/images/I/81zXlqznUOL._AC_UL320_.jpg\n",
      "https://m.media-amazon.com/images/I/81PVfuHdQ0L._AC_UL320_.jpg\n",
      "https://m.media-amazon.com/images/I/71vyQg22XyL._AC_UL320_.jpg\n",
      "https://m.media-amazon.com/images/I/A1G7ncH3nvL._AC_UL320_.jpg\n",
      "https://m.media-amazon.com/images/I/91mXYoH01EL._AC_UL320_.jpg\n",
      "https://m.media-amazon.com/images/I/81wlqV8Hq6L._AC_UL320_.jpg\n",
      "https://m.media-amazon.com/images/I/810SIFW4jYL._AC_UL320_.jpg\n",
      "https://m.media-amazon.com/images/I/811Z6ccSGvL._AC_UL320_.jpg\n",
      "https://m.media-amazon.com/images/I/818F-ZuU1pL._AC_UL320_.jpg\n",
      "https://m.media-amazon.com/images/I/71bTw78YoQL._AC_UL320_.jpg\n",
      "https://m.media-amazon.com/images/I/A1lX0kY0MOL._AC_UL320_.jpg\n",
      "https://m.media-amazon.com/images/I/71nnt43KdKL._AC_UL320_.jpg\n",
      "https://m.media-amazon.com/images/I/81AFJNaRjSL._AC_UL320_.jpg\n",
      "https://m.media-amazon.com/images/I/61h5U4YSFxL._AC_UL320_.jpg\n",
      "https://m.media-amazon.com/images/I/81yFyWFICqL._AC_UL320_.jpg\n",
      "https://m.media-amazon.com/images/I/810F6e6Ug4L._AC_UL320_.jpg\n",
      "https://m.media-amazon.com/images/I/91YlkmfV9PL._AC_UL320_.jpg\n",
      "https://m.media-amazon.com/images/I/91tPi-RqjTL._AC_UL320_.jpg\n",
      "https://m.media-amazon.com/images/I/71mWJ4qDJyL._AC_UL320_.jpg\n",
      "https://m.media-amazon.com/images/I/81uEbAZACFL._AC_UL320_.jpg\n",
      "https://m.media-amazon.com/images/I/91DPTuNFdcL._AC_UL320_.jpg\n",
      "https://m.media-amazon.com/images/I/91E3DNmGHUL._AC_UL320_.jpg\n",
      "https://m.media-amazon.com/images/I/71FcyW2aRJL._AC_UL320_.jpg\n"
     ]
    }
   ],
   "source": [
    "urls=[]\n",
    "for image in images:\n",
    "    source= image.get_attribute('src')\n",
    "    urls.append(source)\n",
    "    print(source)"
   ]
  },
  {
   "cell_type": "code",
   "execution_count": 54,
   "metadata": {},
   "outputs": [
    {
     "data": {
      "text/plain": [
       "63"
      ]
     },
     "execution_count": 54,
     "metadata": {},
     "output_type": "execute_result"
    }
   ],
   "source": [
    "len(urls)"
   ]
  },
  {
   "cell_type": "markdown",
   "metadata": {},
   "source": [
    "using Urls to download images# "
   ]
  },
  {
   "cell_type": "code",
   "execution_count": 55,
   "metadata": {},
   "outputs": [
    {
     "name": "stdout",
     "output_type": "stream",
     "text": [
      "Requirement already satisfied: requests in c:\\users\\shubham\\anaconda3\\lib\\site-packages (2.22.0)\n",
      "Requirement already satisfied: urllib3!=1.25.0,!=1.25.1,<1.26,>=1.21.1 in c:\\users\\shubham\\anaconda3\\lib\\site-packages (from requests) (1.24.2)\n",
      "Requirement already satisfied: idna<2.9,>=2.5 in c:\\users\\shubham\\anaconda3\\lib\\site-packages (from requests) (2.8)\n",
      "Requirement already satisfied: certifi>=2017.4.17 in c:\\users\\shubham\\anaconda3\\lib\\site-packages (from requests) (2019.9.11)\n",
      "Requirement already satisfied: chardet<3.1.0,>=3.0.2 in c:\\users\\shubham\\anaconda3\\lib\\site-packages (from requests) (3.0.4)\n",
      "Note: you may need to restart the kernel to use updated packages.\n"
     ]
    }
   ],
   "source": [
    "pip install requests\n"
   ]
  },
  {
   "cell_type": "code",
   "execution_count": 56,
   "metadata": {},
   "outputs": [],
   "source": [
    "import shutil\n",
    "import requests"
   ]
  },
  {
   "cell_type": "code",
   "execution_count": 57,
   "metadata": {},
   "outputs": [
    {
     "name": "stdout",
     "output_type": "stream",
     "text": [
      "Downloading (0) of (1) images\n",
      "Downloading (0) of (1) images\n",
      "Downloading (0) of (1) images\n",
      "Downloading (0) of (1) images\n",
      "Downloading (0) of (1) images\n",
      "Downloading (0) of (1) images\n",
      "Downloading (0) of (1) images\n",
      "Downloading (0) of (1) images\n",
      "Downloading (0) of (1) images\n",
      "Downloading (0) of (1) images\n",
      "Downloading (0) of (1) images\n",
      "Downloading (0) of (1) images\n",
      "Downloading (0) of (1) images\n",
      "Downloading (0) of (1) images\n",
      "Downloading (0) of (1) images\n",
      "Downloading (0) of (1) images\n",
      "Downloading (0) of (1) images\n",
      "Downloading (0) of (1) images\n",
      "Downloading (0) of (1) images\n",
      "Downloading (0) of (1) images\n",
      "Downloading (0) of (1) images\n",
      "Downloading (0) of (1) images\n",
      "Downloading (0) of (1) images\n",
      "Downloading (0) of (1) images\n",
      "Downloading (0) of (1) images\n",
      "Downloading (0) of (1) images\n",
      "Downloading (0) of (1) images\n",
      "Downloading (0) of (1) images\n",
      "Downloading (0) of (1) images\n",
      "Downloading (0) of (1) images\n",
      "Downloading (0) of (1) images\n",
      "Downloading (0) of (1) images\n",
      "Downloading (0) of (1) images\n",
      "Downloading (0) of (1) images\n",
      "Downloading (0) of (1) images\n",
      "Downloading (0) of (1) images\n",
      "Downloading (0) of (1) images\n",
      "Downloading (0) of (1) images\n",
      "Downloading (0) of (1) images\n",
      "Downloading (0) of (1) images\n",
      "Downloading (0) of (1) images\n",
      "Downloading (0) of (1) images\n",
      "Downloading (0) of (1) images\n",
      "Downloading (0) of (1) images\n",
      "Downloading (0) of (1) images\n",
      "Downloading (0) of (1) images\n",
      "Downloading (0) of (1) images\n",
      "Downloading (0) of (1) images\n",
      "Downloading (0) of (1) images\n",
      "Downloading (0) of (1) images\n",
      "Downloading (0) of (1) images\n",
      "Downloading (0) of (1) images\n",
      "Downloading (0) of (1) images\n",
      "Downloading (0) of (1) images\n",
      "Downloading (0) of (1) images\n",
      "Downloading (0) of (1) images\n",
      "Downloading (0) of (1) images\n",
      "Downloading (0) of (1) images\n",
      "Downloading (0) of (1) images\n",
      "Downloading (0) of (1) images\n",
      "Downloading (0) of (1) images\n",
      "Downloading (0) of (1) images\n",
      "Downloading (0) of (1) images\n"
     ]
    }
   ],
   "source": [
    "for index,link in enumerate(urls):\n",
    "    print(\"Downloading (0) of (1) images\".format(index+1,len(urls)))\n",
    "    response= requests.get(link)\n",
    "    with open('amazon_men shirt/img_{0}.jpeg'.format(index),\"wb\") as file:\n",
    "        file.write(response.content)"
   ]
  },
  {
   "cell_type": "code",
   "execution_count": null,
   "metadata": {},
   "outputs": [],
   "source": []
  }
 ],
 "metadata": {
  "kernelspec": {
   "display_name": "Python 3",
   "language": "python",
   "name": "python3"
  },
  "language_info": {
   "codemirror_mode": {
    "name": "ipython",
    "version": 3
   },
   "file_extension": ".py",
   "mimetype": "text/x-python",
   "name": "python",
   "nbconvert_exporter": "python",
   "pygments_lexer": "ipython3",
   "version": "3.7.4"
  }
 },
 "nbformat": 4,
 "nbformat_minor": 2
}
