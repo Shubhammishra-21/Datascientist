{
 "cells": [
  {
   "cell_type": "markdown",
   "metadata": {},
   "source": [
    "# Scraping Images from Amazon"
   ]
  },
  {
   "cell_type": "markdown",
   "metadata": {},
   "source": [
    "# Step-1:Import the Libraries and get the URL of the webpage"
   ]
  },
  {
   "cell_type": "code",
   "execution_count": 80,
   "metadata": {},
   "outputs": [
    {
     "name": "stdout",
     "output_type": "stream",
     "text": [
      "Requirement already satisfied: selenium in c:\\users\\shubham\\anaconda3\\lib\\site-packages (3.141.0)\n",
      "Requirement already satisfied: urllib3 in c:\\users\\shubham\\anaconda3\\lib\\site-packages (from selenium) (1.24.2)\n",
      "Note: you may need to restart the kernel to use updated packages.\n"
     ]
    }
   ],
   "source": [
    "pip install selenium"
   ]
  },
  {
   "cell_type": "code",
   "execution_count": 81,
   "metadata": {},
   "outputs": [],
   "source": [
    "from selenium import webdriver\n",
    "import os"
   ]
  },
  {
   "cell_type": "code",
   "execution_count": 82,
   "metadata": {},
   "outputs": [],
   "source": [
    "driver = webdriver.Chrome('C:/Users/Shubham/AppData/Local/Temp/Rar$EXa0.328/Chromedriver')\n"
   ]
  },
  {
   "cell_type": "code",
   "execution_count": 83,
   "metadata": {},
   "outputs": [],
   "source": [
    "driver.get('https://www.amazon.com/s?k=t-shirt&ref=nb_sb_noss_1')"
   ]
  },
  {
   "cell_type": "markdown",
   "metadata": {},
   "source": [
    "# Making the directory to store images\n"
   ]
  },
  {
   "cell_type": "code",
   "execution_count": 84,
   "metadata": {},
   "outputs": [],
   "source": [
    "def make_directory(dirname):\n",
    "    current_path=os.getcwd()\n",
    "    path=os.path.join(current_path, dirname)\n",
    "    if not os.path.exists(path):\n",
    "        os.makedirs(path)"
   ]
  },
  {
   "cell_type": "code",
   "execution_count": 85,
   "metadata": {},
   "outputs": [],
   "source": [
    "make_directory(\"amazon_t-shirt\")"
   ]
  },
  {
   "cell_type": "markdown",
   "metadata": {},
   "source": [
    "# Step-3:Scraping image Urls"
   ]
  },
  {
   "cell_type": "code",
   "execution_count": 86,
   "metadata": {
    "scrolled": true
   },
   "outputs": [
    {
     "name": "stdout",
     "output_type": "stream",
     "text": [
      "[<selenium.webdriver.remote.webelement.WebElement (session=\"aa782a9c49f9851aeeb680827c78f3d6\", element=\"8b5391b8-d3e7-4cd8-8e48-6bcd4485647c\")>, <selenium.webdriver.remote.webelement.WebElement (session=\"aa782a9c49f9851aeeb680827c78f3d6\", element=\"51a72488-c34e-4610-978e-006584d3a86b\")>, <selenium.webdriver.remote.webelement.WebElement (session=\"aa782a9c49f9851aeeb680827c78f3d6\", element=\"64c57853-a41c-4ec4-85fc-27cb6dbf82c3\")>, <selenium.webdriver.remote.webelement.WebElement (session=\"aa782a9c49f9851aeeb680827c78f3d6\", element=\"5fe17b99-a27a-447b-990f-cf96d69ef41b\")>, <selenium.webdriver.remote.webelement.WebElement (session=\"aa782a9c49f9851aeeb680827c78f3d6\", element=\"981fc078-5d09-479a-a5ff-2b22aebf0dec\")>, <selenium.webdriver.remote.webelement.WebElement (session=\"aa782a9c49f9851aeeb680827c78f3d6\", element=\"570a882f-bf6b-468d-842d-3492703a17a3\")>, <selenium.webdriver.remote.webelement.WebElement (session=\"aa782a9c49f9851aeeb680827c78f3d6\", element=\"caf87a5a-b26f-4383-bf15-4a93250b8924\")>, <selenium.webdriver.remote.webelement.WebElement (session=\"aa782a9c49f9851aeeb680827c78f3d6\", element=\"b833940e-444d-48f1-839e-3732974bdc70\")>, <selenium.webdriver.remote.webelement.WebElement (session=\"aa782a9c49f9851aeeb680827c78f3d6\", element=\"b47fd1e3-e9a1-412a-9f85-110b8dd90ded\")>, <selenium.webdriver.remote.webelement.WebElement (session=\"aa782a9c49f9851aeeb680827c78f3d6\", element=\"22633c75-f1c6-49fb-b5ce-1210182d74a0\")>, <selenium.webdriver.remote.webelement.WebElement (session=\"aa782a9c49f9851aeeb680827c78f3d6\", element=\"a12d04b6-2f3a-4a00-8927-3135c01319b8\")>, <selenium.webdriver.remote.webelement.WebElement (session=\"aa782a9c49f9851aeeb680827c78f3d6\", element=\"f684a7cc-b165-4636-bb2d-e8b0efa7b436\")>, <selenium.webdriver.remote.webelement.WebElement (session=\"aa782a9c49f9851aeeb680827c78f3d6\", element=\"14cd9c6f-c652-40eb-a40d-73439640c133\")>]\n"
     ]
    }
   ],
   "source": [
    "images=driver.find_elements_by_xpath(\"//div[@class='a-section aok-relative s-image-square-aspect']//img\")\n",
    "print(images)"
   ]
  },
  {
   "cell_type": "code",
   "execution_count": 87,
   "metadata": {},
   "outputs": [
    {
     "name": "stdout",
     "output_type": "stream",
     "text": [
      "<selenium.webdriver.remote.webelement.WebElement (session=\"aa782a9c49f9851aeeb680827c78f3d6\", element=\"8b5391b8-d3e7-4cd8-8e48-6bcd4485647c\")>\n"
     ]
    }
   ],
   "source": [
    "print(images[0])"
   ]
  },
  {
   "cell_type": "code",
   "execution_count": 88,
   "metadata": {},
   "outputs": [
    {
     "name": "stdout",
     "output_type": "stream",
     "text": [
      "https://m.media-amazon.com/images/I/71wyuwQVC+L._AC_UL320_.jpg\n",
      "https://m.media-amazon.com/images/I/71RpwuIzY8L._AC_UL320_.jpg\n",
      "https://m.media-amazon.com/images/I/81B6Rg7YblL._AC_UL320_.jpg\n",
      "https://m.media-amazon.com/images/I/619l1MSqnLL._AC_UL320_.jpg\n",
      "https://m.media-amazon.com/images/I/81VUEqw+XiL._AC_UL320_.jpg\n",
      "https://m.media-amazon.com/images/I/61uVk6hnF4L._AC_UL320_.jpg\n",
      "https://m.media-amazon.com/images/I/61QYOSW2-JL._AC_UL320_.jpg\n",
      "https://m.media-amazon.com/images/I/91xvaQr43wL._AC_UL320_.jpg\n",
      "https://m.media-amazon.com/images/I/71hN+5QN5tL._AC_UL320_.jpg\n",
      "https://m.media-amazon.com/images/I/91AhRn6Dc0L._AC_UL320_.jpg\n",
      "https://m.media-amazon.com/images/I/7133r-nM4iL._AC_UL320_.jpg\n",
      "https://m.media-amazon.com/images/I/81G4bzrl8nL._AC_UL320_.jpg\n",
      "https://m.media-amazon.com/images/I/71k1W2KefxL._AC_UL320_.jpg\n"
     ]
    }
   ],
   "source": [
    "urls=[]\n",
    "for image in images:\n",
    "    source= image.get_attribute('src')\n",
    "    urls.append(source)\n",
    "    print(source)"
   ]
  },
  {
   "cell_type": "code",
   "execution_count": 89,
   "metadata": {},
   "outputs": [
    {
     "data": {
      "text/plain": [
       "13"
      ]
     },
     "execution_count": 89,
     "metadata": {},
     "output_type": "execute_result"
    }
   ],
   "source": [
    "len(urls)"
   ]
  },
  {
   "cell_type": "markdown",
   "metadata": {},
   "source": [
    "# using Urls to download images"
   ]
  },
  {
   "cell_type": "code",
   "execution_count": 90,
   "metadata": {},
   "outputs": [],
   "source": [
    "import shutil\n",
    "import requests"
   ]
  },
  {
   "cell_type": "code",
   "execution_count": 91,
   "metadata": {},
   "outputs": [
    {
     "name": "stdout",
     "output_type": "stream",
     "text": [
      "Downloading (0) of (1) images\n",
      "Downloading (0) of (1) images\n",
      "Downloading (0) of (1) images\n",
      "Downloading (0) of (1) images\n",
      "Downloading (0) of (1) images\n",
      "Downloading (0) of (1) images\n",
      "Downloading (0) of (1) images\n",
      "Downloading (0) of (1) images\n",
      "Downloading (0) of (1) images\n",
      "Downloading (0) of (1) images\n",
      "Downloading (0) of (1) images\n",
      "Downloading (0) of (1) images\n",
      "Downloading (0) of (1) images\n"
     ]
    }
   ],
   "source": [
    "for index,link in enumerate(urls):\n",
    "    print(\"Downloading (0) of (1) images\".format(index+1,len(urls)))\n",
    "    response= requests.get(link)\n",
    "    with open('amazon_t-shirt/img_(0).jpeg'.format(index),\"wb\") as file:\n",
    "        file.write(response.content)"
   ]
  },
  {
   "cell_type": "code",
   "execution_count": null,
   "metadata": {},
   "outputs": [],
   "source": []
  }
 ],
 "metadata": {
  "kernelspec": {
   "display_name": "Python 3",
   "language": "python",
   "name": "python3"
  },
  "language_info": {
   "codemirror_mode": {
    "name": "ipython",
    "version": 3
   },
   "file_extension": ".py",
   "mimetype": "text/x-python",
   "name": "python",
   "nbconvert_exporter": "python",
   "pygments_lexer": "ipython3",
   "version": "3.7.4"
  }
 },
 "nbformat": 4,
 "nbformat_minor": 2
}
