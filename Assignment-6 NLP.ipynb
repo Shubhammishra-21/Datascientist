{
 "cells": [
  {
   "cell_type": "code",
   "execution_count": 35,
   "metadata": {},
   "outputs": [
    {
     "name": "stdout",
     "output_type": "stream",
     "text": [
      "Requirement already satisfied: nltk in c:\\users\\shubham\\anaconda3\\lib\\site-packages (3.4.5)\n",
      "Requirement already satisfied: six in c:\\users\\shubham\\anaconda3\\lib\\site-packages (from nltk) (1.12.0)\n"
     ]
    }
   ],
   "source": [
    "!pip install nltk"
   ]
  },
  {
   "cell_type": "code",
   "execution_count": 36,
   "metadata": {},
   "outputs": [],
   "source": [
    "import nltk"
   ]
  },
  {
   "cell_type": "code",
   "execution_count": 37,
   "metadata": {},
   "outputs": [],
   "source": [
    "import string \n",
    "from collections import Counter\n",
    "import matplotlib.pyplot as plt\n"
   ]
  },
  {
   "cell_type": "code",
   "execution_count": 38,
   "metadata": {},
   "outputs": [
    {
     "name": "stdout",
     "output_type": "stream",
     "text": [
      "Requirement already satisfied: GetOldTweets3 in c:\\users\\shubham\\anaconda3\\lib\\site-packages (0.0.11)\n",
      "Requirement already satisfied: pyquery>=1.2.10 in c:\\users\\shubham\\anaconda3\\lib\\site-packages (from GetOldTweets3) (1.4.1)\n",
      "Requirement already satisfied: lxml>=3.5.0 in c:\\users\\shubham\\anaconda3\\lib\\site-packages (from GetOldTweets3) (4.4.1)\n",
      "Requirement already satisfied: cssselect>0.7.9 in c:\\users\\shubham\\anaconda3\\lib\\site-packages (from pyquery>=1.2.10->GetOldTweets3) (1.1.0)\n",
      "Note: you may need to restart the kernel to use updated packages.\n"
     ]
    }
   ],
   "source": [
    "pip install GetOldTweets3"
   ]
  },
  {
   "cell_type": "code",
   "execution_count": 39,
   "metadata": {},
   "outputs": [],
   "source": [
    "def get_tweets():\n",
    "    import GetOldTweets3 as got\n",
    "    tweetCriteria = got.manager.TweetCriteria().setQuerySearch('CoronaVirus') \\\n",
    "    .setSince(\"2020-07-09\") \\\n",
    "    .setUntil(\"2020-08-10\") \\\n",
    "    .setMaxTweets(100)\n",
    "    tweets = got.manager.TweetManager.getTweets(tweetCriteria)\n",
    "    text_tweets = [[tweet.text] for tweet in tweets]\n",
    "    return text_tweets"
   ]
  },
  {
   "cell_type": "code",
   "execution_count": 40,
   "metadata": {},
   "outputs": [],
   "source": [
    "text = \" \"\n",
    "text_tweets = get_tweets()\n",
    "length = len(text_tweets)\n",
    "for i in range(0,length):\n",
    "    text = text_tweets[i][0] + \" \" + text\n",
    "    \n",
    "    lower_case = text.lower()\n",
    "    \n",
    "    cleaned_text = lower_case.translate(str.maketrans('','',string.punctuation))\n",
    "    \n",
    "    tokenized_words = cleaned_text.split()"
   ]
  },
  {
   "cell_type": "code",
   "execution_count": 41,
   "metadata": {},
   "outputs": [
    {
     "data": {
      "text/plain": [
       "[['Nine people test positive for coronavirus at Georgia school captured in viral images - NBC News https://www.nbcnews.com/news/us-news/nine-people-test-positive-coronavirus-georgia-school-captured-viral-images-n1236249 via @GoogleNews'],\n",
       " ['Aparte la vacuna no se empezó de 0. Es una modificación de la vacuna del coronavirus del SARS'],\n",
       " [\"exactly. kids have a less chance of dying due to coronavirus. it's a shame that college won't happen.\"],\n",
       " ['Some Canadians are trying to deter US visitors fleeing the coronavirus by vandalizing cars with American license plates. '],\n",
       " ['CORONAVIRUS EN LA ARGENTINA: SUMAN 4.606 LOS FALLECIDOS Y 246.499 LOS CONTAGIADOS DESDE EL INICIO DE LA PANDEMIA: '],\n",
       " ['It’s going to be screen time all the time for kindergartners and graduate students alike. Teachers are threatening strikes. And students are already coming home infected with the coronavirus, which has upended American education. '],\n",
       " ['Por la pandemia, EEUU puso a Argentina en Nivel 4: no viajar | Coronavirus, Estados Unidos, Argentina '],\n",
       " ['Segun #C5N, la falta de alimento es un sintoma de coronavirus... Si no tienen para comer no es por la desocupaicon ni por la inflacion, es el Covid '],\n",
       " ['Cómo Nueva Zelanda llegó a dar por eliminado el coronavirus y levantar las restricciones (y qué papel jugó Jacinda Ardern) '],\n",
       " ['You know that Coronavirus sure Rolled him... '],\n",
       " ['#Coronavirus #COVID19 corte técnico informativo del 9 de agosto de 2020. Fuente: @SSalud_mx'],\n",
       " ['Well some of the quarantined students are Not doing so. They’re on the elevators and telling the other students not to get on with them saying they have the coronavirus they should’ve never been let in the dorms at all'],\n",
       " ['Democrats will take legal action against Trump to stop coronavirus relief executive action: report - TheBlaze This is All they know how to do? #trump2020'],\n",
       " ['84 personas murieron y 4.688 fueron diagnosticadas con coronavirus en el país Nación informó que en Salta, este domingo fueron 46 los nuevos casos. Noticia: https://www.holasalta.com/post/84-personas-murieron-y-4-688-fueron-diagnosticadas-con-coronavirus-en-el-pa%C3%ADs'],\n",
       " ['No, China and the World Health Organization are to blame for the Coronavirus. Wake up!'],\n",
       " ['Sigue la transmisión totalmente #EnVivo del estatus sobre el #Coronavirus en México '],\n",
       " ['ARROYITO Y EL MUNDO INFORMA - CORONAVIRUS - ARROYITO DE LOS 31 HISOPADOS 15 YA DIERON NEGATIVO ,SE AGUARDA EL RESULTADO DE LOS RESTANTES 16 , QUE SE SABRA MUY PRONTO.'],\n",
       " ['#EnVivo Informe diario sobre coronavirus COVID-19 en México '],\n",
       " ['#EnVivo Informe diario sobre coronavirus COVID-19 en México '],\n",
       " ['#EnVivo Informe diario sobre coronavirus COVID-19 en México '],\n",
       " ['#EnVivo Informe diario sobre coronavirus COVID-19 en México '],\n",
       " ['But the Science Thinkboy™ @elonmusk told me kids are immune to coronavirus! '],\n",
       " ['#Tlaxcala Alcalde de #Panotla, confirma contagio por coronavirus Se encuentra estable y aislado en su domicilio https://www.lineadecontraste.com/alcalde-de-panotla-confirma-contagio-por-coronavirus/'],\n",
       " ['home of the free, the brave, and the most cases of corona virus.'],\n",
       " [\"Chris Wallace presses Pelosi on coronavirus stimulus: 'Didn't you mess t... https://youtu.be/tRP8Kzo8-jA via @YouTube\"],\n",
       " ['@usatodaysports need to replace you with a better journalist. Your coverage of the coronavirus is losing them subscribers'],\n",
       " [\"Blue chips are fund raising amid a wave of coronavirus bankruptcies. Here's what to watch in U.S. credit markets this week https://www.bloomberg.com/news/articles/2020-08-09/what-to-watch-in-u-s-corporate-credit-markets-this-week?sref=yjbWDVSR via @markets\"],\n",
       " [' Casos confirmados (Totais) : 3035422 Portadores : 585093 Curados : 2349280 Mortes : 101049 #covid19 #brasil #coronavirus #Covid19'],\n",
       " [\"U.S. tops 5 million coronavirus cases as outbreak threatens America's Midwest \"],\n",
       " ['A avassaladora quantidade de profissionais da saúde infectados pelo coronavírus '],\n",
       " ['Opinion: What The Coronavirus Teaches, And What Trump Won’t Learn, About A Free-Market Economy https://www.politicususa.com/2020/08/09/opinion-what-the-coronavirus-teaches-and-what-trump-wont-learn-about-a-free-market-economy.html via @politicususa'],\n",
       " ['Some of my fellow nurses have had corona virus wearing mask and only being in contact with people who wear them.'],\n",
       " ['Canada reports 195 new coronavirus cases, 5 more deaths – National '],\n",
       " ['Detener al Coronavirus SARS-COV2 es muy difícil, resultó ser un agente patógeno más difícil de combatir de lo que creíamos.'],\n",
       " [' Australia set to open slightly higher as U.S.-China tensions weigh on sentiment: Australia is also tackling a fresh wave of coronavirus outbreak in Victoria state, which accounts for the majority of reported cases and deaths in the country. '],\n",
       " ['Este domingo fallecieron 84 personas de coronavirus en el país https://ift.tt/2XK5Xpy'],\n",
       " ['#OMG | ¡SUSPENDIDO RODAJE DE ÉLITE por caso de coronavirus dentro del reparto! .- https://bit.ly/33yloop (('],\n",
       " ['Conferencia de prensa de la @SSalud_mx sobre el #Coronavirus #COVID19mx del día 9 de agosto de 2020 #GraciasPorCuidarnos #MHelCorazónDeLaCapital'],\n",
       " ['Rosario registró 26 nuevos casos de coronavirus en el día de los 85 del territorio provincial https://ift.tt/2F8M59a'],\n",
       " ['Já não há Corona Vírus na Itália? '],\n",
       " [\"Funny this hotel issue just got swept under the carpet, Ah yes because it was NOT in Vic, but NSW! Coronavirus: Sydney's COVID-19 hotel quarantine standards slammed by returnees for filth and lax PPE approach \"],\n",
       " ['No tienen corona virus tienen sida'],\n",
       " [\"I'm shocked how much I've changed in such a short amount of time. Coronavirus will do that to a motherfucker lol \"],\n",
       " [\"Positive signs for Scotland's economy as the coronavirus slump slows \"],\n",
       " [\"The ease with which sportswriters float this take reminds of people who think coronavirus just ends a few months from now when we get a vaccine. It's far more complicated than that. \"],\n",
       " ['Saudades quando o coronavirus não existia nas nossas vidas Vcs lembram?'],\n",
       " ['The Democratic-led House passed a $3.4 trillion coronavirus support package in May that the Republican-led Senate ignored for weeks before putting forward a $1 trillion counteroffer. If people are hurting it’s @senatemajldr and @SenateGOP fault! Vote Blue Nov 3rd'],\n",
       " ['Coronavirus en Tierra del Fuego: La provincia supera los 1000 casos confirmados de COVID19 '],\n",
       " ['Victoria coronavirus deadliest day at 19 deaths and 322 cases under one week of Stage 4 '],\n",
       " ['El CoronaVirus no se mueve por sí mismo, necesita idiotas que lo trasladen...'],\n",
       " ['We are at war, Homo sapiens v. Coronavirus (and ourselves). Thus: martial anthems. Leading off: Merck toch hoe Sterkh. https://youtu.be/ehDnHcKey1o via @YouTube'],\n",
       " [\"Another Example or three of Despot Donnie @realDonaldTrump's shenanigans. 'Post Office Purge, Trump's Executive Orders Palooza &amp; Coronavirus Report...' https://youtu.be/UXFtXrspdUg via @YouTube\"],\n",
       " ['Penápolis SP Corona vírus previne se Use máscara e passe álcool e gel Evite aglomeração Covid 19 Vamos vencer essa pandemia mundial Vai passar Vai dar tudo certo Fiel é Deus Jesus rocha eterna'],\n",
       " ['You must be a warriors fan.'],\n",
       " ['97,000 children reportedly test positive for coronavirus in two weeks as schools gear up for instruction '],\n",
       " ['Coronavirus: Washington man charged with assault after mask-related attack on disabled veteran, 72 https://bit.ly/2XMswtP'],\n",
       " ['I think this just healed me from Coronavirus'],\n",
       " ['30 secs left'],\n",
       " ['Three VPD officers test positive for coronavirus after reportedly breaking up party https://dailyhive.com/vancouver/vpd-officers-coronavirus-party#.XzCNwZ5lQQQ.twitter #COVIDIOTS'],\n",
       " ['1262407 people recovered from Corona today. Total Corona virus recoveries: 12605918 Source: WHO Situation Reports #COVID19 #coronavirus #StaySafe'],\n",
       " ['Shrugging off the five million coronavirus cases now tallied on US soil, thousands of motorcyclists are converging this weekend on a small South Dakota town for what is billed as the biggest cycle gathering in the world Vía @AFP'],\n",
       " ['The Democratic-led House passed a $3.4 trillion coronavirus support package in May that the Republican-led Senate ignored for weeks before putting forward a $1 trillion counteroffer. If people are hurting it’s @senatemajldr and @SenateGOP fault! Vote Blue Nov 3rd'],\n",
       " ['Il primo studio sul vaccino contro il coronavirus negli Stati Uniti recluta volontari I ricercatori di Seattle '],\n",
       " ['#DuqueRespondaMatrículaCero En época de pandemia es más que necesario la #MatrículaCero La educación es la herramienta para encontrar la cura del #Coronavirus y la que nos hará avanzar como sociedad y nación Por de desempleo y la recesión mundial estudiantes no pueden pagar'],\n",
       " ['A Barratt Developments spokeswoman said: “Expanding the Help to Buy scheme is a sensible policy that will help thousands of families who would otherwise have missed out on buying a new home due to delays caused by the coronavirus. Read more https://lttr.ai/Uvds'],\n",
       " ['AMC Theatres May Rise Prices to Cover Coronavirus Expenses '],\n",
       " ['Niño de 7 años en EU muere por coronavirus sin tener otra enfermedad.. '],\n",
       " ['\"grim new deaths record\" coronavirus cases\" &lt;- when you test more people you get more +ve results. The truth -&gt; '],\n",
       " ['Cuando la realidad supera la ficción y se convierte en película de terror. . . . . . . . . . . #ZonaCaptiva #Colombia #Duque #Matarife #Viñeta #Caricatura #Domingo #Coronavirus #CoronavirusColombia… https://www.instagram.com/p/CDsBNTbHSFx/?igshid=o038fkd4ro8r'],\n",
       " ['Still Confused About Masks? Here’s the Science Behind How Face Masks Prevent Coronavirus '],\n",
       " ['#EnVivo #ConferenciaDePrensa \"Informe diario sobre coronavirus COVID19 en México\". 14.1 #Mxplay https://youtu.be/OGGyivt9TRk http://facebook.com/canalcatorcemx'],\n",
       " ['National numbers for Aug 08, 2020. Follow for daily stats. #WearAMask #COVID19 #coronavirus '],\n",
       " ['Coronavirus Australia live news: Victoria’s deadliest day; Alert over Sydney school, pharmacy #EliteOzzy #Australia'],\n",
       " ['Situación de coronavirus en #LaPlata. Hoy: 125 nuevos casos 130 nuevos recuperados Una persona fallecida'],\n",
       " [\"There is hope for states willing to follow New York's lead. Coronavirus updates: New York state%27s positivity rate reaches new low http://news.yahoo.com/coronavirus-updates-biden-says-boggles-mind-breaks-heart-091139221--abc-news-topstories.html?soc_src=community&amp;soc_trk=tw via @YahooNews\"],\n",
       " ['#Coronavirus - VACUNA . El viceministro de Salud de Rusia anunció que el Centro de Investigación Nacional de Epidemiología y Microbiología Gamaléi de Moscú comenzó los trámites para obtener la certificación de la… https://www.instagram.com/p/CDsBc2CBMZg/?igshid=1trg72rty84vz'],\n",
       " ['Eu, se fosse Bonoro, abria bem os olhos com o vampirão...'],\n",
       " ['You know things are so bad in your political party, when you can’t answer whether Trump is doing or not doing a good job with his response to the coronavirus... #KasieDC #ComplicitGOP'],\n",
       " ['O mundo já registrou até agora, 733.329 mortes por coronavírus. O Brasil de Bozo está sem ministro da Saúde!. O número de casos confirmados até agora é 20.007.668. http://worldeters.info/coronavirus/ #BozoConseguiuMaisDe100MilMortos'],\n",
       " ['This is worth reflecting on. 100k is a big number....and that’s just the #kids who #tested positive in the last 2 weeks of July. Coronavirus Live Updates: Latest News and Analysis - The New York Times '],\n",
       " ['Former FDA commissioner Scott Gottlieb says the US could experience 300,000 coronavirus deaths by the end of 2020 https://www.insider.com/gottlieb-said-us-coronavirus-death-toll-could-reach-300000-2020-8 #SmartNews'],\n",
       " ['Seriously, I like DOCTORS to comment on Corona Virus. Weather ladies should do the weather.'],\n",
       " [\"'Just anxiety': These women's coronavirus symptoms persist but doctors are dismissive https://www.nbcnews.com/news/us-news/these-women-s-coronavirus-symptoms-haven-t-gone-away-doctors-n1235091 via @nbcnews\"],\n",
       " ['Aren\\'t/weren\\'t multiple Big Ten teams in quarantine? Sort of disproves your point about \"padded\" practice. I don\\'t think pads have any impact on the spread of coronavirus.'],\n",
       " ['guys pray for me, tmr is where we have in-person meetups for band and it’s gonna be 98 degrees outside :,)) oh and coronavirus'],\n",
       " [\"Republican Rodney Davis can't admit that Trump is at fault for how the coronavirus has been handled. When he knows like everybody else that Trump is to blame !\"],\n",
       " ['@StoryCorps Why haven’t you updated your app with coronavirus-specific questions? I love using your app with my college writing class and that’s predominant in students’ minds.'],\n",
       " ['Coronavirus stimulus: Extending extra unemployment benefits through executive order %27would real... http://money.yahoo.com/coronavirus-stimulus-extra-unemployment-benefits-executive-order-183132419.html?soc_src=community&amp;soc_trk=tw via @YahooFinance'],\n",
       " ['Uh pobre coronavirus '],\n",
       " ['Does Coronavirus Honor Koch’s Postulates? https://youtu.be/5lGsVaXrFVQ via @YouTube'],\n",
       " ['\"Coronavirus. Por qué no se puede saber de qué están muriendo los argentinos - LA NACION\" '],\n",
       " ['Creen que en algún punto de nuestras vidas nos va a dar coronavirus ?'],\n",
       " ['Steel hasn’t done herself any favors with her response to the #coronavirus crisis'],\n",
       " ['Leí que si cortas muchas cebollas y colocas afuera d la casa dentro en la habitación . No llega el corona virus'],\n",
       " ['Cara, eu acho incrível a audácia de certos retardados de serem retardados'],\n",
       " ['Feira de Santana registra 76 novos casos positivos de coronavírus http://www.ichunoticias.com.br/2020/08/feira-de-santana-registra-76-novos.html?m=0'],\n",
       " ['Nine people test positive for coronavirus at Georgia school where photos of packed hallways went viral https://www.washingtonpost.com/education/2020/08/09/nine-people-test-positive-coronavirus-georgia-school-where-photos-packed-hallways-went-viral/ #UnPatrioticSelfishAmericans'],\n",
       " ['Desperate small business owners seeking cash to keep their businesses alive during the coronavirus pandemic are turning to their families for loans. The loans, with ultra low interest rates, are a lifeline. @forbes'],\n",
       " ['United States Coronavirus: 5,198,422 Cases and 165,575 Deaths - Worldometer https://www.worldometers.info/coronavirus/country/us/'],\n",
       " ['Coronavirus en Argentina: el Gobierno confirmó 84 nuevas muertes y 4.688 contagios en las últimas 24 horas https://bancodedatosweb.blogspot.com/2020/08/coronavirus-en-argentina-el-gobierno.html']]"
      ]
     },
     "execution_count": 41,
     "metadata": {},
     "output_type": "execute_result"
    }
   ],
   "source": [
    "text_tweets"
   ]
  },
  {
   "cell_type": "code",
   "execution_count": 42,
   "metadata": {},
   "outputs": [],
   "source": [
    "stop_words = [\"i\", \"me\", \"my\", \"myself\", \"our\", \"ourself\", \"we\", \"your\", \"yours\", \"yourself\", \"yourselves\", \"he\", \"him\", \"his\", \"himself\", \"she\", \"her\", \"herself\", \"it\", \"its\", \"itself\", \"they\", \"them\", \"their\", \"theirs\", \"themselves\", \"what\", \"which\", \"who\", \"whom\", \"this\", \"that\", \"these\", \"those\", \"am\", \"is\", \"are\", \"was\", \"were\", \"be\", \"been\", \"being\", \"have\",\"has\", \"had\", \"having\", \"do\", \"does\", \"did\", \"doing\", \"an\", \"a\", \"the\", \"if\", \"or\", \"and\", \"but\", \"because\", \"as\", \"while\", \"of\", \"by\", \"for\", \"with\",\"about\",\"against\",\"between\",\"into\", \"through\",\"during\",\"before\", \"after\", \"above\", \"to\", \"from\", \"up\", \"down\", \"in\", \"out\", \"on\", \"off\", \"over\", \"in\", \"under\", \"again\", \"below\", \"further\", \"then\", \"once\", \"here\", \"there\", \"when\", \"where\", \"why\", \"how\", \"all\", \"any\", \"both\", \"few\", \"each\", \"more\", \"most\", \"other\", \"some\", \"such\", \"no\", \"nor\", \"not\", \"only\", \"own\", \"same\", \"so\", \"than\", \"to\", \"o\", \"s\", \"t\", \"can\", \"will\", \"just\", \"don\", \"should\", \"now\"]\n",
    "\n",
    "final_words = [word for word in tokenized_words if word not in stop_words]"
   ]
  },
  {
   "cell_type": "code",
   "execution_count": 44,
   "metadata": {},
   "outputs": [
    {
     "name": "stdout",
     "output_type": "stream",
     "text": [
      "People emotions from the text \n",
      " [' sad', ' fearless', ' surprise', ' free', ' hated', ' entitled', ' sad', ' surprise', ' sad'] \n",
      " \n",
      "\n",
      "Count of each emotion \n",
      " Counter({' sad': 3, ' surprise': 2, ' fearless': 1, ' free': 1, ' hated': 1, ' entitled': 1})\n"
     ]
    }
   ],
   "source": [
    "emotion_list = []\n",
    "with open('emotions.txt', 'r') as file:\n",
    "    for line in file:\n",
    "        clear_line = line.replace('\\n', '').replace(',' , '').replace(\"'\", '').strip()\n",
    "        word,emotion = clear_line.split(':')\n",
    "        if word in final_words:\n",
    "            emotion_list.append(emotion)\n",
    "print(\"People emotions from the text \\n\", emotion_list, '\\n \\n')\n",
    "            \n",
    "w = Counter(emotion_list)\n",
    "print(\"Count of each emotion \\n\", w)"
   ]
  },
  {
   "cell_type": "code",
   "execution_count": 45,
   "metadata": {},
   "outputs": [
    {
     "data": {
      "image/png": "[encoded data removed]",
      "text/plain": [
       "<Figure size 432x288 with 1 Axes>"
      ]
     },
     "metadata": {
      "needs_background": "light"
     },
     "output_type": "display_data"
    }
   ],
   "source": [
    "fig, ax1 = plt.subplots()\n",
    "ax1.bar(w.keys(),w.values())\n",
    "fig.autofmt_xdate()\n",
    "plt.savefig('graph.png')\n",
    "plt.show()"
   ]
  },
  {
   "cell_type": "code",
   "execution_count": 46,
   "metadata": {},
   "outputs": [
    {
     "data": {
      "image/png": "[encoded data removed]",
      "text/plain": [
       "<Figure size 432x288 with 1 Axes>"
      ]
     },
     "metadata": {
      "needs_background": "light"
     },
     "output_type": "display_data"
    }
   ],
   "source": [
    "fig, ax1 = plt.subplots()\n",
    "ax1.bar(w.keys(),w.values())\n",
    "fig.autofmt_xdate()\n",
    "plt.savefig('graph.png')\n",
    "plt.show()"
   ]
  },
  {
   "cell_type": "code",
   "execution_count": 55,
   "metadata": {},
   "outputs": [
    {
     "name": "stdout",
     "output_type": "stream",
     "text": [
      "bag of words : ['am', 'bag', 'going', 'my', 'school', 'to', 'with']\n"
     ]
    }
   ],
   "source": [
    "from sklearn.feature_extraction.text import CountVectorizer\n",
    "\n",
    "from nltk.corpus import stopwords\n",
    "\n",
    "A = [\"I am going to school, with my bag\"]\n",
    "\n",
    "vect1 = CountVectorizer()\n",
    "vect1.fit_transform(A)\n",
    "print(\"bag of words :\",vect1.get_feature_names())"
   ]
  },
  {
   "cell_type": "code",
   "execution_count": 56,
   "metadata": {},
   "outputs": [
    {
     "data": {
      "text/plain": [
       "{'am': 0, 'going': 2, 'to': 5, 'school': 4, 'with': 6, 'my': 3, 'bag': 1}"
      ]
     },
     "execution_count": 56,
     "metadata": {},
     "output_type": "execute_result"
    }
   ],
   "source": [
    "vect1.vocabulary_"
   ]
  },
  {
   "cell_type": "code",
   "execution_count": 57,
   "metadata": {},
   "outputs": [
    {
     "data": {
      "text/plain": [
       "CountVectorizer(analyzer='word', binary=False, decode_error='strict',\n",
       "                dtype=<class 'numpy.int64'>, encoding='utf-8', input='content',\n",
       "                lowercase=True, max_df=1.0, max_features=None, min_df=1,\n",
       "                ngram_range=(1, 1), preprocessor=None, stop_words=None,\n",
       "                strip_accents=None, token_pattern='(?u)\\\\b\\\\w\\\\w+\\\\b',\n",
       "                tokenizer=None, vocabulary=None)"
      ]
     },
     "execution_count": 57,
     "metadata": {},
     "output_type": "execute_result"
    }
   ],
   "source": [
    "c_vect = CountVectorizer()\n",
    "\n",
    "c_vect.fit(A)"
   ]
  },
  {
   "cell_type": "code",
   "execution_count": 58,
   "metadata": {},
   "outputs": [
    {
     "name": "stdout",
     "output_type": "stream",
     "text": [
      "Text Present at  [[0 1 0 1 0 0 0]]\n",
      "original indexes ['am', 'bag', 'going', 'my', 'school', 'to', 'with']\n"
     ]
    }
   ],
   "source": [
    "B = [\"This is a my bag\"]\n",
    "c_new_vect = c_vect.transform(B)\n",
    "\n",
    "print(\"Text Present at \",c_new_vect.toarray())\n",
    "\n",
    "print(\"original indexes\", vect1.get_feature_names())\n"
   ]
  },
  {
   "cell_type": "code",
   "execution_count": 61,
   "metadata": {},
   "outputs": [
    {
     "name": "stdout",
     "output_type": "stream",
     "text": [
      "CountVectorizer(analyzer='word', binary=False, decode_error='strict',\n",
      "                dtype=<class 'numpy.int64'>, encoding='utf-8', input='content',\n",
      "                lowercase=True, max_df=1.0, max_features=None, min_df=1,\n",
      "                ngram_range=(1, 1), preprocessor=None,\n",
      "                stop_words=['i', 'me', 'my', 'myself', 'we', 'our', 'ours',\n",
      "                            'ourselves', 'you', \"you're\", \"you've\", \"you'll\",\n",
      "                            \"you'd\", 'your', 'yours', 'yourself', 'yourselves',\n",
      "                            'he', 'him', 'his', 'himself', 'she', \"she's\",\n",
      "                            'her', 'hers', 'herself', 'it', \"it's\", 'its',\n",
      "                            'itself', ...],\n",
      "                strip_accents=None, token_pattern='(?u)\\\\b\\\\w\\\\w+\\\\b',\n",
      "                tokenizer=None, vocabulary=None)\n"
     ]
    }
   ],
   "source": [
    "stop_words = stopwords.words('english')\n",
    "A = [\"I am going to school, with my bag \"]\n",
    "vect1 = CountVectorizer(stop_words = stop_words)\n",
    "print(vect1)"
   ]
  },
  {
   "cell_type": "code",
   "execution_count": 62,
   "metadata": {},
   "outputs": [
    {
     "name": "stdout",
     "output_type": "stream",
     "text": [
      "bag of words : ['bag', 'going', 'school']\n",
      "vocab         : {'going': 1, 'school': 2, 'bag': 0}\n"
     ]
    }
   ],
   "source": [
    "vect1.fit_transform(A)\n",
    "print(\"bag of words :\",vect1.get_feature_names())\n",
    "print(\"vocab         :\",vect1.vocabulary_)"
   ]
  },
  {
   "cell_type": "code",
   "execution_count": null,
   "metadata": {},
   "outputs": [],
   "source": []
  },
  {
   "cell_type": "code",
   "execution_count": null,
   "metadata": {},
   "outputs": [],
   "source": []
  }
 ],
 "metadata": {
  "kernelspec": {
   "display_name": "Python 3",
   "language": "python",
   "name": "python3"
  },
  "language_info": {
   "codemirror_mode": {
    "name": "ipython",
    "version": 3
   },
   "file_extension": ".py",
   "mimetype": "text/x-python",
   "name": "python",
   "nbconvert_exporter": "python",
   "pygments_lexer": "ipython3",
   "version": "3.7.4"
  }
 },
 "nbformat": 4,
 "nbformat_minor": 2
}
