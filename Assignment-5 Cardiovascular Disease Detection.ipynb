{
 "cells": [
  {
   "cell_type": "code",
   "execution_count": null,
   "metadata": {},
   "outputs": [],
   "source": [
    "import numpy as np \n",
    "import pandas as pd \n",
    "from keras.wrappers.scikit_learn import KerasClassifier\n",
    "from sklearn.model_selection import train_test_split, cross_val_score, RepeatedKFold\n",
    "from sklearn.preprocessing import StandardScaler\n",
    "from keras.optimizers import *\n",
    "from keras.initializers import *\n",
    "from keras.models import *\n",
    "from keras.layers import *\n",
    "from keras.callbacks import EarlyStopping\n",
    "from sklearn.metrics import confusion_matrix, roc_curve, roc_auc_score\n"
   ]
  },
  {
   "cell_type": "code",
   "execution_count": null,
   "metadata": {},
   "outputs": [],
   "source": [
    "df = pd.read_csv(\"cardio_train.csv\")"
   ]
  },
  {
   "cell_type": "code",
   "execution_count": null,
   "metadata": {},
   "outputs": [],
   "source": [
    "df"
   ]
  },
  {
   "cell_type": "code",
   "execution_count": null,
   "metadata": {},
   "outputs": [],
   "source": [
    "df.shape"
   ]
  },
  {
   "cell_type": "code",
   "execution_count": null,
   "metadata": {},
   "outputs": [],
   "source": [
    "df.head(5)"
   ]
  },
  {
   "cell_type": "code",
   "execution_count": null,
   "metadata": {},
   "outputs": [],
   "source": [
    "df.isnull().values.any()"
   ]
  },
  {
   "cell_type": "code",
   "execution_count": null,
   "metadata": {},
   "outputs": [],
   "source": [
    "df[df['ap_lo'] >= df['ap_hi']]\n"
   ]
  },
  {
   "cell_type": "code",
   "execution_count": null,
   "metadata": {},
   "outputs": [],
   "source": [
    "df.head(40)"
   ]
  },
  {
   "cell_type": "code",
   "execution_count": null,
   "metadata": {},
   "outputs": [],
   "source": [
    "df.drop(df[df[\"ap_lo\"] > df[\"ap_hi\"]].index, inplace=True)\n",
    "df.drop(df[df[\"ap_lo\"] <= 30].index, inplace=True)\n",
    "df.drop(df[df[\"ap_hi\"] <= 40].index, inplace=True)\n",
    "df.drop(df[df[\"ap_lo\"] >= 200].index, inplace=True)\n",
    "df.drop(df[df[\"ap_hi\"] >= 250].index, inplace=True)\n",
    "df[['ap_lo', 'ap_hi']].describe()"
   ]
  },
  {
   "cell_type": "code",
   "execution_count": null,
   "metadata": {},
   "outputs": [],
   "source": [
    "X = df.drop('cardio', axis=1)\n",
    "Y = df['cardio']\n",
    "\n",
    "x_train, x_test, y_train, y_test = train_test_split(X, Y, test_size=0.25, random_state=0)\n",
    "s = StandardScaler()\n",
    "x_train = s.fit_transform(x_train)\n",
    "x_test = s.transform(x_test)\n",
    "\n",
    "# Split train set in train and validation set:\n",
    "x_train, x_valid, y_train, y_valid = train_test_split(x_train, y_train, test_size=0.25, random_state=0)"
   ]
  },
  {
   "cell_type": "code",
   "execution_count": null,
   "metadata": {},
   "outputs": [],
   "source": [
    "import warnings as w\n",
    "w.simplefilter('ignore')\n",
    "\n",
    "\n",
    "def create_model():\n",
    "    # Hyperparameter:\n",
    "    init_w = glorot_uniform(seed=0)\n",
    "    loss = \"binary_crossentropy\"\n",
    "    optimizer = Adadelta()\n",
    "    \n",
    "    # Defining the model:\n",
    "    model = Sequential()\n",
    "\n",
    "    model.add(Dense(50, kernel_initializer=init_w, input_shape=(x_train.shape[1],)))\n",
    "    model.add(BatchNormalization())\n",
    "    model.add(LeakyReLU())\n",
    "    model.add(Dropout(rate=0.1))\n",
    " model.add(Dense(25, kernel_initializer=init_w))\n",
    "    model.add(BatchNormalization())\n",
    "    model.add(LeakyReLU())\n",
    "    model.add(Dropout(rate=0.1))\n",
    "\n",
    "    model.add(Dense(12, kernel_initializer=init_w))\n",
    "    model.add(LeakyReLU())\n",
    "\n",
    "    model.add(Dense(1, kernel_initializer=init_w))\n",
    "    model.add(Activation(\"sigmoid\"))\n",
    "    \n",
    "    model.summary()\n",
    "    \n",
    "    # Training\n",
    "    model.compile(\n",
    "        loss=loss,\n",
    "        optimizer=optimizer,\n",
    "        metrics=[\"accuracy\"])\n",
    "\n",
    "    return model\n"
   ]
  },
  {
   "cell_type": "code",
   "execution_count": null,
   "metadata": {},
   "outputs": [],
   "source": [
    "nn = create_model()\n",
    "nn.fit(\n",
    "    x=x_train,\n",
    "    y=y_train,\n",
    "    verbose=2,\n",
    "    epochs=50,\n",
    "    batch_size=256,\n",
    "    validation_data=[x_valid, y_valid])"
   ]
  },
  {
   "cell_type": "code",
   "execution_count": null,
   "metadata": {},
   "outputs": [],
   "source": [
    "# Testing\n",
    "test_score = nn.evaluate(x_test, y_test)\n",
    "print(\"Testing Acc:\", test_score[1])"
   ]
  },
  {
   "cell_type": "code",
   "execution_count": null,
   "metadata": {},
   "outputs": [],
   "source": [
    "y_pred = nn.predict(x_test)\n",
    "cm = confusion_matrix(y_test, y_pred.round())\n",
    "print(\"Confusion Matrix:\", \"\\n\", cm)"
   ]
  },
  {
   "cell_type": "code",
   "execution_count": null,
   "metadata": {},
   "outputs": [],
   "source": [
    "tpr, fpr, threshold = roc_curve(y_test, y_pred)\n",
    "auc_score = roc_auc_score(y_test, y_pred)\n",
    "print(\"AUC-score:\", auc_score)"
   ]
  },
  {
   "cell_type": "code",
   "execution_count": null,
   "metadata": {},
   "outputs": [],
   "source": [
    "import matplotlib.pyplot as plt\n",
    "\n",
    "plt.plot(tpr, fpr)\n",
    "plt.show()\n"
   ]
  },
  {
   "cell_type": "code",
   "execution_count": null,
   "metadata": {},
   "outputs": [],
   "source": []
  }
 ],
 "metadata": {
  "kernelspec": {
   "display_name": "Python 3",
   "language": "python",
   "name": "python3"
  },
  "language_info": {
   "codemirror_mode": {
    "name": "ipython",
    "version": 3
   },
   "file_extension": ".py",
   "mimetype": "text/x-python",
   "name": "python",
   "nbconvert_exporter": "python",
   "pygments_lexer": "ipython3",
   "version": "3.7.4"
  }
 },
 "nbformat": 4,
 "nbformat_minor": 2
}
