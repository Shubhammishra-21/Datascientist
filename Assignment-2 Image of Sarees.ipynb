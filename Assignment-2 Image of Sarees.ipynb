{
 "cells": [
  {
   "cell_type": "code",
   "execution_count": 1,
   "metadata": {},
   "outputs": [
    {
     "name": "stdout",
     "output_type": "stream",
     "text": [
      "Requirement already satisfied: selenium in c:\\users\\shubham\\anaconda3\\lib\\site-packages (3.141.0)\n",
      "Requirement already satisfied: urllib3 in c:\\users\\shubham\\anaconda3\\lib\\site-packages (from selenium) (1.24.2)\n",
      "Note: you may need to restart the kernel to use updated packages.\n"
     ]
    }
   ],
   "source": [
    "pip install selenium"
   ]
  },
  {
   "cell_type": "code",
   "execution_count": 2,
   "metadata": {},
   "outputs": [],
   "source": [
    "from selenium import webdriver\n",
    "import os"
   ]
  },
  {
   "cell_type": "code",
   "execution_count": 3,
   "metadata": {},
   "outputs": [],
   "source": [
    "driver = webdriver.Chrome('C:/Users/Shubham/AppData/Local/Temp/Rar$EXa0.636/Chromedriver')"
   ]
  },
  {
   "cell_type": "code",
   "execution_count": 4,
   "metadata": {},
   "outputs": [],
   "source": [
    "driver.get('https://www.amazon.in/s?k=sarees&ref=nb_sb_noss_2')"
   ]
  },
  {
   "cell_type": "code",
   "execution_count": 5,
   "metadata": {},
   "outputs": [],
   "source": [
    "def make_directory(dirname):\n",
    "    current_path=os.getcwd()\n",
    "    path=os.path.join(current_path, dirname)\n",
    "    if not os.path.exists(path):\n",
    "        os.makedirs(path)"
   ]
  },
  {
   "cell_type": "code",
   "execution_count": 6,
   "metadata": {},
   "outputs": [],
   "source": [
    "make_directory(\"sarees\")"
   ]
  },
  {
   "cell_type": "code",
   "execution_count": 7,
   "metadata": {},
   "outputs": [],
   "source": [
    "images=driver.find_elements_by_xpath(\"//div[@class='a-section aok-relative s-image-tall-aspect']//img\")\n",
    "#print(images)"
   ]
  },
  {
   "cell_type": "code",
   "execution_count": 8,
   "metadata": {},
   "outputs": [
    {
     "name": "stdout",
     "output_type": "stream",
     "text": [
      "<selenium.webdriver.remote.webelement.WebElement (session=\"25890081040310f45e0b3ff8f6a29ad2\", element=\"d32ce025-221f-4274-88e6-3d065c6dc596\")>\n"
     ]
    }
   ],
   "source": [
    "print(images[0])"
   ]
  },
  {
   "cell_type": "code",
   "execution_count": 9,
   "metadata": {},
   "outputs": [
    {
     "name": "stdout",
     "output_type": "stream",
     "text": [
      "57\n"
     ]
    }
   ],
   "source": [
    "print(len(images))"
   ]
  },
  {
   "cell_type": "code",
   "execution_count": 10,
   "metadata": {},
   "outputs": [
    {
     "name": "stdout",
     "output_type": "stream",
     "text": [
      "<selenium.webdriver.remote.webelement.WebElement (session=\"25890081040310f45e0b3ff8f6a29ad2\", element=\"d32ce025-221f-4274-88e6-3d065c6dc596\")>\n"
     ]
    }
   ],
   "source": [
    "print(images[0])"
   ]
  },
  {
   "cell_type": "code",
   "execution_count": 11,
   "metadata": {},
   "outputs": [
    {
     "name": "stdout",
     "output_type": "stream",
     "text": [
      "https://m.media-amazon.com/images/I/91YFGHzjm4L._AC_UL320_.jpg\n",
      "https://m.media-amazon.com/images/I/61EvPLNdVBL._AC_UL320_.jpg\n",
      "https://m.media-amazon.com/images/I/910KJPiGcYL._AC_UL320_.jpg\n",
      "https://m.media-amazon.com/images/I/81XKaSKvlyL._AC_UL320_.jpg\n",
      "https://m.media-amazon.com/images/I/71p0MOTaZ3L._AC_UL320_.jpg\n",
      "https://m.media-amazon.com/images/I/91YlQafTKeL._AC_UL320_.jpg\n",
      "https://m.media-amazon.com/images/I/81+cscEqGyL._AC_UL320_.jpg\n",
      "https://m.media-amazon.com/images/I/918QUKO6pbL._AC_UL320_.jpg\n",
      "https://m.media-amazon.com/images/I/619Vh9-sCzL._AC_UL320_.jpg\n",
      "https://m.media-amazon.com/images/I/91HnNBREpPL._AC_UL320_.jpg\n",
      "https://m.media-amazon.com/images/I/81C3W8j-S5L._AC_UL320_.jpg\n",
      "https://m.media-amazon.com/images/I/71JuyG3XiDL._AC_UL320_.jpg\n",
      "https://m.media-amazon.com/images/I/91p13dDWkuL._AC_UL320_.jpg\n",
      "https://m.media-amazon.com/images/I/61lIqW3EzmL._AC_UL320_.jpg\n",
      "https://m.media-amazon.com/images/I/61xiCTgjAnL._AC_UL320_.jpg\n",
      "https://m.media-amazon.com/images/I/91HnNBREpPL._AC_UL320_.jpg\n",
      "https://m.media-amazon.com/images/I/71p0MOTaZ3L._AC_UL320_.jpg\n",
      "https://m.media-amazon.com/images/I/71lZhwh1ogL._AC_UL320_.jpg\n",
      "https://m.media-amazon.com/images/I/81+WnRqindL._AC_UL320_.jpg\n",
      "https://m.media-amazon.com/images/I/81Go-YQRDwL._AC_UL320_.jpg\n",
      "https://m.media-amazon.com/images/I/81HWahslWUL._AC_UL320_.jpg\n",
      "https://m.media-amazon.com/images/I/91K7kfay53L._AC_UL320_.jpg\n",
      "https://m.media-amazon.com/images/I/81XKaSKvlyL._AC_UL320_.jpg\n",
      "https://m.media-amazon.com/images/I/91yPghSgR8L._AC_UL320_.jpg\n",
      "https://m.media-amazon.com/images/I/81qi7QCNSjL._AC_UL320_.jpg\n",
      "https://m.media-amazon.com/images/I/81c+YYSPRDL._AC_UL320_.jpg\n",
      "https://m.media-amazon.com/images/I/816YftU+FsL._AC_UL320_.jpg\n",
      "https://m.media-amazon.com/images/I/81JE98ug38L._AC_UL320_.jpg\n",
      "https://m.media-amazon.com/images/I/71iSbIrFzcL._AC_UL320_.jpg\n",
      "https://m.media-amazon.com/images/I/71YfyZZ7euL._AC_UL320_.jpg\n",
      "https://m.media-amazon.com/images/I/818waCM6fIL._AC_UL320_.jpg\n",
      "https://m.media-amazon.com/images/I/81ujgS5lKqL._AC_UL320_.jpg\n",
      "https://m.media-amazon.com/images/I/71H+wwqqLvL._AC_UL320_.jpg\n",
      "https://m.media-amazon.com/images/I/81zQm4+FtKL._AC_UL320_.jpg\n",
      "https://m.media-amazon.com/images/I/81cVrNehTpL._AC_UL320_.jpg\n",
      "https://m.media-amazon.com/images/I/81O-J6qiXvL._AC_UL320_.jpg\n",
      "https://m.media-amazon.com/images/I/81O0YPQOrrL._AC_UL320_.jpg\n",
      "https://m.media-amazon.com/images/I/81uAnkGizzL._AC_UL320_.jpg\n",
      "https://m.media-amazon.com/images/I/71MWiAnBMcL._AC_UL320_.jpg\n",
      "https://m.media-amazon.com/images/I/81QhclXBeEL._AC_UL320_.jpg\n",
      "https://m.media-amazon.com/images/I/81VS9g8uwUL._AC_UL320_.jpg\n",
      "https://m.media-amazon.com/images/I/41lsRnn5TEL._AC_UL320_.jpg\n",
      "https://m.media-amazon.com/images/I/715JlIpOvNL._AC_UL320_.jpg\n",
      "https://m.media-amazon.com/images/I/71-iBosgXML._AC_UL320_.jpg\n",
      "https://m.media-amazon.com/images/I/81qCMDi3BsL._AC_UL320_.jpg\n",
      "https://m.media-amazon.com/images/I/91S2jHgRHuL._AC_UL320_.jpg\n",
      "https://m.media-amazon.com/images/I/71-fmGvNgSL._AC_UL320_.jpg\n",
      "https://m.media-amazon.com/images/I/61qdKQMwmFL._AC_UL320_.jpg\n",
      "https://m.media-amazon.com/images/I/71y-fzR6gAL._AC_UL320_.jpg\n",
      "https://m.media-amazon.com/images/I/81et7nKmZHL._AC_UL320_.jpg\n",
      "https://m.media-amazon.com/images/I/917ba4sf+DL._AC_UL320_.jpg\n",
      "https://m.media-amazon.com/images/I/81344RTFVfL._AC_UL320_.jpg\n",
      "https://m.media-amazon.com/images/I/71J1QFsyWHL._AC_UL320_.jpg\n",
      "https://m.media-amazon.com/images/I/91sJG3QtQnL._AC_UL320_.jpg\n",
      "https://m.media-amazon.com/images/I/81QOe4fOisL._AC_UL320_.jpg\n",
      "https://m.media-amazon.com/images/I/81osrr25hGL._AC_UL320_.jpg\n",
      "https://m.media-amazon.com/images/I/71AB3ZkmnfL._AC_UL320_.jpg\n"
     ]
    }
   ],
   "source": [
    "urls= []\n",
    "for image in images:\n",
    "    source= image.get_attribute('src')\n",
    "    urls.append(source)\n",
    "    print(source)"
   ]
  },
  {
   "cell_type": "code",
   "execution_count": 12,
   "metadata": {},
   "outputs": [
    {
     "data": {
      "text/plain": [
       "57"
      ]
     },
     "execution_count": 12,
     "metadata": {},
     "output_type": "execute_result"
    }
   ],
   "source": [
    "len(urls)"
   ]
  },
  {
   "cell_type": "code",
   "execution_count": 13,
   "metadata": {},
   "outputs": [
    {
     "name": "stdout",
     "output_type": "stream",
     "text": [
      "Requirement already satisfied: request in c:\\users\\shubham\\anaconda3\\lib\\site-packages (0.0.0)\n",
      "Requirement already satisfied: post in c:\\users\\shubham\\anaconda3\\lib\\site-packages (from request) (0.0.0)\n",
      "Requirement already satisfied: get in c:\\users\\shubham\\anaconda3\\lib\\site-packages (from request) (0.0.0)\n",
      "Requirement already satisfied: query-string in c:\\users\\shubham\\anaconda3\\lib\\site-packages (from get->request) (0.0.0)\n",
      "Note: you may need to restart the kernel to use updated packages.\n"
     ]
    }
   ],
   "source": [
    "pip install request"
   ]
  },
  {
   "cell_type": "code",
   "execution_count": 14,
   "metadata": {},
   "outputs": [],
   "source": [
    "import shutil\n",
    "import requests"
   ]
  },
  {
   "cell_type": "code",
   "execution_count": 15,
   "metadata": {},
   "outputs": [
    {
     "name": "stdout",
     "output_type": "stream",
     "text": [
      "Downloading (0) of (1) images from page 1\n",
      "Downloading (0) of (1) images from page 1\n",
      "Downloading (0) of (1) images from page 1\n",
      "Downloading (0) of (1) images from page 1\n",
      "Downloading (0) of (1) images from page 1\n",
      "Downloading (0) of (1) images from page 1\n",
      "Downloading (0) of (1) images from page 1\n",
      "Downloading (0) of (1) images from page 1\n",
      "Downloading (0) of (1) images from page 1\n",
      "Downloading (0) of (1) images from page 1\n",
      "Downloading (0) of (1) images from page 1\n",
      "Downloading (0) of (1) images from page 1\n",
      "Downloading (0) of (1) images from page 1\n",
      "Downloading (0) of (1) images from page 1\n",
      "Downloading (0) of (1) images from page 1\n",
      "Downloading (0) of (1) images from page 1\n",
      "Downloading (0) of (1) images from page 1\n",
      "Downloading (0) of (1) images from page 1\n",
      "Downloading (0) of (1) images from page 1\n",
      "Downloading (0) of (1) images from page 1\n",
      "Downloading (0) of (1) images from page 1\n",
      "Downloading (0) of (1) images from page 1\n",
      "Downloading (0) of (1) images from page 1\n",
      "Downloading (0) of (1) images from page 1\n",
      "Downloading (0) of (1) images from page 1\n",
      "Downloading (0) of (1) images from page 1\n",
      "Downloading (0) of (1) images from page 1\n",
      "Downloading (0) of (1) images from page 1\n",
      "Downloading (0) of (1) images from page 1\n",
      "Downloading (0) of (1) images from page 1\n",
      "Downloading (0) of (1) images from page 1\n",
      "Downloading (0) of (1) images from page 1\n",
      "Downloading (0) of (1) images from page 1\n",
      "Downloading (0) of (1) images from page 1\n",
      "Downloading (0) of (1) images from page 1\n",
      "Downloading (0) of (1) images from page 1\n",
      "Downloading (0) of (1) images from page 1\n",
      "Downloading (0) of (1) images from page 1\n",
      "Downloading (0) of (1) images from page 1\n",
      "Downloading (0) of (1) images from page 1\n",
      "Downloading (0) of (1) images from page 1\n",
      "Downloading (0) of (1) images from page 1\n",
      "Downloading (0) of (1) images from page 1\n",
      "Downloading (0) of (1) images from page 1\n",
      "Downloading (0) of (1) images from page 1\n",
      "Downloading (0) of (1) images from page 1\n",
      "Downloading (0) of (1) images from page 1\n",
      "Downloading (0) of (1) images from page 1\n",
      "Downloading (0) of (1) images from page 1\n",
      "Downloading (0) of (1) images from page 1\n",
      "Downloading (0) of (1) images from page 1\n",
      "Downloading (0) of (1) images from page 1\n",
      "Downloading (0) of (1) images from page 1\n",
      "Downloading (0) of (1) images from page 1\n",
      "Downloading (0) of (1) images from page 1\n",
      "Downloading (0) of (1) images from page 1\n",
      "Downloading (0) of (1) images from page 1\n"
     ]
    }
   ],
   "source": [
    "page=1\n",
    "for index,link in enumerate(urls):\n",
    "    print(\"Downloading (0) of (1) images from page 1\".format(index+1,len(urls)))\n",
    "    response= requests.get(link)\n",
    "    with open('sarees/img[0][1].jpeg'.format(index,page),\"wb\") as file:\n",
    "        file.write(response.content)"
   ]
  },
  {
   "cell_type": "markdown",
   "metadata": {},
   "source": [
    "# Moving to the Next Page"
   ]
  },
  {
   "cell_type": "code",
   "execution_count": 16,
   "metadata": {},
   "outputs": [],
   "source": [
    "next_page=driver.find_elements_by_xpath(\"//a[@class='a-last']//img\")\n",
    "#print(images)"
   ]
  },
  {
   "cell_type": "code",
   "execution_count": 17,
   "metadata": {},
   "outputs": [],
   "source": [
    "images=driver.find_elements_by_xpath(\"//div[@class='a-section aok-relative s-image-tall-aspect']//img\")\n",
    "#print(images)"
   ]
  },
  {
   "cell_type": "code",
   "execution_count": 18,
   "metadata": {},
   "outputs": [
    {
     "name": "stdout",
     "output_type": "stream",
     "text": [
      "https://m.media-amazon.com/images/I/91YFGHzjm4L._AC_UL320_.jpg\n",
      "https://m.media-amazon.com/images/I/61EvPLNdVBL._AC_UL320_.jpg\n",
      "https://m.media-amazon.com/images/I/910KJPiGcYL._AC_UL320_.jpg\n",
      "https://m.media-amazon.com/images/I/81XKaSKvlyL._AC_UL320_.jpg\n",
      "https://m.media-amazon.com/images/I/71p0MOTaZ3L._AC_UL320_.jpg\n",
      "https://m.media-amazon.com/images/I/91YlQafTKeL._AC_UL320_.jpg\n",
      "https://m.media-amazon.com/images/I/81+cscEqGyL._AC_UL320_.jpg\n",
      "https://m.media-amazon.com/images/I/918QUKO6pbL._AC_UL320_.jpg\n",
      "https://m.media-amazon.com/images/I/619Vh9-sCzL._AC_UL320_.jpg\n",
      "https://m.media-amazon.com/images/I/91HnNBREpPL._AC_UL320_.jpg\n",
      "https://m.media-amazon.com/images/I/81C3W8j-S5L._AC_UL320_.jpg\n",
      "https://m.media-amazon.com/images/I/71JuyG3XiDL._AC_UL320_.jpg\n",
      "https://m.media-amazon.com/images/I/91p13dDWkuL._AC_UL320_.jpg\n",
      "https://m.media-amazon.com/images/I/61lIqW3EzmL._AC_UL320_.jpg\n",
      "https://m.media-amazon.com/images/I/61xiCTgjAnL._AC_UL320_.jpg\n",
      "https://m.media-amazon.com/images/I/91HnNBREpPL._AC_UL320_.jpg\n",
      "https://m.media-amazon.com/images/I/71p0MOTaZ3L._AC_UL320_.jpg\n",
      "https://m.media-amazon.com/images/I/71lZhwh1ogL._AC_UL320_.jpg\n",
      "https://m.media-amazon.com/images/I/81+WnRqindL._AC_UL320_.jpg\n",
      "https://m.media-amazon.com/images/I/81Go-YQRDwL._AC_UL320_.jpg\n",
      "https://m.media-amazon.com/images/I/81HWahslWUL._AC_UL320_.jpg\n",
      "https://m.media-amazon.com/images/I/91K7kfay53L._AC_UL320_.jpg\n",
      "https://m.media-amazon.com/images/I/81XKaSKvlyL._AC_UL320_.jpg\n",
      "https://m.media-amazon.com/images/I/91yPghSgR8L._AC_UL320_.jpg\n",
      "https://m.media-amazon.com/images/I/81qi7QCNSjL._AC_UL320_.jpg\n",
      "https://m.media-amazon.com/images/I/81c+YYSPRDL._AC_UL320_.jpg\n",
      "https://m.media-amazon.com/images/I/816YftU+FsL._AC_UL320_.jpg\n",
      "https://m.media-amazon.com/images/I/81JE98ug38L._AC_UL320_.jpg\n",
      "https://m.media-amazon.com/images/I/71iSbIrFzcL._AC_UL320_.jpg\n",
      "https://m.media-amazon.com/images/I/71YfyZZ7euL._AC_UL320_.jpg\n",
      "https://m.media-amazon.com/images/I/818waCM6fIL._AC_UL320_.jpg\n",
      "https://m.media-amazon.com/images/I/81ujgS5lKqL._AC_UL320_.jpg\n",
      "https://m.media-amazon.com/images/I/71H+wwqqLvL._AC_UL320_.jpg\n",
      "https://m.media-amazon.com/images/I/81zQm4+FtKL._AC_UL320_.jpg\n",
      "https://m.media-amazon.com/images/I/81cVrNehTpL._AC_UL320_.jpg\n",
      "https://m.media-amazon.com/images/I/81O-J6qiXvL._AC_UL320_.jpg\n",
      "https://m.media-amazon.com/images/I/81O0YPQOrrL._AC_UL320_.jpg\n",
      "https://m.media-amazon.com/images/I/81uAnkGizzL._AC_UL320_.jpg\n",
      "https://m.media-amazon.com/images/I/71MWiAnBMcL._AC_UL320_.jpg\n",
      "https://m.media-amazon.com/images/I/81QhclXBeEL._AC_UL320_.jpg\n",
      "https://m.media-amazon.com/images/I/81VS9g8uwUL._AC_UL320_.jpg\n",
      "https://m.media-amazon.com/images/I/41lsRnn5TEL._AC_UL320_.jpg\n",
      "https://m.media-amazon.com/images/I/715JlIpOvNL._AC_UL320_.jpg\n",
      "https://m.media-amazon.com/images/I/71-iBosgXML._AC_UL320_.jpg\n",
      "https://m.media-amazon.com/images/I/81qCMDi3BsL._AC_UL320_.jpg\n",
      "https://m.media-amazon.com/images/I/91S2jHgRHuL._AC_UL320_.jpg\n",
      "https://m.media-amazon.com/images/I/71-fmGvNgSL._AC_UL320_.jpg\n",
      "https://m.media-amazon.com/images/I/61qdKQMwmFL._AC_UL320_.jpg\n",
      "https://m.media-amazon.com/images/I/71y-fzR6gAL._AC_UL320_.jpg\n",
      "https://m.media-amazon.com/images/I/81et7nKmZHL._AC_UL320_.jpg\n",
      "https://m.media-amazon.com/images/I/917ba4sf+DL._AC_UL320_.jpg\n",
      "https://m.media-amazon.com/images/I/81344RTFVfL._AC_UL320_.jpg\n",
      "https://m.media-amazon.com/images/I/71J1QFsyWHL._AC_UL320_.jpg\n",
      "https://m.media-amazon.com/images/I/91sJG3QtQnL._AC_UL320_.jpg\n",
      "https://m.media-amazon.com/images/I/81QOe4fOisL._AC_UL320_.jpg\n",
      "https://m.media-amazon.com/images/I/81osrr25hGL._AC_UL320_.jpg\n",
      "https://m.media-amazon.com/images/I/71AB3ZkmnfL._AC_UL320_.jpg\n"
     ]
    }
   ],
   "source": [
    "urls=[]\n",
    "for image in images:\n",
    "    source= image.get_attribute('src')\n",
    "    urls.append(source)\n",
    "    print(source)"
   ]
  },
  {
   "cell_type": "code",
   "execution_count": 19,
   "metadata": {},
   "outputs": [],
   "source": [
    "import shutil\n",
    "import requests"
   ]
  },
  {
   "cell_type": "code",
   "execution_count": 20,
   "metadata": {},
   "outputs": [
    {
     "name": "stdout",
     "output_type": "stream",
     "text": [
      "Downloading (0) of (1) images from page 2\n",
      "Downloading (0) of (1) images from page 2\n",
      "Downloading (0) of (1) images from page 2\n",
      "Downloading (0) of (1) images from page 2\n",
      "Downloading (0) of (1) images from page 2\n",
      "Downloading (0) of (1) images from page 2\n",
      "Downloading (0) of (1) images from page 2\n",
      "Downloading (0) of (1) images from page 2\n",
      "Downloading (0) of (1) images from page 2\n",
      "Downloading (0) of (1) images from page 2\n",
      "Downloading (0) of (1) images from page 2\n",
      "Downloading (0) of (1) images from page 2\n",
      "Downloading (0) of (1) images from page 2\n",
      "Downloading (0) of (1) images from page 2\n",
      "Downloading (0) of (1) images from page 2\n",
      "Downloading (0) of (1) images from page 2\n",
      "Downloading (0) of (1) images from page 2\n",
      "Downloading (0) of (1) images from page 2\n",
      "Downloading (0) of (1) images from page 2\n",
      "Downloading (0) of (1) images from page 2\n",
      "Downloading (0) of (1) images from page 2\n",
      "Downloading (0) of (1) images from page 2\n",
      "Downloading (0) of (1) images from page 2\n",
      "Downloading (0) of (1) images from page 2\n",
      "Downloading (0) of (1) images from page 2\n",
      "Downloading (0) of (1) images from page 2\n",
      "Downloading (0) of (1) images from page 2\n",
      "Downloading (0) of (1) images from page 2\n",
      "Downloading (0) of (1) images from page 2\n",
      "Downloading (0) of (1) images from page 2\n",
      "Downloading (0) of (1) images from page 2\n",
      "Downloading (0) of (1) images from page 2\n",
      "Downloading (0) of (1) images from page 2\n",
      "Downloading (0) of (1) images from page 2\n",
      "Downloading (0) of (1) images from page 2\n",
      "Downloading (0) of (1) images from page 2\n",
      "Downloading (0) of (1) images from page 2\n",
      "Downloading (0) of (1) images from page 2\n",
      "Downloading (0) of (1) images from page 2\n",
      "Downloading (0) of (1) images from page 2\n",
      "Downloading (0) of (1) images from page 2\n",
      "Downloading (0) of (1) images from page 2\n",
      "Downloading (0) of (1) images from page 2\n",
      "Downloading (0) of (1) images from page 2\n",
      "Downloading (0) of (1) images from page 2\n",
      "Downloading (0) of (1) images from page 2\n",
      "Downloading (0) of (1) images from page 2\n",
      "Downloading (0) of (1) images from page 2\n",
      "Downloading (0) of (1) images from page 2\n",
      "Downloading (0) of (1) images from page 2\n",
      "Downloading (0) of (1) images from page 2\n",
      "Downloading (0) of (1) images from page 2\n",
      "Downloading (0) of (1) images from page 2\n",
      "Downloading (0) of (1) images from page 2\n",
      "Downloading (0) of (1) images from page 2\n",
      "Downloading (0) of (1) images from page 2\n",
      "Downloading (0) of (1) images from page 2\n"
     ]
    }
   ],
   "source": [
    "page=2\n",
    "for index,link in enumerate(urls):\n",
    "    print(\"Downloading (0) of (1) images from page 2\".format(index+1,len(urls)))\n",
    "    response= requests.get(link)\n",
    "    with open('sarees/img[0][1].jpeg'.format(index,page),\"wb\") as file:\n",
    "        file.write(response.content)"
   ]
  },
  {
   "cell_type": "code",
   "execution_count": null,
   "metadata": {},
   "outputs": [],
   "source": []
  }
 ],
 "metadata": {
  "kernelspec": {
   "display_name": "Python 3",
   "language": "python",
   "name": "python3"
  },
  "language_info": {
   "codemirror_mode": {
    "name": "ipython",
    "version": 3
   },
   "file_extension": ".py",
   "mimetype": "text/x-python",
   "name": "python",
   "nbconvert_exporter": "python",
   "pygments_lexer": "ipython3",
   "version": "3.7.4"
  }
 },
 "nbformat": 4,
 "nbformat_minor": 2
}
